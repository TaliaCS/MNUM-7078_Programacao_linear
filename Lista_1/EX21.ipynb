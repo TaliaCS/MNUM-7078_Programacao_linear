{
 "cells": [
  {
   "cell_type": "markdown",
   "id": "2214fda1",
   "metadata": {},
   "source": [
    "# Ex21\n",
    "\n",
    "\n",
    "\n",
    "Uma empresa deseja determinar o plano de investimentos para o próximo ano, e dispõe dos seguintes projetos:\n",
    "\n",
    "| **Possibilidade de Investimento** | **Valor Presente Líquido (US$)** | **Capital Requerido (US$)** |\n",
    "|-----------------------------------|----------------------------------|----------------------------|\n",
    "| I Construir um novo depósito      | 7.000.000,00                     | 5.000.000,00               |\n",
    "| II Recuperar o depósito antigo   | 4.500.000,00                     | 3.000.000,00               |\n",
    "| III Automatizar o depósito novo  | 5.500.000,00                     | 4.200.000,00               |\n",
    "| IV Comprar a fornecedora do produto A | 12.000.000,00               | 9.300.000,00               |\n",
    "| V Construir uma fábrica para produzir A | 9.500.000,00             | 7.100.000,00               |\n",
    "| VI Reformar o escritório da empresa | 1.500.000,00                 | 900.000,00                 |\n",
    "\n",
    "### **Restrições**\n",
    "- As alternativas **I e II** são mutuamente excludentes.\n",
    "- As alternativas **IV e V** são mutuamente excludentes.\n",
    "- O projeto **III depende da realização do projeto I**.\n",
    "- O orçamento disponível para investimento é **US$ 20.000.000,00**.\n",
    "\n",
    "Formule um modelo de **programação inteira binária** para determinar o portfólio ótimo de investimento.\n",
    "\n",
    "\n",
    "\n",
    "\n",
    "\n",
    "\n",
    "\n"
   ]
  },
  {
   "cell_type": "markdown",
   "id": "c6677944",
   "metadata": {},
   "source": [
    "### **Definições e Variáveis**\n",
    "- $ x_i $ : variável binária indicando se o projeto $ i $ é escolhido (1) ou não (0), para $ i = \\{I, II, III, IV, V, VI\\} $.\n",
    "- $ C_i $ : capital requerido para o projeto $ i $.\n",
    "- $ VPL_i $ : valor presente líquido associado ao projeto $ i $.\n",
    "- O orçamento disponível é $ B = 20.000.000 $.\n",
    "\n",
    "### **Função Objetivo**\n",
    "Maximizar o valor presente líquido total:\n",
    "$$ \\max \\sum_{i \\in \\{I, II, III, IV, V, VI\\}} VPL_i x_i $$\n",
    "\n",
    "### **Restrições**\n",
    "1. **Restrição de orçamento:**  \n",
    "   $$ \\sum_{i \\in \\{I, II, III, IV, V, VI\\}} C_i x_i \\leq B $$\n",
    "\n",
    "2. **Mutual exclusividade entre os projetos I e II:**  \n",
    "   $$ x_I + x_{II} \\leq 1 $$\n",
    "\n",
    "3. **Mutual exclusividade entre os projetos IV e V:**  \n",
    "   $$ x_{IV} + x_V \\leq 1 $$\n",
    "\n",
    "4. **Dependência do projeto III em relação ao projeto I:**  \n",
    "   $$ x_{III} \\leq x_I $$\n",
    "\n",
    "5. **Variáveis binárias:**  \n",
    "   $$ x_i \\in \\{0,1\\}, \\quad \\forall i $$\n",
    "\n"
   ]
  },
  {
   "cell_type": "code",
   "execution_count": 16,
   "id": "d7277200",
   "metadata": {},
   "outputs": [],
   "source": [
    "import pyomo.environ as pyo"
   ]
  },
  {
   "cell_type": "code",
   "execution_count": 17,
   "id": "1f525600",
   "metadata": {},
   "outputs": [],
   "source": [
    "# Criação do modelo\n",
    "model = pyo.ConcreteModel()"
   ]
  },
  {
   "cell_type": "code",
   "execution_count": 18,
   "id": "44e0ee7c",
   "metadata": {},
   "outputs": [],
   "source": [
    "\n",
    "# Conjuntos\n",
    "model.I = pyo.Set(initialize=[\"I\", \"II\", \"III\", \"IV\", \"V\",\"VI\"])\n",
    "\n"
   ]
  },
  {
   "cell_type": "code",
   "execution_count": 19,
   "id": "419f911a",
   "metadata": {},
   "outputs": [],
   "source": [
    "# Valor presente líquido (VPL) de cada projeto (R$ milhões)\n",
    "vpl = {\"I\": 8, \"II\": 7, \"III\": 5, \"IV\": 6, \"V\": 4, \"VI\": 9}\n",
    "model.vpl = pyo.Param(model.I, initialize=vpl)\n",
    "\n",
    "# Capital requerido para cada projeto (R$ milhões)\n",
    "custo = {\"I\": 6, \"II\": 5, \"III\": 3, \"IV\": 4, \"V\": 3, \"VI\": 7}\n",
    "model.custo = pyo.Param(model.I, initialize=custo)\n",
    "\n",
    "# Orçamento disponível (R$ milhões)\n",
    "budget = 20"
   ]
  },
  {
   "cell_type": "code",
   "execution_count": 20,
   "id": "1e0b7dd4",
   "metadata": {},
   "outputs": [],
   "source": [
    "\n",
    "# ------------------------------\n",
    "# Variáveis de Decisão\n",
    "# ------------------------------\n",
    "\n",
    "model.x =  pyo.Var(model.I, domain=pyo.Binary)"
   ]
  },
  {
   "cell_type": "code",
   "execution_count": 21,
   "id": "7b310a78",
   "metadata": {},
   "outputs": [],
   "source": [
    "\n",
    "# ------------------------------\n",
    "# Função Objetivo\n",
    "# ------------------------------\n",
    "def fo(model):\n",
    "    return sum(model.vpl[i] * model.x[i] for i in model.I)\n",
    "\n",
    "model.objetivo = pyo.Objective(rule=fo, sense=pyo.maximize)\n"
   ]
  },
  {
   "cell_type": "code",
   "execution_count": 22,
   "id": "b0f21da0",
   "metadata": {},
   "outputs": [],
   "source": [
    "# ------------------------------\n",
    "# Restrições\n",
    "# ------------------------------\n",
    "# 1. Restrição de orçamento\n",
    "def restricao_orcamento(model):\n",
    "    return sum(model.custo[i] * model.x[i] for i in model.I) == budget\n",
    "\n",
    "model.restricao_orcamento = pyo.Constraint(rule=restricao_orcamento)\n",
    "\n",
    "# 2. Mutual exclusividade entre os projetos I e II\n",
    "def exclusividade_I_II(model):\n",
    "    return model.x[\"I\"] + model.x[\"II\"] <= 1\n",
    "\n",
    "model.exclusividade_I_II = pyo.Constraint(rule=exclusividade_I_II)\n",
    "\n",
    "# 3. Mutual exclusividade entre os projetos IV e V\n",
    "def exclusividade_IV_V(model):\n",
    "    return model.x[\"IV\"] + model.x[\"V\"] <= 1\n",
    "\n",
    "model.exclusividade_IV_V = pyo.Constraint(rule=exclusividade_IV_V)\n",
    "\n",
    "# 4. Dependência do projeto III em relação ao projeto I\n",
    "def dependencia_III_I(model):\n",
    "    return model.x[\"III\"] <= model.x[\"I\"]\n",
    "\n",
    "model.dependencia_III_I = pyo.Constraint(rule=dependencia_III_I)\n",
    "\n"
   ]
  },
  {
   "cell_type": "code",
   "execution_count": 23,
   "id": "8d97eb7a",
   "metadata": {},
   "outputs": [
    {
     "data": {
      "text/plain": [
       "('ex21.lp', 2014574235024)"
      ]
     },
     "execution_count": 23,
     "metadata": {},
     "output_type": "execute_result"
    }
   ],
   "source": [
    "# ------------------------------\n",
    "# Escrita do Modelo em Arquivo\n",
    "# ------------------------------\n",
    "model.write(\"ex21.lp\", io_options={\"symbolic_solver_labels\": True})"
   ]
  },
  {
   "cell_type": "code",
   "execution_count": 24,
   "id": "9e5c39a6",
   "metadata": {},
   "outputs": [
    {
     "name": "stdout",
     "output_type": "stream",
     "text": [
      "MIP  has 4 rows; 6 cols; 12 nonzeros; 6 integer variables (6 binary)\n",
      "Coefficient ranges:\n",
      "  Matrix [1e+00, 7e+00]\n",
      "  Cost   [4e+00, 9e+00]\n",
      "  Bound  [1e+00, 1e+00]\n",
      "  RHS    [1e+00, 2e+01]\n",
      "Presolving model\n",
      "4 rows, 6 cols, 12 nonzeros  0s\n",
      "4 rows, 6 cols, 12 nonzeros  0s\n",
      "Objective function is integral with scale 1\n",
      "\n",
      "Solving MIP model with:\n",
      "   4 rows\n",
      "   6 cols (6 binary, 0 integer, 0 implied int., 0 continuous)\n",
      "   12 nonzeros\n",
      "\n",
      "Src: B => Branching; C => Central rounding; F => Feasibility pump; H => Heuristic; L => Sub-MIP;\n",
      "     P => Empty MIP; R => Randomized rounding; S => Solve LP; T => Evaluate node; U => Unbounded;\n",
      "     z => Trivial zero; l => Trivial lower; u => Trivial upper; p => Trivial point; X => User solution\n",
      "\n",
      "        Nodes      |    B&B Tree     |            Objective Bounds              |  Dynamic Constraints |       Work      \n",
      "Src  Proc. InQueue |  Leaves   Expl. | BestBound       BestSol              Gap |   Cuts   InLp Confl. | LpIters     Time\n",
      "\n",
      "         0       0         0   0.00%   39              -inf                 inf        0      0      0         0     0.0s\n",
      " T       0       0         0   0.00%   39              28                39.29%        0      0      0         0     0.0s\n",
      "         1       0         1 100.00%   28              28                 0.00%        0      0      0         0     0.0s\n",
      "\n",
      "Solving report\n",
      "  Status            Optimal\n",
      "  Primal bound      28\n",
      "  Dual bound        28\n",
      "  Gap               0% (tolerance: 0.01%)\n",
      "  P-D integral      7.751080141e-05\n",
      "  Solution status   feasible\n",
      "                    28 (objective)\n",
      "                    0 (bound viol.)\n",
      "                    0 (int. viol.)\n",
      "                    0 (row viol.)\n",
      "  Timing            0.00 (total)\n",
      "                    0.00 (presolve)\n",
      "                    0.00 (solve)\n",
      "                    0.00 (postsolve)\n",
      "  Max sub-MIP depth 0\n",
      "  Nodes             1\n",
      "  Repair LPs        0 (0 feasible; 0 iterations)\n",
      "  LP iterations     0 (total)\n",
      "                    0 (strong br.)\n",
      "                    0 (separation)\n",
      "                    0 (heuristics)\n",
      "\n",
      "Status do solver: ok\n",
      "Condição de terminação: optimal\n",
      "Valor da Função Objetivo: R$ 28,00\n"
     ]
    }
   ],
   "source": [
    "# ------------------------------\n",
    "# Resolução\n",
    "# ------------------------------\n",
    "solver = pyo.SolverFactory(\"appsi_highs\")\n",
    "results = solver.solve(model, tee=True)\n",
    "\n",
    "# Exibindo resultados\n",
    "print(\"\\nStatus do solver:\", results.solver.status)\n",
    "print(\"Condição de terminação:\", results.solver.termination_condition)\n",
    "valor_obj = pyo.value(model.objetivo)\n",
    "formatted = f\"{valor_obj:,.2f}\"\n",
    "formatted = formatted.replace(\",\", \"X\").replace(\".\", \",\").replace(\"X\", \".\")\n",
    "print(\"Valor da Função Objetivo: R$\", formatted)"
   ]
  },
  {
   "cell_type": "code",
   "execution_count": 25,
   "id": "4d8ba188",
   "metadata": {},
   "outputs": [
    {
     "name": "stdout",
     "output_type": "stream",
     "text": [
      "\n",
      "Projetos escolhidos para investimento:\n",
      "Projeto I\n",
      "Projeto III\n",
      "Projeto IV\n",
      "Projeto VI\n",
      "\n",
      "VPL total maximizado:\n",
      "R$ 28.0 milhões\n"
     ]
    }
   ],
   "source": [
    "print(\"\\nProjetos escolhidos para investimento:\")\n",
    "for i in model.I:\n",
    "    if model.x[i].value > 0.5:\n",
    "        print(f\"Projeto {i}\")\n",
    "\n",
    "print(\"\\nVPL total maximizado:\")\n",
    "print(f\"R$ {model.objetivo()} milhões\")"
   ]
  },
  {
   "cell_type": "code",
   "execution_count": null,
   "id": "9265426d",
   "metadata": {},
   "outputs": [],
   "source": []
  }
 ],
 "metadata": {
  "kernelspec": {
   "display_name": "base",
   "language": "python",
   "name": "python3"
  },
  "language_info": {
   "codemirror_mode": {
    "name": "ipython",
    "version": 3
   },
   "file_extension": ".py",
   "mimetype": "text/x-python",
   "name": "python",
   "nbconvert_exporter": "python",
   "pygments_lexer": "ipython3",
   "version": "3.9.12"
  }
 },
 "nbformat": 4,
 "nbformat_minor": 5
}
