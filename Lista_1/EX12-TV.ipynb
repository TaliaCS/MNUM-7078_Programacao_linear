{
 "cells": [
  {
   "cell_type": "markdown",
   "id": "2214fda1",
   "metadata": {},
   "source": [
    "# Ex12\n",
    "\n",
    "\n",
    "Uma empresa produz televisores em 3 fábricas: **São Paulo**, **João Pessoa** e **Manaus**. Os pontos principais de revenda, com as respectivas encomendas mensais, são:\n",
    "\n",
    "### **Encomendas nos pontos de revenda**\n",
    "| Pontos de Revenda   | Encomendas (unidades) |\n",
    "|---------------------|----------------------|\n",
    "| **Rio de Janeiro**  | 6.000                |\n",
    "| **Salvador**        | 5.000                |\n",
    "| **Aracaju**         | 2.000                |\n",
    "| **Maceió**          | 1.000                |\n",
    "| **Recife**          | 3.000                |\n",
    "\n",
    "### **Capacidade de produção nas fábricas**\n",
    "| Fábricas    | Capacidade (unidades) |\n",
    "|------------|----------------------|\n",
    "| **São Paulo**   | 10.000             |\n",
    "| **João Pessoa** | 5.000              |\n",
    "| **Manaus**      | 6.000              |\n",
    "\n",
    "O custo de transporte das fábricas até as revendas, para cada lote de **1.000 aparelhos**, é dado pelo quadro abaixo:\n",
    "\n",
    "### **Custo de transporte (R$/lote de 1.000 unidades)**\n",
    "|             | **Rio de Janeiro** | **Salvador** | **Aracaju** | **Maceió** | **Recife** |\n",
    "|------------|-------------------------------------|-------------|------------|------------|------------|\n",
    "| **São Paulo** |                 1.000              | 2.000       | 3.000      | 3.500      | 4.000      |\n",
    "| **João Pessoa** |               4.000              | 2.000       | 1.500      | 1.200      | 1.000      |\n",
    "| **Manaus** |                   6.000              | 4.000       | 3.500      | 3.000      | 2.000      |\n",
    "\n",
    "### **Objetivo**\n",
    "Determinar o número de unidades produzidas em cada fábrica e entregues a cada revenda, a fim de **minimizar o custo de transporte**.\n",
    "\n"
   ]
  },
  {
   "cell_type": "markdown",
   "id": "c6677944",
   "metadata": {},
   "source": [
    "## Modelagem Matemática\n",
    "\n",
    "### **Variáveis **\n",
    "- $x_{i,j}$ = número de televisores transportados da fábrica $i$ para o ponto de revenda $j$.\n",
    "\n",
    "### **Função Objetivo**\n",
    "Queremos minimizar o custo total de transporte:\n",
    "\n",
    "$$\n",
    "\\min \\sum_{i \\in F} \\sum_{j \\in R} c_{i,j} \\cdot x_{i,j}\n",
    "$$\n",
    "\n",
    "onde:\n",
    "- $F = \\{\\text{São Paulo, João Pessoa, Manaus}\\}$ as fábricas.\n",
    "- $R = \\{\\text{Rio de Janeiro, Salvador, Aracaju, Maceió, Recife}\\}$ os pontos de revenda.\n",
    "\n",
    "### **Restrições**\n",
    "1. **Capacidade de produção das fábricas**:\n",
    "   Cada fábrica só pode fornecer até sua capacidade máxima:\n",
    "\n",
    "   $$\n",
    "   \\sum_{j \\in R} x_{\\text{SP},j} \\leq 10.000\n",
    "   $$\n",
    "\n",
    "   $$\n",
    "   \\sum_{j \\in R} x_{\\text{JP},j} \\leq 5.000\n",
    "   $$\n",
    "\n",
    "   $$\n",
    "   \\sum_{j \\in R} x_{\\text{MA},j} \\leq 6.000\n",
    "   $$\n",
    "\n",
    "2. **Atendimento da demanda dos pontos de revenda**:\n",
    "   Cada ponto de revenda precisa receber exatamente o número solicitado de televisores:\n",
    "\n",
    "   $$\n",
    "   \\sum_{i \\in F} x_{i,\\text{RJ}} = 6.000\n",
    "   $$\n",
    "\n",
    "   $$\n",
    "   \\sum_{i \\in F} x_{i,\\text{Salvador}} = 5.000\n",
    "   $$\n",
    "\n",
    "   $$\n",
    "   \\sum_{i \\in F} x_{i,\\text{Aracaju}} = 2.000\n",
    "   $$\n",
    "\n",
    "   $$\n",
    "   \\sum_{i \\in F} x_{i,\\text{Maceió}} = 1.000\n",
    "   $$\n",
    "\n",
    "   $$\n",
    "   \\sum_{i \\in F} x_{i,\\text{Recife}} = 3.000\n",
    "   $$\n",
    "\n",
    "3. **Não negatividade**:\n",
    "   Todas as variáveis de transporte devem ser não negativas:\n",
    "\n",
    "   $$\n",
    "   x_{i,j} \\geq 0, \\quad \\forall i \\in F, j \\in R\n",
    "   $$\n",
    "\n"
   ]
  },
  {
   "cell_type": "code",
   "execution_count": 23,
   "id": "d7277200",
   "metadata": {},
   "outputs": [],
   "source": [
    "import pyomo.environ as pyo"
   ]
  },
  {
   "cell_type": "code",
   "execution_count": 24,
   "id": "1f525600",
   "metadata": {},
   "outputs": [],
   "source": [
    "# Criação do modelo\n",
    "model = pyo.ConcreteModel()"
   ]
  },
  {
   "cell_type": "code",
   "execution_count": 25,
   "id": "44e0ee7c",
   "metadata": {},
   "outputs": [],
   "source": [
    "\n",
    "# Conjuntos\n",
    "model.F = pyo.Set(initialize=[\"SP\", \"JP\", \"MA\"])  \n",
    "model.R = pyo.Set(initialize=[\"RJ\", \"Salvador\", \"Aracaju\", \"Maceió\", \"Recife\"]) \n"
   ]
  },
  {
   "cell_type": "code",
   "execution_count": 26,
   "id": "419f911a",
   "metadata": {},
   "outputs": [],
   "source": [
    "# Capacidade de produção nas fábricas\n",
    "capacidade_producao = {\"SP\": 10000, \"JP\": 5000, \"MA\": 6000}\n",
    "model.cap = pyo.Param(model.F, initialize=capacidade_producao)\n",
    "\n",
    "# Demanda dos pontos de revenda\n",
    "demanda_revenda = {\"RJ\": 6000, \"Salvador\": 5000, \"Aracaju\": 2000, \"Maceió\": 1000, \"Recife\": 3000}\n",
    "model.demanda = pyo.Param(model.R, initialize=demanda_revenda)\n",
    "\n",
    "# Custos de transporte (R$/unidade)\n",
    "custo_transporte = {\n",
    "    (\"SP\", \"RJ\"): 1.00, (\"SP\", \"Salvador\"): 2.00, (\"SP\", \"Aracaju\"): 3.00, (\"SP\", \"Maceió\"): 3.50, (\"SP\", \"Recife\"): 4.00,\n",
    "    (\"JP\", \"RJ\"): 4.00, (\"JP\", \"Salvador\"): 2.00, (\"JP\", \"Aracaju\"): 1.50, (\"JP\", \"Maceió\"): 1.20, (\"JP\", \"Recife\"): 1.00,\n",
    "    (\"MA\", \"RJ\"): 6.00, (\"MA\", \"Salvador\"): 4.00, (\"MA\", \"Aracaju\"): 3.50, (\"MA\", \"Maceió\"): 3.00, (\"MA\", \"Recife\"): 2.00\n",
    "}\n",
    "model.custo = pyo.Param(model.F, model.R, initialize=custo_transporte)"
   ]
  },
  {
   "cell_type": "code",
   "execution_count": 27,
   "id": "1e0b7dd4",
   "metadata": {},
   "outputs": [],
   "source": [
    "\n",
    "# ------------------------------\n",
    "# Variáveis de Decisão\n",
    "# ------------------------------\n",
    "\n",
    "model.x = pyo.Var(model.F, model.R, domain=pyo.NonNegativeIntegers)"
   ]
  },
  {
   "cell_type": "code",
   "execution_count": 28,
   "id": "7b310a78",
   "metadata": {},
   "outputs": [],
   "source": [
    "\n",
    "# ------------------------------\n",
    "# Função Objetivo\n",
    "# ------------------------------\n",
    "def fo(model):\n",
    "    return sum(model.x[i, j] * model.custo[i, j] for i in model.F for j in model.R)\n",
    "model.objetivo = pyo.Objective(rule=fo, sense=pyo.minimize)\n"
   ]
  },
  {
   "cell_type": "code",
   "execution_count": 29,
   "id": "b0f21da0",
   "metadata": {},
   "outputs": [],
   "source": [
    "# ------------------------------\n",
    "# Restrições\n",
    "# ------------------------------\n",
    "\n",
    "# 1. Capacidade de produção nas fábricas\n",
    "def capacidade(model, i):\n",
    "    return sum(model.x[i, j] for j in model.R) <= model.cap[i]\n",
    "\n",
    "model.Capacidade = pyo.Constraint(model.F, rule=capacidade)\n",
    "\n",
    "# 2. Atendimento da demanda dos pontos de revenda\n",
    "def atendimento_demanda(model, j):\n",
    "    return sum(model.x[i, j] for i in model.F) == model.demanda[j]\n",
    "model.AtendimentoDemanda = pyo.Constraint(model.R, rule=atendimento_demanda)\n",
    "\n"
   ]
  },
  {
   "cell_type": "code",
   "execution_count": 30,
   "id": "8d97eb7a",
   "metadata": {},
   "outputs": [
    {
     "data": {
      "text/plain": [
       "('ex12.lp', 2653227746928)"
      ]
     },
     "execution_count": 30,
     "metadata": {},
     "output_type": "execute_result"
    }
   ],
   "source": [
    "# ------------------------------\n",
    "# Escrita do Modelo em Arquivo\n",
    "# ------------------------------\n",
    "model.write(\"ex12.lp\", io_options={\"symbolic_solver_labels\": True})"
   ]
  },
  {
   "cell_type": "code",
   "execution_count": 31,
   "id": "9e5c39a6",
   "metadata": {},
   "outputs": [
    {
     "name": "stdout",
     "output_type": "stream",
     "text": [
      "MIP  has 8 rows; 15 cols; 30 nonzeros; 15 integer variables (0 binary)\n",
      "Coefficient ranges:\n",
      "  Matrix [1e+00, 1e+00]\n",
      "  Cost   [1e+00, 6e+00]\n",
      "  Bound  [0e+00, 0e+00]\n",
      "  RHS    [1e+03, 1e+04]\n",
      "Presolving model\n",
      "8 rows, 15 cols, 30 nonzeros  0s\n",
      "8 rows, 15 cols, 30 nonzeros  0s\n",
      "Objective function is integral with scale 10\n",
      "\n",
      "Solving MIP model with:\n",
      "   8 rows\n",
      "   15 cols (0 binary, 15 integer, 0 implied int., 0 continuous)\n",
      "   30 nonzeros\n",
      "\n",
      "Src: B => Branching; C => Central rounding; F => Feasibility pump; H => Heuristic; L => Sub-MIP;\n",
      "     P => Empty MIP; R => Randomized rounding; S => Solve LP; T => Evaluate node; U => Unbounded;\n",
      "     z => Trivial zero; l => Trivial lower; u => Trivial upper; p => Trivial point; X => User solution\n",
      "\n",
      "        Nodes      |    B&B Tree     |            Objective Bounds              |  Dynamic Constraints |       Work      \n",
      "Src  Proc. InQueue |  Leaves   Expl. | BestBound       BestSol              Gap |   Cuts   InLp Confl. | LpIters     Time\n",
      "\n",
      "         0       0         0   0.00%   0               inf                  inf        0      0      0         0     0.0s\n",
      " T       0       0         0   0.00%   0               25200            100.00%        0      0      0         7     0.0s\n",
      "         1       0         1 100.00%   25200           25200              0.00%        0      0      0         7     0.0s\n",
      "\n",
      "Solving report\n",
      "  Status            Optimal\n",
      "  Primal bound      25200\n",
      "  Dual bound        25200\n",
      "  Gap               0% (tolerance: 0.01%)\n",
      "  P-D integral      0.000130000058562\n",
      "  Solution status   feasible\n",
      "                    25200 (objective)\n",
      "                    0 (bound viol.)\n",
      "                    0 (int. viol.)\n",
      "                    0 (row viol.)\n",
      "  Timing            0.00 (total)\n",
      "                    0.00 (presolve)\n",
      "                    0.00 (solve)\n",
      "                    0.00 (postsolve)\n",
      "  Max sub-MIP depth 0\n",
      "  Nodes             1\n",
      "  Repair LPs        0 (0 feasible; 0 iterations)\n",
      "  LP iterations     7 (total)\n",
      "                    0 (strong br.)\n",
      "                    0 (separation)\n",
      "                    0 (heuristics)\n",
      "\n",
      "Status do solver: ok\n",
      "Condição de terminação: optimal\n",
      "Valor da Função Objetivo: R$ 25.200,00\n"
     ]
    }
   ],
   "source": [
    "# ------------------------------\n",
    "# Resolução\n",
    "# ------------------------------\n",
    "solver = pyo.SolverFactory(\"appsi_highs\")\n",
    "results = solver.solve(model, tee=True)\n",
    "\n",
    "# Exibindo resultados\n",
    "print(\"\\nStatus do solver:\", results.solver.status)\n",
    "print(\"Condição de terminação:\", results.solver.termination_condition)\n",
    "valor_obj = pyo.value(model.objetivo)\n",
    "formatted = f\"{valor_obj:,.2f}\"\n",
    "formatted = formatted.replace(\",\", \"X\").replace(\".\", \",\").replace(\"X\", \".\")\n",
    "print(\"Valor da Função Objetivo: R$\", formatted)"
   ]
  },
  {
   "cell_type": "code",
   "execution_count": 32,
   "id": "4e07c134",
   "metadata": {},
   "outputs": [
    {
     "name": "stdout",
     "output_type": "stream",
     "text": [
      "Quantidade transportada da fábrica SP para RJ: 6000.00\n",
      "Quantidade transportada da fábrica SP para Salvador: 4000.00\n",
      "Quantidade transportada da fábrica JP para Salvador: 1000.00\n",
      "Quantidade transportada da fábrica JP para Aracaju: 2000.00\n",
      "Quantidade transportada da fábrica JP para Maceió: 1000.00\n",
      "Quantidade transportada da fábrica JP para Recife: 1000.00\n",
      "Quantidade transportada da fábrica MA para Recife: 2000.00\n",
      "\n",
      "Valor da Função Objetivo: R$ 25.200,00\n"
     ]
    }
   ],
   "source": [
    "for i in model.F:\n",
    "    for j in model.R:\n",
    "        val = pyo.value(model.x[i, j])\n",
    "        if val > 0:  \n",
    "            print(f\"Quantidade transportada da fábrica {i} para {j}: {val:.2f}\")\n",
    "\n",
    "# Exibindo o valor da função objetivo\n",
    "print(\"\\nValor da Função Objetivo: R$\", formatted)"
   ]
  }
 ],
 "metadata": {
  "kernelspec": {
   "display_name": "base",
   "language": "python",
   "name": "python3"
  },
  "language_info": {
   "codemirror_mode": {
    "name": "ipython",
    "version": 3
   },
   "file_extension": ".py",
   "mimetype": "text/x-python",
   "name": "python",
   "nbconvert_exporter": "python",
   "pygments_lexer": "ipython3",
   "version": "3.9.12"
  }
 },
 "nbformat": 4,
 "nbformat_minor": 5
}
