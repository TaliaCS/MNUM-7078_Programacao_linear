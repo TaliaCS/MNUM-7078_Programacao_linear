{
 "cells": [
  {
   "cell_type": "markdown",
   "id": "2214fda1",
   "metadata": {},
   "source": [
    "# Ex16\n",
    "\n",
    "\n",
    "Um navio tem três compartimentos de carga: **proa**, **centro** e **popa**. As capacidades limites são:\n",
    "\n",
    "| Compartimento | Peso (ton) | Volume (m³) |\n",
    "|--------------|------------|-------------|\n",
    "| **Proa**     | 2.000      | 30.000      |\n",
    "| **Centro**   | 3.000      | 40.000      |\n",
    "| **Popa**     | 1.500      | 20.000      |\n",
    "\n",
    "A empresa de navegação, proprietária do navio, pode aceitar toda ou parte das seguintes cargas:\n",
    "\n",
    "| Carga | Quantidade (ton) | Volume Específico (m³/ton) | Lucro (R$/ton) |\n",
    "|-------|----------------|--------------------|----------------|\n",
    "| **A** | 6.000         | 60                 | 6.000         |\n",
    "| **B** | 4.000         | 50                 | 8.000         |\n",
    "| **C** | 2.000         | 25                 | 5.000         |\n",
    "\n",
    "Para preservar o equilíbrio do navio, o peso em cada compartimento deve ser proporcional à sua capacidade em toneladas.\n",
    "\n",
    "Formule um modelo matemático de programação linear para determinar como carregar o navio de modo a **maximizar o lucro**, respeitando as restrições de capacidade e equilíbrio da carga.\n",
    "\n"
   ]
  },
  {
   "cell_type": "markdown",
   "id": "c6677944",
   "metadata": {},
   "source": [
    "## **Definição das Variáveis de Decisão**\n",
    "Seja $x_{ij}$ a quantidade (em toneladas) da carga $i$ alocada ao compartimento $j$, onde:\n",
    "- $i \\in \\{A, B, C\\}$ representa os tipos de carga;\n",
    "- $j \\in \\{\\text{Proa}, \\text{Centro}, \\text{Popa}\\}$ representa os compartimentos de carga do navio.\n",
    "\n",
    "\n",
    "\n",
    "## **Função Objetivo**\n",
    "Deseja-se **maximizar** o lucro total obtido pelo transporte das cargas:\n",
    "$$\\max Z = \\sum_{i \\in \\{A,B,C\\}} \\sum_{j \\in \\{\\text{Proa},\\text{Centro},\\text{Popa}\\}} p_i x_{ij}$$\n",
    "Onde:\n",
    "- $p_i$ representa o lucro por tonelada da carga $i$;\n",
    "- $x_{ij}$ é a quantidade da carga $i$ no compartimento $j$.\n",
    "\n",
    "\n",
    "\n",
    "## **1 Restrições de Capacidade de Peso**\n",
    "O peso alocado em cada compartimento não pode exceder sua capacidade:\n",
    "$$\\sum_{i \\in \\{A,B,C\\}} x_{i,\\text{Proa}} \\leq 2000$$\n",
    "$$\\sum_{i \\in \\{A,B,C\\}} x_{i,\\text{Centro}} \\leq 3000$$\n",
    "$$\\sum_{i \\in \\{A,B,C\\}} x_{i,\\text{Popa}} \\leq 1500$$\n",
    "\n",
    "\n",
    "\n",
    "## **2 Restrições de Capacidade de Volume**\n",
    "O volume total ocupado pelas cargas em cada compartimento não pode exceder sua capacidade volumétrica:\n",
    "$$\\sum_{i \\in \\{A,B,C\\}} v_i x_{i,\\text{Proa}} \\leq 30000$$\n",
    "$$\\sum_{i \\in \\{A,B,C\\}} v_i x_{i,\\text{Centro}} \\leq 40000$$\n",
    "$$\\sum_{i \\in \\{A,B,C\\}} v_i x_{i,\\text{Popa}} \\leq 20000$$\n",
    "Onde $v_i$ representa o volume específico da carga $i$ (m³/ton).\n",
    "\n",
    "\n",
    "\n",
    "## **3 Restrições de Disponibilidade de Carga**\n",
    "A quantidade total de cada tipo de carga alocada não pode ultrapassar sua disponibilidade máxima:\n",
    "$$\\sum_{j \\in \\{\\text{Proa},\\text{Centro},\\text{Popa}\\}} x_{A,j} \\leq 6000$$\n",
    "$$\\sum_{j \\in \\{\\text{Proa},\\text{Centro},\\text{Popa}\\}} x_{B,j} \\leq 4000$$\n",
    "$$\\sum_{j \\in \\{\\text{Proa},\\text{Centro},\\text{Popa}\\}} x_{C,j} \\leq 2000$$\n",
    "\n",
    "\n",
    "## **4 Restrições de Equilíbrio do Peso**\n",
    "Para preservar o equilíbrio do navio, o peso total em cada compartimento deve ser proporcional à sua capacidade em toneladas:\n",
    "$$\\frac{\\sum_{i \\in \\{A,B,C\\}} x_{i,\\text{Proa}}}{2000} = \\frac{\\sum_{i \\in \\{A,B,C\\}} x_{i,\\text{Centro}}}{3000} = \\frac{\\sum_{i \\in \\{A,B,C\\}} x_{i,\\text{Popa}}}{1500}$$\n",
    "\n",
    "\n",
    "\n",
    "## **5 Restrição de Não-Negatividade**\n",
    "O modelo considera que não pode haver quantidades negativas de carga:\n",
    "$$x_{ij} \\geq 0, \\quad \\forall i \\in \\{A, B, C\\}, \\quad \\forall j \\in \\{\\text{Proa}, \\text{Centro}, \\text{Popa}\\}$$\n",
    "\n",
    "\n"
   ]
  },
  {
   "cell_type": "code",
   "execution_count": 17,
   "id": "d7277200",
   "metadata": {},
   "outputs": [],
   "source": [
    "import pyomo.environ as pyo"
   ]
  },
  {
   "cell_type": "code",
   "execution_count": 18,
   "id": "1f525600",
   "metadata": {},
   "outputs": [],
   "source": [
    "# Criação do modelo\n",
    "model = pyo.ConcreteModel()"
   ]
  },
  {
   "cell_type": "code",
   "execution_count": 19,
   "id": "44e0ee7c",
   "metadata": {},
   "outputs": [],
   "source": [
    "\n",
    "# Conjuntos\n",
    "model.Cargas = pyo.Set(initialize=[\"A\", \"B\", \"C\"])\n",
    "\n",
    "# Compartimentos do navio\n",
    "model.Compartimentos = pyo.Set(initialize=[\"Proa\", \"Centro\", \"Popa\"])"
   ]
  },
  {
   "cell_type": "code",
   "execution_count": 20,
   "id": "419f911a",
   "metadata": {},
   "outputs": [],
   "source": [
    "# Lucro por tonelada de carga\n",
    "lucro = {\"A\": 6000, \"B\": 8000, \"C\": 5000}\n",
    "model.p_lucro = pyo.Param(model.Cargas, initialize=lucro)\n",
    "\n",
    "# Capacidade máxima de peso em cada compartimento\n",
    "capacidade_peso = {\"Proa\": 2000, \"Centro\": 3000, \"Popa\": 1500}\n",
    "model.cap_peso = pyo.Param(model.Compartimentos, initialize=capacidade_peso)\n",
    "\n",
    "# Capacidade máxima de volume em cada compartimento\n",
    "capacidade_volume = {\"Proa\": 30000, \"Centro\": 40000, \"Popa\": 20000}\n",
    "model.cap_volume = pyo.Param(model.Compartimentos, initialize=capacidade_volume)\n",
    "\n",
    "# Volume específico por tonelada de carga\n",
    "volume_especifico = {\"A\": 60, \"B\": 50, \"C\": 25}\n",
    "model.v_especifico = pyo.Param(model.Cargas, initialize=volume_especifico)\n",
    "\n",
    "# Disponibilidade máxima de carga\n",
    "disponibilidade = {\"A\": 6000, \"B\": 4000, \"C\": 2000}\n",
    "model.disp_carga = pyo.Param(model.Cargas, initialize=disponibilidade)"
   ]
  },
  {
   "cell_type": "code",
   "execution_count": 21,
   "id": "1e0b7dd4",
   "metadata": {},
   "outputs": [],
   "source": [
    "\n",
    "# ------------------------------\n",
    "# Variáveis de Decisão\n",
    "# ------------------------------\n",
    "\n",
    "model.x = pyo.Var(model.Cargas, model.Compartimentos, domain=pyo.NonNegativeReals)\n"
   ]
  },
  {
   "cell_type": "code",
   "execution_count": 22,
   "id": "7b310a78",
   "metadata": {},
   "outputs": [],
   "source": [
    "\n",
    "# ------------------------------\n",
    "# Função Objetivo\n",
    "# ------------------------------\n",
    "def fo(model):\n",
    "    return sum(model.x[i, j] * model.p_lucro[i] for i in model.Cargas for j in model.Compartimentos)\n",
    "\n",
    "model.objetivo = pyo.Objective(rule=fo, sense=pyo.maximize)\n"
   ]
  },
  {
   "cell_type": "code",
   "execution_count": null,
   "id": "b0f21da0",
   "metadata": {},
   "outputs": [],
   "source": [
    "# ------------------------------\n",
    "# Restrições\n",
    "# ------------------------------\n",
    "\n",
    "# 1. Restrição de capacidade de peso por compartimento\n",
    "def capacidade_peso_rule(model, j):\n",
    "    return sum(model.x[i, j] for i in model.Cargas) <= model.cap_peso[j]\n",
    "\n",
    "model.capacidade_peso = pyo.Constraint(model.Compartimentos, rule=capacidade_peso_rule)\n",
    "\n",
    "# 2. Restrição de capacidade de volume por compartimento\n",
    "def capacidade_volume_rule(model, j):\n",
    "    return sum(model.x[i, j] * model.v_especifico[i] for i in model.Cargas) <= model.cap_volume[j]\n",
    "\n",
    "model.capacidade_volume = pyo.Constraint(model.Compartimentos, rule=capacidade_volume_rule)\n",
    "\n",
    "# 3. Restrição de disponibilidade de carga\n",
    "def disponibilidade_rule(model, i):\n",
    "    return sum(model.x[i, j] for j in model.Compartimentos) <= model.disp_carga[i]\n",
    "\n",
    "model.disponibilidade = pyo.Constraint(model.Cargas, rule=disponibilidade_rule)\n",
    "\n",
    "# 4. Restrição de equilíbrio de peso entre os compartimentos\n",
    "def equilibrio_peso_rule_1(model):\n",
    "    peso_proporcao = sum(model.x[i, \"Proa\"] for i in model.Cargas) / model.cap_peso[\"Proa\"]\n",
    "    peso_centro = sum(model.x[i, \"Centro\"] for i in model.Cargas) / model.cap_peso[\"Centro\"]\n",
    "    return peso_proporcao == peso_centro #== peso_popa\n",
    "def equilibrio_peso_rule_2(model):\n",
    "    peso_centro = sum(model.x[i, \"Centro\"] for i in model.Cargas) / model.cap_peso[\"Centro\"]\n",
    "    peso_popa = sum(model.x[i, \"Popa\"] for i in model.Cargas) / model.cap_peso[\"Popa\"]\n",
    "    return peso_centro == peso_popa\n",
    "def equilibrio_peso_rule_3(model):\n",
    "    peso_proporcao = sum(model.x[i, \"Proa\"] for i in model.Cargas) / model.cap_peso[\"Proa\"]\n",
    "    peso_popa = sum(model.x[i, \"Popa\"] for i in model.Cargas) / model.cap_peso[\"Popa\"]\n",
    "    return  peso_popa == peso_proporcao\n",
    "model.equilibrio_peso = pyo.Constraint(rule=equilibrio_peso_rule_1)\n",
    "model.equilibrio_peso_2 = pyo.Constraint(rule=equilibrio_peso_rule_2)\n",
    "model.equilibrio_peso_3 = pyo.Constraint(rule=equilibrio_peso_rule_3)\n",
    "\n"
   ]
  },
  {
   "cell_type": "code",
   "execution_count": 24,
   "id": "8d97eb7a",
   "metadata": {},
   "outputs": [
    {
     "data": {
      "text/plain": [
       "('ex16.lp', 1245907519472)"
      ]
     },
     "execution_count": 24,
     "metadata": {},
     "output_type": "execute_result"
    }
   ],
   "source": [
    "# ------------------------------\n",
    "# Escrita do Modelo em Arquivo\n",
    "# ------------------------------\n",
    "model.write(\"ex16.lp\", io_options={\"symbolic_solver_labels\": True})"
   ]
  },
  {
   "cell_type": "code",
   "execution_count": 25,
   "id": "9e5c39a6",
   "metadata": {},
   "outputs": [
    {
     "name": "stdout",
     "output_type": "stream",
     "text": [
      "LP   has 12 rows; 9 cols; 45 nonzeros\n",
      "Coefficient ranges:\n",
      "  Matrix [3e-04, 6e+01]\n",
      "  Cost   [5e+03, 8e+03]\n",
      "  Bound  [0e+00, 0e+00]\n",
      "  RHS    [2e+03, 4e+04]\n",
      "Presolving model\n",
      "10 rows, 9 cols, 39 nonzeros  0s\n",
      "Dependent equations search running on 3 equations with time limit of 1000.00s\n",
      "Dependent equations search removed 1 rows and 6 nonzeros in 0.00s (limit = 1000.00s)\n",
      "9 rows, 9 cols, 33 nonzeros  0s\n",
      "Presolve : Reductions: rows 9(-3); columns 9(-0); elements 33(-12)\n",
      "Solving the presolved LP\n",
      "Using EKK dual simplex solver - serial\n",
      "  Iteration        Objective     Infeasibilities num(sum)\n",
      "          0    -4.1599492483e+05 Ph1: 8(22.9519); Du: 9(415995) 0s\n",
      "          8    -1.6400000000e+07 Pr: 0(0) 0s\n",
      "Solving the original LP from the solution after postsolve\n",
      "Model status        : Optimal\n",
      "Simplex   iterations: 8\n",
      "Objective value     :  1.6400000000e+07\n",
      "Relative P-D gap    :  0.0000000000e+00\n",
      "HiGHS run time      :          0.00\n",
      "\n",
      "Status do solver: ok\n",
      "Condição de terminação: optimal\n",
      "Valor da Função Objetivo: R$ 16.400.000,00\n"
     ]
    }
   ],
   "source": [
    "# ------------------------------\n",
    "# Resolução\n",
    "# ------------------------------\n",
    "solver = pyo.SolverFactory(\"appsi_highs\")\n",
    "results = solver.solve(model, tee=True)\n",
    "\n",
    "# Exibindo resultados\n",
    "print(\"\\nStatus do solver:\", results.solver.status)\n",
    "print(\"Condição de terminação:\", results.solver.termination_condition)\n",
    "valor_obj = pyo.value(model.objetivo)\n",
    "formatted = f\"{valor_obj:,.2f}\"\n",
    "formatted = formatted.replace(\",\", \"X\").replace(\".\", \",\").replace(\"X\", \".\")\n",
    "print(\"Valor da Função Objetivo: R$\", formatted)"
   ]
  },
  {
   "cell_type": "code",
   "execution_count": 26,
   "id": "0da78b24",
   "metadata": {},
   "outputs": [
    {
     "name": "stdout",
     "output_type": "stream",
     "text": [
      "Resultados do modelo:\n",
      "Carga A no compartimento Proa: 0.00 toneladas\n",
      "Carga A no compartimento Centro: 0.00 toneladas\n",
      "Carga A no compartimento Popa: 0.00 toneladas\n",
      "Carga B no compartimento Proa: 338.46 toneladas\n",
      "Carga B no compartimento Centro: 307.69 toneladas\n",
      "Carga B no compartimento Popa: 153.85 toneladas\n",
      "Carga C no compartimento Proa: 523.08 toneladas\n",
      "Carga C no compartimento Centro: 984.62 toneladas\n",
      "Carga C no compartimento Popa: 492.31 toneladas\n"
     ]
    }
   ],
   "source": [
    "print(\"Resultados do modelo:\")\n",
    "for i in model.Cargas:\n",
    "    for j in model.Compartimentos:\n",
    "        valor = pyo.value(model.x[i, j])\n",
    "        print(f\"Carga {i} no compartimento {j}: {valor:.2f} toneladas\")\n",
    "\n"
   ]
  },
  {
   "cell_type": "code",
   "execution_count": null,
   "id": "6bf89123",
   "metadata": {},
   "outputs": [],
   "source": []
  }
 ],
 "metadata": {
  "kernelspec": {
   "display_name": "base",
   "language": "python",
   "name": "python3"
  },
  "language_info": {
   "codemirror_mode": {
    "name": "ipython",
    "version": 3
   },
   "file_extension": ".py",
   "mimetype": "text/x-python",
   "name": "python",
   "nbconvert_exporter": "python",
   "pygments_lexer": "ipython3",
   "version": "3.9.12"
  }
 },
 "nbformat": 4,
 "nbformat_minor": 5
}
