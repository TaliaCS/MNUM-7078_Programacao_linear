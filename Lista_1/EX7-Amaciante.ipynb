{
 "cells": [
  {
   "cell_type": "markdown",
   "id": "2214fda1",
   "metadata": {},
   "source": [
    "# EX7\n",
    "\n",
    "## Enunciado\n",
    "A empresa **TUDOLIMPO** fabrica 3 tipos de amaciantes: **super**, **extra** e **comum**. O objetivo é determinar quanto se deve produzir de cada tipo de amaciante para **maximizar o lucro líquido**.\n",
    "\n",
    "### Informações do problema:\n",
    "- **Lucro líquido por kg de amaciante**:\n",
    "  - Amaciante super: **R$5,00**\n",
    "  - Amaciante extra: **R$4,00**\n",
    "  - Amaciante comum: **R$3,00**\n",
    "\n",
    "- **Tempos de processamento por operação** (em minutos por kg produzido):\n",
    "  | Operação   | Amaciante Super | Amaciante Extra | Amaciante Comum |\n",
    "  |------------|-----------------|-----------------|-----------------|\n",
    "  | Operação 1 | 6               | 4               | 2               |\n",
    "  | Operação 2 | 3               | 6               | 3               |\n",
    "  | Operação 3 | 4               | 10              | 4               |\n",
    "\n",
    "- **Tempo total disponível para cada operação**:\n",
    "  | Operação   | Tempo disponível (minutos) |\n",
    "  |------------|----------------------------|\n",
    "  | Operação 1 | 240                        |\n",
    "  | Operação 2 | 180                        |\n",
    "  | Operação 3 | 200                        |\n",
    "\n",
    "### Problema a ser resolvido\n",
    "Quanto produzir de cada amaciante (**super**, **extra** e **comum**) para maximizar o lucro líquido, considerando o tempo disponível para cada operação?\n",
    "\n",
    "---\n"
   ]
  },
  {
   "cell_type": "markdown",
   "id": "5c00eb5d",
   "metadata": {},
   "source": [
    "###  Modelo Matemático"
   ]
  },
  {
   "cell_type": "markdown",
   "id": "c6677944",
   "metadata": {},
   "source": [
    "### Modelo Formal do Problema\n",
    "\n",
    "#### Índices:\n",
    "- $( i )$: Tipos amaciante, onde $( i \\in \\{ \\text{Super}, \\text{Extra}, \\text{Comum} \\} )$.\n",
    "- $( j )$: operações de produção, onde $( j \\in \\{ \\text{1}, \\text{2}, \\text{3} \\} )$.\n",
    "\n",
    "#### Parâmetros:\n",
    "- $( t_{ij} )$: Tempo médio de operação (em minutos) para produzir um amaciante do modelo $( i )$ no operação $( j )$.\n",
    "- $( T_j )$: Tempo disponível no operação $( j )$.\n",
    "- $( L_i )$: Lucro unitário do tipo $( i )$.\n",
    "\n",
    "\n",
    "#### Variáveis de Decisão:\n",
    "- $( x_i )$: Quantidade de amaciante do tipo $( i )$ a serem fabricados.\n",
    "\n",
    "#### Função Objetivo:\n",
    "Maximizar o lucro :\n",
    "\n",
    "$$\n",
    "Z = \\sum_{i} L_i \\cdot x_i\n",
    "$$\n",
    "\n",
    "#### Restrições:\n",
    "\n",
    "1. **Tempo disponível :**\n",
    "\n",
    "$$\n",
    "\\sum_{i} t_{ij} \\cdot x_i \\leq T_j , \\quad \\forall j\n",
    "$$\n",
    "\n",
    "\n",
    "3. **Não negatividade:**\n",
    "\n",
    "$$\n",
    "x_i \\geq 0, \\quad \\forall i\n",
    "$$\n"
   ]
  },
  {
   "cell_type": "code",
   "execution_count": 10,
   "id": "d7277200",
   "metadata": {},
   "outputs": [],
   "source": [
    "import pyomo.environ as pyo"
   ]
  },
  {
   "cell_type": "code",
   "execution_count": 11,
   "id": "1f525600",
   "metadata": {},
   "outputs": [],
   "source": [
    "# Criação do modelo\n",
    "model = pyo.ConcreteModel()"
   ]
  },
  {
   "cell_type": "code",
   "execution_count": 12,
   "id": "44e0ee7c",
   "metadata": {},
   "outputs": [],
   "source": [
    "\n",
    "# Conjuntos\n",
    "model.P = pyo.Set(initialize=['Super', 'Extra', 'Comum'])  # Modelos de carros\n",
    "model.S = pyo.Set(initialize=['1', '2', '3'])  # operaçãoes"
   ]
  },
  {
   "cell_type": "code",
   "execution_count": 13,
   "id": "419f911a",
   "metadata": {},
   "outputs": [],
   "source": [
    "# ------------------------------\n",
    "# Parâmetros\n",
    "# ------------------------------\n",
    "lucro = {'Super':5, 'Extra':4, 'Comum':3}\n",
    "model.lucro = pyo.Param(model.P,initialize=lucro)\n",
    "\n",
    "\n",
    "tempo_operacao = {\n",
    "    ('Super', '1'): 6, ('Super', '2'): 3, ('Super', '3'): 4,\n",
    "    ('Extra', '1'): 4, ('Extra', '2'): 6, ('Extra', '3'): 10,\n",
    "    ('Comum', '1'): 2, ('Comum', '2'): 3, ('Comum', '3'): 4\n",
    "} \n",
    "model.tempo_operacao = pyo.Param(model.P,model.S, initialize=tempo_operacao)\n",
    "\n",
    "tempo_disponiveis = {'1': 240, '2': 180, '3': 200}\n",
    "model.tempo_disponiveis = pyo.Param(model.S, initialize=tempo_disponiveis)\n",
    "\n"
   ]
  },
  {
   "cell_type": "code",
   "execution_count": 14,
   "id": "1e0b7dd4",
   "metadata": {},
   "outputs": [],
   "source": [
    "\n",
    "# ------------------------------\n",
    "# Variáveis de Decisão\n",
    "# ------------------------------\n",
    "model.x = pyo.Var(model.P, domain=pyo.NonNegativeReals)  # Quantidade produzida de cada modelo\n"
   ]
  },
  {
   "cell_type": "code",
   "execution_count": 15,
   "id": "7b310a78",
   "metadata": {},
   "outputs": [],
   "source": [
    "\n",
    "# ------------------------------\n",
    "# Função Objetivo\n",
    "# ------------------------------\n",
    "def lucro_total(model):\n",
    "    return sum(model.lucro[j] * model.x[j] for j in model.P)\n",
    "model.objetivo = pyo.Objective(rule=lucro_total, sense=pyo.maximize)\n"
   ]
  },
  {
   "cell_type": "code",
   "execution_count": 16,
   "id": "b0f21da0",
   "metadata": {},
   "outputs": [],
   "source": [
    "# ------------------------------\n",
    "# Restrições\n",
    "# ------------------------------\n",
    "\n",
    "\n",
    "# 1. Restrições de capacidade por operação\n",
    "def restricao_capacidade(model, i):\n",
    "    return sum(model.tempo_operacao[j,i] * model.x[j] for j in model.P) <= model.tempo_disponiveis[i]\n",
    "model.capacidade = pyo.Constraint(model.S, rule=restricao_capacidade)\n"
   ]
  },
  {
   "cell_type": "code",
   "execution_count": 17,
   "id": "8d97eb7a",
   "metadata": {},
   "outputs": [
    {
     "data": {
      "text/plain": [
       "('ex7.lp', 2414253997504)"
      ]
     },
     "execution_count": 17,
     "metadata": {},
     "output_type": "execute_result"
    }
   ],
   "source": [
    "# ------------------------------\n",
    "# Escrita do Modelo em Arquivo\n",
    "# ------------------------------\n",
    "model.write(\"ex7.lp\", io_options={\"symbolic_solver_labels\": True})"
   ]
  },
  {
   "cell_type": "code",
   "execution_count": 18,
   "id": "9e5c39a6",
   "metadata": {},
   "outputs": [
    {
     "name": "stdout",
     "output_type": "stream",
     "text": [
      "LP   has 3 rows; 3 cols; 9 nonzeros\n",
      "Coefficient ranges:\n",
      "  Matrix [2e+00, 1e+01]\n",
      "  Cost   [3e+00, 5e+00]\n",
      "  Bound  [0e+00, 0e+00]\n",
      "  RHS    [2e+02, 2e+02]\n",
      "Presolving model\n",
      "3 rows, 3 cols, 9 nonzeros  0s\n",
      "3 rows, 3 cols, 9 nonzeros  0s\n",
      "Presolve : Reductions: rows 3(-0); columns 3(-0); elements 9(-0) - Not reduced\n",
      "Problem not reduced by presolve: solving the LP\n",
      "Using EKK dual simplex solver - serial\n",
      "  Iteration        Objective     Infeasibilities num(sum)\n",
      "          0    -3.2499955273e+00 Ph1: 3(10.25); Du: 3(3.25) 0s\n",
      "          2     2.2000000000e+02 Pr: 0(0) 0s\n",
      "Model status        : Optimal\n",
      "Simplex   iterations: 2\n",
      "Objective value     :  2.2000000000e+02\n",
      "Relative P-D gap    :  0.0000000000e+00\n",
      "HiGHS run time      :          0.01\n",
      "\n",
      "Status do solver: ok\n",
      "Condição de terminação: optimal\n",
      "Valor da Função Objetivo: R$ 220,00\n"
     ]
    }
   ],
   "source": [
    "# ------------------------------\n",
    "# Resolução\n",
    "# ------------------------------\n",
    "solver = pyo.SolverFactory(\"appsi_highs\")\n",
    "results = solver.solve(model, tee=True)\n",
    "\n",
    "# Exibindo resultados\n",
    "print(\"\\nStatus do solver:\", results.solver.status)\n",
    "print(\"Condição de terminação:\", results.solver.termination_condition)\n",
    "valor_obj = pyo.value(model.objetivo)\n",
    "formatted = f\"{valor_obj:,.2f}\"\n",
    "formatted = formatted.replace(\",\", \"X\").replace(\".\", \",\").replace(\"X\", \".\")\n",
    "print(\"Valor da Função Objetivo: R$\", formatted)\n",
    "\n"
   ]
  },
  {
   "cell_type": "code",
   "execution_count": 19,
   "id": "fe0dfc80",
   "metadata": {},
   "outputs": [
    {
     "name": "stdout",
     "output_type": "stream",
     "text": [
      "  Quantidade do produto Super : 35.00\n",
      "  Quantidade do produto Comum : 15.00\n"
     ]
    }
   ],
   "source": [
    "for i in model.P:    \n",
    "    val = pyo.value(model.x[i])\n",
    "    if val is not None and val > 1e-6:\n",
    "        print(f\"  Quantidade do produto {i} : {val:.2f}\")"
   ]
  }
 ],
 "metadata": {
  "kernelspec": {
   "display_name": "base",
   "language": "python",
   "name": "python3"
  },
  "language_info": {
   "codemirror_mode": {
    "name": "ipython",
    "version": 3
   },
   "file_extension": ".py",
   "mimetype": "text/x-python",
   "name": "python",
   "nbconvert_exporter": "python",
   "pygments_lexer": "ipython3",
   "version": "3.9.12"
  }
 },
 "nbformat": 4,
 "nbformat_minor": 5
}
