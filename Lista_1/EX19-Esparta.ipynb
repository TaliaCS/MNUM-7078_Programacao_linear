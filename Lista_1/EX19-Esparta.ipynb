{
 "cells": [
  {
   "cell_type": "markdown",
   "id": "2214fda1",
   "metadata": {},
   "source": [
    "# Ex19\n",
    "\n",
    "Por volta de 435 a.C., Esparta decidiu convocar reservistas para suplementar seu exército regular. Os novos combatentes podiam ser alistados por 1, 2, 3 ou 4 anos, respectivamente com custos de $10, $18, $25 e $31. A força mínima total de combatantes reservistas foi estabelecida na tabela abaixo. Como um general espartano, você poderia achar uma política de alistamento ótima para os próximos 10 anos, resolvendo o problema com um modelo de otimização. Formule o modelo e resolva.\n",
    "\n",
    "| Ano    | Reservistas |\n",
    "|--------|-------------|\n",
    "| 435 AC | 10.200      |\n",
    "| 434 AC | 11.800      |\n",
    "| 433 AC | 10.500      |\n",
    "| 432 AC | 12.300      |\n",
    "| 431 AC | 15.000      |\n",
    "| 430 AC | 14.500      |\n",
    "| 429 AC | 14.000      |\n",
    "| 428 AC | 16.100      |\n",
    "| 427 AC | 16.400      |\n",
    "| 426 AC | 16.500      |\n",
    "\n",
    "Considere que não será possível contratar mais do que 13.000 reservistas em um único ano. Qual seria a solução?\n",
    "\n",
    "\n",
    "\n",
    "\n",
    "\n"
   ]
  },
  {
   "cell_type": "markdown",
   "id": "c6677944",
   "metadata": {},
   "source": [
    "## **Definição das Variáveis**\n",
    "Sejam as variáveis de decisão:\n",
    "\n",
    "- $x_{ti}$ = Número de reservistas alistados no **ano** $t$ para **$i$ anos** de serviço, onde:\n",
    "  - $t$ representa o ano dentro do período analisado ($1 \\leq t \\leq 10$).\n",
    "  - $i$ indica o tempo de serviço dos reservistas ($1 \\leq i \\leq 4$).\n",
    "\n",
    "\n",
    "\n",
    "## **Função Objetivo**\n",
    "Queremos **minimizar o custo total de alistamento**, dado por:\n",
    "\n",
    "$$\n",
    "\\min \\sum_{t=1}^{10} (10x_{t1} + 18x_{t2} + 25x_{t3} + 31x_{t4})\n",
    "$$\n",
    "\n",
    "onde:\n",
    "- Os custos de alistamento por reservista são **$10, $18, $25 e $31** conforme os **anos de serviço**.\n",
    "\n",
    "\n",
    "\n",
    "## **Restrições**\n",
    "### **1. Exigência mínima de reservistas em cada ano**\n",
    "A força mínima deve ser respeitada conforme a tabela de demanda:\n",
    "\n",
    "$$\n",
    "x_{t1} + x_{(t-1)2} + x_{(t-2)3} + x_{(t-3)4} \\geq R_t, \\quad \\forall t = 1, 2, ..., 10\n",
    "$$\n",
    "\n",
    "onde:\n",
    "- $R_t$ representa o número mínimo de reservistas exigidos no ano $t$.\n",
    "- Os reservistas recrutados nos anos anteriores continuam servindo de acordo com seu tempo de serviço.\n",
    "\n",
    "### **2. Limite máximo de recrutamento por ano**\n",
    "Não podemos alistar mais do que **13.000** reservistas por ano:\n",
    "\n",
    "$$\n",
    "x_{t1} + x_{t2} + x_{t3} + x_{t4} \\leq 13000, \\quad \\forall t = 1, 2, ..., 10\n",
    "$$\n",
    "\n",
    "### **3. Restrição de não negatividade**\n",
    "As variáveis de decisão devem ser **não negativas**:\n",
    "\n",
    "$$\n",
    "x_{ti} \\geq 0, \\quad \\forall t, i\n",
    "$$\n",
    "\n",
    "\n",
    "\n",
    "\n"
   ]
  },
  {
   "cell_type": "code",
   "execution_count": 1,
   "id": "d7277200",
   "metadata": {},
   "outputs": [],
   "source": [
    "import pyomo.environ as pyo"
   ]
  },
  {
   "cell_type": "code",
   "execution_count": 2,
   "id": "1f525600",
   "metadata": {},
   "outputs": [],
   "source": [
    "# Criação do modelo\n",
    "model = pyo.ConcreteModel()"
   ]
  },
  {
   "cell_type": "code",
   "execution_count": 3,
   "id": "44e0ee7c",
   "metadata": {},
   "outputs": [],
   "source": [
    "\n",
    "# Conjuntos\n",
    "model.T = pyo.RangeSet(1, 10) \n",
    "model.I = pyo.RangeSet(1, 4)   \n"
   ]
  },
  {
   "cell_type": "code",
   "execution_count": 4,
   "id": "419f911a",
   "metadata": {},
   "outputs": [],
   "source": [
    "# Custo de alistamento por tempo de serviço\n",
    "custo_alistamento = {1: 10, 2: 18, 3: 25, 4: 31}\n",
    "model.custo = pyo.Param(model.I, initialize=custo_alistamento)\n",
    "\n",
    "# Demanda de reservistas por ano\n",
    "demanda_reservistas = {1: 10200, 2: 11800, 3: 10500, 4: 12300, 5: 15000,\n",
    "                       6: 14500, 7: 14000, 8: 16100, 9: 16400, 10: 16500}\n",
    "model.demanda = pyo.Param(model.T, initialize=demanda_reservistas)\n",
    "\n",
    "# Capacidade máxima de recrutamento por ano\n",
    "capacidade_recrutamento = 13000"
   ]
  },
  {
   "cell_type": "code",
   "execution_count": 5,
   "id": "1e0b7dd4",
   "metadata": {},
   "outputs": [],
   "source": [
    "\n",
    "# ------------------------------\n",
    "# Variáveis de Decisão\n",
    "# ------------------------------\n",
    "\n",
    "model.x = pyo.Var(model.T, model.I, domain=pyo.NonNegativeIntegers)"
   ]
  },
  {
   "cell_type": "code",
   "execution_count": 6,
   "id": "7b310a78",
   "metadata": {},
   "outputs": [],
   "source": [
    "\n",
    "# ------------------------------\n",
    "# Função Objetivo\n",
    "# ------------------------------\n",
    "def fo(model):\n",
    "    return sum(model.x[t, i] * model.custo[i] for t in model.T for i in model.I)\n",
    "\n",
    "model.objetivo = pyo.Objective(rule=fo, sense=pyo.minimize)\n"
   ]
  },
  {
   "cell_type": "code",
   "execution_count": 7,
   "id": "b0f21da0",
   "metadata": {},
   "outputs": [],
   "source": [
    "# ------------------------------\n",
    "# Restrições\n",
    "# ------------------------------\n",
    "\n",
    "# 1. Exigência mínima de reservistas em cada ano\n",
    "def restricao_demanda(model, t):\n",
    "    a = 0\n",
    "    if t >= 1:\n",
    "        a += model.x[t, 1]\n",
    "    if t-1 >= 1:\n",
    "        a += model.x[t-1, 2]\n",
    "    if t-2 >= 1:\n",
    "        a += model.x[t-2, 3]\n",
    "    if t-3 >= 1:\n",
    "        a += model.x[t-3, 4]\n",
    "    return a >= model.demanda[t]\n",
    "\n",
    "model.restricao_demanda = pyo.Constraint(model.T, rule=restricao_demanda)\n",
    "\n",
    "# 2. Limite máximo de recrutamento por ano\n",
    "def restricao_max_recrutamento(model, t):\n",
    "    return sum(model.x[t, i] for i in model.I) <= capacidade_recrutamento\n",
    "\n",
    "model.restricao_max_recrutamento = pyo.Constraint(model.T, rule=restricao_max_recrutamento)\n"
   ]
  },
  {
   "cell_type": "code",
   "execution_count": 8,
   "id": "8d97eb7a",
   "metadata": {},
   "outputs": [
    {
     "data": {
      "text/plain": [
       "('ex19.lp', 1747183686128)"
      ]
     },
     "execution_count": 8,
     "metadata": {},
     "output_type": "execute_result"
    }
   ],
   "source": [
    "# ------------------------------\n",
    "# Escrita do Modelo em Arquivo\n",
    "# ------------------------------\n",
    "model.write(\"ex19.lp\", io_options={\"symbolic_solver_labels\": True})"
   ]
  },
  {
   "cell_type": "code",
   "execution_count": 9,
   "id": "9e5c39a6",
   "metadata": {},
   "outputs": [
    {
     "name": "stdout",
     "output_type": "stream",
     "text": [
      "MIP  has 20 rows; 40 cols; 74 nonzeros; 40 integer variables (0 binary)\n",
      "Coefficient ranges:\n",
      "  Matrix [1e+00, 1e+00]\n",
      "  Cost   [1e+01, 3e+01]\n",
      "  Bound  [0e+00, 0e+00]\n",
      "  RHS    [1e+04, 2e+04]\n",
      "Presolving model\n",
      "19 rows, 33 cols, 66 nonzeros  0s\n",
      "16 rows, 31 cols, 61 nonzeros  0s\n",
      "Objective function is integral with scale 1\n",
      "\n",
      "Solving MIP model with:\n",
      "   16 rows\n",
      "   31 cols (0 binary, 31 integer, 0 implied int., 0 continuous)\n",
      "   61 nonzeros\n",
      "\n",
      "Src: B => Branching; C => Central rounding; F => Feasibility pump; H => Heuristic; L => Sub-MIP;\n",
      "     P => Empty MIP; R => Randomized rounding; S => Solve LP; T => Evaluate node; U => Unbounded;\n",
      "     z => Trivial zero; l => Trivial lower; u => Trivial upper; p => Trivial point; X => User solution\n",
      "\n",
      "        Nodes      |    B&B Tree     |            Objective Bounds              |  Dynamic Constraints |       Work      \n",
      "Src  Proc. InQueue |  Leaves   Expl. | BestBound       BestSol              Gap |   Cuts   InLp Confl. | LpIters     Time\n",
      "\n",
      "         0       0         0   0.00%   325000          inf                  inf        0      0      0         0     0.0s\n",
      "         1       0         1 100.00%   inf             inf                  inf        0      0      0        23     0.0s\n",
      "\n",
      "Solving report\n",
      "  Status            Infeasible\n",
      "  Primal bound      inf\n",
      "  Dual bound        inf\n",
      "  Gap               inf\n",
      "  P-D integral      0\n",
      "  Solution status   -\n",
      "  Timing            0.01 (total)\n",
      "                    0.00 (presolve)\n",
      "                    0.00 (solve)\n",
      "                    0.00 (postsolve)\n",
      "  Max sub-MIP depth 0\n",
      "  Nodes             1\n",
      "  Repair LPs        0 (0 feasible; 0 iterations)\n",
      "  LP iterations     23 (total)\n",
      "                    0 (strong br.)\n",
      "                    0 (separation)\n",
      "                    0 (heuristics)\n"
     ]
    },
    {
     "ename": "RuntimeError",
     "evalue": "A feasible solution was not found, so no solution can be loaded.Please set opt.config.load_solution=False and check results.termination_condition and results.best_feasible_objective before loading a solution.",
     "output_type": "error",
     "traceback": [
      "\u001b[1;31m---------------------------------------------------------------------------\u001b[0m",
      "\u001b[1;31mRuntimeError\u001b[0m                              Traceback (most recent call last)",
      "Cell \u001b[1;32mIn[9], line 5\u001b[0m\n\u001b[0;32m      1\u001b[0m \u001b[38;5;66;03m# ------------------------------\u001b[39;00m\n\u001b[0;32m      2\u001b[0m \u001b[38;5;66;03m# Resolução\u001b[39;00m\n\u001b[0;32m      3\u001b[0m \u001b[38;5;66;03m# ------------------------------\u001b[39;00m\n\u001b[0;32m      4\u001b[0m solver \u001b[38;5;241m=\u001b[39m pyo\u001b[38;5;241m.\u001b[39mSolverFactory(\u001b[38;5;124m\"\u001b[39m\u001b[38;5;124mappsi_highs\u001b[39m\u001b[38;5;124m\"\u001b[39m)\n\u001b[1;32m----> 5\u001b[0m results \u001b[38;5;241m=\u001b[39m \u001b[43msolver\u001b[49m\u001b[38;5;241;43m.\u001b[39;49m\u001b[43msolve\u001b[49m\u001b[43m(\u001b[49m\u001b[43mmodel\u001b[49m\u001b[43m,\u001b[49m\u001b[43m \u001b[49m\u001b[43mtee\u001b[49m\u001b[38;5;241;43m=\u001b[39;49m\u001b[38;5;28;43;01mTrue\u001b[39;49;00m\u001b[43m)\u001b[49m\n\u001b[0;32m      7\u001b[0m \u001b[38;5;66;03m# Exibindo resultados\u001b[39;00m\n\u001b[0;32m      8\u001b[0m \u001b[38;5;28mprint\u001b[39m(\u001b[38;5;124m\"\u001b[39m\u001b[38;5;130;01m\\n\u001b[39;00m\u001b[38;5;124mStatus do solver:\u001b[39m\u001b[38;5;124m\"\u001b[39m, results\u001b[38;5;241m.\u001b[39msolver\u001b[38;5;241m.\u001b[39mstatus)\n",
      "File \u001b[1;32mc:\\Users\\talia\\miniconda3\\lib\\site-packages\\pyomo\\contrib\\appsi\\base.py:1557\u001b[0m, in \u001b[0;36mLegacySolverInterface.solve\u001b[1;34m(self, model, tee, load_solutions, logfile, solnfile, timelimit, report_timing, solver_io, suffixes, options, keepfiles, symbolic_solver_labels)\u001b[0m\n\u001b[0;32m   1554\u001b[0m \u001b[38;5;28;01mif\u001b[39;00m options \u001b[38;5;129;01mis\u001b[39;00m \u001b[38;5;129;01mnot\u001b[39;00m \u001b[38;5;28;01mNone\u001b[39;00m:\n\u001b[0;32m   1555\u001b[0m     \u001b[38;5;28mself\u001b[39m\u001b[38;5;241m.\u001b[39moptions \u001b[38;5;241m=\u001b[39m options\n\u001b[1;32m-> 1557\u001b[0m results: Results \u001b[38;5;241m=\u001b[39m \u001b[38;5;28;43msuper\u001b[39;49m\u001b[43m(\u001b[49m\u001b[43mLegacySolverInterface\u001b[49m\u001b[43m,\u001b[49m\u001b[43m \u001b[49m\u001b[38;5;28;43mself\u001b[39;49m\u001b[43m)\u001b[49m\u001b[38;5;241;43m.\u001b[39;49m\u001b[43msolve\u001b[49m\u001b[43m(\u001b[49m\u001b[43mmodel\u001b[49m\u001b[43m)\u001b[49m\n\u001b[0;32m   1559\u001b[0m legacy_results \u001b[38;5;241m=\u001b[39m LegacySolverResults()\n\u001b[0;32m   1560\u001b[0m legacy_soln \u001b[38;5;241m=\u001b[39m LegacySolution()\n",
      "File \u001b[1;32mc:\\Users\\talia\\miniconda3\\lib\\site-packages\\pyomo\\contrib\\appsi\\solvers\\highs.py:250\u001b[0m, in \u001b[0;36mHighs.solve\u001b[1;34m(self, model, timer)\u001b[0m\n\u001b[0;32m    248\u001b[0m     \u001b[38;5;28mself\u001b[39m\u001b[38;5;241m.\u001b[39mupdate(timer\u001b[38;5;241m=\u001b[39mtimer)\n\u001b[0;32m    249\u001b[0m     timer\u001b[38;5;241m.\u001b[39mstop(\u001b[38;5;124m'\u001b[39m\u001b[38;5;124mupdate\u001b[39m\u001b[38;5;124m'\u001b[39m)\n\u001b[1;32m--> 250\u001b[0m res \u001b[38;5;241m=\u001b[39m \u001b[38;5;28;43mself\u001b[39;49m\u001b[38;5;241;43m.\u001b[39;49m\u001b[43m_solve\u001b[49m\u001b[43m(\u001b[49m\u001b[43mtimer\u001b[49m\u001b[43m)\u001b[49m\n\u001b[0;32m    251\u001b[0m \u001b[38;5;28mself\u001b[39m\u001b[38;5;241m.\u001b[39m_last_results_object \u001b[38;5;241m=\u001b[39m res\n\u001b[0;32m    252\u001b[0m \u001b[38;5;28;01mif\u001b[39;00m \u001b[38;5;28mself\u001b[39m\u001b[38;5;241m.\u001b[39mconfig\u001b[38;5;241m.\u001b[39mreport_timing:\n",
      "File \u001b[1;32mc:\\Users\\talia\\miniconda3\\lib\\site-packages\\pyomo\\contrib\\appsi\\solvers\\highs.py:234\u001b[0m, in \u001b[0;36mHighs._solve\u001b[1;34m(self, timer)\u001b[0m\n\u001b[0;32m    231\u001b[0m         \u001b[38;5;28mself\u001b[39m\u001b[38;5;241m.\u001b[39m_solver_model\u001b[38;5;241m.\u001b[39mrun()\n\u001b[0;32m    232\u001b[0m         timer\u001b[38;5;241m.\u001b[39mstop(\u001b[38;5;124m'\u001b[39m\u001b[38;5;124moptimize\u001b[39m\u001b[38;5;124m'\u001b[39m)\n\u001b[1;32m--> 234\u001b[0m \u001b[38;5;28;01mreturn\u001b[39;00m \u001b[38;5;28;43mself\u001b[39;49m\u001b[38;5;241;43m.\u001b[39;49m\u001b[43m_postsolve\u001b[49m\u001b[43m(\u001b[49m\u001b[43mtimer\u001b[49m\u001b[43m)\u001b[49m\n",
      "File \u001b[1;32mc:\\Users\\talia\\miniconda3\\lib\\site-packages\\pyomo\\contrib\\appsi\\solvers\\highs.py:657\u001b[0m, in \u001b[0;36mHighs._postsolve\u001b[1;34m(self, timer)\u001b[0m\n\u001b[0;32m    655\u001b[0m         \u001b[38;5;28mself\u001b[39m\u001b[38;5;241m.\u001b[39mload_vars()\n\u001b[0;32m    656\u001b[0m     \u001b[38;5;28;01melse\u001b[39;00m:\n\u001b[1;32m--> 657\u001b[0m         \u001b[38;5;28;01mraise\u001b[39;00m \u001b[38;5;167;01mRuntimeError\u001b[39;00m(\n\u001b[0;32m    658\u001b[0m             \u001b[38;5;124m'\u001b[39m\u001b[38;5;124mA feasible solution was not found, so no solution can be loaded.\u001b[39m\u001b[38;5;124m'\u001b[39m\n\u001b[0;32m    659\u001b[0m             \u001b[38;5;124m'\u001b[39m\u001b[38;5;124mPlease set opt.config.load_solution=False and check \u001b[39m\u001b[38;5;124m'\u001b[39m\n\u001b[0;32m    660\u001b[0m             \u001b[38;5;124m'\u001b[39m\u001b[38;5;124mresults.termination_condition and \u001b[39m\u001b[38;5;124m'\u001b[39m\n\u001b[0;32m    661\u001b[0m             \u001b[38;5;124m'\u001b[39m\u001b[38;5;124mresults.best_feasible_objective before loading a solution.\u001b[39m\u001b[38;5;124m'\u001b[39m\n\u001b[0;32m    662\u001b[0m         )\n\u001b[0;32m    663\u001b[0m timer\u001b[38;5;241m.\u001b[39mstop(\u001b[38;5;124m'\u001b[39m\u001b[38;5;124mload solution\u001b[39m\u001b[38;5;124m'\u001b[39m)\n\u001b[0;32m    665\u001b[0m info \u001b[38;5;241m=\u001b[39m highs\u001b[38;5;241m.\u001b[39mgetInfo()\n",
      "\u001b[1;31mRuntimeError\u001b[0m: A feasible solution was not found, so no solution can be loaded.Please set opt.config.load_solution=False and check results.termination_condition and results.best_feasible_objective before loading a solution."
     ]
    }
   ],
   "source": [
    "# ------------------------------\n",
    "# Resolução\n",
    "# ------------------------------\n",
    "solver = pyo.SolverFactory(\"appsi_highs\")\n",
    "results = solver.solve(model, tee=True)\n",
    "\n",
    "# Exibindo resultados\n",
    "print(\"\\nStatus do solver:\", results.solver.status)\n",
    "print(\"Condição de terminação:\", results.solver.termination_condition)\n",
    "valor_obj = pyo.value(model.objetivo)\n",
    "formatted = f\"{valor_obj:,.2f}\"\n",
    "formatted = formatted.replace(\",\", \"X\").replace(\".\", \",\").replace(\"X\", \".\")\n",
    "print(\"Valor da Função Objetivo: R$\", formatted)"
   ]
  },
  {
   "cell_type": "markdown",
   "id": "57cd6ced",
   "metadata": {},
   "source": [
    "MODELO INFACTIVEL"
   ]
  },
  {
   "cell_type": "code",
   "execution_count": 100,
   "id": "188a0316",
   "metadata": {},
   "outputs": [
    {
     "name": "stdout",
     "output_type": "stream",
     "text": [
      "ERROR: evaluating object as numeric value: x[1,1]\n",
      "        (object: <class 'pyomo.core.base.var._GeneralVarData'>)\n",
      "    No value for uninitialized NumericValue object x[1,1]\n"
     ]
    },
    {
     "ename": "ValueError",
     "evalue": "No value for uninitialized NumericValue object x[1,1]",
     "output_type": "error",
     "traceback": [
      "\u001b[1;31m---------------------------------------------------------------------------\u001b[0m",
      "\u001b[1;31mValueError\u001b[0m                                Traceback (most recent call last)",
      "Cell \u001b[1;32mIn[100], line 4\u001b[0m\n\u001b[0;32m      1\u001b[0m \u001b[38;5;28;01mfor\u001b[39;00m t \u001b[38;5;129;01min\u001b[39;00m model\u001b[38;5;241m.\u001b[39mT:\n\u001b[0;32m      2\u001b[0m     \u001b[38;5;28;01mfor\u001b[39;00m i \u001b[38;5;129;01min\u001b[39;00m model\u001b[38;5;241m.\u001b[39mI:\n\u001b[1;32m----> 4\u001b[0m         valor \u001b[38;5;241m=\u001b[39m \u001b[43mpyo\u001b[49m\u001b[38;5;241;43m.\u001b[39;49m\u001b[43mvalue\u001b[49m\u001b[43m(\u001b[49m\u001b[43mmodel\u001b[49m\u001b[38;5;241;43m.\u001b[39;49m\u001b[43mx\u001b[49m\u001b[43m[\u001b[49m\u001b[43mt\u001b[49m\u001b[43m,\u001b[49m\u001b[43m \u001b[49m\u001b[43mi\u001b[49m\u001b[43m]\u001b[49m\u001b[43m)\u001b[49m\n\u001b[0;32m      5\u001b[0m         \u001b[38;5;28;01mif\u001b[39;00m valor \u001b[38;5;241m>\u001b[39m \u001b[38;5;241m0\u001b[39m:\n\u001b[0;32m      6\u001b[0m             \u001b[38;5;28mprint\u001b[39m(\u001b[38;5;124mf\u001b[39m\u001b[38;5;124m\"\u001b[39m\u001b[38;5;124mAno \u001b[39m\u001b[38;5;132;01m{\u001b[39;00mt\u001b[38;5;132;01m}\u001b[39;00m\u001b[38;5;124m, Tempo de Serviço \u001b[39m\u001b[38;5;132;01m{\u001b[39;00mi\u001b[38;5;132;01m}\u001b[39;00m\u001b[38;5;124m anos: \u001b[39m\u001b[38;5;132;01m{\u001b[39;00mvalor\u001b[38;5;132;01m:\u001b[39;00m\u001b[38;5;124m.2f\u001b[39m\u001b[38;5;132;01m}\u001b[39;00m\u001b[38;5;124m reservistas\u001b[39m\u001b[38;5;124m\"\u001b[39m)\n",
      "File \u001b[1;32mc:\\Users\\talia\\miniconda3\\lib\\site-packages\\pyomo\\common\\numeric_types.py:247\u001b[0m, in \u001b[0;36mvalue\u001b[1;34m(obj, exception)\u001b[0m\n\u001b[0;32m    245\u001b[0m     tmp \u001b[38;5;241m=\u001b[39m obj(exception\u001b[38;5;241m=\u001b[39m\u001b[38;5;28;01mTrue\u001b[39;00m)\n\u001b[0;32m    246\u001b[0m     \u001b[38;5;28;01mif\u001b[39;00m tmp \u001b[38;5;129;01mis\u001b[39;00m \u001b[38;5;28;01mNone\u001b[39;00m:\n\u001b[1;32m--> 247\u001b[0m         \u001b[38;5;28;01mraise\u001b[39;00m \u001b[38;5;167;01mValueError\u001b[39;00m(\n\u001b[0;32m    248\u001b[0m             \u001b[38;5;124m\"\u001b[39m\u001b[38;5;124mNo value for uninitialized NumericValue object \u001b[39m\u001b[38;5;132;01m%s\u001b[39;00m\u001b[38;5;124m\"\u001b[39m \u001b[38;5;241m%\u001b[39m (obj\u001b[38;5;241m.\u001b[39mname,)\n\u001b[0;32m    249\u001b[0m         )\n\u001b[0;32m    250\u001b[0m     \u001b[38;5;28;01mreturn\u001b[39;00m tmp\n\u001b[0;32m    251\u001b[0m \u001b[38;5;28;01mexcept\u001b[39;00m TemplateExpressionError:\n\u001b[0;32m    252\u001b[0m     \u001b[38;5;66;03m# Template expressions work by catching this error type. So\u001b[39;00m\n\u001b[0;32m    253\u001b[0m     \u001b[38;5;66;03m# we should defer this error handling and not log an error\u001b[39;00m\n\u001b[0;32m    254\u001b[0m     \u001b[38;5;66;03m# message.\u001b[39;00m\n",
      "\u001b[1;31mValueError\u001b[0m: No value for uninitialized NumericValue object x[1,1]"
     ]
    }
   ],
   "source": [
    "for t in model.T:\n",
    "    for i in model.I:\n",
    "        \n",
    "        valor = pyo.value(model.x[t, i])\n",
    "        if valor > 0:\n",
    "            print(f\"Ano {t}, Tempo de Serviço {i} anos: {valor:.2f} reservistas\")"
   ]
  },
  {
   "cell_type": "code",
   "execution_count": null,
   "id": "9e872279",
   "metadata": {},
   "outputs": [],
   "source": []
  }
 ],
 "metadata": {
  "kernelspec": {
   "display_name": "base",
   "language": "python",
   "name": "python3"
  },
  "language_info": {
   "codemirror_mode": {
    "name": "ipython",
    "version": 3
   },
   "file_extension": ".py",
   "mimetype": "text/x-python",
   "name": "python",
   "nbconvert_exporter": "python",
   "pygments_lexer": "ipython3",
   "version": "3.9.12"
  }
 },
 "nbformat": 4,
 "nbformat_minor": 5
}
