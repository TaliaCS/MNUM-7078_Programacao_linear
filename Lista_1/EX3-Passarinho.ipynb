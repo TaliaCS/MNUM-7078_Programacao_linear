{
 "cells": [
  {
   "cell_type": "markdown",
   "id": "da87d432",
   "metadata": {},
   "source": []
  },
  {
   "cell_type": "markdown",
   "id": "2214fda1",
   "metadata": {},
   "source": [
    "# EX3\n",
    "\n",
    "A **Empresa Passarinho Ltda.** produz dois tipos de ração animal: **ração forte** e **ração light**.\n",
    "\n",
    "## Custos de Produção\n",
    "- **Ração forte:** R$ 6,00 por kg\n",
    "- **Ração light:** R$ 10,00 por kg\n",
    "\n",
    "## Requisitos de Produção\n",
    "- A diferença entre as quantidades de ração produzidas deve ser **no máximo 2kg**, sendo que a **ração light** deve ser produzida em maior quantidade.\n",
    "- A produção da **ração forte** está limitada em **5kg**.\n",
    "- A produção da **ração light** está limitada em **6kg**.\n",
    "\n",
    "## Mão de Obra\n",
    "- Para produzir **1kg** de **ração forte**, é necessária **1 pessoa**.\n",
    "- Para produzir **1kg** de **ração light**, são necessárias **2 pessoas**.\n",
    "- A empresa tem disponível **pelo menos 1 funcionário** e pode utilizar quantas pessoas forem necessárias para a produção final.\n",
    "\n",
    "## Utilização de Insumos\n",
    "- São utilizados **2 insumos** na produção.\n",
    "- **Ração forte:** \n",
    "  - 3 unidades do **insumo 1** por kg\n",
    "  - 5 unidades do **insumo 2** por kg\n",
    "- **Ração light:** \n",
    "  - 5 unidades do **insumo 1** por kg\n",
    "  - 4 unidades do **insumo 2** por kg\n",
    "\n",
    "## Regras de Utilização de Insumos\n",
    "- Os insumos possuem **vencimentos curtos**.\n",
    "- O mínimo de **insumo 1** que deve ser utilizado é **15kg**.\n",
    "- O mínimo de **insumo 2** que deve ser utilizado é **20kg**.\n"
   ]
  },
  {
   "cell_type": "markdown",
   "id": "5c00eb5d",
   "metadata": {},
   "source": [
    "###  Modelo Matemático"
   ]
  },
  {
   "cell_type": "markdown",
   "id": "04284c62",
   "metadata": {},
   "source": [
    "#### Variáveis \n",
    "\n"
   ]
  },
  {
   "cell_type": "markdown",
   "id": "07f60881",
   "metadata": {},
   "source": [
    "p1 = quantidade do produto forte a ser produzida \n",
    "\n",
    "p2 = quantidade do produto light a ser produzida"
   ]
  },
  {
   "cell_type": "markdown",
   "id": "8e00e4a3",
   "metadata": {},
   "source": [
    "#### Função Objetivo"
   ]
  },
  {
   "cell_type": "markdown",
   "id": "18984002",
   "metadata": {},
   "source": [
    "$Min \\quad Z = 6*p1+10*p2$"
   ]
  },
  {
   "cell_type": "markdown",
   "id": "50000939",
   "metadata": {},
   "source": [
    "#### Restrições"
   ]
  },
  {
   "cell_type": "markdown",
   "id": "4d1fb0c1",
   "metadata": {},
   "source": [
    "- diferença entre quantidade de produtos\n",
    "\n",
    "$p2 - p1 <=2$\n",
    "\n",
    "$p2 - p1 > 0$\n",
    "\n",
    "- Limite produção\n",
    "\n",
    "$p1<=5$\n",
    "\n",
    "$p2<=6$\n",
    "\n",
    "- Material\n",
    "\n",
    "$p1*3 + p2*5 >=15$\n",
    "\n",
    "$p1*5 + p2*4 >=20$\n",
    "\n"
   ]
  },
  {
   "cell_type": "code",
   "execution_count": 2,
   "id": "d7277200",
   "metadata": {},
   "outputs": [],
   "source": [
    "import pyomo.environ as pyo\n",
    "import time"
   ]
  },
  {
   "cell_type": "code",
   "execution_count": 3,
   "id": "cc62ec5d",
   "metadata": {},
   "outputs": [],
   "source": [
    "# Criação do modelo\n",
    "model = pyo.ConcreteModel(\"Passarinho\")"
   ]
  },
  {
   "cell_type": "code",
   "execution_count": 4,
   "id": "6fbeac8d",
   "metadata": {},
   "outputs": [],
   "source": [
    "# Tipos produto:\n",
    "model.P = pyo.Set(initialize=[\"forte\", \"light\"])\n",
    "\n",
    "# Tipos material:\n",
    "model.M = pyo.Set(initialize=[\"1\", \"2\"])"
   ]
  },
  {
   "cell_type": "code",
   "execution_count": 5,
   "id": "2095a58e",
   "metadata": {},
   "outputs": [],
   "source": [
    "# ------------------------------\n",
    "# Parâmetros\n",
    "# ------------------------------\n",
    "\n",
    "\n",
    "# Custos \n",
    "custo = {\"forte\":6, \"light\":10}\n",
    "model.c = pyo.Param(model.P,initialize=custo)\n",
    "\n",
    "# Qtd mão de obra\n",
    "mao_obra = {\"forte\":1, \"light\":2}\n",
    "model.mao_de_obra = pyo.Param(model.P,initialize=mao_obra)\n",
    "\n",
    "# Limite producao\n",
    "limt = {\"forte\":(0,5), \"light\":(0,6)}\n",
    "# model.limite = pyo.Param(model.P,initialize=limt)\n",
    "\n",
    "# Material\n",
    "qtd_material = {(\"forte\",\"1\"):3, (\"light\",\"1\"):5,(\"forte\",\"2\"):5, (\"light\",\"2\"):4}\n",
    "model.q_material = pyo.Param(model.P,model.M,initialize=qtd_material)\n",
    "\n",
    "#utilização material\n",
    "ut = {\"1\":15, \"2\":20}\n",
    "model.min_material = pyo.Param(model.M,initialize=ut)\n",
    "\n",
    "# diferença material\n",
    "model.diff_material = pyo.Param(initialize=2)"
   ]
  },
  {
   "cell_type": "code",
   "execution_count": 6,
   "id": "f149be80",
   "metadata": {},
   "outputs": [],
   "source": [
    "# ------------------------------\n",
    "# Variáveis de Decisão\n",
    "# ------------------------------\n",
    "# quantidade da ração tobi e max\n",
    "model.x = pyo.Var(model.P,domain=pyo.NonNegativeIntegers,bounds = limt)"
   ]
  },
  {
   "cell_type": "code",
   "execution_count": 7,
   "id": "f050ffd9",
   "metadata": {},
   "outputs": [],
   "source": [
    "# ------------------------------\n",
    "# Função Objetivo\n",
    "# ------------------------------\n",
    "def objective_rule(model):\n",
    "    fo = sum(\n",
    "        model.x[i] * model.c[i]\n",
    "        for i in model.P\n",
    "    )\n",
    "\n",
    "    return fo\n",
    "\n",
    "model.obj = pyo.Objective(rule=objective_rule, sense=pyo.minimize)"
   ]
  },
  {
   "cell_type": "code",
   "execution_count": 8,
   "id": "ca578cab",
   "metadata": {},
   "outputs": [],
   "source": [
    "# ------------------------------\n",
    "# Restrições\n",
    "# ------------------------------\n",
    "\n",
    "# 1. Diff quantidade de produtos - upper\n",
    "def up_meteria(model):\n",
    "    return model.x['light'] - model.x['forte'] <= 2\n",
    "\n",
    "model.re_materia_up= pyo.Constraint(rule=up_meteria)\n",
    "\n",
    "#1. Diff quantidade de produtos - lower\n",
    "def lw_meteria(model):\n",
    "    return model.x['light'] - model.x['forte']  >= 0\n",
    "\n",
    "model.re_materia_lw= pyo.Constraint(rule=lw_meteria)\n",
    "\n",
    "# 2. Material\n",
    "def disponibilidade_material(model,m):\n",
    "    return sum(model.x[i] * model.q_material[i,m] for i in model.P) >= model.min_material[m]\n",
    "\n",
    "model.re_material = pyo.Constraint(model.M,rule=disponibilidade_material)\n",
    "\n"
   ]
  },
  {
   "cell_type": "code",
   "execution_count": 9,
   "id": "cd4a04fa",
   "metadata": {},
   "outputs": [
    {
     "name": "stdout",
     "output_type": "stream",
     "text": [
      "MIP  has 4 rows; 2 cols; 8 nonzeros; 2 integer variables (0 binary)\n",
      "Coefficient ranges:\n",
      "  Matrix [1e+00, 5e+00]\n",
      "  Cost   [6e+00, 1e+01]\n",
      "  Bound  [5e+00, 6e+00]\n",
      "  RHS    [2e+00, 2e+01]\n",
      "Presolving model\n",
      "4 rows, 2 cols, 8 nonzeros  0s\n",
      "3 rows, 2 cols, 6 nonzeros  0s\n",
      "3 rows, 2 cols, 6 nonzeros  0s\n",
      "Objective function is integral with scale 0.5\n",
      "\n",
      "Solving MIP model with:\n",
      "   3 rows\n",
      "   2 cols (0 binary, 2 integer, 0 implied int., 0 continuous)\n",
      "   6 nonzeros\n",
      "\n",
      "Src: B => Branching; C => Central rounding; F => Feasibility pump; H => Heuristic; L => Sub-MIP;\n",
      "     P => Empty MIP; R => Randomized rounding; S => Solve LP; T => Evaluate node; U => Unbounded;\n",
      "     z => Trivial zero; l => Trivial lower; u => Trivial upper; p => Trivial point; X => User solution\n",
      "\n",
      "        Nodes      |    B&B Tree     |            Objective Bounds              |  Dynamic Constraints |       Work      \n",
      "Src  Proc. InQueue |  Leaves   Expl. | BestBound       BestSol              Gap |   Cuts   InLp Confl. | LpIters     Time\n",
      "\n",
      " u       0       0         0   0.00%   -inf            90                 Large        0      0      0         0     0.0s\n",
      " R       0       0         0 100.00%   35.55555556     42                15.34%        0      0      0         2     0.0s\n",
      "         1       0         1 100.00%   42              42                 0.00%        0      0      0         2     0.0s\n",
      "\n",
      "Solving report\n",
      "  Status            Optimal\n",
      "  Primal bound      42\n",
      "  Dual bound        42\n",
      "  Gap               0% (tolerance: 0.01%)\n",
      "  P-D integral      0.00510776153481\n",
      "  Solution status   feasible\n",
      "                    42 (objective)\n",
      "                    0 (bound viol.)\n",
      "                    0 (int. viol.)\n",
      "                    0 (row viol.)\n",
      "  Timing            0.01 (total)\n",
      "                    0.00 (presolve)\n",
      "                    0.00 (solve)\n",
      "                    0.00 (postsolve)\n",
      "  Max sub-MIP depth 0\n",
      "  Nodes             1\n",
      "  Repair LPs        0 (0 feasible; 0 iterations)\n",
      "  LP iterations     2 (total)\n",
      "                    0 (strong br.)\n",
      "                    0 (separation)\n",
      "                    0 (heuristics)\n",
      "\n",
      "Status do solver: ok\n",
      "Condição de terminação: optimal\n",
      "Valor da Função Objetivo: R$ 42,00\n"
     ]
    }
   ],
   "source": [
    "# ------------------------------\n",
    "# Escrita do Modelo em Arquivo\n",
    "# ------------------------------\n",
    "model.write(\"ex3.lp\", io_options={\"symbolic_solver_labels\": True})\n",
    "\n",
    "# ------------------------------\n",
    "# Resolução\n",
    "# ------------------------------\n",
    "solver = pyo.SolverFactory(\"appsi_highs\")\n",
    "results = solver.solve(model, tee=True)\n",
    "\n",
    "# Exibindo resultados\n",
    "print(\"\\nStatus do solver:\", results.solver.status)\n",
    "print(\"Condição de terminação:\", results.solver.termination_condition)\n",
    "valor_obj = pyo.value(model.obj)\n",
    "formatted = f\"{valor_obj:,.2f}\"\n",
    "formatted = formatted.replace(\",\", \"X\").replace(\".\", \",\").replace(\"X\", \".\")\n",
    "print(\"Valor da Função Objetivo: R$\", formatted)\n",
    "\n"
   ]
  },
  {
   "cell_type": "code",
   "execution_count": 10,
   "id": "fe0dfc80",
   "metadata": {},
   "outputs": [
    {
     "name": "stdout",
     "output_type": "stream",
     "text": [
      "  Quantidade do produto forte : 2.00\n",
      "  Quantidade do produto light : 3.00\n"
     ]
    }
   ],
   "source": [
    "for i in model.P:    \n",
    "    val = pyo.value(model.x[i])\n",
    "    if val is not None and val > 1e-6:\n",
    "        print(f\"  Quantidade do produto {i} : {val:.2f}\")"
   ]
  }
 ],
 "metadata": {
  "kernelspec": {
   "display_name": "base",
   "language": "python",
   "name": "python3"
  },
  "language_info": {
   "codemirror_mode": {
    "name": "ipython",
    "version": 3
   },
   "file_extension": ".py",
   "mimetype": "text/x-python",
   "name": "python",
   "nbconvert_exporter": "python",
   "pygments_lexer": "ipython3",
   "version": "3.9.12"
  }
 },
 "nbformat": 4,
 "nbformat_minor": 5
}
