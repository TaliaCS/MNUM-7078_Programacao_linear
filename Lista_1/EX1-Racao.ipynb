{
 "cells": [
  {
   "cell_type": "markdown",
   "id": "da87d432",
   "metadata": {},
   "source": [
    "## EX1"
   ]
  },
  {
   "cell_type": "markdown",
   "id": "2214fda1",
   "metadata": {},
   "source": [
    "Uma empresa de comida caninda produz dois tipos de rações: Tobi e Rex. Para a manufatura das rações são utilizados cereais e carnes. Sabe-se que:\n",
    "\n",
    "- A ração Tobi utiliza 5kg de cereais e 1kg de carne, e a ração Rex utiliza 4kg de carne e 2kg de cereais\n",
    "\n",
    "- O pacote de ração Tobi custa R$20,00 e o pacote do Rex custa R$30,00\n",
    "\n",
    "- O kg de carne custa R$4,00 e o de cereais custa R$1,00\n",
    "\n",
    "- Estão disponíveis por mês 10_000kg de carne e 30_000kg de cereais \n",
    "\n",
    "Deseja-se saber qual a quantidade de cada ração a produzir de modo a maximizar o lucro"
   ]
  },
  {
   "cell_type": "markdown",
   "id": "5c00eb5d",
   "metadata": {},
   "source": [
    "###  Modelo Matemático"
   ]
  },
  {
   "cell_type": "markdown",
   "id": "04284c62",
   "metadata": {},
   "source": [
    "#### Variáveis \n",
    "\n"
   ]
  },
  {
   "cell_type": "markdown",
   "id": "07f60881",
   "metadata": {},
   "source": [
    "t = quantidade da ração Tobi a ser produzida \n",
    "\n",
    "r = quantidade da ração Rex a ser produzida"
   ]
  },
  {
   "cell_type": "markdown",
   "id": "8e00e4a3",
   "metadata": {},
   "source": [
    "#### Função Objetivo\n",
    "\n",
    "Max Z = Valor de cada pacote - custos de produção"
   ]
  },
  {
   "cell_type": "markdown",
   "id": "18984002",
   "metadata": {},
   "source": [
    "$Max \\quad Z = 20*t+30*r - (t*5*1+t*1*4) - (r*2*1+r*4*4)$"
   ]
  },
  {
   "cell_type": "markdown",
   "id": "50000939",
   "metadata": {},
   "source": [
    "#### Restrições"
   ]
  },
  {
   "cell_type": "markdown",
   "id": "4d1fb0c1",
   "metadata": {},
   "source": [
    "- Limite quantidade de cereal\n",
    "\n",
    "$t*5 + 2*r = 30000$\n",
    "\n",
    "- Limite quantidade de carne\n",
    "\n",
    "$1*t + 4*r = 10000$\n",
    "\n",
    "\n"
   ]
  },
  {
   "cell_type": "code",
   "execution_count": 1,
   "id": "d7277200",
   "metadata": {},
   "outputs": [],
   "source": [
    "import pyomo.environ as pyo\n",
    "import time"
   ]
  },
  {
   "cell_type": "code",
   "execution_count": 2,
   "id": "1fc63547",
   "metadata": {},
   "outputs": [],
   "source": [
    "# Criação do modelo\n",
    "model = pyo.ConcreteModel(\"Racao\")\n",
    "\n",
    "# Tipos de ração:\n",
    "model.R = pyo.Set(initialize=[\"Tobi\", \"Rex\"])\n",
    "\n",
    "# Tipos de material\n",
    "model.M = pyo.Set(initialize=[\"Cereal\", \"Carne\"])\n",
    "\n",
    "# ------------------------------\n",
    "# Parâmetros\n",
    "# ------------------------------\n",
    "# Custos material\n",
    "material = {\"Cereal\":1, \"Carne\":4}\n",
    "model.c_material = pyo.Param(model.M,initialize=material)\n",
    "\n",
    "# Qtd material por pacote\n",
    "qtd_material = {(\"Tobi\",\"Cereal\"):5, (\"Rex\",\"Cereal\"):2,(\"Tobi\",\"Carne\"):1, (\"Rex\",\"Carne\"):4}\n",
    "model.q_material = pyo.Param(model.R,model.M,initialize=qtd_material)\n",
    "\n",
    "# Material disponível\n",
    "\n",
    "estoque = {\"Cereal\":30000, \"Carne\":10000}\n",
    "model.e_material = pyo.Param(model.M,initialize=estoque)\n",
    "\n",
    "# Custos pacote\n",
    "valor_venda = {\"Tobi\":20, \"Rex\":30}\n",
    "model.v_pacote = pyo.Param(model.R,initialize=valor_venda)\n",
    "\n",
    "# ------------------------------\n",
    "# Variáveis de Decisão\n",
    "# ------------------------------\n",
    "# quantidade da ração tobi e max\n",
    "model.x = pyo.Var(model.R,domain=pyo.NonNegativeIntegers)\n",
    "\n",
    "# ------------------------------\n",
    "# Função Objetivo\n",
    "# ------------------------------\n",
    "def objective_rule(model):\n",
    "    # Valor pacote\n",
    "    valor_pacote = sum(\n",
    "        model.x[i] * model.v_pacote[i]\n",
    "        for i in model.R\n",
    "    )\n",
    "\n",
    "    # Custo material\n",
    "    custo = sum(\n",
    "        model.x[i] * model.c_material[m] * model.q_material[i,m]\n",
    "        for i in model.R\n",
    "        for m in model.M\n",
    "    )\n",
    "\n",
    "    return valor_pacote + custo\n",
    "\n",
    "\n",
    "model.obj = pyo.Objective(rule=objective_rule, sense=pyo.maximize)\n",
    "\n",
    "# ------------------------------\n",
    "# Restrições\n",
    "# ------------------------------\n",
    "\n",
    "# 1. Limite Estoque\n",
    "def estoque(model, m):\n",
    "    return sum(model.x[i] * model.q_material[i,m] for i in model.R) <= model.e_material[m]\n",
    "\n",
    "\n",
    "model.CapRef = pyo.Constraint(model.M, rule=estoque)\n",
    "\n"
   ]
  },
  {
   "cell_type": "code",
   "execution_count": 3,
   "id": "cc62ec5d",
   "metadata": {},
   "outputs": [],
   "source": [
    "# Criação do modelo\n",
    "model = pyo.ConcreteModel(\"Racao\")"
   ]
  },
  {
   "cell_type": "code",
   "execution_count": 4,
   "id": "6fbeac8d",
   "metadata": {},
   "outputs": [],
   "source": [
    "# Tipos de ração:\n",
    "model.R = pyo.Set(initialize=[\"Tobi\", \"Rex\"])\n",
    "\n",
    "# Tipos de material\n",
    "model.M = pyo.Set(initialize=[\"Cereal\", \"Carne\"])"
   ]
  },
  {
   "cell_type": "code",
   "execution_count": 5,
   "id": "2095a58e",
   "metadata": {},
   "outputs": [],
   "source": [
    "# ------------------------------\n",
    "# Parâmetros\n",
    "# ------------------------------\n",
    "# Custos material\n",
    "material = {\"Cereal\":1, \"Carne\":4}\n",
    "model.c_material = pyo.Param(model.M,initialize=material)\n",
    "\n",
    "# Qtd material por pacote\n",
    "qtd_material = {(\"Tobi\",\"Cereal\"):5, (\"Rex\",\"Cereal\"):2,(\"Tobi\",\"Carne\"):1, (\"Rex\",\"Carne\"):4}\n",
    "model.q_material = pyo.Param(model.R,model.M,initialize=qtd_material)\n",
    "\n",
    "# Material disponível\n",
    "\n",
    "estoque = {\"Cereal\":30000, \"Carne\":10000}\n",
    "model.e_material = pyo.Param(model.M,initialize=estoque)\n",
    "\n",
    "# Custos pacote\n",
    "valor_venda = {\"Tobi\":20, \"Rex\":30}\n",
    "model.v_pacote = pyo.Param(model.R,initialize=valor_venda)\n",
    "\n"
   ]
  },
  {
   "cell_type": "code",
   "execution_count": 6,
   "id": "f149be80",
   "metadata": {},
   "outputs": [],
   "source": [
    "# ------------------------------\n",
    "# Variáveis de Decisão\n",
    "# ------------------------------\n",
    "# quantidade da ração tobi e max\n",
    "model.x = pyo.Var(model.R,domain=pyo.NonNegativeIntegers)"
   ]
  },
  {
   "cell_type": "code",
   "execution_count": 7,
   "id": "f050ffd9",
   "metadata": {},
   "outputs": [],
   "source": [
    "# ------------------------------\n",
    "# Função Objetivo\n",
    "# ------------------------------\n",
    "def objective_rule(model):\n",
    "    # Valor pacote\n",
    "    valor_pacote = sum(\n",
    "        model.x[i] * model.v_pacote[i]\n",
    "        for i in model.R\n",
    "    )\n",
    "\n",
    "    # Custo material\n",
    "    custo = sum(\n",
    "        model.x[i] * model.c_material[m] * model.q_material[i,m]\n",
    "        for i in model.R\n",
    "        for m in model.M\n",
    "    )\n",
    "\n",
    "    return valor_pacote + custo\n",
    "\n",
    "\n",
    "model.obj = pyo.Objective(rule=objective_rule, sense=pyo.maximize)"
   ]
  },
  {
   "cell_type": "code",
   "execution_count": 8,
   "id": "ca578cab",
   "metadata": {},
   "outputs": [],
   "source": [
    "# ------------------------------\n",
    "# Restrições\n",
    "# ------------------------------\n",
    "\n",
    "# 1. Limite Estoque\n",
    "def estoque(model, m):\n",
    "    return sum(model.x[i] * model.q_material[i,m] for i in model.R) <= model.e_material[m]\n",
    "\n",
    "\n",
    "model.CapRef = pyo.Constraint(model.M, rule=estoque)\n"
   ]
  },
  {
   "cell_type": "code",
   "execution_count": 9,
   "id": "cd4a04fa",
   "metadata": {},
   "outputs": [
    {
     "name": "stdout",
     "output_type": "stream",
     "text": [
      "MIP  has 2 rows; 2 cols; 4 nonzeros; 2 integer variables (0 binary)\n",
      "Coefficient ranges:\n",
      "  Matrix [1e+00, 5e+00]\n",
      "  Cost   [3e+01, 5e+01]\n",
      "  Bound  [0e+00, 0e+00]\n",
      "  RHS    [1e+04, 3e+04]\n",
      "Presolving model\n",
      "2 rows, 2 cols, 4 nonzeros  0s\n",
      "2 rows, 2 cols, 4 nonzeros  0s\n",
      "Objective function is integral with scale 1\n",
      "\n",
      "Solving MIP model with:\n",
      "   2 rows\n",
      "   2 cols (0 binary, 2 integer, 0 implied int., 0 continuous)\n",
      "   4 nonzeros\n",
      "\n",
      "Src: B => Branching; C => Central rounding; F => Feasibility pump; H => Heuristic; L => Sub-MIP;\n",
      "     P => Empty MIP; R => Randomized rounding; S => Solve LP; T => Evaluate node; U => Unbounded;\n",
      "     z => Trivial zero; l => Trivial lower; u => Trivial upper; p => Trivial point; X => User solution\n",
      "\n",
      "        Nodes      |    B&B Tree     |            Objective Bounds              |  Dynamic Constraints |       Work      \n",
      "Src  Proc. InQueue |  Leaves   Expl. | BestBound       BestSol              Gap |   Cuts   InLp Confl. | LpIters     Time\n",
      "\n",
      " z       0       0         0   0.00%   inf             -0                 Large        0      0      0         0     0.0s\n",
      " S       0       0         0   0.00%   294000          214423            37.11%        0      0      0         0     0.0s\n",
      "         1       0         1 100.00%   214444.444444   214423             0.01%        0      0      0         2     0.0s\n",
      "\n",
      "Solving report\n",
      "  Status            Optimal\n",
      "  Primal bound      214423\n",
      "  Dual bound        214444\n",
      "  Gap               0.00979% (tolerance: 0.01%)\n",
      "  P-D integral      0.000129251576236\n",
      "  Solution status   feasible\n",
      "                    214423 (objective)\n",
      "                    0 (bound viol.)\n",
      "                    0 (int. viol.)\n",
      "                    0 (row viol.)\n",
      "  Timing            0.00 (total)\n",
      "                    0.00 (presolve)\n",
      "                    0.00 (solve)\n",
      "                    0.00 (postsolve)\n",
      "  Max sub-MIP depth 0\n",
      "  Nodes             1\n",
      "  Repair LPs        0 (0 feasible; 0 iterations)\n",
      "  LP iterations     2 (total)\n",
      "                    0 (strong br.)\n",
      "                    0 (separation)\n",
      "                    0 (heuristics)\n",
      "\n",
      "Status do solver: ok\n",
      "Condição de terminação: optimal\n",
      "Valor da Função Objetivo: R$ 214.423,00\n"
     ]
    }
   ],
   "source": [
    "# ------------------------------\n",
    "# Escrita do Modelo em Arquivo\n",
    "# ------------------------------\n",
    "model.write(\"ex1.lp\", io_options={\"symbolic_solver_labels\": True})\n",
    "\n",
    "# ------------------------------\n",
    "# Resolução\n",
    "# ------------------------------\n",
    "solver = pyo.SolverFactory(\"appsi_highs\")\n",
    "results = solver.solve(model, tee=True)\n",
    "\n",
    "# Exibindo resultados\n",
    "print(\"\\nStatus do solver:\", results.solver.status)\n",
    "print(\"Condição de terminação:\", results.solver.termination_condition)\n",
    "valor_obj = pyo.value(model.obj)\n",
    "formatted = f\"{valor_obj:,.2f}\"\n",
    "formatted = formatted.replace(\",\", \"X\").replace(\".\", \",\").replace(\"X\", \".\")\n",
    "print(\"Valor da Função Objetivo: R$\", formatted)\n",
    "\n"
   ]
  },
  {
   "cell_type": "code",
   "execution_count": 10,
   "id": "fe0dfc80",
   "metadata": {},
   "outputs": [
    {
     "name": "stdout",
     "output_type": "stream",
     "text": [
      "  Quantidade da ração Tobi : 5555.00\n",
      "  Quantidade da ração Rex : 1111.00\n"
     ]
    }
   ],
   "source": [
    "for i in model.R:    \n",
    "    val = pyo.value(model.x[i])\n",
    "    if val is not None and val > 1e-6:\n",
    "        print(f\"  Quantidade da ração {i} : {val:.2f}\")"
   ]
  }
 ],
 "metadata": {
  "kernelspec": {
   "display_name": "base",
   "language": "python",
   "name": "python3"
  },
  "language_info": {
   "codemirror_mode": {
    "name": "ipython",
    "version": 3
   },
   "file_extension": ".py",
   "mimetype": "text/x-python",
   "name": "python",
   "nbconvert_exporter": "python",
   "pygments_lexer": "ipython3",
   "version": "3.9.12"
  }
 },
 "nbformat": 4,
 "nbformat_minor": 5
}
