{
 "cells": [
  {
   "cell_type": "markdown",
   "id": "2214fda1",
   "metadata": {},
   "source": [
    "# Ex17\n",
    "\n",
    "\n",
    "\n",
    "Uma determinada fábrica produz panelas de metal médias e grandes a partir de elementos circulares de diâmetros de 0,25 e 0,40 metros, respectivamente. A primeira operação para obter as panelas é um corte desses elementos circulares sobre chapas de dimensão de 1,40 x 0,50 metros. Os elementos planos circulares são transformados em panelas em uma segunda operação de estamparia. Para o corte existem quatro tipos de matrizes conforme mostra a figura abaixo,\n",
    "\n",
    "| MATRIZ | Panela média | Panela Grande |\n",
    "|--------------|------------|-------------|\n",
    "| **1**     | 8     | 0      |\n",
    "| **2**   | 4      | 1      |\n",
    "| **3**     | 2     | 2      |\n",
    "| **4**     | 0      | 3      |\n",
    "\n",
    "A fábrica deseja uma produção diária mínima de 500 panelas médias (obtidas do elemento circular de diâmetro 0,25) e 350 grandes (obtidas do elemento circular de diâmetro 0,40). Os custos em reais por chapa pelo uso de cada matriz de corte são respectivamente: 1, 2, 3, 2. \n",
    "\n",
    "Elaborar o modelo de Programação Linear que planeje a produção de modo a minimizar o custo com o uso das chapas.\n",
    "\n"
   ]
  },
  {
   "cell_type": "markdown",
   "id": "c6677944",
   "metadata": {},
   "source": [
    "## **Definição das Variáveis de Decisão**\n",
    "\n",
    "- $x_j$ = Número de chapas cortadas utilizando a matriz $j$, onde $j \\in \\{1, 2, 3, 4\\}$.\n",
    "\n",
    "\n",
    "\n",
    "## **Função Objetivo**\n",
    "O objetivo é **minimizar** o custo total com as chapas:\n",
    "$$\\min Z = 1x_1 + 2x_2 + 3x_3 + 2x_4$$\n",
    "\n",
    "\n",
    "## **Restrições de Produção**\n",
    "A fábrica precisa produzir pelo menos **500 panelas médias** e **350 panelas grandes** por dia. Isso gera as seguintes restrições:\n",
    "\n",
    "### **Produção mínima de panelas médias**\n",
    "$$8x_1 + 4x_2 + 2x_3 + 0x_4 \\geq 500$$\n",
    "\n",
    "### **Produção mínima de panelas grandes**\n",
    "$$0x_1 + 1x_2 + 2x_3 + 3x_4 \\geq 350$$\n",
    "\n",
    "\n",
    "\n",
    "## **Restrição de Não-Negatividade**\n",
    "As quantidades de chapas utilizadas devem ser não negativas:\n",
    "$$x_j \\geq 0, \\quad \\forall j \\in \\{1, 2, 3, 4\\}$$\n",
    "\n",
    "\n"
   ]
  },
  {
   "cell_type": "code",
   "execution_count": 14,
   "id": "d7277200",
   "metadata": {},
   "outputs": [],
   "source": [
    "import pyomo.environ as pyo"
   ]
  },
  {
   "cell_type": "code",
   "execution_count": 15,
   "id": "1f525600",
   "metadata": {},
   "outputs": [],
   "source": [
    "# Criação do modelo\n",
    "model = pyo.ConcreteModel()"
   ]
  },
  {
   "cell_type": "code",
   "execution_count": 16,
   "id": "44e0ee7c",
   "metadata": {},
   "outputs": [],
   "source": [
    "\n",
    "# Conjuntos\n",
    "model.Matrizes = pyo.Set(initialize=[\"1\", \"2\", \"3\", \"4\"])\n"
   ]
  },
  {
   "cell_type": "code",
   "execution_count": 17,
   "id": "419f911a",
   "metadata": {},
   "outputs": [],
   "source": [
    "# Custo por chapa cortada utilizando cada matriz\n",
    "custo = {\"1\": 1, \"2\": 2, \"3\": 3, \"4\": 2}\n",
    "model.custo_chapa = pyo.Param(model.Matrizes, initialize=custo)\n",
    "\n",
    "# Produção de panelas médias por matriz\n",
    "prod_medias = {\"1\": 8, \"2\": 4, \"3\": 2, \"4\": 0}\n",
    "model.prod_medias = pyo.Param(model.Matrizes, initialize=prod_medias)\n",
    "\n",
    "# Produção de panelas grandes por matriz\n",
    "prod_grandes = {\"1\": 0, \"2\": 1, \"3\": 2, \"4\": 3}\n",
    "model.prod_grandes = pyo.Param(model.Matrizes, initialize=prod_grandes)\n",
    "\n",
    "# Demanda mínima de produção diária\n",
    "model.demanda_medias = pyo.Param(initialize=500)\n",
    "model.demanda_grandes = pyo.Param(initialize=350)"
   ]
  },
  {
   "cell_type": "code",
   "execution_count": 18,
   "id": "1e0b7dd4",
   "metadata": {},
   "outputs": [],
   "source": [
    "\n",
    "# ------------------------------\n",
    "# Variáveis de Decisão\n",
    "# ------------------------------\n",
    "\n",
    "model.x = pyo.Var(model.Matrizes, domain=pyo.NonNegativeIntegers)"
   ]
  },
  {
   "cell_type": "code",
   "execution_count": 19,
   "id": "7b310a78",
   "metadata": {},
   "outputs": [],
   "source": [
    "\n",
    "# ------------------------------\n",
    "# Função Objetivo\n",
    "# ------------------------------\n",
    "def fo(model):\n",
    "    return sum(model.x[j] * model.custo_chapa[j] for j in model.Matrizes)\n",
    "\n",
    "model.objetivo = pyo.Objective(rule=fo, sense=pyo.minimize)\n"
   ]
  },
  {
   "cell_type": "code",
   "execution_count": 20,
   "id": "b0f21da0",
   "metadata": {},
   "outputs": [],
   "source": [
    "# ------------------------------\n",
    "# Restrições\n",
    "# ------------------------------\n",
    "\n",
    "# 1. Produção mínima de panelas médias\n",
    "def producao_medias_rule(model):\n",
    "    return sum(model.x[j] * model.prod_medias[j] for j in model.Matrizes) >= model.demanda_medias\n",
    "\n",
    "model.producao_medias = pyo.Constraint(rule=producao_medias_rule)\n",
    "\n",
    "# 2. Produção mínima de panelas grandes\n",
    "def producao_grandes_rule(model):\n",
    "    return sum(model.x[j] * model.prod_grandes[j] for j in model.Matrizes) >= model.demanda_grandes\n",
    "\n",
    "model.producao_grandes = pyo.Constraint(rule=producao_grandes_rule)\n",
    "\n"
   ]
  },
  {
   "cell_type": "code",
   "execution_count": 21,
   "id": "8d97eb7a",
   "metadata": {},
   "outputs": [
    {
     "data": {
      "text/plain": [
       "('ex17.lp', 1822205702496)"
      ]
     },
     "execution_count": 21,
     "metadata": {},
     "output_type": "execute_result"
    }
   ],
   "source": [
    "# ------------------------------\n",
    "# Escrita do Modelo em Arquivo\n",
    "# ------------------------------\n",
    "model.write(\"ex17.lp\", io_options={\"symbolic_solver_labels\": True})"
   ]
  },
  {
   "cell_type": "code",
   "execution_count": 22,
   "id": "9e5c39a6",
   "metadata": {},
   "outputs": [
    {
     "name": "stdout",
     "output_type": "stream",
     "text": [
      "MIP  has 2 rows; 4 cols; 6 nonzeros; 4 integer variables (0 binary)\n",
      "Coefficient ranges:\n",
      "  Matrix [1e+00, 8e+00]\n",
      "  Cost   [1e+00, 3e+00]\n",
      "  Bound  [0e+00, 0e+00]\n",
      "  RHS    [4e+02, 5e+02]\n",
      "Presolving model\n",
      "2 rows, 4 cols, 6 nonzeros  0s\n",
      "2 rows, 4 cols, 6 nonzeros  0s\n",
      "Objective function is integral with scale 1\n",
      "\n",
      "Solving MIP model with:\n",
      "   2 rows\n",
      "   4 cols (0 binary, 4 integer, 0 implied int., 0 continuous)\n",
      "   6 nonzeros\n",
      "\n",
      "Src: B => Branching; C => Central rounding; F => Feasibility pump; H => Heuristic; L => Sub-MIP;\n",
      "     P => Empty MIP; R => Randomized rounding; S => Solve LP; T => Evaluate node; U => Unbounded;\n",
      "     z => Trivial zero; l => Trivial lower; u => Trivial upper; p => Trivial point; X => User solution\n",
      "\n",
      "        Nodes      |    B&B Tree     |            Objective Bounds              |  Dynamic Constraints |       Work      \n",
      "Src  Proc. InQueue |  Leaves   Expl. | BestBound       BestSol              Gap |   Cuts   InLp Confl. | LpIters     Time\n",
      "\n",
      "         0       0         0   0.00%   0               inf                  inf        0      0      0         0     0.0s\n",
      " S       0       0         0   0.00%   0               297              100.00%        0      0      0         0     0.0s\n",
      "         1       0         1 100.00%   297             297                0.00%        0      0      0         0     0.0s\n",
      "\n",
      "Solving report\n",
      "  Status            Optimal\n",
      "  Primal bound      297\n",
      "  Dual bound        297\n",
      "  Gap               0% (tolerance: 0.01%)\n",
      "  P-D integral      0.000167113909389\n",
      "  Solution status   feasible\n",
      "                    297 (objective)\n",
      "                    0 (bound viol.)\n",
      "                    0 (int. viol.)\n",
      "                    0 (row viol.)\n",
      "  Timing            0.00 (total)\n",
      "                    0.00 (presolve)\n",
      "                    0.00 (solve)\n",
      "                    0.00 (postsolve)\n",
      "  Max sub-MIP depth 0\n",
      "  Nodes             1\n",
      "  Repair LPs        0 (0 feasible; 0 iterations)\n",
      "  LP iterations     0 (total)\n",
      "                    0 (strong br.)\n",
      "                    0 (separation)\n",
      "                    0 (heuristics)\n",
      "\n",
      "Status do solver: ok\n",
      "Condição de terminação: optimal\n",
      "Valor da Função Objetivo: R$ 297,00\n"
     ]
    }
   ],
   "source": [
    "# ------------------------------\n",
    "# Resolução\n",
    "# ------------------------------\n",
    "solver = pyo.SolverFactory(\"appsi_highs\")\n",
    "results = solver.solve(model, tee=True)\n",
    "\n",
    "# Exibindo resultados\n",
    "print(\"\\nStatus do solver:\", results.solver.status)\n",
    "print(\"Condição de terminação:\", results.solver.termination_condition)\n",
    "valor_obj = pyo.value(model.objetivo)\n",
    "formatted = f\"{valor_obj:,.2f}\"\n",
    "formatted = formatted.replace(\",\", \"X\").replace(\".\", \",\").replace(\"X\", \".\")\n",
    "print(\"Valor da Função Objetivo: R$\", formatted)"
   ]
  },
  {
   "cell_type": "code",
   "execution_count": null,
   "id": "49b4fdd1",
   "metadata": {},
   "outputs": [
    {
     "name": "stdout",
     "output_type": "stream",
     "text": [
      "Resultados do modelo:\n",
      "Matriz 1: 63.00 chapas\n",
      "Matriz 2: 0.00 chapas\n",
      "Matriz 3: 0.00 chapas\n",
      "Matriz 4: 117.00 chapas\n"
     ]
    }
   ],
   "source": [
    "\n",
    "for j in model.Matrizes:\n",
    "    valor = pyo.value(model.x[j])\n",
    "    print(f\"Matriz {j}: {valor:.2f} chapas\")"
   ]
  }
 ],
 "metadata": {
  "kernelspec": {
   "display_name": "base",
   "language": "python",
   "name": "python3"
  },
  "language_info": {
   "codemirror_mode": {
    "name": "ipython",
    "version": 3
   },
   "file_extension": ".py",
   "mimetype": "text/x-python",
   "name": "python",
   "nbconvert_exporter": "python",
   "pygments_lexer": "ipython3",
   "version": "3.9.12"
  }
 },
 "nbformat": 4,
 "nbformat_minor": 5
}
