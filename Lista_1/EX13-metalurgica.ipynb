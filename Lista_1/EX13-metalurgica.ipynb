{
 "cells": [
  {
   "cell_type": "markdown",
   "id": "2214fda1",
   "metadata": {},
   "source": [
    "# Ex13\n",
    "\n",
    "Consideremos o problema da metalurgia de alumínio, em que se deseja produzir 2.000 kg de uma liga de alumínio, a custo mínimo, pela mistura de diversas matérias-primas (minérios). Esta liga deve atender a requisitos de engenharia que especificam os máximos e mínimos de diversos elementos químicos que a compõem. Os custos das matérias-primas são:\n",
    "\n",
    "| Matéria-prima | Mat1 | Mat2 | Mat3 | Mat4 | Mat5 | Mat6 | Mat7 |\n",
    "|---------------|------|------|------|------|------|------|------|\n",
    "| Custo         | 0,03 | 0,08 | 0,17 | 0,12 | 0,15 | 0,21 | 0,38 |\n",
    "\n",
    "A composição dos minérios e a participação mínima/máxima de cada um dos elementos químicos nos 2.000 kg da liga são mostradas a seguir.\n",
    "\n",
    "\n",
    "| Elemento | Mat1  | Mat2  | Mat3  | Mat4  | Mat5  | Al-puro | Si-puro | Mínimo | Máximo |\n",
    "|----------|------|------|------|------|------|---------|---------|--------|--------|\n",
    "| Fe       | 0,15 | 0,04 | 0,02 | 0,04 | 0,02 | 0,01    | 0,03    | -      | 60     |\n",
    "| Cu       | 0,03 | 0,05 | 0,08 | 0,02 | 0,06 | 0,01    | -       | -      | 100    |\n",
    "| Mn       | 0,02 | 0,04 | 0,01 | 0,02 | 0,02 | -       | -       | -      | 40     |\n",
    "| Mg       | 0,02 | 0,03 | -    | -    | 0,01 | -       | -       | -      | 30     |\n",
    "| Al       | 0,70 | 0,75 | 0,8 | 0,75  | 0,80 | 0,97    | -       | 1500     | -      |\n",
    "| Si       | 0,02 | 0,06 | 0,08 | 0,12 | 0,02 | 0,01    | 0,97    | 250    | 300    |\n",
    "\n",
    "Na tabela anterior temos, por exemplo, que Mat1 contém 15% de Ferro, 3% de Cobre, etc. Temos, ainda, que a liga a ser obtida (2.000 kg) deve conter, no máximo, 60 kg de Ferro, 100 kg de Cobre e que a quantidade de Silício deve estar entre 250 kg e 300 kg.\n",
    "\n",
    "Quanto à disponibilidade de matéria-prima, os dados estão indicados a seguir na linha \"Disponibilidade Máxima\". A linha \"Disponibilidade Mínima\" refere-se à quantidade que se deseja forçar a entrar neste processo (por algum motivo, tal como liberação de espaço).\n",
    "\n",
    "\n",
    "|          | Mat1 | Mat2 | Mat3 | Mat4 | Mat5 | Mat6   |Mat7   |\n",
    "|----------|------|------|------|------|------|--------|--------|\n",
    "| Disp. Mín.| -    | -    | 400  | 100  | -    | -      | -\n",
    "| Disp. Máx.| 200  | 750  | 800  | 700  | 1500 | Infinito |Infinito |\n",
    "\n",
    "\n",
    "\n"
   ]
  },
  {
   "cell_type": "markdown",
   "id": "c6677944",
   "metadata": {},
   "source": [
    "### Modelagem Matemática\n",
    "\n",
    "#### **Variáveis de decisão**\n",
    "Definimos $x_i$ como a quantidade (kg) de cada matéria-prima $i$ utilizada na mistura, onde $i \\in \\{1, 2, 3, 4, 5, 6, 7\\}$.\n",
    "\n",
    "#### **Função objetivo**\n",
    "Minimizar o custo total de produção da liga:\n",
    "\n",
    "$$\n",
    "\\text{Minimize } Z = 0,03x_1 + 0,08x_2 + 0,17x_3 + 0,12x_4 + 0,15x_5 + 0,21x_6 + 0,38x_7\n",
    "$$\n",
    "\n",
    "#### **Restrições**\n",
    "1. **Quantidade total da liga**:\n",
    "$$\n",
    "x_1 + x_2 + x_3 + x_4 + x_5 + x_6 + x_7 = 2000\n",
    "$$\n",
    "\n",
    "2. **Restrições de composição química**:\n",
    "\n",
    "   - **Ferro**:\n",
    "$$\n",
    "0,15x_1 + 0,04x_2 + 0,02x_3 + 0,04x_4 + 0,02x_5 + 0,01x_6 + 0,03x_7 \\leq 60\n",
    "$$\n",
    "\n",
    "   - **Cobre**:\n",
    "$$\n",
    "0,03x_1 + 0,05x_2 + 0,08x_3 + 0,02x_4 + 0,06x_5 + 0,01x_6 \\leq 100\n",
    "$$\n",
    "\n",
    "   - **Manganês**:\n",
    "$$\n",
    "0,02x_1 + 0,04x_2 + 0,01x_3 + 0,02x_4 + 0,02x_5 \\leq 40\n",
    "$$\n",
    "\n",
    "   - **Magnésio**:\n",
    "$$\n",
    "0,02x_1 + 0,03x_2 + 0x_3 + 0x_4 + 0,01x_5 \\leq 30\n",
    "$$\n",
    "\n",
    "   - **Silício**:\n",
    "$$\n",
    "250 \\leq 0,02x_1 + 0,06x_2 + 0,08x_3 + 0,12x_4 + 0,02x_5 + 0,01x_6 + 0,97x_7 \\leq 300\n",
    "$$\n",
    "\n",
    "3. **Limites de disponibilidade de matéria-prima**:\n",
    "$$\n",
    "\\begin{aligned}\n",
    "0 \\leq x_1 \\leq 200 \\\\\n",
    "0 \\leq x_2 \\leq 750 \\\\\n",
    "400 \\leq x_3 \\leq 800 \\\\\n",
    "100 \\leq x_4 \\leq 700 \\\\\n",
    "0 \\leq x_5 \\leq 1500 \\\\\n",
    "0 \\leq x_6 \\leq \\infty \\\\\n",
    "0 \\leq x_7 \\leq \\infty \\\\\n",
    "\\end{aligned}\n",
    "$$\n"
   ]
  },
  {
   "cell_type": "code",
   "execution_count": 1,
   "id": "d7277200",
   "metadata": {},
   "outputs": [],
   "source": [
    "import pyomo.environ as pyo"
   ]
  },
  {
   "cell_type": "code",
   "execution_count": 2,
   "id": "1f525600",
   "metadata": {},
   "outputs": [],
   "source": [
    "# Criação do modelo\n",
    "model = pyo.ConcreteModel()"
   ]
  },
  {
   "cell_type": "code",
   "execution_count": 3,
   "id": "44e0ee7c",
   "metadata": {},
   "outputs": [],
   "source": [
    "\n",
    "# Conjuntos\n",
    "model.M = pyo.Set(initialize=[\"Mat1\", \"Mat2\", \"Mat3\", \"Mat4\", \"Mat5\", \"Mat6\", \"Mat7\"])\n",
    "\n",
    "model.E = pyo.Set(initialize=[\"Fe\", \"Cu\", \"Mn\", \"Mg\", \"Al\", \"Si\"])"
   ]
  },
  {
   "cell_type": "code",
   "execution_count": 4,
   "id": "419f911a",
   "metadata": {},
   "outputs": [],
   "source": [
    "custo_material = {\"Mat1\": 0.03, \"Mat2\": 0.08, \"Mat3\": 0.17, \"Mat4\": 0.12, \n",
    "                  \"Mat5\": 0.15, \"Mat6\": 0.21, \"Mat7\": 0.38}\n",
    "model.c_material = pyo.Param(model.M, initialize=custo_material)\n",
    "\n",
    "# Composição química das matérias-primas\n",
    "qtd_elementos = {\n",
    "    (\"Mat1\", \"Fe\"): 0.15, (\"Mat2\", \"Fe\"): 0.04, (\"Mat3\", \"Fe\"): 0.02, (\"Mat4\", \"Fe\"): 0.04, (\"Mat5\", \"Fe\"): 0.02, (\"Mat6\", \"Fe\"): 0.01, (\"Mat7\", \"Fe\"): 0.03,\n",
    "    (\"Mat1\", \"Cu\"): 0.03, (\"Mat2\", \"Cu\"): 0.05, (\"Mat3\", \"Cu\"): 0.08, (\"Mat4\", \"Cu\"): 0.02, (\"Mat5\", \"Cu\"): 0.06, (\"Mat6\", \"Cu\"): 0.01,\n",
    "    (\"Mat1\", \"Mn\"): 0.02, (\"Mat2\", \"Mn\"): 0.04, (\"Mat3\", \"Mn\"): 0.01, (\"Mat4\", \"Mn\"): 0.02, (\"Mat5\", \"Mn\"): 0.02,\n",
    "    (\"Mat1\", \"Mg\"): 0.02, (\"Mat2\", \"Mg\"): 0.03, (\"Mat3\", \"Mg\"): 0.00, (\"Mat4\", \"Mg\"): 0.00, (\"Mat5\", \"Mg\"): 0.01,\n",
    "    (\"Mat1\", \"Al\"): 0.70, (\"Mat2\", \"Al\"): 0.75, (\"Mat3\", \"Al\"): 0.80, (\"Mat4\", \"Al\"): 0.75, (\"Mat5\", \"Al\"): 0.80, (\"Mat6\", \"Al\"): 0.97,\n",
    "    (\"Mat1\", \"Si\"): 0.02, (\"Mat2\", \"Si\"): 0.06, (\"Mat3\", \"Si\"): 0.08, (\"Mat4\", \"Si\"): 0.12, (\"Mat5\", \"Si\"): 0.02, (\"Mat6\", \"Si\"): 0.01, (\"Mat7\", \"Si\"): 0.97,\n",
    "}\n",
    "model.q_material = pyo.Param(model.M, model.E, initialize=qtd_elementos, default=0)\n",
    "\n",
    "# Limites de disponibilidade das matérias-primas\n",
    "estoque_material = {\"Mat1\": 200, \"Mat2\": 750, \"Mat3\": 800, \"Mat4\": 700, \"Mat5\": 1500, \"Mat6\": float(\"inf\"), \"Mat7\": float(\"inf\")}\n",
    "model.e_material = pyo.Param(model.M, initialize=estoque_material)\n",
    "\n",
    "# Limites de presença de elementos químicos\n",
    "limites_elementos = {\"Fe\": (0, 60), \"Cu\": (0, 100), \"Mn\": (0, 40), \"Mg\": (0, 30), \"Al\": (1500, float(\"inf\")), \"Si\": (250, 300)}\n",
    "model.l_elemento_min = pyo.Param(model.E, initialize={e: limites_elementos[e][0] for e in model.E})\n",
    "model.l_elemento_max = pyo.Param(model.E, initialize={e: limites_elementos[e][1] for e in model.E})\n"
   ]
  },
  {
   "cell_type": "code",
   "execution_count": 5,
   "id": "1e0b7dd4",
   "metadata": {},
   "outputs": [],
   "source": [
    "\n",
    "# ------------------------------\n",
    "# Variáveis de Decisão\n",
    "# ------------------------------\n",
    "\n",
    "model.x = pyo.Var(model.M, domain=pyo.NonNegativeReals)"
   ]
  },
  {
   "cell_type": "code",
   "execution_count": 6,
   "id": "7b310a78",
   "metadata": {},
   "outputs": [],
   "source": [
    "\n",
    "# ------------------------------\n",
    "# Função Objetivo\n",
    "# ------------------------------\n",
    "def fo(model):\n",
    "    return sum(model.x[m] * model.c_material[m] for m in model.M)\n",
    "\n",
    "model.objetivo = pyo.Objective(rule=fo, sense=pyo.minimize)\n"
   ]
  },
  {
   "cell_type": "code",
   "execution_count": 7,
   "id": "b0f21da0",
   "metadata": {},
   "outputs": [],
   "source": [
    "# ------------------------------\n",
    "# Restrições\n",
    "# ------------------------------\n",
    "\n",
    "# 1. Limite total da liga\n",
    "def liga_total_rule(model):\n",
    "    return sum(model.x[m] for m in model.M) == 2000\n",
    "\n",
    "model.liga_total = pyo.Constraint(rule=liga_total_rule)\n",
    "\n",
    "\n",
    "# 2. Restrições de composição química\n",
    "def elemento_min_rule(model, e):\n",
    "    return sum(model.x[m] * model.q_material[m, e] for m in model.M) >= model.l_elemento_min[e]\n",
    "\n",
    "def elemento_max_rule(model, e):\n",
    "    return sum(model.x[m] * model.q_material[m, e] for m in model.M) <= model.l_elemento_max[e]\n",
    "\n",
    "model.limite_elemento_min = pyo.Constraint(model.E, rule=elemento_min_rule)\n",
    "model.limite_elemento_max = pyo.Constraint(model.E, rule=elemento_max_rule)\n",
    "\n",
    "# 3. Limites de disponibilidade das matérias-primas\n",
    "def estoque_rule(model, m):\n",
    "    return model.x[m] <= model.e_material[m]\n",
    "\n",
    "model.limite_estoque = pyo.Constraint(model.M, rule=estoque_rule)\n",
    "\n"
   ]
  },
  {
   "cell_type": "code",
   "execution_count": 8,
   "id": "8d97eb7a",
   "metadata": {},
   "outputs": [
    {
     "data": {
      "text/plain": [
       "('ex13.lp', 1848009184832)"
      ]
     },
     "execution_count": 8,
     "metadata": {},
     "output_type": "execute_result"
    }
   ],
   "source": [
    "# ------------------------------\n",
    "# Escrita do Modelo em Arquivo\n",
    "# ------------------------------\n",
    "model.write(\"ex13.lp\", io_options={\"symbolic_solver_labels\": True})"
   ]
  },
  {
   "cell_type": "code",
   "execution_count": 9,
   "id": "9e5c39a6",
   "metadata": {},
   "outputs": [
    {
     "name": "stdout",
     "output_type": "stream",
     "text": [
      "LP   has 20 rows; 7 cols; 82 nonzeros\n",
      "Coefficient ranges:\n",
      "  Matrix [1e-02, 1e+00]\n",
      "  Cost   [3e-02, 4e-01]\n",
      "  Bound  [0e+00, 0e+00]\n",
      "  RHS    [3e+01, 2e+03]\n",
      "Presolving model\n",
      "8 rows, 7 cols, 48 nonzeros  0s\n",
      "Dependent equations search running on 1 equations with time limit of 1000.00s\n",
      "Dependent equations search removed 0 rows and 0 nonzeros in 0.00s (limit = 1000.00s)\n",
      "7 rows, 7 cols, 41 nonzeros  0s\n",
      "Presolve : Reductions: rows 7(-13); columns 7(-0); elements 41(-41)\n",
      "Solving the presolved LP\n",
      "Using EKK dual simplex solver - serial\n",
      "  Iteration        Objective     Infeasibilities num(sum)\n",
      "          0     0.0000000000e+00 Pr: 3(687.5) 0s\n",
      "          7     2.9621660650e+02 Pr: 0(0) 0s\n",
      "Solving the original LP from the solution after postsolve\n",
      "Model status        : Optimal\n",
      "Simplex   iterations: 7\n",
      "Objective value     :  2.9621660650e+02\n",
      "Relative P-D gap    :  0.0000000000e+00\n",
      "HiGHS run time      :          0.00\n",
      "\n",
      "Status do solver: ok\n",
      "Condição de terminação: optimal\n",
      "Valor da Função Objetivo: R$ 296,22\n"
     ]
    }
   ],
   "source": [
    "# ------------------------------\n",
    "# Resolução\n",
    "# ------------------------------\n",
    "solver = pyo.SolverFactory(\"appsi_highs\")\n",
    "results = solver.solve(model, tee=True)\n",
    "\n",
    "# Exibindo resultados\n",
    "print(\"\\nStatus do solver:\", results.solver.status)\n",
    "print(\"Condição de terminação:\", results.solver.termination_condition)\n",
    "valor_obj = pyo.value(model.objetivo)\n",
    "formatted = f\"{valor_obj:,.2f}\"\n",
    "formatted = formatted.replace(\",\", \"X\").replace(\".\", \",\").replace(\"X\", \".\")\n",
    "print(\"Valor da Função Objetivo: R$\", formatted)"
   ]
  },
  {
   "cell_type": "code",
   "execution_count": 10,
   "id": "84191397",
   "metadata": {},
   "outputs": [
    {
     "name": "stdout",
     "output_type": "stream",
     "text": [
      "Resultados do Modelo:\n",
      "Quantidade de Mat1: 0.00 kg\n",
      "Quantidade de Mat2: 665.34 kg\n",
      "Quantidade de Mat3: 490.25 kg\n",
      "Quantidade de Mat4: 424.19 kg\n",
      "Quantidade de Mat5: 0.00 kg\n",
      "Quantidade de Mat6: 299.64 kg\n",
      "Quantidade de Mat7: 120.58 kg\n"
     ]
    }
   ],
   "source": [
    "# Exibindo os valores das variáveis de decisão\n",
    "print(\"Resultados do Modelo:\")\n",
    "for m in model.M:\n",
    "    valor = pyo.value(model.x[m])\n",
    "    print(f\"Quantidade de {m}: {valor:.2f} kg\")\n",
    "\n"
   ]
  }
 ],
 "metadata": {
  "kernelspec": {
   "display_name": "base",
   "language": "python",
   "name": "python3"
  },
  "language_info": {
   "codemirror_mode": {
    "name": "ipython",
    "version": 3
   },
   "file_extension": ".py",
   "mimetype": "text/x-python",
   "name": "python",
   "nbconvert_exporter": "python",
   "pygments_lexer": "ipython3",
   "version": "3.9.12"
  }
 },
 "nbformat": 4,
 "nbformat_minor": 5
}
