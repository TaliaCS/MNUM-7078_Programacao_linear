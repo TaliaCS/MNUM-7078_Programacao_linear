{
 "cells": [
  {
   "cell_type": "markdown",
   "id": "da87d432",
   "metadata": {},
   "source": [
    "## EX2"
   ]
  },
  {
   "cell_type": "markdown",
   "id": "2214fda1",
   "metadata": {},
   "source": [
    "Uma indústria dispõe de 3 recursos: **matéria-prima**, **mão de obra** e **tempo de maquinário**, em quantidades limitadas. Com esses recursos, a indústria pretende produzir dois produtos, **1** e **2**. O quadro abaixo dá a utilização de cada recurso em cada um dos produtos e a disponibilidade de cada recurso.\n",
    "\n",
    "| Recurso          | Recurso gasto para fazer 1 unidade do produto 1 | Recurso gasto para fazer 1 unidade do produto 2 | Disponibilidade |\n",
    "|------------------|-------------------------------------------------|-------------------------------------------------|-----------------|\n",
    "| **Matéria-Prima**    | 1                                               | 2                                               | 14              |\n",
    "| **Mão de Obra**      | 1                                               | 1                                               | 9               |\n",
    "| **Tempo de Maquinário** | 7                                             | 4                                               | 56              |\n",
    "\n",
    "A indústria sabe que cada unidade produzida do **produto 1** dá um lucro de **R$ 5,00** e do **produto 2** um lucro de **R$ 6,00**.\n"
   ]
  },
  {
   "cell_type": "markdown",
   "id": "5c00eb5d",
   "metadata": {},
   "source": [
    "###  Modelo Matemático"
   ]
  },
  {
   "cell_type": "markdown",
   "id": "04284c62",
   "metadata": {},
   "source": [
    "#### Variáveis \n",
    "\n"
   ]
  },
  {
   "cell_type": "markdown",
   "id": "07f60881",
   "metadata": {},
   "source": [
    "p1 = quantidade do produto 1 a ser produzida \n",
    "\n",
    "p2 = quantidade do produto 2 a ser produzida"
   ]
  },
  {
   "cell_type": "markdown",
   "id": "8e00e4a3",
   "metadata": {},
   "source": [
    "#### Função Objetivo"
   ]
  },
  {
   "cell_type": "markdown",
   "id": "18984002",
   "metadata": {},
   "source": [
    "$Max \\quad Z = 5*p1+6*p2$"
   ]
  },
  {
   "cell_type": "markdown",
   "id": "50000939",
   "metadata": {},
   "source": [
    "#### Restrições"
   ]
  },
  {
   "cell_type": "markdown",
   "id": "4d1fb0c1",
   "metadata": {},
   "source": [
    "- Limite quantidade de materia prima\n",
    "\n",
    "$p1*1 + 2*p2 = 14$\n",
    "\n",
    "- Limite Mão de obra\n",
    "\n",
    "$p1*1 + 1*p2 = 9$\n",
    "\n",
    "- Limite tempo maquinário\n",
    "\n",
    "$p1*7 + 4*p2 = 56$\n",
    "\n",
    "\n"
   ]
  },
  {
   "cell_type": "code",
   "execution_count": 10,
   "id": "d7277200",
   "metadata": {},
   "outputs": [],
   "source": [
    "import pyomo.environ as pyo\n",
    "import time"
   ]
  },
  {
   "cell_type": "code",
   "execution_count": 11,
   "id": "cc62ec5d",
   "metadata": {},
   "outputs": [],
   "source": [
    "# Criação do modelo\n",
    "model = pyo.ConcreteModel(\"Produtos\")"
   ]
  },
  {
   "cell_type": "code",
   "execution_count": 12,
   "id": "6fbeac8d",
   "metadata": {},
   "outputs": [],
   "source": [
    "# Tipos produto:\n",
    "model.P = pyo.Set(initialize=[\"1\", \"2\"])"
   ]
  },
  {
   "cell_type": "code",
   "execution_count": 13,
   "id": "2095a58e",
   "metadata": {},
   "outputs": [],
   "source": [
    "# ------------------------------\n",
    "# Parâmetros\n",
    "# ------------------------------\n",
    "\n",
    "# lucro produto material\n",
    "luc = {\"1\":5, \"2\":6}\n",
    "model.lucro = pyo.Param(model.P,initialize=luc)\n",
    "\n",
    "# Custos material\n",
    "material = {\"1\":1, \"2\":2}\n",
    "model.mat = pyo.Param(model.P,initialize=material)\n",
    "\n",
    "# Mão de obra\n",
    "mao_obra = {\"1\":1, \"2\":1}\n",
    "model.mao_de_obra = pyo.Param(model.P,initialize=mao_obra)\n",
    "\n",
    "# Tempo maquinario\n",
    "maq = {\"1\":7, \"2\":4}\n",
    "model.temp_maq = pyo.Param(model.P,initialize=maq)\n",
    "\n",
    "# Material disponível\n",
    "model.e_material = pyo.Param(initialize=14)\n",
    "\n",
    "#Mão de obra disponivel\n",
    "model.e_mao_obra = pyo.Param(initialize=9)\n",
    "\n",
    "#Tempo Maquinario disponivel\n",
    "model.e_temp_maq = pyo.Param(initialize=56)"
   ]
  },
  {
   "cell_type": "code",
   "execution_count": 14,
   "id": "f149be80",
   "metadata": {},
   "outputs": [],
   "source": [
    "# ------------------------------\n",
    "# Variáveis de Decisão\n",
    "# ------------------------------\n",
    "# quantidade da ração tobi e max\n",
    "model.x = pyo.Var(model.P,domain=pyo.NonNegativeIntegers)"
   ]
  },
  {
   "cell_type": "code",
   "execution_count": 15,
   "id": "f050ffd9",
   "metadata": {},
   "outputs": [],
   "source": [
    "# ------------------------------\n",
    "# Função Objetivo\n",
    "# ------------------------------\n",
    "def objective_rule(model):\n",
    "    # Lucro por produto\n",
    "    valor_pacote = sum(\n",
    "        model.x[i] * model.lucro[i]\n",
    "        for i in model.P\n",
    "    )\n",
    "\n",
    "    return valor_pacote\n",
    "\n",
    "\n",
    "model.obj = pyo.Objective(rule=objective_rule, sense=pyo.maximize)"
   ]
  },
  {
   "cell_type": "code",
   "execution_count": 16,
   "id": "ca578cab",
   "metadata": {},
   "outputs": [],
   "source": [
    "# ------------------------------\n",
    "# Restrições\n",
    "# ------------------------------\n",
    "\n",
    "# 1. Limite Materia\n",
    "def meteria(model):\n",
    "    return sum(model.x[i] * model.mat[i] for i in model.P) <= model.e_material\n",
    "\n",
    "model.re_materia= pyo.Constraint(rule=meteria)\n",
    "\n",
    "# 2. Limite Maõ de Obra\n",
    "def mao_obra(model):\n",
    "    return sum(model.x[i] * model.mao_de_obra[i] for i in model.P) <= model.e_mao_obra\n",
    "\n",
    "model.re_mao_obra = pyo.Constraint(rule=mao_obra)\n",
    "\n",
    "# 3. Tempo maquinario\n",
    "def maquinario(model):\n",
    "    return sum(model.x[i] * model.temp_maq[i] for i in model.P) <= model.e_temp_maq\n",
    "\n",
    "model.re_maq = pyo.Constraint(rule=maquinario)\n"
   ]
  },
  {
   "cell_type": "code",
   "execution_count": 17,
   "id": "cd4a04fa",
   "metadata": {},
   "outputs": [
    {
     "name": "stdout",
     "output_type": "stream",
     "text": [
      "MIP  has 3 rows; 2 cols; 6 nonzeros; 2 integer variables (0 binary)\n",
      "Coefficient ranges:\n",
      "  Matrix [1e+00, 7e+00]\n",
      "  Cost   [5e+00, 6e+00]\n",
      "  Bound  [0e+00, 0e+00]\n",
      "  RHS    [9e+00, 6e+01]\n",
      "Presolving model\n",
      "3 rows, 2 cols, 6 nonzeros  0s\n",
      "3 rows, 2 cols, 6 nonzeros  0s\n",
      "Objective function is integral with scale 1\n",
      "\n",
      "Solving MIP model with:\n",
      "   3 rows\n",
      "   2 cols (0 binary, 2 integer, 0 implied int., 0 continuous)\n",
      "   6 nonzeros\n",
      "\n",
      "Src: B => Branching; C => Central rounding; F => Feasibility pump; H => Heuristic; L => Sub-MIP;\n",
      "     P => Empty MIP; R => Randomized rounding; S => Solve LP; T => Evaluate node; U => Unbounded;\n",
      "     z => Trivial zero; l => Trivial lower; u => Trivial upper; p => Trivial point; X => User solution\n",
      "\n",
      "        Nodes      |    B&B Tree     |            Objective Bounds              |  Dynamic Constraints |       Work      \n",
      "Src  Proc. InQueue |  Leaves   Expl. | BestBound       BestSol              Gap |   Cuts   InLp Confl. | LpIters     Time\n",
      "\n",
      " z       0       0         0   0.00%   inf             -0                 Large        0      0      0         0     0.0s\n",
      " T       0       0         0 100.00%   82              50                64.00%        0      0      0         3     0.0s\n",
      "         1       0         1 100.00%   50              50                 0.00%        0      0      0         3     0.0s\n",
      "\n",
      "Solving report\n",
      "  Status            Optimal\n",
      "  Primal bound      50\n",
      "  Dual bound        50\n",
      "  Gap               0% (tolerance: 0.01%)\n",
      "  P-D integral      0.000116991996765\n",
      "  Solution status   feasible\n",
      "                    50 (objective)\n",
      "                    0 (bound viol.)\n",
      "                    1.7763568394e-15 (int. viol.)\n",
      "                    0 (row viol.)\n",
      "  Timing            0.00 (total)\n",
      "                    0.00 (presolve)\n",
      "                    0.00 (solve)\n",
      "                    0.00 (postsolve)\n",
      "  Max sub-MIP depth 0\n",
      "  Nodes             1\n",
      "  Repair LPs        0 (0 feasible; 0 iterations)\n",
      "  LP iterations     3 (total)\n",
      "                    0 (strong br.)\n",
      "                    0 (separation)\n",
      "                    0 (heuristics)\n",
      "\n",
      "Status do solver: ok\n",
      "Condição de terminação: optimal\n",
      "Valor da Função Objetivo: R$ 50,00\n"
     ]
    }
   ],
   "source": [
    "# ------------------------------\n",
    "# Escrita do Modelo em Arquivo\n",
    "# ------------------------------\n",
    "model.write(\"ex2.lp\", io_options={\"symbolic_solver_labels\": True})\n",
    "\n",
    "# ------------------------------\n",
    "# Resolução\n",
    "# ------------------------------\n",
    "solver = pyo.SolverFactory(\"appsi_highs\")\n",
    "results = solver.solve(model, tee=True)\n",
    "\n",
    "# Exibindo resultados\n",
    "print(\"\\nStatus do solver:\", results.solver.status)\n",
    "print(\"Condição de terminação:\", results.solver.termination_condition)\n",
    "valor_obj = pyo.value(model.obj)\n",
    "formatted = f\"{valor_obj:,.2f}\"\n",
    "formatted = formatted.replace(\",\", \"X\").replace(\".\", \",\").replace(\"X\", \".\")\n",
    "print(\"Valor da Função Objetivo: R$\", formatted)\n",
    "\n"
   ]
  },
  {
   "cell_type": "code",
   "execution_count": 18,
   "id": "fe0dfc80",
   "metadata": {},
   "outputs": [
    {
     "name": "stdout",
     "output_type": "stream",
     "text": [
      "  Quantidade do produto 1 : 4.00\n",
      "  Quantidade do produto 2 : 5.00\n"
     ]
    }
   ],
   "source": [
    "for i in model.P:    \n",
    "    val = pyo.value(model.x[i])\n",
    "    if val is not None and val > 1e-6:\n",
    "        print(f\"  Quantidade do produto {i} : {val:.2f}\")"
   ]
  }
 ],
 "metadata": {
  "kernelspec": {
   "display_name": "base",
   "language": "python",
   "name": "python3"
  },
  "language_info": {
   "codemirror_mode": {
    "name": "ipython",
    "version": 3
   },
   "file_extension": ".py",
   "mimetype": "text/x-python",
   "name": "python",
   "nbconvert_exporter": "python",
   "pygments_lexer": "ipython3",
   "version": "3.9.12"
  }
 },
 "nbformat": 4,
 "nbformat_minor": 5
}
