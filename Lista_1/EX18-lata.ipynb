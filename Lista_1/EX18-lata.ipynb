{
 "cells": [
  {
   "cell_type": "markdown",
   "id": "2214fda1",
   "metadata": {},
   "source": [
    "# Ex18\n",
    "\n",
    "\n",
    "\n",
    "Considerar a produção das latas que são estampadas em folhas planas de alumínio. Uma lata consiste em um corpo principal e em duas extremidades (topo e base). Existem **4 padrões de estampas possíveis**, que envolvem **2 tamanhos diferentes** de folha de metal, uma com dimenções de 70x75 e outra com 65x105\n",
    "\n",
    "onde,\n",
    "\n",
    "| MATRIZ | Extremidades | Corpo | tamanho|\n",
    "|--------------|------------|-------------|-------------|\n",
    "| **1**     | 3     | 3      | 70x75|\n",
    "| **2**   | 7      | 1      |70x75|\n",
    "| **3**     | 5   | 4     | 65x105 |\n",
    "| **4**     | 9      | 3      |70x75|\n",
    "\n",
    "\n",
    "\n",
    "Considerando que deverão ser fabricadas 5 mil latas, qual a forma mais economica de produzí-las?\n",
    "\n",
    "\n",
    "\n",
    "\n"
   ]
  },
  {
   "cell_type": "markdown",
   "id": "c6677944",
   "metadata": {},
   "source": [
    "## **Variáveis de Decisão**\n",
    "Definição das variáveis:\n",
    "- $x_j$ : Número de folhas estampadas utilizando a matriz $j$, onde $j \\in \\{1, 2, 3, 4\\}$.\n",
    "\n",
    "## **Função Objetivo**\n",
    "Minimizar o número total de folhas de alumínio utilizadas:\n",
    "\n",
    "$$\n",
    "\\text{Minimize } Z = x_1 + x_2 + x_3 + x_4\n",
    "$$\n",
    "\n",
    "## **Restrições**\n",
    "\n",
    "### **1. Produção mínima de extremidades**\n",
    "Cada lata necessita de **2 extremidades** (topo e base), então para 5.000 latas, são necessários **10.000 extremidades**:\n",
    "\n",
    "$$\n",
    "3x_1 + 7x_2 + 5x_3 + 9x_4 \\geq 10000\n",
    "$$\n",
    "\n",
    "### **2. Produção mínima de corpos**\n",
    "Cada lata necessita de **1 corpo**, então para 5.000 latas, são necessários **5.000 corpos**:\n",
    "\n",
    "$$\n",
    "3x_1 + 1x_2 + 4x_3 + 3x_4 \\geq 5000\n",
    "$$\n",
    "\n",
    "### **3. Restrição de Não-Negatividade**\n",
    "As quantidades de folhas utilizadas devem ser **não negativas**:\n",
    "\n",
    "$$\n",
    "x_j \\geq 0, \\quad \\forall j \\in \\{1, 2, 3, 4\\}\n",
    "$$\n",
    "\n",
    "\n"
   ]
  },
  {
   "cell_type": "code",
   "execution_count": 15,
   "id": "d7277200",
   "metadata": {},
   "outputs": [],
   "source": [
    "import pyomo.environ as pyo"
   ]
  },
  {
   "cell_type": "code",
   "execution_count": 16,
   "id": "1f525600",
   "metadata": {},
   "outputs": [],
   "source": [
    "# Criação do modelo\n",
    "model = pyo.ConcreteModel()"
   ]
  },
  {
   "cell_type": "code",
   "execution_count": 17,
   "id": "44e0ee7c",
   "metadata": {},
   "outputs": [],
   "source": [
    "\n",
    "# Conjuntos\n",
    "model.Matrizes = pyo.Set(initialize=[1, 2, 3, 4])\n"
   ]
  },
  {
   "cell_type": "code",
   "execution_count": 18,
   "id": "419f911a",
   "metadata": {},
   "outputs": [],
   "source": [
    "# Coeficientes de produção de extremidades por matriz\n",
    "coef_extremidades = {1: 3, 2: 7, 3: 5, 4: 9}\n",
    "model.coef_ext = pyo.Param(model.Matrizes, initialize=coef_extremidades)\n",
    "\n",
    "# Coeficientes de produção de corpos por matriz\n",
    "coef_corpos = {1: 3, 2: 1, 3: 4, 4: 3}\n",
    "model.coef_corpo = pyo.Param(model.Matrizes, initialize=coef_corpos)\n",
    "\n",
    "# Demanda mínima\n",
    "demanda_extremidades = 10000\n",
    "demanda_corpos = 5000"
   ]
  },
  {
   "cell_type": "code",
   "execution_count": 19,
   "id": "1e0b7dd4",
   "metadata": {},
   "outputs": [],
   "source": [
    "\n",
    "# ------------------------------\n",
    "# Variáveis de Decisão\n",
    "# ------------------------------\n",
    "\n",
    "model.x = pyo.Var(model.Matrizes, domain=pyo.NonNegativeIntegers)"
   ]
  },
  {
   "cell_type": "code",
   "execution_count": 20,
   "id": "7b310a78",
   "metadata": {},
   "outputs": [],
   "source": [
    "\n",
    "# ------------------------------\n",
    "# Função Objetivo\n",
    "# ------------------------------\n",
    "def fo(model):\n",
    "    return sum(model.x[j] for j in model.Matrizes)\n",
    "\n",
    "model.objetivo = pyo.Objective(rule=fo, sense=pyo.minimize)\n"
   ]
  },
  {
   "cell_type": "code",
   "execution_count": 21,
   "id": "b0f21da0",
   "metadata": {},
   "outputs": [],
   "source": [
    "# ------------------------------\n",
    "# Restrições\n",
    "# ------------------------------\n",
    "\n",
    "# 1. Produção mínima de extremidades\n",
    "def restricao_extremidades(model):\n",
    "    return sum(model.coef_ext[j] * model.x[j] for j in model.Matrizes) >= demanda_extremidades\n",
    "\n",
    "model.restricao_extremidades = pyo.Constraint(rule=restricao_extremidades)\n",
    "\n",
    "# 2. Produção mínima de corpos\n",
    "def restricao_corpos(model):\n",
    "    return sum(model.coef_corpo[j] * model.x[j] for j in model.Matrizes) >= demanda_corpos\n",
    "\n",
    "model.restricao_corpos = pyo.Constraint(rule=restricao_corpos)"
   ]
  },
  {
   "cell_type": "code",
   "execution_count": 22,
   "id": "8d97eb7a",
   "metadata": {},
   "outputs": [
    {
     "data": {
      "text/plain": [
       "('ex18.lp', 2379369791344)"
      ]
     },
     "execution_count": 22,
     "metadata": {},
     "output_type": "execute_result"
    }
   ],
   "source": [
    "# ------------------------------\n",
    "# Escrita do Modelo em Arquivo\n",
    "# ------------------------------\n",
    "model.write(\"ex18.lp\", io_options={\"symbolic_solver_labels\": True})"
   ]
  },
  {
   "cell_type": "code",
   "execution_count": 24,
   "id": "9e5c39a6",
   "metadata": {},
   "outputs": [
    {
     "name": "stdout",
     "output_type": "stream",
     "text": [
      "MIP  has 2 rows; 4 cols; 8 nonzeros; 4 integer variables (0 binary)\n",
      "Coefficient ranges:\n",
      "  Matrix [1e+00, 9e+00]\n",
      "  Cost   [1e+00, 1e+00]\n",
      "  Bound  [0e+00, 0e+00]\n",
      "  RHS    [5e+03, 1e+04]\n",
      "Presolving model\n",
      "2 rows, 4 cols, 8 nonzeros  0s\n",
      "2 rows, 4 cols, 8 nonzeros  0s\n",
      "Objective function is integral with scale 1\n",
      "\n",
      "Solving MIP model with:\n",
      "   2 rows\n",
      "   4 cols (0 binary, 4 integer, 0 implied int., 0 continuous)\n",
      "   8 nonzeros\n",
      "\n",
      "Src: B => Branching; C => Central rounding; F => Feasibility pump; H => Heuristic; L => Sub-MIP;\n",
      "     P => Empty MIP; R => Randomized rounding; S => Solve LP; T => Evaluate node; U => Unbounded;\n",
      "     z => Trivial zero; l => Trivial lower; u => Trivial upper; p => Trivial point; X => User solution\n",
      "\n",
      "        Nodes      |    B&B Tree     |            Objective Bounds              |  Dynamic Constraints |       Work      \n",
      "Src  Proc. InQueue |  Leaves   Expl. | BestBound       BestSol              Gap |   Cuts   InLp Confl. | LpIters     Time\n",
      "\n",
      "         0       0         0   0.00%   0               inf                  inf        0      0      0         0     0.0s\n",
      " S       0       0         0   0.00%   0               1430             100.00%        0      0      0         0     0.0s\n",
      " R       0       0         0 100.00%   1428.571429     1429               0.03%        0      0      0         2     0.0s\n",
      "         1       0         1 100.00%   1429            1429               0.00%        0      0      0         2     0.0s\n",
      "\n",
      "Solving report\n",
      "  Status            Optimal\n",
      "  Primal bound      1429\n",
      "  Dual bound        1429\n",
      "  Gap               0% (tolerance: 0.01%)\n",
      "  P-D integral      0.000122392704039\n",
      "  Solution status   feasible\n",
      "                    1429 (objective)\n",
      "                    0 (bound viol.)\n",
      "                    0 (int. viol.)\n",
      "                    0 (row viol.)\n",
      "  Timing            0.00 (total)\n",
      "                    0.00 (presolve)\n",
      "                    0.00 (solve)\n",
      "                    0.00 (postsolve)\n",
      "  Max sub-MIP depth 0\n",
      "  Nodes             1\n",
      "  Repair LPs        0 (0 feasible; 0 iterations)\n",
      "  LP iterations     2 (total)\n",
      "                    0 (strong br.)\n",
      "                    0 (separation)\n",
      "                    0 (heuristics)\n",
      "\n",
      "Status do solver: ok\n",
      "Condição de terminação: optimal\n",
      "Valor da Função Objetivo:  1.429,00\n"
     ]
    }
   ],
   "source": [
    "# ------------------------------\n",
    "# Resolução\n",
    "# ------------------------------\n",
    "solver = pyo.SolverFactory(\"appsi_highs\")\n",
    "results = solver.solve(model, tee=True)\n",
    "\n",
    "# Exibindo resultados\n",
    "print(\"\\nStatus do solver:\", results.solver.status)\n",
    "print(\"Condição de terminação:\", results.solver.termination_condition)\n",
    "valor_obj = pyo.value(model.objetivo)\n",
    "formatted = f\"{valor_obj:,.2f}\"\n",
    "formatted = formatted.replace(\",\", \"X\").replace(\".\", \",\").replace(\"X\", \".\")\n",
    "print(\"Valor da Função Objetivo: \", formatted)"
   ]
  },
  {
   "cell_type": "code",
   "execution_count": 25,
   "id": "49b4fdd1",
   "metadata": {},
   "outputs": [
    {
     "name": "stdout",
     "output_type": "stream",
     "text": [
      "Matriz 1: 0.00 chapas\n",
      "Matriz 2: 0.00 chapas\n",
      "Matriz 3: 714.00 chapas\n",
      "Matriz 4: 715.00 chapas\n"
     ]
    }
   ],
   "source": [
    "\n",
    "for j in model.Matrizes:\n",
    "    valor = pyo.value(model.x[j])\n",
    "    print(f\"Matriz {j}: {valor:.2f} chapas\")"
   ]
  }
 ],
 "metadata": {
  "kernelspec": {
   "display_name": "base",
   "language": "python",
   "name": "python3"
  },
  "language_info": {
   "codemirror_mode": {
    "name": "ipython",
    "version": 3
   },
   "file_extension": ".py",
   "mimetype": "text/x-python",
   "name": "python",
   "nbconvert_exporter": "python",
   "pygments_lexer": "ipython3",
   "version": "3.9.12"
  }
 },
 "nbformat": 4,
 "nbformat_minor": 5
}
