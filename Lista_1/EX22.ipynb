{
 "cells": [
  {
   "cell_type": "markdown",
   "id": "2214fda1",
   "metadata": {},
   "source": [
    "# Ex22\n",
    "\n",
    "\n",
    "\n",
    "A diretora de um pessoal, elis, da companhia Aérea Boa Viagem deve decidir quantas novas aeromoças contratar e teinar nos próximos seis meses. As necessidades, expressas pelo núemero de aeromoças contratar e treinar nos próximos seis meses. As necessidades, expressas pelo número de aeromolas-horas-de-vôo necessários, são 8000 em janeiro; 9000 fevereiro; 7000 em março;10000 em abril; 9000 em maio e 11000 em junho.\n",
    "\n",
    "Leva  um mês de treinamento antes que uma aeromoça possa ser posta num vôo regular, assim. uma garota deve ser contratada pelo menos um mês antes que ela seja realmente necessária. Cada moça treinada requer 100h de supervisão de uma aeromoça durante o mês de treinamento de modo que são diponíveis 100h a menos para serviçoes de vôo por aeromoças regurlares.\n",
    "\n",
    "Cada aeromoça experiente pode trabalhar até 150h num mês, e boa viagem tem 60 aeromoças regulares disponíveis no começo de janeiro. Se o tempo máximo disponível das aeromoças experientes exceder as necessidades de vôo e treinamento de um mês, as garotas regulares trabalham menos que 150h e ninguém é dispensado. No fim de cada mês, aproximadamente10% das aeromoças experientes deixam seus empregos para se casarem ou por outras razões.\n",
    "\n",
    "Uma aero moça experiente custa à companhia $\\$1500$ e uma em treinamento $\\$900$ por mês em salário e outros cargos"
   ]
  },
  {
   "cell_type": "markdown",
   "id": "c6677944",
   "metadata": {},
   "source": [
    "### **Formulação matemática**\n",
    "\n",
    "### **Parametros**\n",
    "  $M$ : Meses (Jan, fev,Mar,Abr,Mai,Jun)\n",
    "\n",
    "  $H_m$: Horas de voo no mes $m \\in M$\n",
    "\n",
    "  $HT$: Horas de treinamento\n",
    "\n",
    "  $HM$: Número máximo de horas de trabalho\n",
    "\n",
    "  $Cx$ : Custo de uma aeromoça experiente\n",
    "\n",
    "  $Cy$ : Custo aeromoça nova\n",
    "\n",
    "### **Variáveis**\n",
    "$x_{m}$ -Número de aeromoças experientes no mes $m \\in M$\n",
    "\n",
    "$y_{m}$ -Número de aeromoças novas no mes $m \\in M$\n",
    "\n",
    "### **Função objetivo**\n",
    "\n",
    "$$\n",
    "\\text{Min} \\quad  \\sum_m CI x_{m} + CJ y_{m}\n",
    "$$\n",
    "\n",
    "### **Restrições**\n",
    "1. Horas de vôo a ser atendida em cada mês, conisiderando os treinamentos\n",
    "$$\\sum_m 150 x_{m} - 100 y_{m}= H_m$$\n",
    "\n",
    "2. Saida de aeromoças experientes, todos os meses temos uma redução de app 10% no quadro de aeromoças regulares. Foram utilizadas restrições de desigualdade para flexibilizar um pouco, uma vez que é **aproximadamente 10%**\n",
    "\n",
    "$$x_{m+1} >= 0.89 * x_{m} + y_{m-1}$$\n",
    "\n",
    "$$x_{m+1} <= 0.91 * x_{m} + y_{m-1}$$\n",
    "\n",
    "3. Mês Jan temos 60 aeromoças experientes\n",
    "\n",
    "$$y_{jan} = 60$$\n",
    "\n",
    "\n",
    "4. Integralidade\n",
    "\n",
    "$$x_{m},y_m \\in Z^+ $$\n",
    "\n"
   ]
  },
  {
   "cell_type": "code",
   "execution_count": 65,
   "id": "d7277200",
   "metadata": {},
   "outputs": [],
   "source": [
    "import pyomo.environ as pyo"
   ]
  },
  {
   "cell_type": "code",
   "execution_count": 66,
   "id": "1f525600",
   "metadata": {},
   "outputs": [],
   "source": [
    "# Criação do modelo\n",
    "model = pyo.ConcreteModel()"
   ]
  },
  {
   "cell_type": "code",
   "execution_count": 67,
   "id": "44e0ee7c",
   "metadata": {},
   "outputs": [],
   "source": [
    "\n",
    "# Conjuntos\n",
    "model.M = pyo.Set(initialize=[0,1,2,3,4,5])\n",
    "\n"
   ]
  },
  {
   "cell_type": "code",
   "execution_count": 68,
   "id": "419f911a",
   "metadata": {},
   "outputs": [],
   "source": [
    "H_m = {0:8000, 1:9000, 2:7000, 3:10000, 4:9000, 5:11000}  # Demanda de horas de voo por mês\n",
    "model.H_m = pyo.Param(model.M, initialize=H_m)\n",
    "Cx = 1500  # Salário de uma aeromoça regular por mês\n",
    "model.Cx = pyo.Param(initialize=Cx)\n",
    "Cy = 900  # Salário de uma aeromoça em treinamento por mês\n",
    "model.Cy = pyo.Param(initialize=Cy)\n",
    "HM = 150  # Horas de trabalho máximas por aeromoça regular por mês\n",
    "model.HM = pyo.Param(initialize=HM)\n",
    "HT = 100  # Horas de supervisão de uma aeromoça em treinamento\n",
    "model.HT = pyo.Param(initialize=HT)\n",
    "n_meses = len(H_m)  # Número de meses\n",
    "model.n_meses = pyo.Param(initialize=n_meses)\n",
    "x_ini = 60  # Aeromoças regulares no mês de janeiro\n",
    "model.x_ini = pyo.Param(initialize=x_ini)"
   ]
  },
  {
   "cell_type": "code",
   "execution_count": 69,
   "id": "1e0b7dd4",
   "metadata": {},
   "outputs": [],
   "source": [
    "\n",
    "# ------------------------------\n",
    "# Variáveis de Decisão\n",
    "# ------------------------------\n",
    "\n",
    "# Número de aeromoças experientes em cada mês\n",
    "model.x = pyo.Var(model.M, domain=pyo.NonNegativeIntegers)\n",
    "\n",
    "# Número de aeromoças em treinamento em cada mês\n",
    "model.y = pyo.Var(model.M, domain=pyo.NonNegativeIntegers)"
   ]
  },
  {
   "cell_type": "code",
   "execution_count": 70,
   "id": "7b310a78",
   "metadata": {},
   "outputs": [],
   "source": [
    "\n",
    "# ------------------------------\n",
    "# Função Objetivo\n",
    "# ------------------------------\n",
    "def fo(model):\n",
    "    return sum(model.Cx * model.x[m] + model.Cy * model.y[m] for m in model.M)\n",
    "\n",
    "model.objetivo = pyo.Objective(rule=fo, sense=pyo.minimize)\n"
   ]
  },
  {
   "cell_type": "code",
   "execution_count": 71,
   "id": "b0f21da0",
   "metadata": {},
   "outputs": [],
   "source": [
    "# ------------------------------\n",
    "# Restrições\n",
    "# ------------------------------\n",
    "# 1. Horas de Voo\n",
    "def restricao_horas_voo(model, m):\n",
    "    return model.HM * model.x[m] - model.HT * model.y[m] >= model.H_m[m]  \n",
    "\n",
    "model.restricao_horas_voo = pyo.Constraint(model.M, rule=restricao_horas_voo)\n",
    "\n",
    "# 2. Redução de aeromoças experientes ao longo dos meses\n",
    "def reducao_inf(model, m):\n",
    "    if m < n_meses-1:  \n",
    "        return model.x[m + 1] >= 0.895 * model.x[m] + model.y[m]\n",
    "    return pyo.Constraint.Skip\n",
    "\n",
    "model.reducao_inf = pyo.Constraint(model.M, rule=reducao_inf)\n",
    "\n",
    "def reducao_sup(model, m):\n",
    "    if m < model.n_meses-1:  \n",
    "        return model.x[m + 1] <= 0.91 * model.x[m] + model.y[m]\n",
    "    return pyo.Constraint.Skip\n",
    "\n",
    "model.reducao_sup = pyo.Constraint(model.M, rule=reducao_sup)\n",
    "\n",
    "# 3. Número de aeromoças experientes no mês de janeiro\n",
    "model.restricao_inicio = pyo.Constraint(expr=model.x[0] == model.x_ini)\n",
    "\n",
    "\n"
   ]
  },
  {
   "cell_type": "code",
   "execution_count": 72,
   "id": "8d97eb7a",
   "metadata": {},
   "outputs": [
    {
     "data": {
      "text/plain": [
       "('ex22.lp', 3156355186944)"
      ]
     },
     "execution_count": 72,
     "metadata": {},
     "output_type": "execute_result"
    }
   ],
   "source": [
    "# ------------------------------\n",
    "# Escrita do Modelo em Arquivo\n",
    "# ------------------------------\n",
    "model.write(\"ex22.lp\", io_options={\"symbolic_solver_labels\": True})"
   ]
  },
  {
   "cell_type": "code",
   "execution_count": 73,
   "id": "9e5c39a6",
   "metadata": {},
   "outputs": [
    {
     "name": "stdout",
     "output_type": "stream",
     "text": [
      "MIP  has 17 rows; 12 cols; 43 nonzeros; 12 integer variables (0 binary)\n",
      "Coefficient ranges:\n",
      "  Matrix [9e-01, 2e+02]\n",
      "  Cost   [9e+02, 2e+03]\n",
      "  Bound  [0e+00, 0e+00]\n",
      "  RHS    [6e+01, 1e+04]\n",
      "Presolving model\n",
      "16 rows, 10 cols, 38 nonzeros  0s\n",
      "12 rows, 9 cols, 32 nonzeros  0s\n",
      "12 rows, 9 cols, 32 nonzeros  0s\n",
      "Objective function is integral with scale 0.00333333\n",
      "\n",
      "Solving MIP model with:\n",
      "   12 rows\n",
      "   9 cols (0 binary, 9 integer, 0 implied int., 0 continuous)\n",
      "   32 nonzeros\n",
      "\n",
      "Src: B => Branching; C => Central rounding; F => Feasibility pump; H => Heuristic; L => Sub-MIP;\n",
      "     P => Empty MIP; R => Randomized rounding; S => Solve LP; T => Evaluate node; U => Unbounded;\n",
      "     z => Trivial zero; l => Trivial lower; u => Trivial upper; p => Trivial point; X => User solution\n",
      "\n",
      "        Nodes      |    B&B Tree     |            Objective Bounds              |  Dynamic Constraints |       Work      \n",
      "Src  Proc. InQueue |  Leaves   Expl. | BestBound       BestSol              Gap |   Cuts   InLp Confl. | LpIters     Time\n",
      "\n",
      "         0       0         0   0.00%   576000          inf                  inf        0      0      0         0     0.0s\n",
      "         0       0         0   0.00%   625594.319708   inf                  inf        0      0      1         8     0.0s\n",
      " R       0       0         0 100.00%   633900          633900             0.00%       25      4      2        16     0.0s\n",
      "         1       0         1 100.00%   633900          633900             0.00%       10      4      2        16     0.0s\n",
      "\n",
      "Solving report\n",
      "  Status            Optimal\n",
      "  Primal bound      633900\n",
      "  Dual bound        633900\n",
      "  Gap               0% (tolerance: 0.01%)\n",
      "  P-D integral      0\n",
      "  Solution status   feasible\n",
      "                    633900 (objective)\n",
      "                    0 (bound viol.)\n",
      "                    0 (int. viol.)\n",
      "                    0 (row viol.)\n",
      "  Timing            0.01 (total)\n",
      "                    0.00 (presolve)\n",
      "                    0.00 (solve)\n",
      "                    0.00 (postsolve)\n",
      "  Max sub-MIP depth 0\n",
      "  Nodes             1\n",
      "  Repair LPs        0 (0 feasible; 0 iterations)\n",
      "  LP iterations     16 (total)\n",
      "                    0 (strong br.)\n",
      "                    7 (separation)\n",
      "                    0 (heuristics)\n",
      "\n",
      "Status do solver: ok\n",
      "Condição de terminação: optimal\n",
      "Valor da Função Objetivo: R$ 633.900,00\n"
     ]
    }
   ],
   "source": [
    "# ------------------------------\n",
    "# Resolução\n",
    "# ------------------------------\n",
    "solver = pyo.SolverFactory(\"appsi_highs\")\n",
    "results = solver.solve(model, tee=True)\n",
    "\n",
    "# Exibindo resultados\n",
    "print(\"\\nStatus do solver:\", results.solver.status)\n",
    "print(\"Condição de terminação:\", results.solver.termination_condition)\n",
    "valor_obj = pyo.value(model.objetivo)\n",
    "formatted = f\"{valor_obj:,.2f}\"\n",
    "formatted = formatted.replace(\",\", \"X\").replace(\".\", \",\").replace(\"X\", \".\")\n",
    "print(\"Valor da Função Objetivo: R$\", formatted)"
   ]
  },
  {
   "cell_type": "code",
   "execution_count": 74,
   "id": "0a8a97de",
   "metadata": {},
   "outputs": [
    {
     "name": "stdout",
     "output_type": "stream",
     "text": [
      "\n",
      "Número de aeromoças experientes em cada mês:\n",
      "Mês 1: 60\n",
      "Mês 2: 62\n",
      "Mês 3: 59\n",
      "Mês 4: 71\n",
      "Mês 5: 69\n",
      "Mês 6: 74\n",
      "\n",
      "Número de aeromoças em treinamento em cada mês:\n",
      "Mês 1: 8\n",
      "Mês 2: 3\n",
      "Mês 3: 18\n",
      "Mês 4: 5\n",
      "Mês 5: 12\n",
      "Mês 6: 0\n"
     ]
    }
   ],
   "source": [
    "\n",
    "print(\"\\nNúmero de aeromoças experientes em cada mês:\")\n",
    "for m in model.M:\n",
    "    print(f\"Mês {m + 1}: {model.x[m].value:.0f}\")\n",
    "\n",
    "print(\"\\nNúmero de aeromoças em treinamento em cada mês:\")\n",
    "for m in model.M:\n",
    "    print(f\"Mês {m + 1}: {model.y[m].value:.0f}\")"
   ]
  }
 ],
 "metadata": {
  "kernelspec": {
   "display_name": "base",
   "language": "python",
   "name": "python3"
  },
  "language_info": {
   "codemirror_mode": {
    "name": "ipython",
    "version": 3
   },
   "file_extension": ".py",
   "mimetype": "text/x-python",
   "name": "python",
   "nbconvert_exporter": "python",
   "pygments_lexer": "ipython3",
   "version": "3.9.12"
  }
 },
 "nbformat": 4,
 "nbformat_minor": 5
}
