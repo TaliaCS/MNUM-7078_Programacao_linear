{
 "cells": [
  {
   "cell_type": "markdown",
   "id": "2214fda1",
   "metadata": {},
   "source": [
    "### Exercício 4\n",
    "\n",
    "A empresa americana KMX do setor automobilístico lançará três novos modelos de carros no próximo ano: modelo Arlington, modelo Marilandy e modelo Gristedes. A produção de cada um dos modelos passa pelos seguintes processos: injeção, fundição, usinagem, estamparia e acabamento. Os tempos médios de operação (minutos) de uma unidade de cada componente encontram-se na Tabela 2.15. Cada uma das operações é 100% automatizada. A quantidade de máquinas disponíveis para cada setor também se encontra na mesma tabela. É importante mencionar que cada máquina trabalha 16 horas por dia, de segunda a sexta-feira. O lucro unitário, além do potencial mínimo de vendas por semana, de cada modelo de automóvel, de acordo com o setor comercial, está especificado na Tabela 2.16. Supondo que 100% dos modelos serão vendidos, formule o problema de programação linear que busca determinar as quantidades de automóveis de cada modelo a serem fabricados, a fim de maximizar o lucro líquido semanal.\n",
    "\n",
    "#### Tabela 2.15 Tempo médio de operação (minutos) de uma unidade de cada componente e total de máquinas disponíveis\n",
    "\n",
    "| Setor      | Arlington | Marilandy | Gristedes | Máquinas disponíveis |\n",
    "|------------|-----------|-----------|-----------|----------------------|\n",
    "| Injeção    | 3         | 5         | 4         | 6                    |\n",
    "| Fundição   | 5         | 4         | 3         | 4                    |\n",
    "| Usinagem   | 2         | 5         | 4         | 8                    |\n",
    "| Estamparia | 4         | 3         | 5         | 3                    |\n",
    "| Acabamento | 2         | 4         | 3         | 5                    |\n",
    "\n",
    "#### Tabela 2.16 Lucro unitário e potencial mínimo de vendas semanal por produto\n",
    "\n",
    "| Modelos   | Lucro unitário (US$) | Potencial mín. vendas (unidades/semana) |\n",
    "|-----------|----------------------|-----------------------------------------|\n",
    "| Arlington | 2.500                | 50                                      |\n",
    "| Marilandy | 3.000                | 20                                      |\n",
    "| Gristedes | 2.800                | 30                                      |\n"
   ]
  },
  {
   "cell_type": "markdown",
   "id": "5c00eb5d",
   "metadata": {},
   "source": [
    "###  Modelo Matemático"
   ]
  },
  {
   "cell_type": "markdown",
   "id": "c6677944",
   "metadata": {},
   "source": [
    "### Modelo Formal do Problema\n",
    "\n",
    "#### Índices:\n",
    "- \\( i \\): Modelos de automóveis, onde \\( i \\in \\{ \\text{Arlington}, \\text{Marilandy}, \\text{Gristedes} \\} \\).\n",
    "- \\( j \\): Setores de produção, onde \\( j \\in \\{ \\text{Injeção}, \\text{Fundição}, \\text{Usinagem}, \\text{Estamparia}, \\text{Acabamento} \\} \\).\n",
    "\n",
    "#### Parâmetros:\n",
    "- \\( t_{ij} \\): Tempo médio de operação (em minutos) para produzir uma unidade do modelo \\( i \\) no setor \\( j \\).\n",
    "- \\( m_j \\): Número de máquinas disponíveis no setor \\( j \\).\n",
    "- \\( h \\): Horas de trabalho por dia (16 horas).\n",
    "- \\( d \\): Dias de trabalho por semana (5 dias).\n",
    "- \\( L_i \\): Lucro unitário (em dólares) do modelo \\( i \\).\n",
    "- \\( S_i \\): Potencial mínimo de vendas semanais do modelo \\( i \\).\n",
    "\n",
    "#### Variáveis de Decisão:\n",
    "- \\( x_i \\): Quantidade de automóveis do modelo \\( i \\) a serem fabricados por semana.\n",
    "\n",
    "#### Função Objetivo:\n",
    "Maximizar o lucro líquido semanal:\n",
    "\n",
    "$$\n",
    "Z = \\sum_{i} L_i \\cdot x_i\n",
    "$$\n",
    "\n",
    "#### Restrições:\n",
    "\n",
    "1. **Disponibilidade de máquinas (tempo em minutos):**\n",
    "\n",
    "$$\n",
    "\\sum_{i} t_{ij} \\cdot x_i \\leq m_j \\cdot h \\cdot 60 \\cdot d, \\quad \\forall j\n",
    "$$\n",
    "\n",
    "2. **Potencial mínimo de vendas:**\n",
    "\n",
    "$$\n",
    "x_i \\geq S_i, \\quad \\forall i\n",
    "$$\n",
    "\n",
    "3. **Não negatividade:**\n",
    "\n",
    "$$\n",
    "x_i \\geq 0, \\quad \\forall i\n",
    "$$\n"
   ]
  },
  {
   "cell_type": "code",
   "execution_count": null,
   "id": "d7277200",
   "metadata": {},
   "outputs": [],
   "source": [
    "import pyomo.environ as pyo"
   ]
  },
  {
   "cell_type": "code",
   "execution_count": 2,
   "id": "1f525600",
   "metadata": {},
   "outputs": [],
   "source": [
    "# Criação do modelo\n",
    "model = pyo.ConcreteModel()"
   ]
  },
  {
   "cell_type": "code",
   "execution_count": 3,
   "id": "44e0ee7c",
   "metadata": {},
   "outputs": [],
   "source": [
    "\n",
    "# Conjuntos\n",
    "model.P = pyo.Set(initialize=['Arlington', 'Marilandy', 'Gristedes'])  # Modelos de carros\n",
    "model.S = pyo.Set(initialize=['Injecao', 'Fundicao', 'Usinagem', 'Estamparia', 'Acabamento'])  # Setores"
   ]
  },
  {
   "cell_type": "code",
   "execution_count": 4,
   "id": "419f911a",
   "metadata": {},
   "outputs": [],
   "source": [
    "# ------------------------------\n",
    "# Parâmetros\n",
    "# ------------------------------\n",
    "lucro = {'Arlington': 2500, 'Marilandy': 3000, 'Gristedes': 2800}\n",
    "model.lucro = pyo.Param(model.P,initialize=lucro)\n",
    "\n",
    "demanda_min = {'Arlington': 50, 'Marilandy': 30, 'Gristedes': 30}\n",
    "model.demanda_min = pyo.Param(model.P,initialize=demanda_min)\n",
    "\n",
    "tempo_operacao = {\n",
    "    ('Injecao', 'Arlington'): 3, ('Injecao', 'Marilandy'): 4, ('Injecao', 'Gristedes'): 3,\n",
    "    ('Fundicao', 'Arlington'): 5, ('Fundicao', 'Marilandy'): 5, ('Fundicao', 'Gristedes'): 4,\n",
    "    ('Usinagem', 'Arlington'): 2, ('Usinagem', 'Marilandy'): 4, ('Usinagem', 'Gristedes'): 4,\n",
    "    ('Estamparia', 'Arlington'): 4, ('Estamparia', 'Marilandy'): 5, ('Estamparia', 'Gristedes'): 5,\n",
    "    ('Acabamento', 'Arlington'): 2, ('Acabamento', 'Marilandy'): 3, ('Acabamento', 'Gristedes'): 3\n",
    "}\n",
    "model.tempo_operacao = pyo.Param(model.S, model.P, initialize=tempo_operacao)\n",
    "\n",
    "maquinas_disponiveis = {'Injecao': 6, 'Fundicao': 8, 'Usinagem': 5, 'Estamparia': 8, 'Acabamento': 5}\n",
    "model.maquinas_disponiveis = pyo.Param(model.S, initialize=maquinas_disponiveis)\n",
    "\n",
    "tempo_semanal_por_maquina = 4800  # minutos por semana\n",
    "model.tempo_semanal_por_maquina = pyo.Param(initialize=tempo_semanal_por_maquina)\n"
   ]
  },
  {
   "cell_type": "code",
   "execution_count": 5,
   "id": "1e0b7dd4",
   "metadata": {},
   "outputs": [],
   "source": [
    "\n",
    "# ------------------------------\n",
    "# Variáveis de Decisão\n",
    "# ------------------------------\n",
    "model.x = pyo.Var(model.P, domain=pyo.NonNegativeReals)  # Quantidade produzida de cada modelo\n"
   ]
  },
  {
   "cell_type": "code",
   "execution_count": 6,
   "id": "7b310a78",
   "metadata": {},
   "outputs": [],
   "source": [
    "\n",
    "# ------------------------------\n",
    "# Função Objetivo\n",
    "# ------------------------------\n",
    "def lucro_total(model):\n",
    "    return sum(lucro[j] * model.x[j] for j in model.P)\n",
    "model.objetivo = pyo.Objective(rule=lucro_total, sense=pyo.maximize)\n"
   ]
  },
  {
   "cell_type": "code",
   "execution_count": 7,
   "id": "b0f21da0",
   "metadata": {},
   "outputs": [],
   "source": [
    "# ------------------------------\n",
    "# Restrições\n",
    "# ------------------------------\n",
    "\n",
    "\n",
    "# 1. Restrições de capacidade por setor\n",
    "def restricao_capacidade(model, i):\n",
    "    return sum(tempo_operacao[i, j] * model.x[j] for j in model.P) <= maquinas_disponiveis[i] * tempo_semanal_por_maquina\n",
    "model.capacidade = pyo.Constraint(model.S, rule=restricao_capacidade)\n",
    "\n",
    "# 2. Restrições de demanda mínima\n",
    "def restricao_demanda(model, j):\n",
    "    return model.x[j] >= demanda_min[j]\n",
    "model.demanda = pyo.Constraint(model.P, rule=restricao_demanda)"
   ]
  },
  {
   "cell_type": "code",
   "execution_count": 8,
   "id": "8d97eb7a",
   "metadata": {},
   "outputs": [
    {
     "data": {
      "text/plain": [
       "('ex4.lp', 2304139912576)"
      ]
     },
     "execution_count": 8,
     "metadata": {},
     "output_type": "execute_result"
    }
   ],
   "source": [
    "# ------------------------------\n",
    "# Escrita do Modelo em Arquivo\n",
    "# ------------------------------\n",
    "model.write(\"ex4.lp\", io_options={\"symbolic_solver_labels\": True})"
   ]
  },
  {
   "cell_type": "code",
   "execution_count": 9,
   "id": "9e5c39a6",
   "metadata": {},
   "outputs": [
    {
     "name": "stdout",
     "output_type": "stream",
     "text": [
      "LP   has 8 rows; 3 cols; 18 nonzeros\n",
      "Coefficient ranges:\n",
      "  Matrix [1e+00, 5e+00]\n",
      "  Cost   [2e+03, 3e+03]\n",
      "  Bound  [0e+00, 0e+00]\n",
      "  RHS    [3e+01, 4e+04]\n",
      "Presolving model\n",
      "5 rows, 3 cols, 15 nonzeros  0s\n",
      "5 rows, 3 cols, 15 nonzeros  0s\n",
      "Presolve : Reductions: rows 5(-3); columns 3(-0); elements 15(-3)\n",
      "Solving the presolved LP\n",
      "Using EKK dual simplex solver - serial\n",
      "  Iteration        Objective     Infeasibilities num(sum)\n",
      "          0    -8.2999936572e+03 Ph1: 5(56); Du: 3(8299.99) 0s\n",
      "          2    -2.2075000000e+07 Pr: 0(0) 0s\n",
      "Solving the original LP from the solution after postsolve\n",
      "Model status        : Optimal\n",
      "Simplex   iterations: 2\n",
      "Objective value     :  2.2075000000e+07\n",
      "Relative P-D gap    :  0.0000000000e+00\n",
      "HiGHS run time      :          0.00\n",
      "\n",
      "Status do solver: ok\n",
      "Condição de terminação: optimal\n",
      "Valor da Função Objetivo: R$ 22.075.000,00\n"
     ]
    }
   ],
   "source": [
    "# ------------------------------\n",
    "# Resolução\n",
    "# ------------------------------\n",
    "solver = pyo.SolverFactory(\"appsi_highs\")\n",
    "results = solver.solve(model, tee=True)\n",
    "\n",
    "# Exibindo resultados\n",
    "print(\"\\nStatus do solver:\", results.solver.status)\n",
    "print(\"Condição de terminação:\", results.solver.termination_condition)\n",
    "valor_obj = pyo.value(model.objetivo)\n",
    "formatted = f\"{valor_obj:,.2f}\"\n",
    "formatted = formatted.replace(\",\", \"X\").replace(\".\", \",\").replace(\"X\", \".\")\n",
    "print(\"Valor da Função Objetivo: R$\", formatted)\n",
    "\n"
   ]
  },
  {
   "cell_type": "code",
   "execution_count": 10,
   "id": "fe0dfc80",
   "metadata": {},
   "outputs": [
    {
     "name": "stdout",
     "output_type": "stream",
     "text": [
      "  Quantidade do produto Arlington : 4790.00\n",
      "  Quantidade do produto Marilandy : 30.00\n",
      "  Quantidade do produto Gristedes : 3575.00\n"
     ]
    }
   ],
   "source": [
    "for i in model.P:    \n",
    "    val = pyo.value(model.x[i])\n",
    "    if val is not None and val > 1e-6:\n",
    "        print(f\"  Quantidade do produto {i} : {val:.2f}\")"
   ]
  }
 ],
 "metadata": {
  "kernelspec": {
   "display_name": "base",
   "language": "python",
   "name": "python3"
  },
  "language_info": {
   "codemirror_mode": {
    "name": "ipython",
    "version": 3
   },
   "file_extension": ".py",
   "mimetype": "text/x-python",
   "name": "python",
   "nbconvert_exporter": "python",
   "pygments_lexer": "ipython3",
   "version": "3.9.12"
  }
 },
 "nbformat": 4,
 "nbformat_minor": 5
}
