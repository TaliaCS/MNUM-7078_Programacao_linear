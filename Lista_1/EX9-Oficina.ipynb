{
 "cells": [
  {
   "cell_type": "markdown",
   "id": "2214fda1",
   "metadata": {},
   "source": [
    "# Ex9\n",
    "\n",
    "Uma oficina mecânica deseja alocar o tempo ocioso disponível em suas máquinas para a produção de 3 produtos. A tabela abaixo apresenta as informações sobre as necessidades de horas de máquina para produzir uma unidade de cada produto, assim como a disponibilidade das máquinas, o lucro dos produtos e a demanda máxima existente no mercado. O objetivo é determinar o esquema semanal de produção que maximize o lucro.\n",
    "\n",
    "## Dados do Problema\n",
    "\n",
    "| Tipo de máquina         | Produto A | Produto B | Produto C | Tempo disponível (horas por semana) |\n",
    "|--------------------------|-----------|-----------|-----------|-------------------------------------|\n",
    "| Torno                   | 5         | 3         | 5         | 400                                 |\n",
    "| Fresa                   | 8         | 4         | 0         | 500                                 |\n",
    "| Furadeira               | 2         | 5         | 3         | 300                                 |\n",
    "| **Lucro por unidade (R$)** | 20        | 15        | 18        |                                     |\n",
    "| **Demanda mínima semanal** | 40        | 50        | 20        |                                     |\n",
    "\n",
    "\n"
   ]
  },
  {
   "cell_type": "markdown",
   "id": "c6677944",
   "metadata": {},
   "source": [
    "### Modelo\n",
    "\n",
    "#### Índices:\n",
    "- $( i )$: Tipos de produtos, onde $( i \\in \\{ \\text{A}, \\text{B}, \\text{C} \\} )$.\n",
    "- $( j )$: Setores de produção, onde $( j \\in \\{ \\text{torno}, \\text{Fresa}, \\text{Furadeira}\\} )$.\n",
    "\n",
    "#### Parâmetros:\n",
    "- $( t_{ij} )$: Tempo de operação (em horas) para produzir o produto $( i )$ no setor $( j )$.\n",
    "- $( T_j )$: Tempo disponível no operação $( j )$.\n",
    "- $( D_i )$: Demanda mínima do produto $( i )$.\n",
    "- $( L_i )$: Lucro do produto $( i )$.\n",
    "\n",
    "#### Variáveis de Decisão:\n",
    "- $( x_i )$: Quantidade do produto  $( i )$ a serem fabricados.\n",
    "\n",
    "\n",
    "#### Função Objetivo:\n",
    "Maximizar lucro:\n",
    "\n",
    "$$\n",
    "Z = \\sum_{i} L_i \\cdot x_i\n",
    "$$\n",
    "\n",
    "#### Restrições:\n",
    "\n",
    "1. **Tempo disponível :**\n",
    "\n",
    "$$\n",
    "\\sum_{i} t_{ij} \\cdot x_i \\leq T_j , \\quad \\forall j\n",
    "$$\n",
    "\n",
    "2. **Demanda mínima:**\n",
    "\n",
    "$$\n",
    " x_i => D_i , \\quad \\forall i\n",
    "\n",
    "$$\n",
    "\n",
    "3. **Não negatividade:**\n",
    "\n",
    "$$\n",
    "x_i \\geq 0, \\quad \\forall i\n",
    "$$\n"
   ]
  },
  {
   "cell_type": "code",
   "execution_count": 11,
   "id": "d7277200",
   "metadata": {},
   "outputs": [],
   "source": [
    "import pyomo.environ as pyo"
   ]
  },
  {
   "cell_type": "code",
   "execution_count": 12,
   "id": "1f525600",
   "metadata": {},
   "outputs": [],
   "source": [
    "# Criação do modelo\n",
    "model = pyo.ConcreteModel()"
   ]
  },
  {
   "cell_type": "code",
   "execution_count": 13,
   "id": "44e0ee7c",
   "metadata": {},
   "outputs": [],
   "source": [
    "\n",
    "# Conjuntos\n",
    "model.P = pyo.Set(initialize=['A', 'B', 'C'])  \n",
    "model.S = pyo.Set(initialize=['Torno', 'Fresa', 'Furadeira'])  "
   ]
  },
  {
   "cell_type": "code",
   "execution_count": 14,
   "id": "419f911a",
   "metadata": {},
   "outputs": [],
   "source": [
    "# ------------------------------\n",
    "# Parâmetros\n",
    "# ------------------------------\n",
    "C = {'A': 20, 'B': 15, 'C': 18}\n",
    "model.C = pyo.Param(model.P,initialize=C)\n",
    "\n",
    "D = {'A': 40, 'B': 50, 'C': 20}  # Demanda de cada motor\n",
    "model.D = pyo.Param(model.P,initialize=D)\n",
    "\n",
    "tempo_operacao = {\n",
    "    ('A', 'Torno'): 5, ('A', 'Fresa'): 8, ('A', 'Furadeira'): 2,\n",
    "    ('B', 'Torno'): 3, ('B', 'Fresa'): 4, ('B', 'Furadeira'): 5,\n",
    "    ('C', 'Torno'): 5, ('C', 'Fresa'): 0, ('C', 'Furadeira'): 3\n",
    "}\n",
    "model.tempo_operacao = pyo.Param(model.P,model.S, initialize=tempo_operacao)\n",
    "\n",
    "tempo_disponiveis = {'Torno': 400, 'Fresa': 500, 'Furadeira': 300}\n",
    "model.tempo_disponiveis = pyo.Param(model.S, initialize=tempo_disponiveis)\n",
    "\n"
   ]
  },
  {
   "cell_type": "code",
   "execution_count": 15,
   "id": "1e0b7dd4",
   "metadata": {},
   "outputs": [],
   "source": [
    "\n",
    "# ------------------------------\n",
    "# Variáveis de Decisão\n",
    "# ------------------------------\n",
    "model.x = pyo.Var(model.P, domain=pyo.NonNegativeReals) "
   ]
  },
  {
   "cell_type": "code",
   "execution_count": 16,
   "id": "7b310a78",
   "metadata": {},
   "outputs": [],
   "source": [
    "\n",
    "# ------------------------------\n",
    "# Função Objetivo\n",
    "# ------------------------------\n",
    "def fo(model):\n",
    "    return sum(model.C[j] * model.x[j] for j in model.P)\n",
    "model.objetivo = pyo.Objective(rule=fo, sense=pyo.maximize)\n"
   ]
  },
  {
   "cell_type": "code",
   "execution_count": 17,
   "id": "b0f21da0",
   "metadata": {},
   "outputs": [],
   "source": [
    "# ------------------------------\n",
    "# Restrições\n",
    "# ------------------------------\n",
    "\n",
    "\n",
    "# 1. Restrições de capacidade por operação\n",
    "def restricao_capacidade(model, i):\n",
    "    return sum(model.tempo_operacao[j,i] * model.x[j] for j in model.P) <= model.tempo_disponiveis[i]\n",
    "model.capacidade = pyo.Constraint(model.S, rule=restricao_capacidade)\n",
    "\n",
    "# 2. Demanda\n",
    "def restricao_demanda(model, i):\n",
    "    return model.x[i] <= model.D[i]\n",
    "model.restricao_demanda = pyo.Constraint(model.P, rule=restricao_demanda)\n"
   ]
  },
  {
   "cell_type": "code",
   "execution_count": 18,
   "id": "8d97eb7a",
   "metadata": {},
   "outputs": [
    {
     "data": {
      "text/plain": [
       "('ex9.lp', 2643978582000)"
      ]
     },
     "execution_count": 18,
     "metadata": {},
     "output_type": "execute_result"
    }
   ],
   "source": [
    "# ------------------------------\n",
    "# Escrita do Modelo em Arquivo\n",
    "# ------------------------------\n",
    "model.write(\"ex9.lp\", io_options={\"symbolic_solver_labels\": True})"
   ]
  },
  {
   "cell_type": "code",
   "execution_count": 19,
   "id": "9e5c39a6",
   "metadata": {},
   "outputs": [
    {
     "name": "stdout",
     "output_type": "stream",
     "text": [
      "LP   has 6 rows; 3 cols; 11 nonzeros\n",
      "Coefficient ranges:\n",
      "  Matrix [1e+00, 8e+00]\n",
      "  Cost   [2e+01, 2e+01]\n",
      "  Bound  [0e+00, 0e+00]\n",
      "  RHS    [2e+01, 5e+02]\n",
      "Presolving model\n",
      "3 rows, 3 cols, 8 nonzeros  0s\n",
      "3 rows, 3 cols, 8 nonzeros  0s\n",
      "Presolve : Reductions: rows 3(-3); columns 3(-0); elements 8(-3)\n",
      "Solving the presolved LP\n",
      "Using EKK dual simplex solver - serial\n",
      "  Iteration        Objective     Infeasibilities num(sum)\n",
      "          0     0.0000000000e+00 Ph1: 0(0) 0s\n",
      "          1    -1.6400000000e+03 Pr: 0(0) 0s\n",
      "Solving the original LP from the solution after postsolve\n",
      "Model status        : Optimal\n",
      "Simplex   iterations: 1\n",
      "Objective value     :  1.6400000000e+03\n",
      "Relative P-D gap    :  0.0000000000e+00\n",
      "HiGHS run time      :          0.00\n",
      "\n",
      "Status do solver: ok\n",
      "Condição de terminação: optimal\n",
      "Valor da Função Objetivo: R$ 1.640,00\n"
     ]
    }
   ],
   "source": [
    "# ------------------------------\n",
    "# Resolução\n",
    "# ------------------------------\n",
    "solver = pyo.SolverFactory(\"appsi_highs\")\n",
    "results = solver.solve(model, tee=True)\n",
    "\n",
    "# Exibindo resultados\n",
    "print(\"\\nStatus do solver:\", results.solver.status)\n",
    "print(\"Condição de terminação:\", results.solver.termination_condition)\n",
    "valor_obj = pyo.value(model.objetivo)\n",
    "formatted = f\"{valor_obj:,.2f}\"\n",
    "formatted = formatted.replace(\",\", \"X\").replace(\".\", \",\").replace(\"X\", \".\")\n",
    "print(\"Valor da Função Objetivo: R$\", formatted)"
   ]
  },
  {
   "cell_type": "code",
   "execution_count": 20,
   "id": "fe0dfc80",
   "metadata": {},
   "outputs": [
    {
     "name": "stdout",
     "output_type": "stream",
     "text": [
      "Quantidade do produto A produção própria : 40.00\n",
      "Quantidade do produto B produção própria : 32.00\n",
      "Quantidade do produto C produção própria : 20.00\n"
     ]
    }
   ],
   "source": [
    "for i in model.P:    \n",
    "    val = pyo.value(model.x[i])\n",
    "    \n",
    "    print(f\"Quantidade do produto {i} produção própria : {val:.2f}\")\n"
   ]
  }
 ],
 "metadata": {
  "kernelspec": {
   "display_name": "base",
   "language": "python",
   "name": "python3"
  },
  "language_info": {
   "codemirror_mode": {
    "name": "ipython",
    "version": 3
   },
   "file_extension": ".py",
   "mimetype": "text/x-python",
   "name": "python",
   "nbconvert_exporter": "python",
   "pygments_lexer": "ipython3",
   "version": "3.9.12"
  }
 },
 "nbformat": 4,
 "nbformat_minor": 5
}
