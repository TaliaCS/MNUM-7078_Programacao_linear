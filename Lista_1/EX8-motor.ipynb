{
 "cells": [
  {
   "cell_type": "markdown",
   "id": "2214fda1",
   "metadata": {},
   "source": [
    "# EX8\n",
    "\n",
    "A **LCL Motores Ltda.**, uma fábrica de motores especiais, recebeu recentemente **R$ 900.000,00** em pedidos de seus três tipos de motores. Cada motor necessita de determinado número de horas de trabalho no setor de montagem e acabamento. A LCL pode terceirizar parte da sua produção. A tabela a seguir resume esses dados. A fábrica deseja determinar quantos motores ela deve produzir internamente e quantos devem ser produzidos de forma terceirizada para atender à demanda de pedidos.\n",
    "\n",
    "## Dados do Problema\n",
    "\n",
    "| Modelo              | 1        | 2        | 3        | **Total**   |\n",
    "|---------------------|----------|----------|----------|-------------|\n",
    "| **Demanda**         | 3000 unid. | 2500 unid. | 500 unid. | 6000 unid.  |\n",
    "| **Montagem**        | 1 h/unid. | 2 h/unid. | 0,5 h/unid. | 6000 h      |\n",
    "| **Acabamento**      | 2,5 h/unid. | 1 h/unid. | 4 h/unid. | 10000 h     |\n",
    "| **Custo de Produção** | R$ 50,00 | R$ 90,00 | R$ 120,00 |             |\n",
    "| **Custo Terceirizado** | R$ 65,00 | R$ 92,00 | R$ 140,00 |             |\n",
    "\n",
    "## Objetivo\n",
    "Determinar a quantidade de motores a serem produzidos internamente e terceirizados para atender a todos os pedidos, minimizando os custos de produção e terceirização.\n",
    "\n",
    "---\n"
   ]
  },
  {
   "cell_type": "markdown",
   "id": "5c00eb5d",
   "metadata": {},
   "source": [
    "###  Modelo Matemático"
   ]
  },
  {
   "cell_type": "markdown",
   "id": "c6677944",
   "metadata": {},
   "source": [
    "### Modelo Formal do Problema\n",
    "\n",
    "#### Índices:\n",
    "- $( i )$: Modelo motores, onde $( i \\in \\{ \\text{1}, \\text{2}, \\text{3} \\} )$.\n",
    "- $( j )$: Setores de produção, onde $( j \\in \\{ \\text{Montagem}, \\text{Acabamento}\\} )$.\n",
    "\n",
    "#### Parâmetros:\n",
    "- $( t_{ij} )$: Tempo médio de operação (em horas) para produzir um motor do modelo $( i )$ no setor $( j )$.\n",
    "- $( T_j )$: Tempo disponível no operação $( j )$.\n",
    "- $( C_i )$: Custo unitário do tipo $( i )$ produção própria.\n",
    "- $( CT_i )$: Custo unitário do tipo $( i )$ produção tercerizada.\n",
    "- $( D_i )$: Demanda do motor do tipo $( i )$.\n",
    "\n",
    "\n",
    "#### Variáveis de Decisão:\n",
    "- $( x_i )$: Quantidade de motor do tipo $( i )$ a serem fabricados por produção própria.\n",
    "- $( y_i )$: Quantidade de motor do tipo $( i )$ a serem fabricados por produção terceira.\n",
    "\n",
    "#### Função Objetivo:\n",
    "Minimizar custo:\n",
    "\n",
    "$$\n",
    "Z = \\sum_{i} C_i \\cdot x_i + CT_i \\cdot y_i\n",
    "$$\n",
    "\n",
    "#### Restrições:\n",
    "\n",
    "1. **Tempo disponível :**\n",
    "\n",
    "$$\n",
    "\\sum_{i} t_{ij} \\cdot x_i \\leq T_j , \\quad \\forall j\n",
    "$$\n",
    "\n",
    "2. **Atendimento a Demanda :**\n",
    "\n",
    "$$\n",
    " x_i + y_i = D_i , \\quad \\forall i\n",
    "$$\n",
    "\n",
    "3. **Não negatividade:**\n",
    "\n",
    "$$\n",
    "x_i \\geq 0, \\quad \\forall i\n",
    "$$\n"
   ]
  },
  {
   "cell_type": "code",
   "execution_count": 18,
   "id": "d7277200",
   "metadata": {},
   "outputs": [],
   "source": [
    "import pyomo.environ as pyo"
   ]
  },
  {
   "cell_type": "code",
   "execution_count": 19,
   "id": "1f525600",
   "metadata": {},
   "outputs": [],
   "source": [
    "# Criação do modelo\n",
    "model = pyo.ConcreteModel()"
   ]
  },
  {
   "cell_type": "code",
   "execution_count": 20,
   "id": "44e0ee7c",
   "metadata": {},
   "outputs": [],
   "source": [
    "\n",
    "# Conjuntos\n",
    "model.P = pyo.Set(initialize=[1, 2, 3])  \n",
    "model.S = pyo.Set(initialize=['Montagem', 'Acabamento'])  "
   ]
  },
  {
   "cell_type": "code",
   "execution_count": 21,
   "id": "419f911a",
   "metadata": {},
   "outputs": [],
   "source": [
    "# ------------------------------\n",
    "# Parâmetros\n",
    "# ------------------------------\n",
    "C = {1: 50, 2: 90, 3: 120}\n",
    "model.C = pyo.Param(model.P,initialize=C)\n",
    "\n",
    "CT = {1: 65, 2: 92, 3: 140}  # Custo unitário produção terceirizada\n",
    "model.CT = pyo.Param(model.P,initialize=CT)\n",
    "\n",
    "D = {1: 3000, 2: 2500, 3: 500}  # Demanda de cada motor\n",
    "model.D = pyo.Param(model.P,initialize=D)\n",
    "\n",
    "tempo_operacao = {(1, 'Montagem'): 1, (1, 'Acabamento'): 2.5,\n",
    "     (2, 'Montagem'): 2, (2, 'Acabamento'): 1,\n",
    "     (3, 'Montagem'): 0.5, (3, 'Acabamento'): 4}\n",
    "model.tempo_operacao = pyo.Param(model.P,model.S, initialize=tempo_operacao)\n",
    "\n",
    "tempo_disponiveis = {'Montagem': 6000, 'Acabamento': 10000}\n",
    "model.tempo_disponiveis = pyo.Param(model.S, initialize=tempo_disponiveis)\n",
    "\n"
   ]
  },
  {
   "cell_type": "code",
   "execution_count": 22,
   "id": "1e0b7dd4",
   "metadata": {},
   "outputs": [],
   "source": [
    "\n",
    "# ------------------------------\n",
    "# Variáveis de Decisão\n",
    "# ------------------------------\n",
    "model.x = pyo.Var(model.P, domain=pyo.NonNegativeReals) \n",
    "model.y = pyo.Var(model.P, domain=pyo.NonNegativeReals) "
   ]
  },
  {
   "cell_type": "code",
   "execution_count": 23,
   "id": "7b310a78",
   "metadata": {},
   "outputs": [],
   "source": [
    "\n",
    "# ------------------------------\n",
    "# Função Objetivo\n",
    "# ------------------------------\n",
    "def fo(model):\n",
    "    return sum(model.C[j] * model.x[j] + model.CT[j] * model.y[j] for j in model.P)\n",
    "model.objetivo = pyo.Objective(rule=fo, sense=pyo.minimize)\n"
   ]
  },
  {
   "cell_type": "code",
   "execution_count": 24,
   "id": "b0f21da0",
   "metadata": {},
   "outputs": [
    {
     "name": "stdout",
     "output_type": "stream",
     "text": [
      "WARNING: Implicitly replacing the Component attribute capacidade (type=<class\n",
      "'pyomo.core.base.constraint.IndexedConstraint'>) on block unknown with a new\n",
      "Component (type=<class 'pyomo.core.base.constraint.IndexedConstraint'>). This\n",
      "is usually indicative of a modelling error. To avoid this warning, use\n",
      "block.del_component() and block.add_component().\n"
     ]
    }
   ],
   "source": [
    "# ------------------------------\n",
    "# Restrições\n",
    "# ------------------------------\n",
    "\n",
    "\n",
    "# 1. Restrições de capacidade por operação\n",
    "def restricao_capacidade(model, i):\n",
    "    return sum(model.tempo_operacao[j,i] * model.x[j] for j in model.P) <= model.tempo_disponiveis[i]\n",
    "model.capacidade = pyo.Constraint(model.S, rule=restricao_capacidade)\n",
    "\n",
    "# 2. Demanda\n",
    "def restricao_demanda(model, i):\n",
    "    return model.x[i]+model.y[i] == model.D[i]\n",
    "model.capacidade = pyo.Constraint(model.P, rule=restricao_demanda)\n"
   ]
  },
  {
   "cell_type": "code",
   "execution_count": 25,
   "id": "8d97eb7a",
   "metadata": {},
   "outputs": [
    {
     "data": {
      "text/plain": [
       "('ex8.lp', 2443093637344)"
      ]
     },
     "execution_count": 25,
     "metadata": {},
     "output_type": "execute_result"
    }
   ],
   "source": [
    "# ------------------------------\n",
    "# Escrita do Modelo em Arquivo\n",
    "# ------------------------------\n",
    "model.write(\"ex8.lp\", io_options={\"symbolic_solver_labels\": True})"
   ]
  },
  {
   "cell_type": "code",
   "execution_count": null,
   "id": "9e5c39a6",
   "metadata": {},
   "outputs": [
    {
     "name": "stdout",
     "output_type": "stream",
     "text": [
      "LP   has 3 rows; 6 cols; 6 nonzeros\n",
      "Coefficient ranges:\n",
      "  Matrix [1e+00, 1e+00]\n",
      "  Cost   [5e+01, 1e+02]\n",
      "  Bound  [0e+00, 0e+00]\n",
      "  RHS    [5e+02, 3e+03]\n",
      "Presolving model\n",
      "0 rows, 0 cols, 0 nonzeros  0s\n",
      "0 rows, 0 cols, 0 nonzeros  0s\n",
      "Presolve : Reductions: rows 0(-3); columns 0(-6); elements 0(-6) - Reduced to empty\n",
      "Solving the original LP from the solution after postsolve\n",
      "Model status        : Optimal\n",
      "Objective value     :  4.3500000000e+05\n",
      "Relative P-D gap    :  0.0000000000e+00\n",
      "HiGHS run time      :          0.00\n",
      "\n",
      "Status do solver: ok\n",
      "Condição de terminação: optimal\n",
      "Valor da Função Objetivo: R$ 435.000,00\n"
     ]
    }
   ],
   "source": [
    "# ------------------------------\n",
    "# Resolução\n",
    "# ------------------------------\n",
    "solver = pyo.SolverFactory(\"appsi_highs\")\n",
    "results = solver.solve(model, tee=True)\n",
    "\n",
    "# Exibindo resultados\n",
    "print(\"\\nStatus do solver:\", results.solver.status)\n",
    "print(\"Condição de terminação:\", results.solver.termination_condition)\n",
    "valor_obj = pyo.value(model.objetivo)\n",
    "formatted = f\"{valor_obj:,.2f}\"\n",
    "formatted = formatted.replace(\",\", \"X\").replace(\".\", \",\").replace(\"X\", \".\")\n",
    "print(\"Valor da Função Objetivo: R$\", formatted)"
   ]
  },
  {
   "cell_type": "code",
   "execution_count": 29,
   "id": "fe0dfc80",
   "metadata": {},
   "outputs": [
    {
     "name": "stdout",
     "output_type": "stream",
     "text": [
      " \n",
      " Quantidade do produto 1 produção própria : 3000.00\n",
      "  Quantidade do produto 1 produção terceirizada : 0.00\n",
      "  Demanda atendida do produto 1 : 3000.00\n",
      " \n",
      " Quantidade do produto 2 produção própria : 2500.00\n",
      "  Quantidade do produto 2 produção terceirizada : 0.00\n",
      "  Demanda atendida do produto 2 : 2500.00\n",
      " \n",
      " Quantidade do produto 3 produção própria : 500.00\n",
      "  Quantidade do produto 3 produção terceirizada : 0.00\n",
      "  Demanda atendida do produto 3 : 500.00\n"
     ]
    }
   ],
   "source": [
    "for i in model.P:    \n",
    "    val = pyo.value(model.x[i])\n",
    "    val2 = pyo.value(model.y[i])\n",
    "    \n",
    "    print(f\" \\n Quantidade do produto {i} produção própria : {val:.2f}\")\n",
    "    print(f\"  Quantidade do produto {i} produção terceirizada : {val2:.2f}\")\n",
    "    print(f\"  Demanda atendida do produto {i} : {val + val2:.2f}\")\n"
   ]
  },
  {
   "cell_type": "code",
   "execution_count": null,
   "id": "375b3a05",
   "metadata": {},
   "outputs": [],
   "source": []
  }
 ],
 "metadata": {
  "kernelspec": {
   "display_name": "base",
   "language": "python",
   "name": "python3"
  },
  "language_info": {
   "codemirror_mode": {
    "name": "ipython",
    "version": 3
   },
   "file_extension": ".py",
   "mimetype": "text/x-python",
   "name": "python",
   "nbconvert_exporter": "python",
   "pygments_lexer": "ipython3",
   "version": "3.9.12"
  }
 },
 "nbformat": 4,
 "nbformat_minor": 5
}
