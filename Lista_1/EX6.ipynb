{
 "cells": [
  {
   "cell_type": "markdown",
   "id": "2214fda1",
   "metadata": {},
   "source": [
    "# Ex6\n",
    "# Seção 2.5.1 (Ex. 3)\n",
    "\n",
    "A empresa **Golmobile**, do setor de eletrodomésticos, está revisando seu mix de produção referente aos principais equipamentos domésticos utilizados na cozinha: geladeira, freezer, fogão, lava-louças e micro-ondas. \n",
    "\n",
    "A fabricação de cada um desses produtos se inicia no processo de **prensagem**, que molda, fura, ajusta e recorta cada componente. A próxima etapa consiste na **pintura**, seguida pelo processo de **liquefação**, que dá a forma final ao produto. As duas últimas etapas consistem na **montagem** e **embalagem** do produto final.\n",
    "\n",
    "A **Tabela 2.19** apresenta o tempo requerido (em horas-máquina) para a fabricação de uma unidade de cada componente em cada processo de fabricação, além do tempo total disponível para cada setor.\n",
    "\n",
    "\n",
    "A **Tabela 2.20** apresenta o total de horas de mão de obra (horas-homem) necessárias para a fabricação de uma unidade de cada componente em cada processo de fabricação, além do número total de funcionários disponíveis que trabalham em cada setor. É importante mencionar que cada funcionário trabalha oito horas por dia, de segunda a sexta-feira.\n",
    "\n",
    "Em função das limitações de estoque, há uma capacidade máxima de produção de cada produto, conforme especificado na Tabela 2.21. A mesma tabela apresenta a demanda mínima de cada produto que deve ser atendida, além do lucro líquido por unidade.\n",
    "\n",
    "Formule o problema de programação linear que maximize o lucro líquido total.\n",
    "\n",
    "## Tabela 2.19: Tempo necessário (em horas-máquina) para fabricar uma unidade de cada componente em cada setor\n",
    "\n",
    "| Setor          | Geladeira | Freezer | Fogão | Louça | Micro-ondas | Tempo disponível (h-máquina) |\n",
    "|-----------------|-----------|---------|-------|-------|-------------|------------------------------|\n",
    "| Prensagem      | 0,2       | 0,4     | 0,3   | 0,5   | 0,3         | 600                          |\n",
    "| Estampagem     | 0,3       | 0,3     | 0,4   | 0,4   | 0,3         | 480                          |\n",
    "| Liquefação     | 0,4       | 0,3     | 0,3   | 0,3   | 0,4         | 480                          |\n",
    "| Montagem       | 0,4       | 0,4     | 0,4   | 0,3   | 0,4         | 720                          |\n",
    "| Embalagem      | 0,3       | 0,3     | 0,3   | 0,4   | 0,3         | 480                          |\n",
    "\n",
    "## Tabela 2.20: Total de horas de mão de obra necessárias para produzir uma unidade de cada produto em cada setor, além do total de mão de obra disponível\n",
    "\n",
    "| Setor          | Geladeira | Freezer | Fogão | Louça | Micro-ondas | Funcionários disponíveis |\n",
    "|-----------------|-----------|---------|-------|-------|-------------|--------------------------|\n",
    "| Prensagem      | 0,5       | 0,4     | 0,5   | 0,6   | 0,5         | 10                       |\n",
    "| Estampagem     | 0,4       | 0,4     | 0,4   | 0,5   | 0,4         | 8                        |\n",
    "| Liquefação     | 0,4       | 0,3     | 0,4   | 0,4   | 0,4         | 8                        |\n",
    "| Montagem       | 0,6       | 0,5     | 0,6   | 0,5   | 0,6         | 12                       |\n",
    "| Embalagem      | 0,4       | 0,4     | 0,4   | 0,5   | 0,4         | 10                       |\n",
    "\n",
    "## Tabela 2.21: Capacidade máxima, demanda mínima e lucro unitário por produto\n",
    "\n",
    "| Produto       | Capacidade máxima (unidades) | Demanda mínima (unidades) | Lucro unitário (R$/unidade) |\n",
    "|---------------|------------------------------|---------------------------|-----------------------------|\n",
    "| Geladeira     | 500                          | 50                        | 60                          |\n",
    "| Freezer       | 300                          | 50                        | 70                          |\n",
    "| Fogão         | 400                          | 50                        | 50                          |\n",
    "| Louça         | 600                          | 50                        | 40                          |\n",
    "| Micro-ondas   | 200                          | 40                        | 80                          |\n",
    "\n",
    "## Problema\n",
    "\n",
    "Formule o problema de programação linear considerando as tabelas acima para maximizar o lucro líquido total, garantindo que todas as restrições de produção e demanda sejam atendidas.\n"
   ]
  },
  {
   "cell_type": "markdown",
   "id": "5c00eb5d",
   "metadata": {},
   "source": [
    "###  Modelo Matemático"
   ]
  },
  {
   "cell_type": "markdown",
   "id": "c6677944",
   "metadata": {},
   "source": [
    "### Modelo Formal do Problema\n",
    "\n",
    "#### Índices:\n",
    "- $( i )$: Modelos de automóveis, onde $ i \\in \\{ \\text{geladeira}, \\text{freezerer}, \\text{fogão},\\text{lava-louças},\\text{microondas}   \\} $.\n",
    "- $( j )$: Setores de produção, onde $ j \\in \\{ \\text{Prensagem}, \\text{Pintura}, \\text{Lquidificação}, \\text{Montagem}, \\text{Embalagem} \\} $.\n",
    "\n",
    "#### Parâmetros:\n",
    "- $( HM_{ij} )$: Tempo necessário (h-máquina) para produzir uma unidade do produto $( i )$ no setor $( j )$.\n",
    "- $( HH_{ij} )$: Tempo necessário (mão de obra) para produzir uma unidade do produto $( i )$ no setor $( j )$.\n",
    "- $( T_j )$: Tempo disponível (horas-máquina/semana) no setor $( j )$.\n",
    "- $( H_j )$: Funcionários disponíveis no setor $( j )$.\n",
    "- $( h )$: Horas de trabalho por dia (8 horas).\n",
    "- $( d )$: Dias de trabalho por semana (5 dias).\n",
    "- $( L_i )$: Lucro unitário do produto $( i )$.\n",
    "- $( Cm_i )$: Capacidade mínima por semana do produto $( i )$.\n",
    "- $( CM_i )$: Capacidade máxima por semana do produto$( i )$.\n",
    "\n",
    "#### Variáveis de Decisão:\n",
    "- $( x_i )$: Quantidade de produtos  $( i )$ a serem fabricados por semana.\n",
    "\n",
    "#### Função Objetivo:\n",
    "Maximizar o lucro líquido semanal:\n",
    "\n",
    "$$\n",
    "Z = \\sum_{i} L_i \\cdot x_i\n",
    "$$\n",
    "\n",
    "#### Restrições:\n",
    "\n",
    "1. **Disponibilidade de máquinas (tempo em horas):**\n",
    "\n",
    "$$\n",
    "\\sum_{i} HM_{ij} \\cdot x_i \\leq T_j  \\quad \\forall j\n",
    "$$\n",
    "\n",
    "2. **Disponibilidade de mão-de-obra (tempo em horas):**\n",
    "\n",
    "$$\n",
    "\\sum_{i} HH_{ij} \\cdot x_i \\leq H_j \\cdot h  \\cdot d  \\quad \\forall j\n",
    "$$\n",
    "\n",
    "3. **Demanda mínima :**\n",
    "\n",
    "$$\n",
    "x_i \\leq Cm_i, \\quad \\forall i\n",
    "$$\n",
    "\n",
    "4. **Demanda máxima :**\n",
    "\n",
    "$$\n",
    "x_i \\geq CM_i, \\quad \\forall i\n",
    "$$\n",
    "\n",
    "\n",
    "5. **Não negatividade:**\n",
    "\n",
    "$$\n",
    "x_i \\geq 0, \\quad \\forall i\n",
    "$$\n"
   ]
  },
  {
   "cell_type": "code",
   "execution_count": 28,
   "id": "d7277200",
   "metadata": {},
   "outputs": [],
   "source": [
    "import pyomo.environ as pyo"
   ]
  },
  {
   "cell_type": "code",
   "execution_count": 29,
   "id": "1f525600",
   "metadata": {},
   "outputs": [],
   "source": [
    "# Criação do modelo\n",
    "model = pyo.ConcreteModel()"
   ]
  },
  {
   "cell_type": "code",
   "execution_count": 30,
   "id": "44e0ee7c",
   "metadata": {},
   "outputs": [],
   "source": [
    "\n",
    "# Conjuntos\n",
    "model.P = pyo.Set(initialize=['Geladeira', 'Freezer', 'Fogao', 'LavaLoucas', 'Microondas'])  \n",
    "model.S = pyo.Set(initialize=['Prensagem', 'Pintura', 'Liquefacao', 'Montagem', 'Embalagem']) "
   ]
  },
  {
   "cell_type": "code",
   "execution_count": 31,
   "id": "419f911a",
   "metadata": {},
   "outputs": [],
   "source": [
    "# ------------------------------\n",
    "# Parâmetros\n",
    "# ------------------------------\n",
    "# Horas-máquina necessárias por produto e setor\n",
    "HM = {('Geladeira', 'Prensagem'): 0.2, ('Geladeira', 'Pintura'): 0.2, ('Geladeira', 'Liquefacao'): 0.4, ('Geladeira', 'Montagem'): 0.2, ('Geladeira', 'Embalagem'): 0.1,\n",
    "      ('Freezer', 'Prensagem'): 0.2, ('Freezer', 'Pintura'): 0.3, ('Freezer', 'Liquefacao'): 0.3, ('Freezer', 'Montagem'): 0.4, ('Freezer', 'Embalagem'): 0.2,\n",
    "      ('Fogao', 'Prensagem'): 0.4, ('Fogao', 'Pintura'): 0.3, ('Fogao', 'Liquefacao'): 0.3, ('Fogao', 'Montagem'): 0.4, ('Fogao', 'Embalagem'): 0.2,\n",
    "      ('LavaLoucas', 'Prensagem'): 0.4, ('LavaLoucas', 'Pintura'): 0.3, ('LavaLoucas', 'Liquefacao'): 0.3, ('LavaLoucas', 'Montagem'): 0.4, ('LavaLoucas', 'Embalagem'): 0.2,\n",
    "      ('Microondas', 'Prensagem'): 0.3, ('Microondas', 'Pintura'): 0.2, ('Microondas', 'Liquefacao'): 0.2, ('Microondas', 'Montagem'): 0.4, ('Microondas', 'Embalagem'): 0.3}\n",
    "model.HM = pyo.Param(model.P, model.S, initialize=HM)\n",
    "# Horas-máquina necessárias por produto e setor\n",
    "HH = {('Geladeira', 'Prensagem'): 0.5, ('Geladeira', 'Pintura'): 0.3, ('Geladeira', 'Liquefacao'): 0.5, ('Geladeira', 'Montagem'): 0.6, ('Geladeira', 'Embalagem'): 0.4,\n",
    "      ('Freezer', 'Prensagem'): 0.4, ('Freezer', 'Pintura'): 0.4, ('Freezer', 'Liquefacao'): 0.5, ('Freezer', 'Montagem'): 0.5, ('Freezer', 'Embalagem'): 0.4,\n",
    "      ('Fogao', 'Prensagem'): 0.5, ('Fogao', 'Pintura'): 0.4, ('Fogao', 'Liquefacao'): 0.3, ('Fogao', 'Montagem'): 0.4, ('Fogao', 'Embalagem'): 0.4,\n",
    "      ('LavaLoucas', 'Prensagem'): 0.4, ('LavaLoucas', 'Pintura'): 0.4, ('LavaLoucas', 'Liquefacao'): 0.4, ('LavaLoucas', 'Montagem'): 0.5, ('LavaLoucas', 'Embalagem'): 0.3,\n",
    "      ('Microondas', 'Prensagem'): 0.2, ('Microondas', 'Pintura'): 0.3, ('Microondas', 'Liquefacao'): 0.3, ('Microondas', 'Montagem'): 0.6, ('Microondas', 'Embalagem'): 0.2}\n",
    "model.HH = pyo.Param(model.P, model.S, initialize=HH)\n",
    " # Horas-máquina disponíveis por setor\n",
    "T = {'Prensagem': 400, 'Pintura': 350, 'Liquefacao': 250, 'Montagem': 200, 'Embalagem': 200} \n",
    "model.T = pyo.Param(model.S, initialize=T)\n",
    "# Funcionários disponíveis por setor\n",
    "H = {'Prensagem': 120, 'Pintura': 10, 'Liquefacao': 8, 'Montagem': 10, 'Embalagem': 8}  \n",
    "model.H = pyo.Param(model.S, initialize=H)\n",
    "# Horas de trabalho por dia\n",
    "model.h = pyo.Param(initialize=8)\n",
    "# Dias de trabalho por semana\n",
    "model.d = pyo.Param(initialize=5)  \n",
    "# Lucro unitário por produto\n",
    "L = {'Geladeira': 52, 'Freezer': 37, 'Fogao': 35, 'LavaLoucas': 40, 'Microondas': 29} \n",
    "model.L = pyo.Param(model.P, initialize=L)\n",
    "# Demanda mínima\n",
    "Cm = {'Geladeira': 200, 'Freezer': 50, 'Fogao': 50, 'LavaLoucas': 50, 'Microondas': 40}  \n",
    "model.Cm = pyo.Param(model.P, initialize=Cm)\n",
    "# Demanda máxima\n",
    "CM = {'Geladeira': 1000, 'Freezer': 800, 'Fogao': 500, 'LavaLoucas': 500, 'Microondas': 200}  \n",
    "model.CM = pyo.Param(model.P, initialize=CM)"
   ]
  },
  {
   "cell_type": "code",
   "execution_count": 32,
   "id": "1e0b7dd4",
   "metadata": {},
   "outputs": [],
   "source": [
    "\n",
    "# ------------------------------\n",
    "# Variáveis de Decisão\n",
    "# ------------------------------\n",
    "model.x = pyo.Var(model.P, domain=pyo.NonNegativeReals)  # Quantidade produzida de cada modelo\n"
   ]
  },
  {
   "cell_type": "code",
   "execution_count": 33,
   "id": "7b310a78",
   "metadata": {},
   "outputs": [],
   "source": [
    "\n",
    "# ------------------------------\n",
    "# Função Objetivo\n",
    "# ------------------------------\n",
    "def lucro_total(model):\n",
    "    return sum(model.L[j] * model.x[j] for j in model.P)\n",
    "model.objetivo = pyo.Objective(rule=lucro_total, sense=pyo.maximize)\n"
   ]
  },
  {
   "cell_type": "code",
   "execution_count": 34,
   "id": "b0f21da0",
   "metadata": {},
   "outputs": [],
   "source": [
    "# ------------------------------\n",
    "# Restrições\n",
    "# ------------------------------\n",
    "\n",
    "\n",
    "# Restrições de disponibilidade de máquinas\n",
    "def restricao_maquinas(model, j):\n",
    "    return sum(HM[i, j] * model.x[i] for i in model.P) <= T[j]\n",
    "model.restricoes_maquinas = pyo.Constraint(model.S, rule=restricao_maquinas)\n",
    "\n",
    "# Restrições de disponibilidade de mão de obra\n",
    "def restricao_mao_de_obra(model, j):\n",
    "    return sum(HH[i, j] * model.x[i] for i in model.P) <= H[j] * model.h * model.d\n",
    "model.restricoes_mao_de_obra = pyo.Constraint(model.S, rule=restricao_mao_de_obra)\n",
    "\n",
    "# Restrições de capacidade mínima\n",
    "def restricao_minima(model, i):\n",
    "    return model.x[i] >= Cm[i]\n",
    "model.restricoes_minimas = pyo.Constraint(model.P, rule=restricao_minima)\n",
    "\n",
    "# Restrições de capacidade máxima\n",
    "def restricao_maxima(model, i):\n",
    "    return model.x[i] <= CM[i]\n",
    "model.restricoes_maximas = pyo.Constraint(model.P, rule=restricao_maxima)\n"
   ]
  },
  {
   "cell_type": "code",
   "execution_count": 35,
   "id": "8d97eb7a",
   "metadata": {},
   "outputs": [
    {
     "data": {
      "text/plain": [
       "('ex6.lp', 1431928556752)"
      ]
     },
     "execution_count": 35,
     "metadata": {},
     "output_type": "execute_result"
    }
   ],
   "source": [
    "# ------------------------------\n",
    "# Escrita do Modelo em Arquivo\n",
    "# ------------------------------\n",
    "model.write(\"ex6.lp\", io_options={\"symbolic_solver_labels\": True})"
   ]
  },
  {
   "cell_type": "code",
   "execution_count": 36,
   "id": "9e5c39a6",
   "metadata": {},
   "outputs": [
    {
     "name": "stdout",
     "output_type": "stream",
     "text": [
      "LP   has 20 rows; 5 cols; 60 nonzeros\n",
      "Coefficient ranges:\n",
      "  Matrix [1e-01, 1e+00]\n",
      "  Cost   [3e+01, 5e+01]\n",
      "  Bound  [0e+00, 0e+00]\n",
      "  RHS    [4e+01, 5e+03]\n",
      "Presolving model\n",
      "9 rows, 5 cols, 45 nonzeros  0s\n",
      "9 rows, 5 cols, 45 nonzeros  0s\n",
      "Presolve : Reductions: rows 9(-11); columns 5(-0); elements 45(-15)\n",
      "Solving the presolved LP\n",
      "Using EKK dual simplex solver - serial\n",
      "  Iteration        Objective     Infeasibilities num(sum)\n",
      "          0     0.0000000000e+00 Ph1: 0(0) 0s\n",
      "          4    -3.2475000000e+04 Pr: 0(0) 0s\n",
      "Solving the original LP from the solution after postsolve\n",
      "Model status        : Optimal\n",
      "Simplex   iterations: 4\n",
      "Objective value     :  3.2475000000e+04\n",
      "Relative P-D gap    :  2.2404796349e-16\n",
      "HiGHS run time      :          0.00\n",
      "\n",
      "Status do solver: ok\n",
      "Condição de terminação: optimal\n",
      "Valor da Função Objetivo: R$ 32.475,00\n"
     ]
    }
   ],
   "source": [
    "# ------------------------------\n",
    "# Resolução\n",
    "# ------------------------------\n",
    "solver = pyo.SolverFactory(\"appsi_highs\")\n",
    "results = solver.solve(model, tee=True)\n",
    "\n",
    "# Exibindo resultados\n",
    "print(\"\\nStatus do solver:\", results.solver.status)\n",
    "print(\"Condição de terminação:\", results.solver.termination_condition)\n",
    "valor_obj = pyo.value(model.objetivo)\n",
    "formatted = f\"{valor_obj:,.2f}\"\n",
    "formatted = formatted.replace(\",\", \"X\").replace(\".\", \",\").replace(\"X\", \".\")\n",
    "print(\"Valor da Função Objetivo: R$\", formatted)\n",
    "\n"
   ]
  },
  {
   "cell_type": "code",
   "execution_count": 37,
   "id": "fe0dfc80",
   "metadata": {},
   "outputs": [
    {
     "name": "stdout",
     "output_type": "stream",
     "text": [
      "  Quantidade do produto Geladeira : 475.00\n",
      "  Quantidade do produto Freezer : 50.00\n",
      "  Quantidade do produto Fogao : 50.00\n",
      "  Quantidade do produto LavaLoucas : 50.00\n",
      "  Quantidade do produto Microondas : 75.00\n"
     ]
    }
   ],
   "source": [
    "for i in model.P:    \n",
    "    val = pyo.value(model.x[i])\n",
    "    if val is not None and val > 1e-6:\n",
    "        print(f\"  Quantidade do produto {i} : {val:.2f}\")"
   ]
  }
 ],
 "metadata": {
  "kernelspec": {
   "display_name": "base",
   "language": "python",
   "name": "python3"
  },
  "language_info": {
   "codemirror_mode": {
    "name": "ipython",
    "version": 3
   },
   "file_extension": ".py",
   "mimetype": "text/x-python",
   "name": "python",
   "nbconvert_exporter": "python",
   "pygments_lexer": "ipython3",
   "version": "3.9.12"
  }
 },
 "nbformat": 4,
 "nbformat_minor": 5
}
