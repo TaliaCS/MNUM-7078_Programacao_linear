{
 "cells": [
  {
   "cell_type": "markdown",
   "id": "2214fda1",
   "metadata": {},
   "source": [
    "# Ex14\n",
    "\n",
    "\n",
    "Um fundo de investimentos tem até R$ 300.000,00 para aplicar em duas ações. A empresa D é diversificada (tem 40% do seu capital aplicado em cerveja e o restante aplicado em refrigerantes) e espera-se que forneça bonificações de 12%. A empresa N não é diversificada (produz apenas cerveja) e espera-se que distribua bonificações de 20%. Para este investimento, considerando a legislação governamental aplicável, o fundo está sujeito às seguintes restrições:\n",
    "\n",
    "- O investimento na empresa diversificada pode atingir até R$ 270.000,00.\n",
    "- O investimento na empresa não-diversificada pode atingir até R$ 150.000,00.\n",
    "- Em cada produto (cerveja ou refrigerante) pode-se investir até R$ 180.000,00.\n",
    "\n",
    "Qual o esquema de investimento que maximiza o lucro?\n",
    "\n",
    "\n",
    "\n"
   ]
  },
  {
   "cell_type": "markdown",
   "id": "c6677944",
   "metadata": {},
   "source": [
    "# **Modelo Matemático do Problema de Investimento**\n",
    "\n",
    "## **Variáveis de decisão**\n",
    "Definição das variáveis:\n",
    "- $x_D$ : investimento na empresa diversificada (D)\n",
    "- $x_N$ : investimento na empresa não-diversificada (N)\n",
    "\n",
    "## **Função objetivo**\n",
    "Maximizar a bonificação total do investimento:\n",
    "\n",
    "$$\n",
    "\\text{Maximize } Z = 0.12x_D + 0.20x_N\n",
    "$$\n",
    "\n",
    "## **Restrições**\n",
    "1. **Orçamento total disponível**:\n",
    "$$\n",
    "x_D + x_N \\leq 300000\n",
    "$$\n",
    "\n",
    "2. **Limite de investimento por empresa**:\n",
    "$$\n",
    "x_D \\leq 270000\n",
    "$$\n",
    "$$\n",
    "x_N \\leq 150000\n",
    "$$\n",
    "\n",
    "3. **Limite de investimento por produto**:\n",
    "   - **Investimento em Cerveja**:\n",
    "$$\n",
    "0.40x_D + x_N \\leq 180000\n",
    "$$\n",
    "\n",
    "   - **Investimento em Refrigerante**:\n",
    "$$\n",
    "0.60x_D \\leq 180000\n",
    "$$\n",
    "\n",
    "4. **Restrições de não negatividade**:\n",
    "$$\n",
    "x_D, x_N \\geq 0\n",
    "$$\n"
   ]
  },
  {
   "cell_type": "code",
   "execution_count": 11,
   "id": "d7277200",
   "metadata": {},
   "outputs": [],
   "source": [
    "import pyomo.environ as pyo"
   ]
  },
  {
   "cell_type": "code",
   "execution_count": 12,
   "id": "1f525600",
   "metadata": {},
   "outputs": [],
   "source": [
    "# Criação do modelo\n",
    "model = pyo.ConcreteModel()"
   ]
  },
  {
   "cell_type": "code",
   "execution_count": 13,
   "id": "44e0ee7c",
   "metadata": {},
   "outputs": [],
   "source": [
    "\n",
    "# Conjuntos\n",
    "\n",
    "model.Empresas = pyo.Set(initialize=[\"D\", \"N\"])\n",
    "\n",
    "model.Produtos = pyo.Set(initialize=[\"Cerveja\", \"Refrigerante\"])"
   ]
  },
  {
   "cell_type": "code",
   "execution_count": 14,
   "id": "419f911a",
   "metadata": {},
   "outputs": [],
   "source": [
    "# Bonificação esperada por empresa\n",
    "bonificacao = {\"D\": 0.12, \"N\": 0.20}\n",
    "model.bonificacao = pyo.Param(model.Empresas, initialize=bonificacao)\n",
    "\n",
    "# Porcentagem de cada produto na empresa D\n",
    "porcentagem_produto = {\n",
    "    (\"D\", \"Cerveja\"): 0.40,\n",
    "    (\"D\", \"Refrigerante\"): 0.60,\n",
    "    (\"N\", \"Cerveja\"): 1.00\n",
    "}\n",
    "model.p_produto = pyo.Param(model.Empresas, model.Produtos, initialize=porcentagem_produto, default=0)\n",
    "\n",
    "# Limite de investimento por empresa\n",
    "limite_empresa = {\"D\": 270000, \"N\": 150000}\n",
    "model.l_empresa = pyo.Param(model.Empresas, initialize=limite_empresa)\n",
    "\n",
    "# Limite de investimento por produto\n",
    "limite_produto = {\"Cerveja\": 180000, \"Refrigerante\": 180000}\n",
    "model.l_produto = pyo.Param(model.Produtos, initialize=limite_produto)\n",
    "\n",
    "# Orçamento total disponível\n",
    "model.orcamento = pyo.Param(initialize=300000)\n"
   ]
  },
  {
   "cell_type": "code",
   "execution_count": 15,
   "id": "1e0b7dd4",
   "metadata": {},
   "outputs": [],
   "source": [
    "\n",
    "# ------------------------------\n",
    "# Variáveis de Decisão\n",
    "# ------------------------------\n",
    "\n",
    "model.x = pyo.Var(model.Empresas, domain=pyo.NonNegativeReals)"
   ]
  },
  {
   "cell_type": "code",
   "execution_count": 16,
   "id": "7b310a78",
   "metadata": {},
   "outputs": [],
   "source": [
    "\n",
    "# ------------------------------\n",
    "# Função Objetivo\n",
    "# ------------------------------\n",
    "def fo(model):\n",
    "    return sum(model.x[e] * model.bonificacao[e] for e in model.Empresas)\n",
    "\n",
    "model.objetivo = pyo.Objective(rule=fo, sense=pyo.maximize)\n"
   ]
  },
  {
   "cell_type": "code",
   "execution_count": 17,
   "id": "b0f21da0",
   "metadata": {},
   "outputs": [],
   "source": [
    "# ------------------------------\n",
    "# Restrições\n",
    "# ------------------------------\n",
    "\n",
    "# 1. Restrição de orçamento total\n",
    "def orcamento_rule(model):\n",
    "    return sum(model.x[e] for e in model.Empresas) <= model.orcamento\n",
    "model.orcamento_total = pyo.Constraint(rule=orcamento_rule)\n",
    "\n",
    "# 2. Restrição de limite de investimento por empresa\n",
    "def limite_empresa_rule(model, e):\n",
    "    return model.x[e] <= model.l_empresa[e]\n",
    "\n",
    "\n",
    "model.limite_empresa = pyo.Constraint(model.Empresas, rule=limite_empresa_rule)\n",
    "\n",
    "# 3. Restrição de limite de investimento por produto\n",
    "def limite_produto_rule(model, p):\n",
    "    return sum(model.x[e] * model.p_produto[e, p] for e in model.Empresas) <= model.l_produto[p]\n",
    "\n",
    "model.limite_produto = pyo.Constraint(model.Produtos, rule=limite_produto_rule)\n",
    "\n",
    "\n"
   ]
  },
  {
   "cell_type": "code",
   "execution_count": 18,
   "id": "8d97eb7a",
   "metadata": {},
   "outputs": [
    {
     "data": {
      "text/plain": [
       "('ex14.lp', 2645062103152)"
      ]
     },
     "execution_count": 18,
     "metadata": {},
     "output_type": "execute_result"
    }
   ],
   "source": [
    "# ------------------------------\n",
    "# Escrita do Modelo em Arquivo\n",
    "# ------------------------------\n",
    "model.write(\"ex14.lp\", io_options={\"symbolic_solver_labels\": True})"
   ]
  },
  {
   "cell_type": "code",
   "execution_count": 19,
   "id": "9e5c39a6",
   "metadata": {},
   "outputs": [
    {
     "name": "stdout",
     "output_type": "stream",
     "text": [
      "LP   has 5 rows; 2 cols; 7 nonzeros\n",
      "Coefficient ranges:\n",
      "  Matrix [4e-01, 1e+00]\n",
      "  Cost   [1e-01, 2e-01]\n",
      "  Bound  [0e+00, 0e+00]\n",
      "  RHS    [2e+05, 3e+05]\n",
      "Presolving model\n",
      "2 rows, 2 cols, 4 nonzeros  0s\n",
      "2 rows, 2 cols, 4 nonzeros  0s\n",
      "Presolve : Reductions: rows 2(-3); columns 2(-0); elements 4(-3)\n",
      "Solving the presolved LP\n",
      "Using EKK dual simplex solver - serial\n",
      "  Iteration        Objective     Infeasibilities num(sum)\n",
      "          0     0.0000000000e+00 Ph1: 0(0) 0s\n",
      "          2    -4.4000000000e+04 Pr: 0(0) 0s\n",
      "Solving the original LP from the solution after postsolve\n",
      "Model status        : Optimal\n",
      "Simplex   iterations: 2\n",
      "Objective value     :  4.4000000000e+04\n",
      "Relative P-D gap    :  0.0000000000e+00\n",
      "HiGHS run time      :          0.00\n",
      "\n",
      "Status do solver: ok\n",
      "Condição de terminação: optimal\n",
      "Valor da Função Objetivo: R$ 44.000,00\n"
     ]
    }
   ],
   "source": [
    "# ------------------------------\n",
    "# Resolução\n",
    "# ------------------------------\n",
    "solver = pyo.SolverFactory(\"appsi_highs\")\n",
    "results = solver.solve(model, tee=True)\n",
    "\n",
    "# Exibindo resultados\n",
    "print(\"\\nStatus do solver:\", results.solver.status)\n",
    "print(\"Condição de terminação:\", results.solver.termination_condition)\n",
    "valor_obj = pyo.value(model.objetivo)\n",
    "formatted = f\"{valor_obj:,.2f}\"\n",
    "formatted = formatted.replace(\",\", \"X\").replace(\".\", \",\").replace(\"X\", \".\")\n",
    "print(\"Valor da Função Objetivo: R$\", formatted)"
   ]
  },
  {
   "cell_type": "code",
   "execution_count": 20,
   "id": "0f8486b2",
   "metadata": {},
   "outputs": [
    {
     "name": "stdout",
     "output_type": "stream",
     "text": [
      "Resultados do Modelo:\n",
      "Investimento na empresa D: R$ 200.000,00\n",
      "Investimento na empresa N: R$ 100.000,00\n"
     ]
    }
   ],
   "source": [
    "# Exibindo os resultados do modelo\n",
    "print(\"Resultados do Modelo:\")\n",
    "for e in model.Empresas:\n",
    "    valor = pyo.value(model.x[e])\n",
    "    print(f\"Investimento na empresa {e}: R$ {valor:,.2f}\".replace(\",\", \"X\").replace(\".\", \",\").replace(\"X\", \".\"))\n",
    "\n"
   ]
  }
 ],
 "metadata": {
  "kernelspec": {
   "display_name": "base",
   "language": "python",
   "name": "python3"
  },
  "language_info": {
   "codemirror_mode": {
    "name": "ipython",
    "version": 3
   },
   "file_extension": ".py",
   "mimetype": "text/x-python",
   "name": "python",
   "nbconvert_exporter": "python",
   "pygments_lexer": "ipython3",
   "version": "3.9.12"
  }
 },
 "nbformat": 4,
 "nbformat_minor": 5
}
