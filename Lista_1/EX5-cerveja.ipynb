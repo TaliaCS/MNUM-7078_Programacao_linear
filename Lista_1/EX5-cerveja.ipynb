{
 "cells": [
  {
   "cell_type": "markdown",
   "id": "2214fda1",
   "metadata": {},
   "source": [
    "# EX.5\n",
    "\n",
    "A empresa **Refresh**, do setor de bebidas, está revendo seu mix de produção de cervejas e refrigerantes. A produção de cerveja passa pelos seguintes processos: **extração do malte** (pode ou não ser fabricado internamente), **processamento do mosto** que dá origem ao álcool, **fermentação** (principal etapa), **processamento da cerveja** e **enchimento dos vasilhames (envase)**. \n",
    "\n",
    "A produção de refrigerantes passa pelos seguintes processos: **preparo do xarope simples**, **preparo do xarope composto**, **diluição**, **carbonatação** e **envase**. \n",
    "\n",
    "Cada uma das etapas de processamento da cerveja e do refrigerante é 100% automatizada. Os tempos médios de operação (em minutos) de cada componente da cerveja encontram-se na Tabela 2.17, além do total de máquinas disponíveis para cada atividade. Os mesmos dados referentes ao processamento do refrigerante encontram-se na Tabela 2.18. \n",
    "\n",
    "É importante mencionar que cada máquina trabalha **8 horas por dia, 20 dias úteis por mês**. Em função da concorrência de mercado, pode-se afirmar que a demanda total por cerveja e refrigerante não ultrapassa **42 mil litros por mês**. \n",
    "\n",
    "A **margem de contribuição** é:\n",
    "- R$ 0,50 por litro produzido de cerveja;\n",
    "- R$ 0,40 por litro produzido de refrigerante.\n",
    "\n",
    "Formule o problema de programação linear que maximiza a margem mensal de contribuição total.\n",
    "\n",
    "\n",
    "\n",
    "## Tabela 2.17: Tempo médio de operação da cerveja e quantidade de máquinas disponíveis\n",
    "\n",
    "| Setor                    | Tempo de operação (minutos) | Quantidade de máquinas |\n",
    "|--------------------------|-----------------------------|------------------------|\n",
    "| Extração do malte        | 2                           | 6                      |\n",
    "| Processamento do mosto   | 4                           | 12                     |\n",
    "| Fermentação              | 3                           | 10                      |\n",
    "| Processamento da cerveja | 4                           | 12                     |\n",
    "| Envase da cerveja        | 5                           | 13                     |\n",
    "\n",
    "\n",
    "\n",
    "## Tabela 2.18: Tempo médio de operação do refrigerante e quantidade de máquinas disponíveis\n",
    "\n",
    "| Setor                    | Tempo de operação (minutos) | Quantidade de máquinas |\n",
    "|--------------------------|-----------------------------|------------------------|\n",
    "| Xarope simples           | 1                           | 6                      |\n",
    "| Xarope composto          | 3                           | 7                      |\n",
    "| Diluição                 | 4                           | 8                     |\n",
    "| Carbonatação             | 5                           | 10                      |\n",
    "| Envase do refrigerante   | 2                           | 5                     |\n"
   ]
  },
  {
   "cell_type": "markdown",
   "id": "5c00eb5d",
   "metadata": {},
   "source": [
    "###  Modelo Matemático"
   ]
  },
  {
   "cell_type": "markdown",
   "id": "c6677944",
   "metadata": {},
   "source": [
    "## Conjuntos\n",
    "- $( \\text{Produtos} )$: Conjunto de produtos, $( \\{ \\text{Cerveja}, \\text{Refrigerante} \\} )$.\n",
    "- $( \\text{Seções de Cerveja} )$: Conjunto de processos de produção da cerveja, $( \\{ \\text{Malte}, \\text{Mosto}, \\text{Fermentação}, \\text{Processamento}, \\text{Envase} \\} )$.\n",
    "- $( \\text{Seções de Refrigerante} )$: Conjunto de processos de produção do refrigerante, $( \\{ \\text{Xarope Simples}, \\text{Xarope Composto}, \\text{Diluição}, \\text{Carbonatação}, \\text{Envase} \\} )$.\n",
    "\n",
    "## Parâmetros\n",
    "- $( t_{ij})$: Tempo de operação (em minutos) necessário na seção $( i )$ para produzir um litro do produto $( j )$.\n",
    "- $( m_i )$: Quantidade de máquinas disponíveis na seção $( i $).\n",
    "- $( h )$: Tempo disponível por máquina por mês (em minutos).\n",
    "- $( p_j )$: Margem de contribuição por litro do produto $( j )$ (em reais).\n",
    "- $( D )$: Demanda máxima total por mês (em litros).\n",
    "\n",
    "## Variáveis de Decisão\n",
    "- $( x_j )$: Quantidade de litros produzidos do produto $( j )$ por mês.\n",
    "\n",
    "## Função Objetivo\n",
    "Maximizar a margem de contribuição mensal total:\n",
    "\n",
    "$$\n",
    "\\text{Maximizar } Z = \\sum_{j \\in \\{\\text{Cerveja}, \\text{Refrigerante}\\}} p_j \\cdot x_j\n",
    "$$\n",
    "\n",
    "## Restrições\n",
    "\n",
    "### 1. Capacidade das máquinas para os processos de produção da cerveja\n",
    "\n",
    "Para cada seção \\( i \\) relacionada à produção de cerveja:\n",
    "\n",
    "$$\n",
    "t_{ij} \\cdot x_{\\text{Cerveja}} \\leq m_i \\cdot h\n",
    "$$\n",
    "\n",
    "### 2. Capacidade das máquinas para os processos de produção do refrigerante\n",
    "\n",
    "Para cada seção \\( i \\) relacionada à produção de refrigerante:\n",
    "\n",
    "$$\n",
    "t_{ij} \\cdot x_{\\text{Refrigerante}} \\leq m_i \\cdot h\n",
    "$$\n",
    "\n",
    "### 3. Demanda máxima total\n",
    "\n",
    "A soma da produção total de cerveja e refrigerante não pode ultrapassar a demanda máxima mensal:\n",
    "\n",
    "$$\n",
    "x_{\\text{Cerveja}} + x_{\\text{Refrigerante}} \\leq D\n",
    "$$\n",
    "\n",
    "### 4. Não negatividade\n",
    "\n",
    "A produção de cada produto não pode ser negativa:\n",
    "\n",
    "$$\n",
    "x_{\\text{Cerveja}},\\ x_{\\text{Refrigerante}} \\geq 0\n",
    "$$"
   ]
  },
  {
   "cell_type": "code",
   "execution_count": 1,
   "id": "d7277200",
   "metadata": {},
   "outputs": [],
   "source": [
    "import pyomo.environ as pyo"
   ]
  },
  {
   "cell_type": "code",
   "execution_count": 2,
   "id": "1f525600",
   "metadata": {},
   "outputs": [],
   "source": [
    "# Criação do modelo\n",
    "model = pyo.ConcreteModel()"
   ]
  },
  {
   "cell_type": "code",
   "execution_count": 3,
   "id": "44e0ee7c",
   "metadata": {},
   "outputs": [],
   "source": [
    "\n",
    "# Conjuntos\n",
    "model.P = pyo.Set(initialize=['Cerveja', 'Refrigerante']) \n",
    "\n",
    "model.S_cerveja = pyo.Set(initialize=['Malte', 'Mosto', 'Fermentacao', 'Processamento', 'Envase'])  \n",
    "model.S_refrigerante = pyo.Set(initialize=['Xarope_Simples', 'Xarope_Composto', 'Diluicao', 'Carbonatacao', 'Envase'])  "
   ]
  },
  {
   "cell_type": "code",
   "execution_count": 4,
   "id": "419f911a",
   "metadata": {},
   "outputs": [],
   "source": [
    "# ------------------------------\n",
    "# Parâmetros\n",
    "# ------------------------------\n",
    "\n",
    "\n",
    "tempo_cerveja = {'Malte': 2, 'Mosto': 4, 'Fermentacao': 3, 'Processamento': 4, 'Envase': 5}\n",
    "model.tempo_cerveja = pyo.Param(model.S_cerveja, initialize=tempo_cerveja)\n",
    "\n",
    "tempo_refrigerante = {'Xarope_Simples': 1, 'Xarope_Composto': 3, 'Diluicao': 4, 'Carbonatacao': 5, 'Envase': 2}\n",
    "model.tempo_refrigerante = pyo.Param(model.S_refrigerante, initialize=tempo_refrigerante)\n",
    "\n",
    "maquinas_cerveja = {'Malte': 6, 'Mosto': 12, 'Fermentacao': 10, 'Processamento': 12, 'Envase': 13}\n",
    "model.maquinas_cerveja = pyo.Param(model.S_cerveja, initialize=maquinas_cerveja)\n",
    "\n",
    "maquinas_refrigerante = {'Xarope_Simples': 6, 'Xarope_Composto': 7, 'Diluicao': 8, 'Carbonatacao': 10, 'Envase': 5}\n",
    "model.maquinas_refrigerante = pyo.Param(model.S_refrigerante, initialize=maquinas_refrigerante)\n",
    "\n",
    "tempo_disponivel = 8 * 20 * 60  # 20 dias úteis de 8 horas por dia, em minutos\n",
    "model.tempo_disponivel = pyo.Param(initialize=tempo_disponivel)\n",
    "\n",
    "margem_contribuicao = {'Cerveja': 0.5, 'Refrigerante': 0.4}\n",
    "model.margem_contribuicao = pyo.Param(model.P, initialize=margem_contribuicao)\n",
    "\n",
    "demanda_maxima = 42000  # Demanda máxima total por mês em litros\n",
    "model.demanda_maxima = pyo.Param(initialize=demanda_maxima)\n"
   ]
  },
  {
   "cell_type": "code",
   "execution_count": 5,
   "id": "1e0b7dd4",
   "metadata": {},
   "outputs": [],
   "source": [
    "\n",
    "# ------------------------------\n",
    "# Variáveis de Decisão\n",
    "# ------------------------------\n",
    "model.x = pyo.Var(model.P, domain=pyo.NonNegativeReals)  # Quantidade produzida de cada modelo\n"
   ]
  },
  {
   "cell_type": "code",
   "execution_count": 6,
   "id": "7b310a78",
   "metadata": {},
   "outputs": [],
   "source": [
    "\n",
    "# ------------------------------\n",
    "# Função Objetivo\n",
    "# ------------------------------\n",
    "def MC_total(model):\n",
    "    return sum(margem_contribuicao[j] * model.x[j] for j in model.P)\n",
    "model.objetivo = pyo.Objective(rule=MC_total, sense=pyo.maximize)\n"
   ]
  },
  {
   "cell_type": "code",
   "execution_count": 7,
   "id": "b0f21da0",
   "metadata": {},
   "outputs": [],
   "source": [
    "# ------------------------------\n",
    "# Restrições\n",
    "# ------------------------------\n",
    "\n",
    "# 1. Restrições de capacidade cerveja\n",
    "def restricao_capacidade_cerveja(model, i):\n",
    "\n",
    "    return model.tempo_cerveja[i] * model.x['Cerveja'] <= model.maquinas_cerveja[i] * model.tempo_disponivel\n",
    "model.capacidade_cerv = pyo.Constraint(model.S_cerveja, rule=restricao_capacidade_cerveja)\n",
    "\n",
    "# 2. Restrições de capacidade refirgerante\n",
    "def restricao_capacidade_refri(model, i):\n",
    "\n",
    "    return model.tempo_refrigerante[i] * model.x['Refrigerante'] <= model.maquinas_refrigerante[i] * model.tempo_disponivel\n",
    "model.capacidade_refri = pyo.Constraint(model.S_refrigerante, rule=restricao_capacidade_refri)\n",
    "\n",
    "# 3. Restrições de demanda máxima\n",
    "def restricao_demanda(model):\n",
    "    return sum(model.x[j] for j in model.P) <= model.demanda_maxima\n",
    "model.demanda = pyo.Constraint(rule=restricao_demanda)"
   ]
  },
  {
   "cell_type": "code",
   "execution_count": 8,
   "id": "8d97eb7a",
   "metadata": {},
   "outputs": [
    {
     "data": {
      "text/plain": [
       "('ex5.lp', 1566438593680)"
      ]
     },
     "execution_count": 8,
     "metadata": {},
     "output_type": "execute_result"
    }
   ],
   "source": [
    "# ------------------------------\n",
    "# Escrita do Modelo em Arquivo\n",
    "# ------------------------------\n",
    "model.write(\"ex5.lp\", io_options={\"symbolic_solver_labels\": True})"
   ]
  },
  {
   "cell_type": "code",
   "execution_count": 9,
   "id": "9e5c39a6",
   "metadata": {},
   "outputs": [
    {
     "name": "stdout",
     "output_type": "stream",
     "text": [
      "LP   has 11 rows; 2 cols; 12 nonzeros\n",
      "Coefficient ranges:\n",
      "  Matrix [1e+00, 5e+00]\n",
      "  Cost   [4e-01, 5e-01]\n",
      "  Bound  [0e+00, 0e+00]\n",
      "  RHS    [4e+04, 1e+05]\n",
      "Presolving model\n",
      "1 rows, 2 cols, 2 nonzeros  0s\n",
      "1 rows, 2 cols, 2 nonzeros  0s\n",
      "Presolve : Reductions: rows 1(-10); columns 2(-0); elements 2(-10)\n",
      "Solving the presolved LP\n",
      "Using EKK dual simplex solver - serial\n",
      "  Iteration        Objective     Infeasibilities num(sum)\n",
      "          0     0.0000000000e+00 Ph1: 0(0) 0s\n",
      "          1    -1.9296000000e+04 Pr: 0(0) 0s\n",
      "Solving the original LP from the solution after postsolve\n",
      "Model status        : Optimal\n",
      "Simplex   iterations: 1\n",
      "Objective value     :  1.9296000000e+04\n",
      "Relative P-D gap    :  0.0000000000e+00\n",
      "HiGHS run time      :          0.00\n",
      "\n",
      "Status do solver: ok\n",
      "Condição de terminação: optimal\n",
      "Valor da Função Objetivo: R$ 19.296,00\n"
     ]
    }
   ],
   "source": [
    "# ------------------------------\n",
    "# Resolução\n",
    "# ------------------------------\n",
    "solver = pyo.SolverFactory(\"appsi_highs\")\n",
    "results = solver.solve(model, tee=True)\n",
    "\n",
    "# Exibindo resultados\n",
    "print(\"\\nStatus do solver:\", results.solver.status)\n",
    "print(\"Condição de terminação:\", results.solver.termination_condition)\n",
    "valor_obj = pyo.value(model.objetivo)\n",
    "formatted = f\"{valor_obj:,.2f}\"\n",
    "formatted = formatted.replace(\",\", \"X\").replace(\".\", \",\").replace(\"X\", \".\")\n",
    "print(\"Valor da Função Objetivo: R$\", formatted)\n",
    "\n"
   ]
  },
  {
   "cell_type": "code",
   "execution_count": 10,
   "id": "fe0dfc80",
   "metadata": {},
   "outputs": [
    {
     "name": "stdout",
     "output_type": "stream",
     "text": [
      "  Quantidade do produto Cerveja : 24960.00\n",
      "  Quantidade do produto Refrigerante : 17040.00\n"
     ]
    }
   ],
   "source": [
    "for i in model.P:    \n",
    "    val = pyo.value(model.x[i])\n",
    "    if val is not None and val > 1e-6:\n",
    "        print(f\"  Quantidade do produto {i} : {val:.2f}\")"
   ]
  }
 ],
 "metadata": {
  "kernelspec": {
   "display_name": "base",
   "language": "python",
   "name": "python3"
  },
  "language_info": {
   "codemirror_mode": {
    "name": "ipython",
    "version": 3
   },
   "file_extension": ".py",
   "mimetype": "text/x-python",
   "name": "python",
   "nbconvert_exporter": "python",
   "pygments_lexer": "ipython3",
   "version": "3.9.12"
  }
 },
 "nbformat": 4,
 "nbformat_minor": 5
}
