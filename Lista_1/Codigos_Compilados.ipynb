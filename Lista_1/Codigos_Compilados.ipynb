{
 "cells": [
  {
   "cell_type": "code",
   "execution_count": 131,
   "id": "91d4d345",
   "metadata": {},
   "outputs": [],
   "source": [
    "import pyomo.environ as pyo\n"
   ]
  },
  {
   "cell_type": "markdown",
   "id": "da87d432",
   "metadata": {},
   "source": [
    "## EX1"
   ]
  },
  {
   "cell_type": "code",
   "execution_count": 132,
   "id": "cc62ec5d",
   "metadata": {},
   "outputs": [],
   "source": [
    "# Criação do modelo\n",
    "model = pyo.ConcreteModel(\"Racao\")"
   ]
  },
  {
   "cell_type": "code",
   "execution_count": 133,
   "id": "6fbeac8d",
   "metadata": {},
   "outputs": [],
   "source": [
    "# Tipos de ração:\n",
    "model.R = pyo.Set(initialize=[\"Tobi\", \"Rex\"])\n",
    "\n",
    "# Tipos de material\n",
    "model.M = pyo.Set(initialize=[\"Cereal\", \"Carne\"])"
   ]
  },
  {
   "cell_type": "code",
   "execution_count": 134,
   "id": "2095a58e",
   "metadata": {},
   "outputs": [],
   "source": [
    "# ------------------------------\n",
    "# Parâmetros\n",
    "# ------------------------------\n",
    "# Custos material\n",
    "material = {\"Cereal\":1, \"Carne\":4}\n",
    "model.c_material = pyo.Param(model.M,initialize=material)\n",
    "\n",
    "# Qtd material por pacote\n",
    "qtd_material = {(\"Tobi\",\"Cereal\"):5, (\"Rex\",\"Cereal\"):2,(\"Tobi\",\"Carne\"):1, (\"Rex\",\"Carne\"):4}\n",
    "model.q_material = pyo.Param(model.R,model.M,initialize=qtd_material)\n",
    "\n",
    "# Material disponível\n",
    "\n",
    "estoque = {\"Cereal\":30000, \"Carne\":10000}\n",
    "model.e_material = pyo.Param(model.M,initialize=estoque)\n",
    "\n",
    "# Custos pacote\n",
    "valor_venda = {\"Tobi\":20, \"Rex\":30}\n",
    "model.v_pacote = pyo.Param(model.R,initialize=valor_venda)\n",
    "\n"
   ]
  },
  {
   "cell_type": "code",
   "execution_count": 135,
   "id": "f149be80",
   "metadata": {},
   "outputs": [],
   "source": [
    "# ------------------------------\n",
    "# Variáveis de Decisão\n",
    "# ------------------------------\n",
    "# quantidade da ração tobi e max\n",
    "model.x = pyo.Var(model.R,domain=pyo.NonNegativeIntegers)"
   ]
  },
  {
   "cell_type": "code",
   "execution_count": 136,
   "id": "f050ffd9",
   "metadata": {},
   "outputs": [],
   "source": [
    "# ------------------------------\n",
    "# Função Objetivo\n",
    "# ------------------------------\n",
    "def objective_rule(model):\n",
    "    # Valor pacote\n",
    "    valor_pacote = sum(\n",
    "        model.x[i] * model.v_pacote[i]\n",
    "        for i in model.R\n",
    "    )\n",
    "\n",
    "    # Custo material\n",
    "    custo = sum(\n",
    "        model.x[i] * model.c_material[m] * model.q_material[i,m]\n",
    "        for i in model.R\n",
    "        for m in model.M\n",
    "    )\n",
    "\n",
    "    return valor_pacote + custo\n",
    "\n",
    "\n",
    "model.obj = pyo.Objective(rule=objective_rule, sense=pyo.maximize)"
   ]
  },
  {
   "cell_type": "code",
   "execution_count": 137,
   "id": "ca578cab",
   "metadata": {},
   "outputs": [],
   "source": [
    "# ------------------------------\n",
    "# Restrições\n",
    "# ------------------------------\n",
    "\n",
    "# 1. Limite Estoque\n",
    "def estoque(model, m):\n",
    "    return sum(model.x[i] * model.q_material[i,m] for i in model.R) <= model.e_material[m]\n",
    "\n",
    "\n",
    "model.CapRef = pyo.Constraint(model.M, rule=estoque)\n"
   ]
  },
  {
   "cell_type": "code",
   "execution_count": 138,
   "id": "cd4a04fa",
   "metadata": {},
   "outputs": [
    {
     "name": "stdout",
     "output_type": "stream",
     "text": [
      "MIP  has 2 rows; 2 cols; 4 nonzeros; 2 integer variables (0 binary)\n",
      "Coefficient ranges:\n",
      "  Matrix [1e+00, 5e+00]\n",
      "  Cost   [3e+01, 5e+01]\n",
      "  Bound  [0e+00, 0e+00]\n",
      "  RHS    [1e+04, 3e+04]\n",
      "Presolving model\n",
      "2 rows, 2 cols, 4 nonzeros  0s\n",
      "2 rows, 2 cols, 4 nonzeros  0s\n",
      "Objective function is integral with scale 1\n",
      "\n",
      "Solving MIP model with:\n",
      "   2 rows\n",
      "   2 cols (0 binary, 2 integer, 0 implied int., 0 continuous)\n",
      "   4 nonzeros\n",
      "\n",
      "Src: B => Branching; C => Central rounding; F => Feasibility pump; H => Heuristic; L => Sub-MIP;\n",
      "     P => Empty MIP; R => Randomized rounding; S => Solve LP; T => Evaluate node; U => Unbounded;\n",
      "     z => Trivial zero; l => Trivial lower; u => Trivial upper; p => Trivial point; X => User solution\n",
      "\n",
      "        Nodes      |    B&B Tree     |            Objective Bounds              |  Dynamic Constraints |       Work      \n",
      "Src  Proc. InQueue |  Leaves   Expl. | BestBound       BestSol              Gap |   Cuts   InLp Confl. | LpIters     Time\n",
      "\n",
      " z       0       0         0   0.00%   inf             -0                 Large        0      0      0         0     0.0s\n",
      " S       0       0         0   0.00%   294000          214423            37.11%        0      0      0         0     0.0s\n",
      "         1       0         1 100.00%   214444.444444   214423             0.01%        0      0      0         2     0.0s\n",
      "\n",
      "Solving report\n",
      "  Status            Optimal\n",
      "  Primal bound      214423\n",
      "  Dual bound        214444\n",
      "  Gap               0.00979% (tolerance: 0.01%)\n",
      "  P-D integral      8.39576554583e-05\n",
      "  Solution status   feasible\n",
      "                    214423 (objective)\n",
      "                    0 (bound viol.)\n",
      "                    0 (int. viol.)\n",
      "                    0 (row viol.)\n",
      "  Timing            0.01 (total)\n",
      "                    0.00 (presolve)\n",
      "                    0.00 (solve)\n",
      "                    0.00 (postsolve)\n",
      "  Max sub-MIP depth 0\n",
      "  Nodes             1\n",
      "  Repair LPs        0 (0 feasible; 0 iterations)\n",
      "  LP iterations     2 (total)\n",
      "                    0 (strong br.)\n",
      "                    0 (separation)\n",
      "                    0 (heuristics)\n",
      "\n",
      "Status do solver: ok\n",
      "Condição de terminação: optimal\n",
      "Valor da Função Objetivo: R$ 214.423,00\n"
     ]
    }
   ],
   "source": [
    "# ------------------------------\n",
    "# Escrita do Modelo em Arquivo\n",
    "# ------------------------------\n",
    "model.write(\"ex1.lp\", io_options={\"symbolic_solver_labels\": True})\n",
    "\n",
    "# ------------------------------\n",
    "# Resolução\n",
    "# ------------------------------\n",
    "solver = pyo.SolverFactory(\"appsi_highs\")\n",
    "results = solver.solve(model, tee=True)\n",
    "\n",
    "# Exibindo resultados\n",
    "print(\"\\nStatus do solver:\", results.solver.status)\n",
    "print(\"Condição de terminação:\", results.solver.termination_condition)\n",
    "valor_obj = pyo.value(model.obj)\n",
    "formatted = f\"{valor_obj:,.2f}\"\n",
    "formatted = formatted.replace(\",\", \"X\").replace(\".\", \",\").replace(\"X\", \".\")\n",
    "print(\"Valor da Função Objetivo: R$\", formatted)\n",
    "\n"
   ]
  },
  {
   "cell_type": "code",
   "execution_count": 139,
   "id": "fe0dfc80",
   "metadata": {},
   "outputs": [
    {
     "name": "stdout",
     "output_type": "stream",
     "text": [
      "  Quantidade da ração Tobi : 5555.00\n",
      "  Quantidade da ração Rex : 1111.00\n"
     ]
    }
   ],
   "source": [
    "for i in model.R:    \n",
    "    val = pyo.value(model.x[i])\n",
    "    if val is not None and val > 1e-6:\n",
    "        print(f\"  Quantidade da ração {i} : {val:.2f}\")"
   ]
  },
  {
   "cell_type": "markdown",
   "id": "e9672647",
   "metadata": {},
   "source": [
    "## EX2"
   ]
  },
  {
   "cell_type": "code",
   "execution_count": 140,
   "id": "3b983bc9",
   "metadata": {},
   "outputs": [],
   "source": [
    "# Criação do modelo\n",
    "model = pyo.ConcreteModel(\"\")"
   ]
  },
  {
   "cell_type": "code",
   "execution_count": 141,
   "id": "ba055409",
   "metadata": {},
   "outputs": [],
   "source": [
    "# Tipos produto:\n",
    "model.P = pyo.Set(initialize=[\"1\", \"2\"])"
   ]
  },
  {
   "cell_type": "code",
   "execution_count": 142,
   "id": "de4238f6",
   "metadata": {},
   "outputs": [],
   "source": [
    "# ------------------------------\n",
    "# Parâmetros\n",
    "# ------------------------------\n",
    "\n",
    "# lucro produto material\n",
    "luc = {\"1\":5, \"2\":6}\n",
    "model.lucro = pyo.Param(model.P,initialize=luc)\n",
    "\n",
    "# Custos material\n",
    "material = {\"1\":1, \"2\":2}\n",
    "model.mat = pyo.Param(model.P,initialize=material)\n",
    "\n",
    "# Mão de obra\n",
    "mao_obra = {\"1\":1, \"2\":1}\n",
    "model.mao_de_obra = pyo.Param(model.P,initialize=mao_obra)\n",
    "\n",
    "# Tempo maquinario\n",
    "maq = {\"1\":7, \"2\":4}\n",
    "model.temp_maq = pyo.Param(model.P,initialize=maq)\n",
    "\n",
    "# Material disponível\n",
    "model.e_material = pyo.Param(initialize=14)\n",
    "\n",
    "#Mão de obra disponivel\n",
    "model.e_mao_obra = pyo.Param(initialize=9)\n",
    "\n",
    "#Tempo Maquinario disponivel\n",
    "model.e_temp_maq = pyo.Param(initialize=56)"
   ]
  },
  {
   "cell_type": "code",
   "execution_count": 143,
   "id": "9b77f0a3",
   "metadata": {},
   "outputs": [],
   "source": [
    "# ------------------------------\n",
    "# Variáveis de Decisão\n",
    "# ------------------------------\n",
    "# quantidade da ração tobi e max\n",
    "model.x = pyo.Var(model.P,domain=pyo.NonNegativeIntegers)"
   ]
  },
  {
   "cell_type": "code",
   "execution_count": 144,
   "id": "01071d59",
   "metadata": {},
   "outputs": [],
   "source": [
    "# ------------------------------\n",
    "# Função Objetivo\n",
    "# ------------------------------\n",
    "def objective_rule(model):\n",
    "    # Lucro por produto\n",
    "    valor_pacote = sum(\n",
    "        model.x[i] * model.lucro[i]\n",
    "        for i in model.P\n",
    "    )\n",
    "\n",
    "    return valor_pacote\n",
    "\n",
    "\n",
    "model.obj = pyo.Objective(rule=objective_rule, sense=pyo.maximize)"
   ]
  },
  {
   "cell_type": "code",
   "execution_count": 145,
   "id": "3b3af258",
   "metadata": {},
   "outputs": [],
   "source": [
    "# ------------------------------\n",
    "# Restrições\n",
    "# ------------------------------\n",
    "\n",
    "# 1. Limite Materia\n",
    "def meteria(model):\n",
    "    return sum(model.x[i] * model.mat[i] for i in model.P) <= model.e_material\n",
    "\n",
    "model.re_materia= pyo.Constraint(rule=meteria)\n",
    "\n",
    "# 2. Limite Maõ de Obra\n",
    "def mao_obra(model):\n",
    "    return sum(model.x[i] * model.mao_de_obra[i] for i in model.P) <= model.e_mao_obra\n",
    "\n",
    "model.re_mao_obra = pyo.Constraint(rule=mao_obra)\n",
    "\n",
    "# 3. Tempo maquinario\n",
    "def maquinario(model):\n",
    "    return sum(model.x[i] * model.temp_maq[i] for i in model.P) <= model.e_temp_maq\n",
    "\n",
    "model.re_maq = pyo.Constraint(rule=maquinario)\n"
   ]
  },
  {
   "cell_type": "code",
   "execution_count": 146,
   "id": "ff8bcaa2",
   "metadata": {},
   "outputs": [
    {
     "name": "stdout",
     "output_type": "stream",
     "text": [
      "MIP  has 3 rows; 2 cols; 6 nonzeros; 2 integer variables (0 binary)\n",
      "Coefficient ranges:\n",
      "  Matrix [1e+00, 7e+00]\n",
      "  Cost   [5e+00, 6e+00]\n",
      "  Bound  [0e+00, 0e+00]\n",
      "  RHS    [9e+00, 6e+01]\n",
      "Presolving model\n",
      "3 rows, 2 cols, 6 nonzeros  0s\n",
      "3 rows, 2 cols, 6 nonzeros  0s\n",
      "Objective function is integral with scale 1\n",
      "\n",
      "Solving MIP model with:\n",
      "   3 rows\n",
      "   2 cols (0 binary, 2 integer, 0 implied int., 0 continuous)\n",
      "   6 nonzeros\n",
      "\n",
      "Src: B => Branching; C => Central rounding; F => Feasibility pump; H => Heuristic; L => Sub-MIP;\n",
      "     P => Empty MIP; R => Randomized rounding; S => Solve LP; T => Evaluate node; U => Unbounded;\n",
      "     z => Trivial zero; l => Trivial lower; u => Trivial upper; p => Trivial point; X => User solution\n",
      "\n",
      "        Nodes      |    B&B Tree     |            Objective Bounds              |  Dynamic Constraints |       Work      \n",
      "Src  Proc. InQueue |  Leaves   Expl. | BestBound       BestSol              Gap |   Cuts   InLp Confl. | LpIters     Time\n",
      "\n",
      " z       0       0         0   0.00%   inf             -0                 Large        0      0      0         0     0.0s\n",
      " T       0       0         0 100.00%   82              50                64.00%        0      0      0         3     0.0s\n",
      "         1       0         1 100.00%   50              50                 0.00%        0      0      0         3     0.0s\n",
      "\n",
      "Solving report\n",
      "  Status            Optimal\n",
      "  Primal bound      50\n",
      "  Dual bound        50\n",
      "  Gap               0% (tolerance: 0.01%)\n",
      "  P-D integral      0.000136575996876\n",
      "  Solution status   feasible\n",
      "                    50 (objective)\n",
      "                    0 (bound viol.)\n",
      "                    1.7763568394e-15 (int. viol.)\n",
      "                    0 (row viol.)\n",
      "  Timing            0.00 (total)\n",
      "                    0.00 (presolve)\n",
      "                    0.00 (solve)\n",
      "                    0.00 (postsolve)\n",
      "  Max sub-MIP depth 0\n",
      "  Nodes             1\n",
      "  Repair LPs        0 (0 feasible; 0 iterations)\n",
      "  LP iterations     3 (total)\n",
      "                    0 (strong br.)\n",
      "                    0 (separation)\n",
      "                    0 (heuristics)\n",
      "\n",
      "Status do solver: ok\n",
      "Condição de terminação: optimal\n",
      "Valor da Função Objetivo: R$ 50,00\n"
     ]
    }
   ],
   "source": [
    "# ------------------------------\n",
    "# Escrita do Modelo em Arquivo\n",
    "# ------------------------------\n",
    "model.write(\"ex2.lp\", io_options={\"symbolic_solver_labels\": True})\n",
    "\n",
    "# ------------------------------\n",
    "# Resolução\n",
    "# ------------------------------\n",
    "solver = pyo.SolverFactory(\"appsi_highs\")\n",
    "results = solver.solve(model, tee=True)\n",
    "\n",
    "# Exibindo resultados\n",
    "print(\"\\nStatus do solver:\", results.solver.status)\n",
    "print(\"Condição de terminação:\", results.solver.termination_condition)\n",
    "valor_obj = pyo.value(model.obj)\n",
    "formatted = f\"{valor_obj:,.2f}\"\n",
    "formatted = formatted.replace(\",\", \"X\").replace(\".\", \",\").replace(\"X\", \".\")\n",
    "print(\"Valor da Função Objetivo: R$\", formatted)\n",
    "\n"
   ]
  },
  {
   "cell_type": "code",
   "execution_count": 147,
   "id": "d33c45c1",
   "metadata": {},
   "outputs": [
    {
     "name": "stdout",
     "output_type": "stream",
     "text": [
      "  Quantidade do produto 1 : 4.00\n",
      "  Quantidade do produto 2 : 5.00\n"
     ]
    }
   ],
   "source": [
    "for i in model.P:    \n",
    "    val = pyo.value(model.x[i])\n",
    "    if val is not None and val > 1e-6:\n",
    "        print(f\"  Quantidade do produto {i} : {val:.2f}\")"
   ]
  },
  {
   "cell_type": "markdown",
   "id": "5e3ebe54",
   "metadata": {},
   "source": [
    "## EX3"
   ]
  },
  {
   "cell_type": "code",
   "execution_count": 148,
   "id": "5a4f23b4",
   "metadata": {},
   "outputs": [],
   "source": [
    "# Criação do modelo\n",
    "model = pyo.ConcreteModel(\"Passarinho\")"
   ]
  },
  {
   "cell_type": "code",
   "execution_count": 149,
   "id": "08145bc4",
   "metadata": {},
   "outputs": [],
   "source": [
    "# Tipos produto:\n",
    "model.P = pyo.Set(initialize=[\"forte\", \"light\"])\n",
    "\n",
    "# Tipos material:\n",
    "model.M = pyo.Set(initialize=[\"1\", \"2\"])"
   ]
  },
  {
   "cell_type": "code",
   "execution_count": 150,
   "id": "065813c0",
   "metadata": {},
   "outputs": [],
   "source": [
    "# ------------------------------\n",
    "# Parâmetros\n",
    "# ------------------------------\n",
    "\n",
    "\n",
    "# Custos \n",
    "custo = {\"forte\":6, \"light\":10}\n",
    "model.c = pyo.Param(model.P,initialize=custo)\n",
    "\n",
    "# Qtd mão de obra\n",
    "mao_obra = {\"forte\":1, \"light\":2}\n",
    "model.mao_de_obra = pyo.Param(model.P,initialize=mao_obra)\n",
    "\n",
    "# Limite producao\n",
    "limt = {\"forte\":(0,5), \"light\":(0,6)}\n",
    "# model.limite = pyo.Param(model.P,initialize=limt)\n",
    "\n",
    "# Material\n",
    "qtd_material = {(\"forte\",\"1\"):3, (\"light\",\"1\"):5,(\"forte\",\"2\"):5, (\"light\",\"2\"):4}\n",
    "model.q_material = pyo.Param(model.P,model.M,initialize=qtd_material)\n",
    "\n",
    "#utilização material\n",
    "ut = {\"1\":15, \"2\":20}\n",
    "model.min_material = pyo.Param(model.M,initialize=ut)\n",
    "\n",
    "# diferença material\n",
    "model.diff_material = pyo.Param(initialize=2)"
   ]
  },
  {
   "cell_type": "code",
   "execution_count": 151,
   "id": "2f46d80d",
   "metadata": {},
   "outputs": [],
   "source": [
    "# ------------------------------\n",
    "# Variáveis de Decisão\n",
    "# ------------------------------\n",
    "# quantidade da ração tobi e max\n",
    "model.x = pyo.Var(model.P,domain=pyo.NonNegativeIntegers,bounds = limt)"
   ]
  },
  {
   "cell_type": "code",
   "execution_count": 152,
   "id": "52b5b262",
   "metadata": {},
   "outputs": [],
   "source": [
    "# ------------------------------\n",
    "# Função Objetivo\n",
    "# ------------------------------\n",
    "def objective_rule(model):\n",
    "    fo = sum(\n",
    "        model.x[i] * model.c[i]\n",
    "        for i in model.P\n",
    "    )\n",
    "\n",
    "    return fo\n",
    "\n",
    "model.obj = pyo.Objective(rule=objective_rule, sense=pyo.minimize)"
   ]
  },
  {
   "cell_type": "code",
   "execution_count": 153,
   "id": "97d1f671",
   "metadata": {},
   "outputs": [],
   "source": [
    "# ------------------------------\n",
    "# Restrições\n",
    "# ------------------------------\n",
    "\n",
    "# 1. Diff quantidade de produtos - upper\n",
    "def up_meteria(model):\n",
    "    return model.x['light'] - model.x['forte'] <= 2\n",
    "\n",
    "model.re_materia_up= pyo.Constraint(rule=up_meteria)\n",
    "\n",
    "#1. Diff quantidade de produtos - lower\n",
    "def lw_meteria(model):\n",
    "    return model.x['light'] - model.x['forte']  >= 0\n",
    "\n",
    "model.re_materia_lw= pyo.Constraint(rule=lw_meteria)\n",
    "\n",
    "# 2. Material\n",
    "def disponibilidade_material(model,m):\n",
    "    return sum(model.x[i] * model.q_material[i,m] for i in model.P) >= model.min_material[m]\n",
    "\n",
    "model.re_material = pyo.Constraint(model.M,rule=disponibilidade_material)\n",
    "\n"
   ]
  },
  {
   "cell_type": "code",
   "execution_count": 154,
   "id": "94a97426",
   "metadata": {},
   "outputs": [
    {
     "name": "stdout",
     "output_type": "stream",
     "text": [
      "MIP  has 4 rows; 2 cols; 8 nonzeros; 2 integer variables (0 binary)\n",
      "Coefficient ranges:\n",
      "  Matrix [1e+00, 5e+00]\n",
      "  Cost   [6e+00, 1e+01]\n",
      "  Bound  [5e+00, 6e+00]\n",
      "  RHS    [2e+00, 2e+01]\n",
      "Presolving model\n",
      "4 rows, 2 cols, 8 nonzeros  0s\n",
      "3 rows, 2 cols, 6 nonzeros  0s\n",
      "3 rows, 2 cols, 6 nonzeros  0s\n",
      "Objective function is integral with scale 0.5\n",
      "\n",
      "Solving MIP model with:\n",
      "   3 rows\n",
      "   2 cols (0 binary, 2 integer, 0 implied int., 0 continuous)\n",
      "   6 nonzeros\n",
      "\n",
      "Src: B => Branching; C => Central rounding; F => Feasibility pump; H => Heuristic; L => Sub-MIP;\n",
      "     P => Empty MIP; R => Randomized rounding; S => Solve LP; T => Evaluate node; U => Unbounded;\n",
      "     z => Trivial zero; l => Trivial lower; u => Trivial upper; p => Trivial point; X => User solution\n",
      "\n",
      "        Nodes      |    B&B Tree     |            Objective Bounds              |  Dynamic Constraints |       Work      \n",
      "Src  Proc. InQueue |  Leaves   Expl. | BestBound       BestSol              Gap |   Cuts   InLp Confl. | LpIters     Time\n",
      "\n",
      " u       0       0         0   0.00%   -inf            90                 Large        0      0      0         0     0.0s\n",
      " R       0       0         0 100.00%   35.55555556     42                15.34%        0      0      0         2     0.0s\n",
      "         1       0         1 100.00%   42              42                 0.00%        0      0      0         2     0.0s\n",
      "\n",
      "Solving report\n",
      "  Status            Optimal\n",
      "  Primal bound      42\n",
      "  Dual bound        42\n",
      "  Gap               0% (tolerance: 0.01%)\n",
      "  P-D integral      0.000368878786572\n",
      "  Solution status   feasible\n",
      "                    42 (objective)\n",
      "                    0 (bound viol.)\n",
      "                    0 (int. viol.)\n",
      "                    0 (row viol.)\n",
      "  Timing            0.00 (total)\n",
      "                    0.00 (presolve)\n",
      "                    0.00 (solve)\n",
      "                    0.00 (postsolve)\n",
      "  Max sub-MIP depth 0\n",
      "  Nodes             1\n",
      "  Repair LPs        0 (0 feasible; 0 iterations)\n",
      "  LP iterations     2 (total)\n",
      "                    0 (strong br.)\n",
      "                    0 (separation)\n",
      "                    0 (heuristics)\n",
      "\n",
      "Status do solver: ok\n",
      "Condição de terminação: optimal\n",
      "Valor da Função Objetivo: R$ 42,00\n"
     ]
    }
   ],
   "source": [
    "# ------------------------------\n",
    "# Escrita do Modelo em Arquivo\n",
    "# ------------------------------\n",
    "model.write(\"ex3.lp\", io_options={\"symbolic_solver_labels\": True})\n",
    "\n",
    "# ------------------------------\n",
    "# Resolução\n",
    "# ------------------------------\n",
    "solver = pyo.SolverFactory(\"appsi_highs\")\n",
    "results = solver.solve(model, tee=True)\n",
    "\n",
    "# Exibindo resultados\n",
    "print(\"\\nStatus do solver:\", results.solver.status)\n",
    "print(\"Condição de terminação:\", results.solver.termination_condition)\n",
    "valor_obj = pyo.value(model.obj)\n",
    "formatted = f\"{valor_obj:,.2f}\"\n",
    "formatted = formatted.replace(\",\", \"X\").replace(\".\", \",\").replace(\"X\", \".\")\n",
    "print(\"Valor da Função Objetivo: R$\", formatted)\n",
    "\n"
   ]
  },
  {
   "cell_type": "code",
   "execution_count": 155,
   "id": "a9a61624",
   "metadata": {},
   "outputs": [
    {
     "name": "stdout",
     "output_type": "stream",
     "text": [
      "  Quantidade do produto forte : 2.00\n",
      "  Quantidade do produto light : 3.00\n"
     ]
    }
   ],
   "source": [
    "for i in model.P:    \n",
    "    val = pyo.value(model.x[i])\n",
    "    if val is not None and val > 1e-6:\n",
    "        print(f\"  Quantidade do produto {i} : {val:.2f}\")"
   ]
  },
  {
   "cell_type": "markdown",
   "id": "b26fe670",
   "metadata": {},
   "source": [
    "## Ex4"
   ]
  },
  {
   "cell_type": "code",
   "execution_count": 156,
   "id": "648682d7",
   "metadata": {},
   "outputs": [],
   "source": [
    "# Criação do modelo\n",
    "model = pyo.ConcreteModel()"
   ]
  },
  {
   "cell_type": "code",
   "execution_count": 157,
   "id": "e45916d7",
   "metadata": {},
   "outputs": [],
   "source": [
    "\n",
    "# Conjuntos\n",
    "model.P = pyo.Set(initialize=['Arlington', 'Marilandy', 'Gristedes'])  # Modelos de carros\n",
    "model.S = pyo.Set(initialize=['Injecao', 'Fundicao', 'Usinagem', 'Estamparia', 'Acabamento'])  # Setores"
   ]
  },
  {
   "cell_type": "code",
   "execution_count": 158,
   "id": "1d24ee7e",
   "metadata": {},
   "outputs": [],
   "source": [
    "# ------------------------------\n",
    "# Parâmetros\n",
    "# ------------------------------\n",
    "lucro = {'Arlington': 2500, 'Marilandy': 3000, 'Gristedes': 2800}\n",
    "model.lucro = pyo.Param(model.P,initialize=lucro)\n",
    "\n",
    "demanda_min = {'Arlington': 50, 'Marilandy': 30, 'Gristedes': 30}\n",
    "model.demanda_min = pyo.Param(model.P,initialize=demanda_min)\n",
    "\n",
    "tempo_operacao = {\n",
    "    ('Injecao', 'Arlington'): 3, ('Injecao', 'Marilandy'): 4, ('Injecao', 'Gristedes'): 3,\n",
    "    ('Fundicao', 'Arlington'): 5, ('Fundicao', 'Marilandy'): 5, ('Fundicao', 'Gristedes'): 4,\n",
    "    ('Usinagem', 'Arlington'): 2, ('Usinagem', 'Marilandy'): 4, ('Usinagem', 'Gristedes'): 4,\n",
    "    ('Estamparia', 'Arlington'): 4, ('Estamparia', 'Marilandy'): 5, ('Estamparia', 'Gristedes'): 5,\n",
    "    ('Acabamento', 'Arlington'): 2, ('Acabamento', 'Marilandy'): 3, ('Acabamento', 'Gristedes'): 3\n",
    "}\n",
    "model.tempo_operacao = pyo.Param(model.S, model.P, initialize=tempo_operacao)\n",
    "\n",
    "maquinas_disponiveis = {'Injecao': 6, 'Fundicao': 8, 'Usinagem': 5, 'Estamparia': 8, 'Acabamento': 5}\n",
    "model.maquinas_disponiveis = pyo.Param(model.S, initialize=maquinas_disponiveis)\n",
    "\n",
    "tempo_semanal_por_maquina = 4800  # minutos por semana\n",
    "model.tempo_semanal_por_maquina = pyo.Param(initialize=tempo_semanal_por_maquina)"
   ]
  },
  {
   "cell_type": "code",
   "execution_count": 159,
   "id": "8a9ccd4e",
   "metadata": {},
   "outputs": [],
   "source": [
    "# ------------------------------\n",
    "# Variáveis de Decisão\n",
    "# ------------------------------\n",
    "model.x = pyo.Var(model.P, domain=pyo.NonNegativeReals)  # Quantidade produzida de cada modelo"
   ]
  },
  {
   "cell_type": "code",
   "execution_count": 160,
   "id": "e9f0879d",
   "metadata": {},
   "outputs": [],
   "source": [
    "# ------------------------------\n",
    "# Função Objetivo\n",
    "# ------------------------------\n",
    "def lucro_total(model):\n",
    "    return sum(lucro[j] * model.x[j] for j in model.P)\n",
    "model.objetivo = pyo.Objective(rule=lucro_total, sense=pyo.maximize)"
   ]
  },
  {
   "cell_type": "code",
   "execution_count": 161,
   "id": "f8cdcb0c",
   "metadata": {},
   "outputs": [],
   "source": [
    "\n",
    "# ------------------------------\n",
    "# Restrições\n",
    "# ------------------------------\n",
    "\n",
    "\n",
    "# 1. Restrições de capacidade por setor\n",
    "def restricao_capacidade(model, i):\n",
    "    return sum(tempo_operacao[i, j] * model.x[j] for j in model.P) <= maquinas_disponiveis[i] * tempo_semanal_por_maquina\n",
    "model.capacidade = pyo.Constraint(model.S, rule=restricao_capacidade)\n",
    "\n",
    "# 2. Restrições de demanda mínima\n",
    "def restricao_demanda(model, j):\n",
    "    return model.x[j] >= demanda_min[j]\n",
    "model.demanda = pyo.Constraint(model.P, rule=restricao_demanda)"
   ]
  },
  {
   "cell_type": "code",
   "execution_count": 162,
   "id": "3f9f33c3",
   "metadata": {},
   "outputs": [
    {
     "data": {
      "text/plain": [
       "('ex4.lp', 2676203678112)"
      ]
     },
     "execution_count": 162,
     "metadata": {},
     "output_type": "execute_result"
    }
   ],
   "source": [
    "# ------------------------------\n",
    "# Escrita do Modelo em Arquivo\n",
    "# ------------------------------\n",
    "model.write(\"ex4.lp\", io_options={\"symbolic_solver_labels\": True})"
   ]
  },
  {
   "cell_type": "code",
   "execution_count": 163,
   "id": "9cdb4f36",
   "metadata": {},
   "outputs": [
    {
     "name": "stdout",
     "output_type": "stream",
     "text": [
      "LP   has 8 rows; 3 cols; 18 nonzeros\n",
      "Coefficient ranges:\n",
      "  Matrix [1e+00, 5e+00]\n",
      "  Cost   [2e+03, 3e+03]\n",
      "  Bound  [0e+00, 0e+00]\n",
      "  RHS    [3e+01, 4e+04]\n",
      "Presolving model\n",
      "5 rows, 3 cols, 15 nonzeros  0s\n",
      "5 rows, 3 cols, 15 nonzeros  0s\n",
      "Presolve : Reductions: rows 5(-3); columns 3(-0); elements 15(-3)\n",
      "Solving the presolved LP\n",
      "Using EKK dual simplex solver - serial\n",
      "  Iteration        Objective     Infeasibilities num(sum)\n",
      "          0    -8.2999936572e+03 Ph1: 5(56); Du: 3(8299.99) 0s\n",
      "          2    -2.2075000000e+07 Pr: 0(0) 0s\n",
      "Solving the original LP from the solution after postsolve\n",
      "Model status        : Optimal\n",
      "Simplex   iterations: 2\n",
      "Objective value     :  2.2075000000e+07\n",
      "Relative P-D gap    :  0.0000000000e+00\n",
      "HiGHS run time      :          0.00\n",
      "\n",
      "Status do solver: ok\n",
      "Condição de terminação: optimal\n",
      "Valor da Função Objetivo: R$ 22.075.000,00\n"
     ]
    }
   ],
   "source": [
    "# ------------------------------\n",
    "# Resolução\n",
    "# ------------------------------\n",
    "solver = pyo.SolverFactory(\"appsi_highs\")\n",
    "results = solver.solve(model, tee=True)\n",
    "\n",
    "# Exibindo resultados\n",
    "print(\"\\nStatus do solver:\", results.solver.status)\n",
    "print(\"Condição de terminação:\", results.solver.termination_condition)\n",
    "valor_obj = pyo.value(model.objetivo)\n",
    "formatted = f\"{valor_obj:,.2f}\"\n",
    "formatted = formatted.replace(\",\", \"X\").replace(\".\", \",\").replace(\"X\", \".\")\n",
    "print(\"Valor da Função Objetivo: R$\", formatted)\n",
    "\n"
   ]
  },
  {
   "cell_type": "code",
   "execution_count": 164,
   "id": "f7b949ea",
   "metadata": {},
   "outputs": [
    {
     "name": "stdout",
     "output_type": "stream",
     "text": [
      "  Quantidade do produto Arlington : 4790.00\n",
      "  Quantidade do produto Marilandy : 30.00\n",
      "  Quantidade do produto Gristedes : 3575.00\n"
     ]
    }
   ],
   "source": [
    "for i in model.P:    \n",
    "    val = pyo.value(model.x[i])\n",
    "    if val is not None and val > 1e-6:\n",
    "        print(f\"  Quantidade do produto {i} : {val:.2f}\")"
   ]
  },
  {
   "cell_type": "markdown",
   "id": "51a6ce75",
   "metadata": {},
   "source": [
    "## Ex5 "
   ]
  },
  {
   "cell_type": "code",
   "execution_count": 165,
   "id": "a19e0107",
   "metadata": {},
   "outputs": [],
   "source": [
    "# Criação do modelo\n",
    "model = pyo.ConcreteModel()"
   ]
  },
  {
   "cell_type": "code",
   "execution_count": 166,
   "id": "ef7642c4",
   "metadata": {},
   "outputs": [],
   "source": [
    "\n",
    "# Conjuntos\n",
    "model.P = pyo.Set(initialize=['Cerveja', 'Refrigerante']) \n",
    "\n",
    "model.S_cerveja = pyo.Set(initialize=['Malte', 'Mosto', 'Fermentacao', 'Processamento', 'Envase'])  \n",
    "model.S_refrigerante = pyo.Set(initialize=['Xarope_Simples', 'Xarope_Composto', 'Diluicao', 'Carbonatacao', 'Envase'])  "
   ]
  },
  {
   "cell_type": "code",
   "execution_count": 167,
   "id": "9f36137f",
   "metadata": {},
   "outputs": [],
   "source": [
    "# ------------------------------\n",
    "# Parâmetros\n",
    "# ------------------------------\n",
    "\n",
    "\n",
    "tempo_cerveja = {'Malte': 2, 'Mosto': 4, 'Fermentacao': 3, 'Processamento': 4, 'Envase': 5}\n",
    "model.tempo_cerveja = pyo.Param(model.S_cerveja, initialize=tempo_cerveja)\n",
    "\n",
    "tempo_refrigerante = {'Xarope_Simples': 1, 'Xarope_Composto': 3, 'Diluicao': 4, 'Carbonatacao': 5, 'Envase': 2}\n",
    "model.tempo_refrigerante = pyo.Param(model.S_refrigerante, initialize=tempo_refrigerante)\n",
    "\n",
    "maquinas_cerveja = {'Malte': 6, 'Mosto': 12, 'Fermentacao': 10, 'Processamento': 12, 'Envase': 13}\n",
    "model.maquinas_cerveja = pyo.Param(model.S_cerveja, initialize=maquinas_cerveja)\n",
    "\n",
    "maquinas_refrigerante = {'Xarope_Simples': 6, 'Xarope_Composto': 7, 'Diluicao': 8, 'Carbonatacao': 10, 'Envase': 5}\n",
    "model.maquinas_refrigerante = pyo.Param(model.S_refrigerante, initialize=maquinas_refrigerante)\n",
    "\n",
    "tempo_disponivel = 8 * 20 * 60  # 20 dias úteis de 8 horas por dia, em minutos\n",
    "model.tempo_disponivel = pyo.Param(initialize=tempo_disponivel)\n",
    "\n",
    "margem_contribuicao = {'Cerveja': 0.5, 'Refrigerante': 0.4}\n",
    "model.margem_contribuicao = pyo.Param(model.P, initialize=margem_contribuicao)\n",
    "\n",
    "demanda_maxima = 42000  # Demanda máxima total por mês em litros\n",
    "model.demanda_maxima = pyo.Param(initialize=demanda_maxima)\n"
   ]
  },
  {
   "cell_type": "code",
   "execution_count": 168,
   "id": "cc0a1945",
   "metadata": {},
   "outputs": [],
   "source": [
    "\n",
    "# ------------------------------\n",
    "# Variáveis de Decisão\n",
    "# ------------------------------\n",
    "model.x = pyo.Var(model.P, domain=pyo.NonNegativeReals)  # Quantidade produzida de cada modelo\n"
   ]
  },
  {
   "cell_type": "code",
   "execution_count": 169,
   "id": "b2bd7e48",
   "metadata": {},
   "outputs": [],
   "source": [
    "\n",
    "# ------------------------------\n",
    "# Função Objetivo\n",
    "# ------------------------------\n",
    "def MC_total(model):\n",
    "    return sum(margem_contribuicao[j] * model.x[j] for j in model.P)\n",
    "model.objetivo = pyo.Objective(rule=MC_total, sense=pyo.maximize)\n"
   ]
  },
  {
   "cell_type": "code",
   "execution_count": 170,
   "id": "22e2f728",
   "metadata": {},
   "outputs": [],
   "source": [
    "# ------------------------------\n",
    "# Restrições\n",
    "# ------------------------------\n",
    "\n",
    "# 1. Restrições de capacidade cerveja\n",
    "def restricao_capacidade_cerveja(model, i):\n",
    "\n",
    "    return model.tempo_cerveja[i] * model.x['Cerveja'] <= model.maquinas_cerveja[i] * model.tempo_disponivel\n",
    "model.capacidade_cerv = pyo.Constraint(model.S_cerveja, rule=restricao_capacidade_cerveja)\n",
    "\n",
    "# 2. Restrições de capacidade refirgerante\n",
    "def restricao_capacidade_refri(model, i):\n",
    "\n",
    "    return model.tempo_refrigerante[i] * model.x['Refrigerante'] <= model.maquinas_refrigerante[i] * model.tempo_disponivel\n",
    "model.capacidade_refri = pyo.Constraint(model.S_refrigerante, rule=restricao_capacidade_refri)\n",
    "\n",
    "# 3. Restrições de demanda máxima\n",
    "def restricao_demanda(model):\n",
    "    return sum(model.x[j] for j in model.P) <= model.demanda_maxima\n",
    "model.demanda = pyo.Constraint(rule=restricao_demanda)"
   ]
  },
  {
   "cell_type": "code",
   "execution_count": 171,
   "id": "07345ba1",
   "metadata": {},
   "outputs": [
    {
     "data": {
      "text/plain": [
       "('ex5.lp', 2676203634800)"
      ]
     },
     "execution_count": 171,
     "metadata": {},
     "output_type": "execute_result"
    }
   ],
   "source": [
    "# ------------------------------\n",
    "# Escrita do Modelo em Arquivo\n",
    "# ------------------------------\n",
    "model.write(\"ex5.lp\", io_options={\"symbolic_solver_labels\": True})"
   ]
  },
  {
   "cell_type": "code",
   "execution_count": 172,
   "id": "8c83ec22",
   "metadata": {},
   "outputs": [
    {
     "name": "stdout",
     "output_type": "stream",
     "text": [
      "LP   has 11 rows; 2 cols; 12 nonzeros\n",
      "Coefficient ranges:\n",
      "  Matrix [1e+00, 5e+00]\n",
      "  Cost   [4e-01, 5e-01]\n",
      "  Bound  [0e+00, 0e+00]\n",
      "  RHS    [4e+04, 1e+05]\n",
      "Presolving model\n",
      "1 rows, 2 cols, 2 nonzeros  0s\n",
      "1 rows, 2 cols, 2 nonzeros  0s\n",
      "Presolve : Reductions: rows 1(-10); columns 2(-0); elements 2(-10)\n",
      "Solving the presolved LP\n",
      "Using EKK dual simplex solver - serial\n",
      "  Iteration        Objective     Infeasibilities num(sum)\n",
      "          0     0.0000000000e+00 Ph1: 0(0) 0s\n",
      "          1    -1.9296000000e+04 Pr: 0(0) 0s\n",
      "Solving the original LP from the solution after postsolve\n",
      "Model status        : Optimal\n",
      "Simplex   iterations: 1\n",
      "Objective value     :  1.9296000000e+04\n",
      "Relative P-D gap    :  0.0000000000e+00\n",
      "HiGHS run time      :          0.00\n",
      "\n",
      "Status do solver: ok\n",
      "Condição de terminação: optimal\n",
      "Valor da Função Objetivo: R$ 19.296,00\n"
     ]
    }
   ],
   "source": [
    "# ------------------------------\n",
    "# Resolução\n",
    "# ------------------------------\n",
    "solver = pyo.SolverFactory(\"appsi_highs\")\n",
    "results = solver.solve(model, tee=True)\n",
    "\n",
    "# Exibindo resultados\n",
    "print(\"\\nStatus do solver:\", results.solver.status)\n",
    "print(\"Condição de terminação:\", results.solver.termination_condition)\n",
    "valor_obj = pyo.value(model.objetivo)\n",
    "formatted = f\"{valor_obj:,.2f}\"\n",
    "formatted = formatted.replace(\",\", \"X\").replace(\".\", \",\").replace(\"X\", \".\")\n",
    "print(\"Valor da Função Objetivo: R$\", formatted)\n",
    "\n"
   ]
  },
  {
   "cell_type": "code",
   "execution_count": 173,
   "id": "5498f637",
   "metadata": {},
   "outputs": [
    {
     "name": "stdout",
     "output_type": "stream",
     "text": [
      "  Quantidade do produto Cerveja : 24960.00\n",
      "  Quantidade do produto Refrigerante : 17040.00\n"
     ]
    }
   ],
   "source": [
    "for i in model.P:    \n",
    "    val = pyo.value(model.x[i])\n",
    "    if val is not None and val > 1e-6:\n",
    "        print(f\"  Quantidade do produto {i} : {val:.2f}\")"
   ]
  },
  {
   "cell_type": "markdown",
   "id": "04236507",
   "metadata": {},
   "source": [
    "## EX6"
   ]
  },
  {
   "cell_type": "code",
   "execution_count": 174,
   "id": "56e3d8e1",
   "metadata": {},
   "outputs": [],
   "source": [
    "# Criação do modelo\n",
    "model = pyo.ConcreteModel()"
   ]
  },
  {
   "cell_type": "code",
   "execution_count": 175,
   "id": "293a2bbe",
   "metadata": {},
   "outputs": [],
   "source": [
    "\n",
    "# Conjuntos\n",
    "model.P = pyo.Set(initialize=['Geladeira', 'Freezer', 'Fogao', 'LavaLoucas', 'Microondas'])  \n",
    "model.S = pyo.Set(initialize=['Prensagem', 'Pintura', 'Liquefacao', 'Montagem', 'Embalagem']) "
   ]
  },
  {
   "cell_type": "code",
   "execution_count": 176,
   "id": "3c22a693",
   "metadata": {},
   "outputs": [],
   "source": [
    "# ------------------------------\n",
    "# Parâmetros\n",
    "# ------------------------------\n",
    "# Horas-máquina necessárias por produto e setor\n",
    "HM = {('Geladeira', 'Prensagem'): 0.2, ('Geladeira', 'Pintura'): 0.2, ('Geladeira', 'Liquefacao'): 0.4, ('Geladeira', 'Montagem'): 0.2, ('Geladeira', 'Embalagem'): 0.1,\n",
    "      ('Freezer', 'Prensagem'): 0.2, ('Freezer', 'Pintura'): 0.3, ('Freezer', 'Liquefacao'): 0.3, ('Freezer', 'Montagem'): 0.4, ('Freezer', 'Embalagem'): 0.2,\n",
    "      ('Fogao', 'Prensagem'): 0.4, ('Fogao', 'Pintura'): 0.3, ('Fogao', 'Liquefacao'): 0.3, ('Fogao', 'Montagem'): 0.4, ('Fogao', 'Embalagem'): 0.2,\n",
    "      ('LavaLoucas', 'Prensagem'): 0.4, ('LavaLoucas', 'Pintura'): 0.3, ('LavaLoucas', 'Liquefacao'): 0.3, ('LavaLoucas', 'Montagem'): 0.4, ('LavaLoucas', 'Embalagem'): 0.2,\n",
    "      ('Microondas', 'Prensagem'): 0.3, ('Microondas', 'Pintura'): 0.2, ('Microondas', 'Liquefacao'): 0.2, ('Microondas', 'Montagem'): 0.4, ('Microondas', 'Embalagem'): 0.3}\n",
    "model.HM = pyo.Param(model.P, model.S, initialize=HM)\n",
    "# Horas-máquina necessárias por produto e setor\n",
    "HH = {('Geladeira', 'Prensagem'): 0.5, ('Geladeira', 'Pintura'): 0.3, ('Geladeira', 'Liquefacao'): 0.5, ('Geladeira', 'Montagem'): 0.6, ('Geladeira', 'Embalagem'): 0.4,\n",
    "      ('Freezer', 'Prensagem'): 0.4, ('Freezer', 'Pintura'): 0.4, ('Freezer', 'Liquefacao'): 0.5, ('Freezer', 'Montagem'): 0.5, ('Freezer', 'Embalagem'): 0.4,\n",
    "      ('Fogao', 'Prensagem'): 0.5, ('Fogao', 'Pintura'): 0.4, ('Fogao', 'Liquefacao'): 0.3, ('Fogao', 'Montagem'): 0.4, ('Fogao', 'Embalagem'): 0.4,\n",
    "      ('LavaLoucas', 'Prensagem'): 0.4, ('LavaLoucas', 'Pintura'): 0.4, ('LavaLoucas', 'Liquefacao'): 0.4, ('LavaLoucas', 'Montagem'): 0.5, ('LavaLoucas', 'Embalagem'): 0.3,\n",
    "      ('Microondas', 'Prensagem'): 0.2, ('Microondas', 'Pintura'): 0.3, ('Microondas', 'Liquefacao'): 0.3, ('Microondas', 'Montagem'): 0.6, ('Microondas', 'Embalagem'): 0.2}\n",
    "model.HH = pyo.Param(model.P, model.S, initialize=HH)\n",
    " # Horas-máquina disponíveis por setor\n",
    "T = {'Prensagem': 400, 'Pintura': 350, 'Liquefacao': 250, 'Montagem': 200, 'Embalagem': 200} \n",
    "model.T = pyo.Param(model.S, initialize=T)\n",
    "# Funcionários disponíveis por setor\n",
    "H = {'Prensagem': 120, 'Pintura': 10, 'Liquefacao': 8, 'Montagem': 10, 'Embalagem': 8}  \n",
    "model.H = pyo.Param(model.S, initialize=H)\n",
    "# Horas de trabalho por dia\n",
    "model.h = pyo.Param(initialize=8)\n",
    "# Dias de trabalho por semana\n",
    "model.d = pyo.Param(initialize=5)  \n",
    "# Lucro unitário por produto\n",
    "L = {'Geladeira': 52, 'Freezer': 37, 'Fogao': 35, 'LavaLoucas': 40, 'Microondas': 29} \n",
    "model.L = pyo.Param(model.P, initialize=L)\n",
    "# Demanda mínima\n",
    "Cm = {'Geladeira': 200, 'Freezer': 50, 'Fogao': 50, 'LavaLoucas': 50, 'Microondas': 40}  \n",
    "model.Cm = pyo.Param(model.P, initialize=Cm)\n",
    "# Demanda máxima\n",
    "CM = {'Geladeira': 1000, 'Freezer': 800, 'Fogao': 500, 'LavaLoucas': 500, 'Microondas': 200}  \n",
    "model.CM = pyo.Param(model.P, initialize=CM)"
   ]
  },
  {
   "cell_type": "code",
   "execution_count": 177,
   "id": "6ee1df8c",
   "metadata": {},
   "outputs": [],
   "source": [
    "\n",
    "# ------------------------------\n",
    "# Variáveis de Decisão\n",
    "# ------------------------------\n",
    "model.x = pyo.Var(model.P, domain=pyo.NonNegativeReals)  # Quantidade produzida de cada modelo\n"
   ]
  },
  {
   "cell_type": "code",
   "execution_count": 178,
   "id": "19aefa8e",
   "metadata": {},
   "outputs": [],
   "source": [
    "\n",
    "# ------------------------------\n",
    "# Função Objetivo\n",
    "# ------------------------------\n",
    "def lucro_total(model):\n",
    "    return sum(model.L[j] * model.x[j] for j in model.P)\n",
    "model.objetivo = pyo.Objective(rule=lucro_total, sense=pyo.maximize)\n"
   ]
  },
  {
   "cell_type": "code",
   "execution_count": 179,
   "id": "e7ab6b0c",
   "metadata": {},
   "outputs": [],
   "source": [
    "# ------------------------------\n",
    "# Restrições\n",
    "# ------------------------------\n",
    "\n",
    "\n",
    "# Restrições de disponibilidade de máquinas\n",
    "def restricao_maquinas(model, j):\n",
    "    return sum(HM[i, j] * model.x[i] for i in model.P) <= T[j]\n",
    "model.restricoes_maquinas = pyo.Constraint(model.S, rule=restricao_maquinas)\n",
    "\n",
    "# Restrições de disponibilidade de mão de obra\n",
    "def restricao_mao_de_obra(model, j):\n",
    "    return sum(HH[i, j] * model.x[i] for i in model.P) <= H[j] * model.h * model.d\n",
    "model.restricoes_mao_de_obra = pyo.Constraint(model.S, rule=restricao_mao_de_obra)\n",
    "\n",
    "# Restrições de capacidade mínima\n",
    "def restricao_minima(model, i):\n",
    "    return model.x[i] >= Cm[i]\n",
    "model.restricoes_minimas = pyo.Constraint(model.P, rule=restricao_minima)\n",
    "\n",
    "# Restrições de capacidade máxima\n",
    "def restricao_maxima(model, i):\n",
    "    return model.x[i] <= CM[i]\n",
    "model.restricoes_maximas = pyo.Constraint(model.P, rule=restricao_maxima)\n"
   ]
  },
  {
   "cell_type": "code",
   "execution_count": 180,
   "id": "7a3bad2d",
   "metadata": {},
   "outputs": [
    {
     "data": {
      "text/plain": [
       "('ex6.lp', 2676203538992)"
      ]
     },
     "execution_count": 180,
     "metadata": {},
     "output_type": "execute_result"
    }
   ],
   "source": [
    "# ------------------------------\n",
    "# Escrita do Modelo em Arquivo\n",
    "# ------------------------------\n",
    "model.write(\"ex6.lp\", io_options={\"symbolic_solver_labels\": True})"
   ]
  },
  {
   "cell_type": "code",
   "execution_count": 181,
   "id": "875171af",
   "metadata": {},
   "outputs": [
    {
     "name": "stdout",
     "output_type": "stream",
     "text": [
      "LP   has 20 rows; 5 cols; 60 nonzeros\n",
      "Coefficient ranges:\n",
      "  Matrix [1e-01, 1e+00]\n",
      "  Cost   [3e+01, 5e+01]\n",
      "  Bound  [0e+00, 0e+00]\n",
      "  RHS    [4e+01, 5e+03]\n",
      "Presolving model\n",
      "9 rows, 5 cols, 45 nonzeros  0s\n",
      "9 rows, 5 cols, 45 nonzeros  0s\n",
      "Presolve : Reductions: rows 9(-11); columns 5(-0); elements 45(-15)\n",
      "Solving the presolved LP\n",
      "Using EKK dual simplex solver - serial\n",
      "  Iteration        Objective     Infeasibilities num(sum)\n",
      "          0     0.0000000000e+00 Ph1: 0(0) 0s\n",
      "          4    -3.2475000000e+04 Pr: 0(0) 0s\n",
      "Solving the original LP from the solution after postsolve\n",
      "Model status        : Optimal\n",
      "Simplex   iterations: 4\n",
      "Objective value     :  3.2475000000e+04\n",
      "Relative P-D gap    :  2.2404796349e-16\n",
      "HiGHS run time      :          0.00\n",
      "\n",
      "Status do solver: ok\n",
      "Condição de terminação: optimal\n",
      "Valor da Função Objetivo: R$ 32.475,00\n"
     ]
    }
   ],
   "source": [
    "# ------------------------------\n",
    "# Resolução\n",
    "# ------------------------------\n",
    "solver = pyo.SolverFactory(\"appsi_highs\")\n",
    "results = solver.solve(model, tee=True)\n",
    "\n",
    "# Exibindo resultados\n",
    "print(\"\\nStatus do solver:\", results.solver.status)\n",
    "print(\"Condição de terminação:\", results.solver.termination_condition)\n",
    "valor_obj = pyo.value(model.objetivo)\n",
    "formatted = f\"{valor_obj:,.2f}\"\n",
    "formatted = formatted.replace(\",\", \"X\").replace(\".\", \",\").replace(\"X\", \".\")\n",
    "print(\"Valor da Função Objetivo: R$\", formatted)\n",
    "\n"
   ]
  },
  {
   "cell_type": "code",
   "execution_count": 182,
   "id": "255fd005",
   "metadata": {},
   "outputs": [
    {
     "name": "stdout",
     "output_type": "stream",
     "text": [
      "  Quantidade do produto Geladeira : 475.00\n",
      "  Quantidade do produto Freezer : 50.00\n",
      "  Quantidade do produto Fogao : 50.00\n",
      "  Quantidade do produto LavaLoucas : 50.00\n",
      "  Quantidade do produto Microondas : 75.00\n"
     ]
    }
   ],
   "source": [
    "for i in model.P:    \n",
    "    val = pyo.value(model.x[i])\n",
    "    if val is not None and val > 1e-6:\n",
    "        print(f\"  Quantidade do produto {i} : {val:.2f}\")"
   ]
  },
  {
   "cell_type": "markdown",
   "id": "5b8c1fd6",
   "metadata": {},
   "source": [
    "## EX7"
   ]
  },
  {
   "cell_type": "code",
   "execution_count": 183,
   "id": "0e1e9f7f",
   "metadata": {},
   "outputs": [],
   "source": [
    "# Criação do modelo\n",
    "model = pyo.ConcreteModel()"
   ]
  },
  {
   "cell_type": "code",
   "execution_count": 184,
   "id": "b02dda37",
   "metadata": {},
   "outputs": [],
   "source": [
    "\n",
    "# Conjuntos\n",
    "model.P = pyo.Set(initialize=['Super', 'Extra', 'Comum'])  # Modelos de carros\n",
    "model.S = pyo.Set(initialize=['1', '2', '3'])  # operaçãoes"
   ]
  },
  {
   "cell_type": "code",
   "execution_count": 185,
   "id": "c560310f",
   "metadata": {},
   "outputs": [],
   "source": [
    "# ------------------------------\n",
    "# Parâmetros\n",
    "# ------------------------------\n",
    "lucro = {'Super':5, 'Extra':4, 'Comum':3}\n",
    "model.lucro = pyo.Param(model.P,initialize=lucro)\n",
    "\n",
    "\n",
    "tempo_operacao = {\n",
    "    ('Super', '1'): 6, ('Super', '2'): 3, ('Super', '3'): 4,\n",
    "    ('Extra', '1'): 4, ('Extra', '2'): 6, ('Extra', '3'): 10,\n",
    "    ('Comum', '1'): 2, ('Comum', '2'): 3, ('Comum', '3'): 4\n",
    "} \n",
    "model.tempo_operacao = pyo.Param(model.P,model.S, initialize=tempo_operacao)\n",
    "\n",
    "tempo_disponiveis = {'1': 240, '2': 180, '3': 200}\n",
    "model.tempo_disponiveis = pyo.Param(model.S, initialize=tempo_disponiveis)\n",
    "\n"
   ]
  },
  {
   "cell_type": "code",
   "execution_count": 186,
   "id": "0705169f",
   "metadata": {},
   "outputs": [],
   "source": [
    "\n",
    "# ------------------------------\n",
    "# Variáveis de Decisão\n",
    "# ------------------------------\n",
    "model.x = pyo.Var(model.P, domain=pyo.NonNegativeReals)  # Quantidade produzida de cada modelo\n"
   ]
  },
  {
   "cell_type": "code",
   "execution_count": 187,
   "id": "a32c1e85",
   "metadata": {},
   "outputs": [],
   "source": [
    "\n",
    "# ------------------------------\n",
    "# Função Objetivo\n",
    "# ------------------------------\n",
    "def lucro_total(model):\n",
    "    return sum(model.lucro[j] * model.x[j] for j in model.P)\n",
    "model.objetivo = pyo.Objective(rule=lucro_total, sense=pyo.maximize)\n"
   ]
  },
  {
   "cell_type": "code",
   "execution_count": 188,
   "id": "dc7d5951",
   "metadata": {},
   "outputs": [],
   "source": [
    "# ------------------------------\n",
    "# Restrições\n",
    "# ------------------------------\n",
    "\n",
    "\n",
    "# 1. Restrições de capacidade por operação\n",
    "def restricao_capacidade(model, i):\n",
    "    return sum(model.tempo_operacao[j,i] * model.x[j] for j in model.P) <= model.tempo_disponiveis[i]\n",
    "model.capacidade = pyo.Constraint(model.S, rule=restricao_capacidade)\n"
   ]
  },
  {
   "cell_type": "code",
   "execution_count": 189,
   "id": "16c9b0f3",
   "metadata": {},
   "outputs": [
    {
     "data": {
      "text/plain": [
       "('ex7.lp', 2676203526944)"
      ]
     },
     "execution_count": 189,
     "metadata": {},
     "output_type": "execute_result"
    }
   ],
   "source": [
    "# ------------------------------\n",
    "# Escrita do Modelo em Arquivo\n",
    "# ------------------------------\n",
    "model.write(\"ex7.lp\", io_options={\"symbolic_solver_labels\": True})"
   ]
  },
  {
   "cell_type": "code",
   "execution_count": 190,
   "id": "2361ba45",
   "metadata": {},
   "outputs": [
    {
     "name": "stdout",
     "output_type": "stream",
     "text": [
      "LP   has 3 rows; 3 cols; 9 nonzeros\n",
      "Coefficient ranges:\n",
      "  Matrix [2e+00, 1e+01]\n",
      "  Cost   [3e+00, 5e+00]\n",
      "  Bound  [0e+00, 0e+00]\n",
      "  RHS    [2e+02, 2e+02]\n",
      "Presolving model\n",
      "3 rows, 3 cols, 9 nonzeros  0s\n",
      "3 rows, 3 cols, 9 nonzeros  0s\n",
      "Presolve : Reductions: rows 3(-0); columns 3(-0); elements 9(-0) - Not reduced\n",
      "Problem not reduced by presolve: solving the LP\n",
      "Using EKK dual simplex solver - serial\n",
      "  Iteration        Objective     Infeasibilities num(sum)\n",
      "          0    -3.2499955273e+00 Ph1: 3(10.25); Du: 3(3.25) 0s\n",
      "          2     2.2000000000e+02 Pr: 0(0) 0s\n",
      "Model status        : Optimal\n",
      "Simplex   iterations: 2\n",
      "Objective value     :  2.2000000000e+02\n",
      "Relative P-D gap    :  0.0000000000e+00\n",
      "HiGHS run time      :          0.00\n",
      "\n",
      "Status do solver: ok\n",
      "Condição de terminação: optimal\n",
      "Valor da Função Objetivo: R$ 220,00\n"
     ]
    }
   ],
   "source": [
    "# ------------------------------\n",
    "# Resolução\n",
    "# ------------------------------\n",
    "solver = pyo.SolverFactory(\"appsi_highs\")\n",
    "results = solver.solve(model, tee=True)\n",
    "\n",
    "# Exibindo resultados\n",
    "print(\"\\nStatus do solver:\", results.solver.status)\n",
    "print(\"Condição de terminação:\", results.solver.termination_condition)\n",
    "valor_obj = pyo.value(model.objetivo)\n",
    "formatted = f\"{valor_obj:,.2f}\"\n",
    "formatted = formatted.replace(\",\", \"X\").replace(\".\", \",\").replace(\"X\", \".\")\n",
    "print(\"Valor da Função Objetivo: R$\", formatted)\n",
    "\n"
   ]
  },
  {
   "cell_type": "code",
   "execution_count": 191,
   "id": "01af3821",
   "metadata": {},
   "outputs": [
    {
     "name": "stdout",
     "output_type": "stream",
     "text": [
      "  Quantidade do produto Super : 35.00\n",
      "  Quantidade do produto Comum : 15.00\n"
     ]
    }
   ],
   "source": [
    "for i in model.P:    \n",
    "    val = pyo.value(model.x[i])\n",
    "    if val is not None and val > 1e-6:\n",
    "        print(f\"  Quantidade do produto {i} : {val:.2f}\")"
   ]
  },
  {
   "cell_type": "markdown",
   "id": "5539a153",
   "metadata": {},
   "source": [
    "## Ex8"
   ]
  },
  {
   "cell_type": "code",
   "execution_count": 192,
   "id": "5b84c67c",
   "metadata": {},
   "outputs": [],
   "source": [
    "model = pyo.ConcreteModel()"
   ]
  },
  {
   "cell_type": "code",
   "execution_count": 193,
   "id": "8d854833",
   "metadata": {},
   "outputs": [],
   "source": [
    "\n",
    "# Conjuntos\n",
    "model.P = pyo.Set(initialize=[1, 2, 3])  \n",
    "model.S = pyo.Set(initialize=['Montagem', 'Acabamento'])  "
   ]
  },
  {
   "cell_type": "code",
   "execution_count": 194,
   "id": "908de9ba",
   "metadata": {},
   "outputs": [],
   "source": [
    "# ------------------------------\n",
    "# Parâmetros\n",
    "# ------------------------------\n",
    "C = {1: 50, 2: 90, 3: 120}\n",
    "model.C = pyo.Param(model.P,initialize=C)\n",
    "\n",
    "CT = {1: 65, 2: 92, 3: 140}  # Custo unitário produção terceirizada\n",
    "model.CT = pyo.Param(model.P,initialize=CT)\n",
    "\n",
    "D = {1: 3000, 2: 2500, 3: 500}  # Demanda de cada motor\n",
    "model.D = pyo.Param(model.P,initialize=D)\n",
    "\n",
    "tempo_operacao = {(1, 'Montagem'): 1, (1, 'Acabamento'): 2.5,\n",
    "     (2, 'Montagem'): 2, (2, 'Acabamento'): 1,\n",
    "     (3, 'Montagem'): 0.5, (3, 'Acabamento'): 4}\n",
    "model.tempo_operacao = pyo.Param(model.P,model.S, initialize=tempo_operacao)\n",
    "\n",
    "tempo_disponiveis = {'Montagem': 6000, 'Acabamento': 10000}\n",
    "model.tempo_disponiveis = pyo.Param(model.S, initialize=tempo_disponiveis)\n",
    "\n"
   ]
  },
  {
   "cell_type": "code",
   "execution_count": 195,
   "id": "378522a3",
   "metadata": {},
   "outputs": [],
   "source": [
    "\n",
    "# ------------------------------\n",
    "# Variáveis de Decisão\n",
    "# ------------------------------\n",
    "model.x = pyo.Var(model.P, domain=pyo.NonNegativeReals) \n",
    "model.y = pyo.Var(model.P, domain=pyo.NonNegativeReals) "
   ]
  },
  {
   "cell_type": "code",
   "execution_count": 196,
   "id": "25cbe9ef",
   "metadata": {},
   "outputs": [],
   "source": [
    "\n",
    "# ------------------------------\n",
    "# Função Objetivo\n",
    "# ------------------------------\n",
    "def fo(model):\n",
    "    return sum(model.C[j] * model.x[j] + model.CT[j] * model.y[j] for j in model.P)\n",
    "model.objetivo = pyo.Objective(rule=fo, sense=pyo.minimize)\n"
   ]
  },
  {
   "cell_type": "code",
   "execution_count": 197,
   "id": "178b4788",
   "metadata": {},
   "outputs": [
    {
     "name": "stdout",
     "output_type": "stream",
     "text": [
      "WARNING: Implicitly replacing the Component attribute capacidade (type=<class\n",
      "'pyomo.core.base.constraint.IndexedConstraint'>) on block unknown with a new\n",
      "Component (type=<class 'pyomo.core.base.constraint.IndexedConstraint'>). This\n",
      "is usually indicative of a modelling error. To avoid this warning, use\n",
      "block.del_component() and block.add_component().\n"
     ]
    }
   ],
   "source": [
    "# ------------------------------\n",
    "# Restrições\n",
    "# ------------------------------\n",
    "\n",
    "\n",
    "# 1. Restrições de capacidade por operação\n",
    "def restricao_capacidade(model, i):\n",
    "    return sum(model.tempo_operacao[j,i] * model.x[j] for j in model.P) <= model.tempo_disponiveis[i]\n",
    "model.capacidade = pyo.Constraint(model.S, rule=restricao_capacidade)\n",
    "\n",
    "# 2. Demanda\n",
    "def restricao_demanda(model, i):\n",
    "    return model.x[i]+model.y[i] == model.D[i]\n",
    "model.capacidade = pyo.Constraint(model.P, rule=restricao_demanda)\n"
   ]
  },
  {
   "cell_type": "code",
   "execution_count": 198,
   "id": "8bcc3736",
   "metadata": {},
   "outputs": [
    {
     "data": {
      "text/plain": [
       "('ex8.lp', 2676203676288)"
      ]
     },
     "execution_count": 198,
     "metadata": {},
     "output_type": "execute_result"
    }
   ],
   "source": [
    "# ------------------------------\n",
    "# Escrita do Modelo em Arquivo\n",
    "# ------------------------------\n",
    "model.write(\"ex8.lp\", io_options={\"symbolic_solver_labels\": True})"
   ]
  },
  {
   "cell_type": "code",
   "execution_count": 199,
   "id": "adf74974",
   "metadata": {},
   "outputs": [
    {
     "name": "stdout",
     "output_type": "stream",
     "text": [
      "LP   has 3 rows; 6 cols; 6 nonzeros\n",
      "Coefficient ranges:\n",
      "  Matrix [1e+00, 1e+00]\n",
      "  Cost   [5e+01, 1e+02]\n",
      "  Bound  [0e+00, 0e+00]\n",
      "  RHS    [5e+02, 3e+03]\n",
      "Presolving model\n",
      "0 rows, 0 cols, 0 nonzeros  0s\n",
      "0 rows, 0 cols, 0 nonzeros  0s\n",
      "Presolve : Reductions: rows 0(-3); columns 0(-6); elements 0(-6) - Reduced to empty\n",
      "Solving the original LP from the solution after postsolve\n",
      "Model status        : Optimal\n",
      "Objective value     :  4.3500000000e+05\n",
      "Relative P-D gap    :  0.0000000000e+00\n",
      "HiGHS run time      :          0.00\n",
      "\n",
      "Status do solver: ok\n",
      "Condição de terminação: optimal\n",
      "Valor da Função Objetivo: R$ 435.000,00\n"
     ]
    }
   ],
   "source": [
    "# ------------------------------\n",
    "# Resolução\n",
    "# ------------------------------\n",
    "solver = pyo.SolverFactory(\"appsi_highs\")\n",
    "results = solver.solve(model, tee=True)\n",
    "\n",
    "# Exibindo resultados\n",
    "print(\"\\nStatus do solver:\", results.solver.status)\n",
    "print(\"Condição de terminação:\", results.solver.termination_condition)\n",
    "valor_obj = pyo.value(model.objetivo)\n",
    "formatted = f\"{valor_obj:,.2f}\"\n",
    "formatted = formatted.replace(\",\", \"X\").replace(\".\", \",\").replace(\"X\", \".\")\n",
    "print(\"Valor da Função Objetivo: R$\", formatted)"
   ]
  },
  {
   "cell_type": "code",
   "execution_count": 200,
   "id": "e737bba1",
   "metadata": {},
   "outputs": [
    {
     "name": "stdout",
     "output_type": "stream",
     "text": [
      " \n",
      " Quantidade do produto 1 produção própria : 3000.00\n",
      "  Quantidade do produto 1 produção terceirizada : 0.00\n",
      "  Demanda atendida do produto 1 : 3000.00\n",
      " \n",
      " Quantidade do produto 2 produção própria : 2500.00\n",
      "  Quantidade do produto 2 produção terceirizada : 0.00\n",
      "  Demanda atendida do produto 2 : 2500.00\n",
      " \n",
      " Quantidade do produto 3 produção própria : 500.00\n",
      "  Quantidade do produto 3 produção terceirizada : 0.00\n",
      "  Demanda atendida do produto 3 : 500.00\n"
     ]
    }
   ],
   "source": [
    "for i in model.P:    \n",
    "    val = pyo.value(model.x[i])\n",
    "    val2 = pyo.value(model.y[i])\n",
    "    \n",
    "    print(f\" \\n Quantidade do produto {i} produção própria : {val:.2f}\")\n",
    "    print(f\"  Quantidade do produto {i} produção terceirizada : {val2:.2f}\")\n",
    "    print(f\"  Demanda atendida do produto {i} : {val + val2:.2f}\")\n"
   ]
  },
  {
   "cell_type": "markdown",
   "id": "44f4620a",
   "metadata": {},
   "source": [
    "## Ex9"
   ]
  },
  {
   "cell_type": "code",
   "execution_count": 201,
   "id": "544a7744",
   "metadata": {},
   "outputs": [],
   "source": [
    "# Criação do modelo\n",
    "model = pyo.ConcreteModel()"
   ]
  },
  {
   "cell_type": "code",
   "execution_count": 202,
   "id": "cce82ffb",
   "metadata": {},
   "outputs": [],
   "source": [
    "\n",
    "# Conjuntos\n",
    "model.P = pyo.Set(initialize=['A', 'B', 'C'])  \n",
    "model.S = pyo.Set(initialize=['Torno', 'Fresa', 'Furadeira'])  "
   ]
  },
  {
   "cell_type": "code",
   "execution_count": 203,
   "id": "41224b3c",
   "metadata": {},
   "outputs": [],
   "source": [
    "# ------------------------------\n",
    "# Parâmetros\n",
    "# ------------------------------\n",
    "C = {'A': 20, 'B': 15, 'C': 18}\n",
    "model.C = pyo.Param(model.P,initialize=C)\n",
    "\n",
    "D = {'A': 40, 'B': 50, 'C': 20}  # Demanda de cada motor\n",
    "model.D = pyo.Param(model.P,initialize=D)\n",
    "\n",
    "tempo_operacao = {\n",
    "    ('A', 'Torno'): 5, ('A', 'Fresa'): 8, ('A', 'Furadeira'): 2,\n",
    "    ('B', 'Torno'): 3, ('B', 'Fresa'): 4, ('B', 'Furadeira'): 5,\n",
    "    ('C', 'Torno'): 5, ('C', 'Fresa'): 0, ('C', 'Furadeira'): 3\n",
    "}\n",
    "model.tempo_operacao = pyo.Param(model.P,model.S, initialize=tempo_operacao)\n",
    "\n",
    "tempo_disponiveis = {'Torno': 400, 'Fresa': 500, 'Furadeira': 300}\n",
    "model.tempo_disponiveis = pyo.Param(model.S, initialize=tempo_disponiveis)\n",
    "\n"
   ]
  },
  {
   "cell_type": "code",
   "execution_count": 204,
   "id": "e1b3b5c8",
   "metadata": {},
   "outputs": [],
   "source": [
    "\n",
    "# ------------------------------\n",
    "# Variáveis de Decisão\n",
    "# ------------------------------\n",
    "model.x = pyo.Var(model.P, domain=pyo.NonNegativeReals) "
   ]
  },
  {
   "cell_type": "code",
   "execution_count": 205,
   "id": "454f7a77",
   "metadata": {},
   "outputs": [],
   "source": [
    "\n",
    "# ------------------------------\n",
    "# Função Objetivo\n",
    "# ------------------------------\n",
    "def fo(model):\n",
    "    return sum(model.C[j] * model.x[j] for j in model.P)\n",
    "model.objetivo = pyo.Objective(rule=fo, sense=pyo.maximize)\n"
   ]
  },
  {
   "cell_type": "code",
   "execution_count": 206,
   "id": "a1294e1f",
   "metadata": {},
   "outputs": [],
   "source": [
    "# ------------------------------\n",
    "# Restrições\n",
    "# ------------------------------\n",
    "\n",
    "\n",
    "# 1. Restrições de capacidade por operação\n",
    "def restricao_capacidade(model, i):\n",
    "    return sum(model.tempo_operacao[j,i] * model.x[j] for j in model.P) <= model.tempo_disponiveis[i]\n",
    "model.capacidade = pyo.Constraint(model.S, rule=restricao_capacidade)\n",
    "\n",
    "# 2. Demanda\n",
    "def restricao_demanda(model, i):\n",
    "    return model.x[i] <= model.D[i]\n",
    "model.restricao_demanda = pyo.Constraint(model.P, rule=restricao_demanda)\n"
   ]
  },
  {
   "cell_type": "code",
   "execution_count": 207,
   "id": "3d940f8f",
   "metadata": {},
   "outputs": [
    {
     "data": {
      "text/plain": [
       "('ex9.lp', 2676203637056)"
      ]
     },
     "execution_count": 207,
     "metadata": {},
     "output_type": "execute_result"
    }
   ],
   "source": [
    "# ------------------------------\n",
    "# Escrita do Modelo em Arquivo\n",
    "# ------------------------------\n",
    "model.write(\"ex9.lp\", io_options={\"symbolic_solver_labels\": True})"
   ]
  },
  {
   "cell_type": "code",
   "execution_count": 208,
   "id": "6ae638cd",
   "metadata": {},
   "outputs": [
    {
     "name": "stdout",
     "output_type": "stream",
     "text": [
      "LP   has 6 rows; 3 cols; 11 nonzeros\n",
      "Coefficient ranges:\n",
      "  Matrix [1e+00, 8e+00]\n",
      "  Cost   [2e+01, 2e+01]\n",
      "  Bound  [0e+00, 0e+00]\n",
      "  RHS    [2e+01, 5e+02]\n",
      "Presolving model\n",
      "3 rows, 3 cols, 8 nonzeros  0s\n",
      "3 rows, 3 cols, 8 nonzeros  0s\n",
      "Presolve : Reductions: rows 3(-3); columns 3(-0); elements 8(-3)\n",
      "Solving the presolved LP\n",
      "Using EKK dual simplex solver - serial\n",
      "  Iteration        Objective     Infeasibilities num(sum)\n",
      "          0     0.0000000000e+00 Ph1: 0(0) 0s\n",
      "          1    -1.6400000000e+03 Pr: 0(0) 0s\n",
      "Solving the original LP from the solution after postsolve\n",
      "Model status        : Optimal\n",
      "Simplex   iterations: 1\n",
      "Objective value     :  1.6400000000e+03\n",
      "Relative P-D gap    :  0.0000000000e+00\n",
      "HiGHS run time      :          0.00\n",
      "\n",
      "Status do solver: ok\n",
      "Condição de terminação: optimal\n",
      "Valor da Função Objetivo: R$ 1.640,00\n"
     ]
    }
   ],
   "source": [
    "# ------------------------------\n",
    "# Resolução\n",
    "# ------------------------------\n",
    "solver = pyo.SolverFactory(\"appsi_highs\")\n",
    "results = solver.solve(model, tee=True)\n",
    "\n",
    "# Exibindo resultados\n",
    "print(\"\\nStatus do solver:\", results.solver.status)\n",
    "print(\"Condição de terminação:\", results.solver.termination_condition)\n",
    "valor_obj = pyo.value(model.objetivo)\n",
    "formatted = f\"{valor_obj:,.2f}\"\n",
    "formatted = formatted.replace(\",\", \"X\").replace(\".\", \",\").replace(\"X\", \".\")\n",
    "print(\"Valor da Função Objetivo: R$\", formatted)"
   ]
  },
  {
   "cell_type": "code",
   "execution_count": 209,
   "id": "7bdcc026",
   "metadata": {},
   "outputs": [
    {
     "name": "stdout",
     "output_type": "stream",
     "text": [
      "Quantidade do produto A produção própria : 40.00\n",
      "Quantidade do produto B produção própria : 32.00\n",
      "Quantidade do produto C produção própria : 20.00\n"
     ]
    }
   ],
   "source": [
    "for i in model.P:    \n",
    "    val = pyo.value(model.x[i])\n",
    "    \n",
    "    print(f\"Quantidade do produto {i} produção própria : {val:.2f}\")\n"
   ]
  },
  {
   "cell_type": "markdown",
   "id": "9eccad71",
   "metadata": {},
   "source": [
    "## Ex10- a)"
   ]
  },
  {
   "cell_type": "code",
   "execution_count": 210,
   "id": "7c04491b",
   "metadata": {},
   "outputs": [],
   "source": [
    "# Criação do modelo\n",
    "model = pyo.ConcreteModel()"
   ]
  },
  {
   "cell_type": "code",
   "execution_count": 211,
   "id": "2d23a122",
   "metadata": {},
   "outputs": [],
   "source": [
    "\n",
    "# Conjuntos\n",
    "model.meses = pyo.Set(initialize=[1, 2, 3, 4, 5, 6])  \n",
    " "
   ]
  },
  {
   "cell_type": "code",
   "execution_count": 212,
   "id": "39576bd8",
   "metadata": {},
   "outputs": [],
   "source": [
    "# ------------------------------\n",
    "# Parâmetros\n",
    "# ------------------------------\n",
    "demanda = {1: 5000, 2: 6000, 3: 5000, 4: 9000, 5: 7000, 6: 5000}  # Demanda de pares de sapatos por mês\n",
    "model.demanda = pyo.Param(model.meses, initialize=demanda)\n",
    "estoque_inicial = 1000\n",
    "model.estoque_final_minimo = pyo.Param(initialize=estoque_inicial) # Estoque final mínimo desejado\n",
    "\n",
    "tempo_producao_por_sapato = 0.5  # Horas por par de sapato\n",
    "model.tempo_producao_por_sapato = pyo.Param(initialize=tempo_producao_por_sapato)\n",
    "\n",
    "horas_trabalho_mensal = 150  # Horas disponíveis por operário\n",
    "model.horas_trabalho_mensal = pyo.Param(initialize=horas_trabalho_mensal)\n",
    "\n",
    "horas_extras_mensais = 30  # Máximo de horas extras permitidas por operário\n",
    "model.horas_extras_mensais = pyo.Param(initialize=horas_extras_mensais)\n",
    "\n",
    "max_operarios = 20  # Número máximo de operários simultaneamente empregados\n",
    "model.max_operarios = pyo.Param(initialize=max_operarios)\n",
    "\n",
    "custo_operario = 2000  # Custo fixo mensal por operário\n",
    "model.custo_operario = pyo.Param(initialize=custo_operario)\n",
    "\n",
    "custo_hora_extra = 50  # Custo por hora extra trabalhada\n",
    "model.custo_hora_extra = pyo.Param(initialize=custo_hora_extra)\n",
    "\n",
    "custo_estoque = 1  # Custo por sapato armazenado ao final do mês\n",
    "model.custo_estoque = pyo.Param(initialize=custo_estoque)"
   ]
  },
  {
   "cell_type": "code",
   "execution_count": 213,
   "id": "d04defb2",
   "metadata": {},
   "outputs": [],
   "source": [
    "\n",
    "# ------------------------------\n",
    "# Variáveis de Decisão\n",
    "# ------------------------------\n",
    "model.O =  pyo.Var(model.meses, domain= pyo.NonNegativeIntegers)  # Número de operários empregados a cada mês\n",
    "model.HE =  pyo.Var(model.meses, domain= pyo.NonNegativeReals)  # Total de horas extras trabalhadas a cada mês\n",
    "model.E =  pyo.Var(model.meses, domain= pyo.NonNegativeReals)  # Nível de estoque ao fim de cada mês\n"
   ]
  },
  {
   "cell_type": "code",
   "execution_count": 214,
   "id": "2ea1c991",
   "metadata": {},
   "outputs": [],
   "source": [
    "\n",
    "# ------------------------------\n",
    "# Função Objetivo\n",
    "# ------------------------------\n",
    "def fo(model):\n",
    "    return sum(model.custo_operario * model.O[t] + model.custo_hora_extra * model.HE[t] + model.custo_estoque * model.E[t] for t in model.meses)\n",
    "model.objetivo = pyo.Objective(rule=fo, sense=pyo.minimize)\n"
   ]
  },
  {
   "cell_type": "code",
   "execution_count": 215,
   "id": "9f49c9f9",
   "metadata": {},
   "outputs": [],
   "source": [
    "# ------------------------------\n",
    "# Restrições\n",
    "# ------------------------------\n",
    "\n",
    "\n",
    "# 1. Restrições de estoque\n",
    "def restricao_estoque(model, t):\n",
    "    if t == 1:\n",
    "        return model.E[t] == estoque_inicial + (model.O[t] * horas_trabalho_mensal + model.HE[t]) / tempo_producao_por_sapato - demanda[t]\n",
    "    else:\n",
    "        return model.E[t] == model.E[t-1] + (model.O[t] * model.horas_trabalho_mensal + model.HE[t]) / model.tempo_producao_por_sapato - model.demanda[t]\n",
    "model.restricoes_estoque = pyo.Constraint(model.meses, rule=restricao_estoque)\n",
    "\n",
    "# 2. Restrição do número máximo de operários\n",
    "def restricao_operarios(model, t):\n",
    "    return model.O[t] <= model.max_operarios\n",
    "model.restricoes_operarios = pyo.Constraint(model.meses, rule=restricao_operarios)\n",
    "\n",
    "# 3. Restrição do número máximo de horas extras por operário\n",
    "def restricao_horas_extras(model, t):\n",
    "    return model.HE[t] <= model.O[t] * model.horas_extras_mensais\n",
    "model.restricoes_horas_extras = pyo.Constraint(model.meses, rule=restricao_horas_extras)\n",
    "\n",
    "# 4.  Restrição do estoque final mínimo\n",
    "def restricao_estoque_final(model):\n",
    "    return model.E[6] >= model.estoque_final_minimo\n",
    "model.restricao_estoque_final = pyo.Constraint(rule=restricao_estoque_final)\n",
    "\n"
   ]
  },
  {
   "cell_type": "code",
   "execution_count": 216,
   "id": "2f31baeb",
   "metadata": {},
   "outputs": [
    {
     "data": {
      "text/plain": [
       "('ex10.lp', 2676203538656)"
      ]
     },
     "execution_count": 216,
     "metadata": {},
     "output_type": "execute_result"
    }
   ],
   "source": [
    "# ------------------------------\n",
    "# Escrita do Modelo em Arquivo\n",
    "# ------------------------------\n",
    "model.write(\"ex10.lp\", io_options={\"symbolic_solver_labels\": True})"
   ]
  },
  {
   "cell_type": "code",
   "execution_count": 217,
   "id": "2e23721d",
   "metadata": {},
   "outputs": [
    {
     "name": "stdout",
     "output_type": "stream",
     "text": [
      "MIP  has 19 rows; 18 cols; 42 nonzeros; 6 integer variables (0 binary)\n",
      "Coefficient ranges:\n",
      "  Matrix [1e+00, 3e+02]\n",
      "  Cost   [1e+00, 2e+03]\n",
      "  Bound  [0e+00, 0e+00]\n",
      "  RHS    [2e+01, 9e+03]\n",
      "Presolving model\n",
      "12 rows, 18 cols, 35 nonzeros  0s\n",
      "12 rows, 18 cols, 35 nonzeros  0s\n",
      "\n",
      "Solving MIP model with:\n",
      "   12 rows\n",
      "   18 cols (0 binary, 6 integer, 0 implied int., 12 continuous)\n",
      "   35 nonzeros\n",
      "\n",
      "Src: B => Branching; C => Central rounding; F => Feasibility pump; H => Heuristic; L => Sub-MIP;\n",
      "     P => Empty MIP; R => Randomized rounding; S => Solve LP; T => Evaluate node; U => Unbounded;\n",
      "     z => Trivial zero; l => Trivial lower; u => Trivial upper; p => Trivial point; X => User solution\n",
      "\n",
      "        Nodes      |    B&B Tree     |            Objective Bounds              |  Dynamic Constraints |       Work      \n",
      "Src  Proc. InQueue |  Leaves   Expl. | BestBound       BestSol              Gap |   Cuts   InLp Confl. | LpIters     Time\n",
      "\n",
      "         0       0         0   0.00%   22800           inf                  inf        0      0      0         0     0.0s\n",
      " T       0       0         0   0.00%   22800           273000            91.65%        0      0      0         7     0.0s\n",
      "         1       0         1 100.00%   273000          273000             0.00%        0      0      0         7     0.0s\n",
      "\n",
      "Solving report\n",
      "  Status            Optimal\n",
      "  Primal bound      273000\n",
      "  Dual bound        273000\n",
      "  Gap               0% (tolerance: 0.01%)\n",
      "  P-D integral      0.000174498509943\n",
      "  Solution status   feasible\n",
      "                    273000 (objective)\n",
      "                    0 (bound viol.)\n",
      "                    0 (int. viol.)\n",
      "                    0 (row viol.)\n",
      "  Timing            0.00 (total)\n",
      "                    0.00 (presolve)\n",
      "                    0.00 (solve)\n",
      "                    0.00 (postsolve)\n",
      "  Max sub-MIP depth 0\n",
      "  Nodes             1\n",
      "  Repair LPs        0 (0 feasible; 0 iterations)\n",
      "  LP iterations     7 (total)\n",
      "                    0 (strong br.)\n",
      "                    0 (separation)\n",
      "                    0 (heuristics)\n",
      "\n",
      "Status do solver: ok\n",
      "Condição de terminação: optimal\n"
     ]
    }
   ],
   "source": [
    "# ------------------------------\n",
    "# Resolução\n",
    "# ------------------------------\n",
    "solver = pyo.SolverFactory(\"appsi_highs\")\n",
    "results = solver.solve(model, tee=True)\n",
    "\n",
    "# Exibindo resultados\n",
    "print(\"\\nStatus do solver:\", results.solver.status)\n",
    "print(\"Condição de terminação:\", results.solver.termination_condition)\n",
    "valor_obj = pyo.value(model.objetivo)\n",
    "formatted = f\"{valor_obj:,.2f}\"\n",
    "formatted = formatted.replace(\",\", \"X\").replace(\".\", \",\").replace(\"X\", \".\")\n"
   ]
  },
  {
   "cell_type": "code",
   "execution_count": 218,
   "id": "5ffe75e7",
   "metadata": {},
   "outputs": [
    {
     "name": "stdout",
     "output_type": "stream",
     "text": [
      "Custo total mínimo: R$ 273000.00\n",
      "Mês 1: Operários = 20, Horas Extras = 0.00, Estoque = 2000\n",
      "Mês 2: Operários = 20, Horas Extras = 0.00, Estoque = 2000\n",
      "Mês 3: Operários = 20, Horas Extras = 0.00, Estoque = 3000\n",
      "Mês 4: Operários = 20, Horas Extras = 0.00, Estoque = 0\n",
      "Mês 5: Operários = 20, Horas Extras = 500.00, Estoque = 0\n",
      "Mês 6: Operários = 20, Horas Extras = 0.00, Estoque = 1000\n"
     ]
    }
   ],
   "source": [
    "print(f\"Custo total mínimo: R$ {model.objetivo():.2f}\")\n",
    "for t in model.meses:\n",
    "    print(f\"Mês {t}: Operários = {model.O[t]():.0f}, Horas Extras = {model.HE[t]():.2f}, Estoque = {model.E[t]():.0f}\")\n"
   ]
  },
  {
   "cell_type": "markdown",
   "id": "b56e06b0",
   "metadata": {},
   "source": [
    "## EX10- b\n",
    "Para incorporar os custos de recrutamento e demissão no modelo anterior, devemos adicionar novas variáveis de decisão e modificar a função objetivo, o modelo matemático ficaria da seguinte forma"
   ]
  },
  {
   "cell_type": "code",
   "execution_count": 219,
   "id": "55a4a4c9",
   "metadata": {},
   "outputs": [],
   "source": [
    "# Criação do modelo\n",
    "model = pyo.ConcreteModel()"
   ]
  },
  {
   "cell_type": "code",
   "execution_count": 220,
   "id": "cd9a82ea",
   "metadata": {},
   "outputs": [],
   "source": [
    "\n",
    "# Conjuntos\n",
    "model.meses = pyo.Set(initialize=[1, 2, 3, 4, 5, 6])  \n"
   ]
  },
  {
   "cell_type": "code",
   "execution_count": 221,
   "id": "193fa062",
   "metadata": {},
   "outputs": [],
   "source": [
    "# ------------------------------\n",
    "# Parâmetros\n",
    "# ------------------------------\n",
    "demanda = {1: 5000, 2: 6000, 3: 5000, 4: 9000, 5: 7000, 6: 5000}  # Demanda de pares de sapatos por mês\n",
    "model.demanda = pyo.Param(model.meses, initialize=demanda)\n",
    "estoque_inicial = 1000\n",
    "model.estoque_final_minimo = pyo.Param(initialize=estoque_inicial) # Estoque final mínimo desejado\n",
    "\n",
    "tempo_producao_por_sapato = 0.5  # Horas por par de sapato\n",
    "model.tempo_producao_por_sapato = pyo.Param(initialize=tempo_producao_por_sapato)\n",
    "\n",
    "horas_trabalho_mensal = 150  # Horas disponíveis por operário\n",
    "model.horas_trabalho_mensal = pyo.Param(initialize=horas_trabalho_mensal)\n",
    "\n",
    "horas_extras_mensais = 30  # Máximo de horas extras permitidas por operário\n",
    "model.horas_extras_mensais = pyo.Param(initialize=horas_extras_mensais)\n",
    "\n",
    "max_operarios = 20  # Número máximo de operários simultaneamente empregados\n",
    "model.max_operarios = pyo.Param(initialize=max_operarios)\n",
    "\n",
    "custo_operario = 2000  # Custo fixo mensal por operário\n",
    "model.custo_operario = pyo.Param(initialize=custo_operario)\n",
    "\n",
    "custo_hora_extra = 50  # Custo por hora extra trabalhada\n",
    "model.custo_hora_extra = pyo.Param(initialize=custo_hora_extra)\n",
    "\n",
    "custo_estoque = 1  # Custo por sapato armazenado ao final do mês\n",
    "model.custo_estoque = pyo.Param(initialize=custo_estoque)\n",
    "\n",
    "custo_recrutamento = 770\n",
    "model.custo_recrutamento = pyo.Param(initialize=custo_recrutamento)\n",
    "custo_demissao = 1000\n",
    "model.custo_demissao = pyo.Param(initialize=custo_demissao)\n",
    "operarios_iniciais = 15\n",
    "model.operarios_iniciais = pyo.Param(initialize=operarios_iniciais)"
   ]
  },
  {
   "cell_type": "code",
   "execution_count": 222,
   "id": "521009a2",
   "metadata": {},
   "outputs": [],
   "source": [
    "\n",
    "# ------------------------------\n",
    "# Variáveis de Decisão\n",
    "# ------------------------------\n",
    "model.O =  pyo.Var(model.meses, domain= pyo.NonNegativeIntegers)  # Número de operários empregados a cada mês\n",
    "model.HE =  pyo.Var(model.meses, domain= pyo.NonNegativeReals)  # Total de horas extras trabalhadas a cada mês\n",
    "model.E =  pyo.Var(model.meses, domain= pyo.NonNegativeReals)  # Nível de estoque ao fim de cada mês\n",
    "model.R = pyo.Var(model.meses, domain=pyo.NonNegativeIntegers)  # Recrutamento\n",
    "model.D = pyo.Var(model.meses, domain=pyo.NonNegativeIntegers)  # Demissões"
   ]
  },
  {
   "cell_type": "code",
   "execution_count": 223,
   "id": "cc679f33",
   "metadata": {},
   "outputs": [],
   "source": [
    "\n",
    "# ------------------------------\n",
    "# Função Objetivo\n",
    "# ------------------------------\n",
    "def fo(model):\n",
    "    return sum(model.custo_operario * model.O[t] + model.custo_hora_extra * model.HE[t] + model.custo_estoque * model.E[t] +\n",
    "               model.custo_recrutamento * model.R[t] + model.custo_demissao * model.D[t] for t in model.meses)\n",
    "model.objetivo = pyo.Objective(rule=fo, sense=pyo.minimize)\n"
   ]
  },
  {
   "cell_type": "code",
   "execution_count": 224,
   "id": "bd9ef426",
   "metadata": {},
   "outputs": [],
   "source": [
    "# ------------------------------\n",
    "# Restrições\n",
    "# ------------------------------\n",
    "\n",
    "\n",
    "# 1. Restrições de estoque\n",
    "def restricao_estoque(model, t):\n",
    "    if t == 1:\n",
    "        return model.E[t] == estoque_inicial + (model.O[t] * horas_trabalho_mensal + model.HE[t]) / tempo_producao_por_sapato - demanda[t]\n",
    "    else:\n",
    "        return model.E[t] == model.E[t-1] + (model.O[t] * model.horas_trabalho_mensal + model.HE[t]) / model.tempo_producao_por_sapato - model.demanda[t]\n",
    "model.restricoes_estoque = pyo.Constraint(model.meses, rule=restricao_estoque)\n",
    "\n",
    "# 2. Restrição do número máximo de operários\n",
    "def restricao_operarios_max(model, t):\n",
    "    return model.O[t] <= model.max_operarios\n",
    "model.restricao_operarios_max = pyo.Constraint(model.meses, rule=restricao_operarios_max)\n",
    "\n",
    "# 3. Restrição do número máximo de horas extras por operário\n",
    "def restricao_horas_extras(model, t):\n",
    "    return model.HE[t] <= model.O[t] * model.horas_extras_mensais\n",
    "model.restricoes_horas_extras = pyo.Constraint(model.meses, rule=restricao_horas_extras)\n",
    "\n",
    "# 4.  Restrição do estoque final mínimo\n",
    "def restricao_estoque_final(model):\n",
    "    return model.E[6] >= model.estoque_final_minimo\n",
    "model.restricao_estoque_final = pyo.Constraint(rule=restricao_estoque_final)\n",
    "\n",
    "# 5. Restrição de número de operários\n",
    "def restricao_operarios(model, t):\n",
    "    if t == 1:\n",
    "        return model.O[t] == operarios_iniciais + model.R[t] - model.D[t]\n",
    "    else:\n",
    "        return model.O[t] == model.O[t-1] + model.R[t] - model.D[t]\n",
    "model.restricoes_operarios = pyo.Constraint(model.meses, rule=restricao_operarios)\n",
    "\n",
    "\n"
   ]
  },
  {
   "cell_type": "code",
   "execution_count": 225,
   "id": "63c3cadf",
   "metadata": {},
   "outputs": [
    {
     "data": {
      "text/plain": [
       "('ex10b.lp', 2676203844368)"
      ]
     },
     "execution_count": 225,
     "metadata": {},
     "output_type": "execute_result"
    }
   ],
   "source": [
    "# ------------------------------\n",
    "# Escrita do Modelo em Arquivo\n",
    "# ------------------------------\n",
    "model.write(\"ex10b.lp\", io_options={\"symbolic_solver_labels\": True})\n"
   ]
  },
  {
   "cell_type": "code",
   "execution_count": 226,
   "id": "c0375813",
   "metadata": {},
   "outputs": [
    {
     "name": "stdout",
     "output_type": "stream",
     "text": [
      "MIP  has 25 rows; 30 cols; 65 nonzeros; 18 integer variables (0 binary)\n",
      "Coefficient ranges:\n",
      "  Matrix [1e+00, 3e+02]\n",
      "  Cost   [1e+00, 2e+03]\n",
      "  Bound  [0e+00, 0e+00]\n",
      "  RHS    [2e+01, 9e+03]\n",
      "Presolving model\n",
      "18 rows, 30 cols, 58 nonzeros  0s\n",
      "18 rows, 30 cols, 58 nonzeros  0s\n",
      "\n",
      "Solving MIP model with:\n",
      "   18 rows\n",
      "   30 cols (0 binary, 18 integer, 0 implied int., 12 continuous)\n",
      "   58 nonzeros\n",
      "\n",
      "Src: B => Branching; C => Central rounding; F => Feasibility pump; H => Heuristic; L => Sub-MIP;\n",
      "     P => Empty MIP; R => Randomized rounding; S => Solve LP; T => Evaluate node; U => Unbounded;\n",
      "     z => Trivial zero; l => Trivial lower; u => Trivial upper; p => Trivial point; X => User solution\n",
      "\n",
      "        Nodes      |    B&B Tree     |            Objective Bounds              |  Dynamic Constraints |       Work      \n",
      "Src  Proc. InQueue |  Leaves   Expl. | BestBound       BestSol              Gap |   Cuts   InLp Confl. | LpIters     Time\n",
      "\n",
      "         0       0         0   0.00%   22800           inf                  inf        0      0      0         0     0.0s\n",
      " T       0       0         0   0.00%   22800           276850            91.76%        0      0      0         9     0.0s\n",
      "         1       0         1 100.00%   276850          276850             0.00%        0      0      0         9     0.0s\n",
      "\n",
      "Solving report\n",
      "  Status            Optimal\n",
      "  Primal bound      276850\n",
      "  Dual bound        276850\n",
      "  Gap               0% (tolerance: 0.01%)\n",
      "  P-D integral      0.000123423435644\n",
      "  Solution status   feasible\n",
      "                    276850 (objective)\n",
      "                    0 (bound viol.)\n",
      "                    0 (int. viol.)\n",
      "                    0 (row viol.)\n",
      "  Timing            0.00 (total)\n",
      "                    0.00 (presolve)\n",
      "                    0.00 (solve)\n",
      "                    0.00 (postsolve)\n",
      "  Max sub-MIP depth 0\n",
      "  Nodes             1\n",
      "  Repair LPs        0 (0 feasible; 0 iterations)\n",
      "  LP iterations     9 (total)\n",
      "                    0 (strong br.)\n",
      "                    0 (separation)\n",
      "                    0 (heuristics)\n",
      "\n",
      "Status do solver: ok\n",
      "Condição de terminação: optimal\n"
     ]
    }
   ],
   "source": [
    "# ------------------------------\n",
    "# Resolução\n",
    "# ------------------------------\n",
    "solver = pyo.SolverFactory(\"appsi_highs\")\n",
    "results = solver.solve(model, tee=True)\n",
    "\n",
    "# Exibindo resultados\n",
    "print(\"\\nStatus do solver:\", results.solver.status)\n",
    "print(\"Condição de terminação:\", results.solver.termination_condition)"
   ]
  },
  {
   "cell_type": "code",
   "execution_count": 227,
   "id": "f0c6a655",
   "metadata": {},
   "outputs": [
    {
     "name": "stdout",
     "output_type": "stream",
     "text": [
      "Custo total mínimo: R$ 276850.00\n",
      "\n",
      " Mês 1:\n",
      "Operários = 20, Horas Extras = 0.00, Estoque = 2000\n",
      "Recrutamento = 5, Demissões = 0\n",
      "\n",
      " Mês 2:\n",
      "Operários = 20, Horas Extras = 0.00, Estoque = 2000\n",
      "Recrutamento = -0, Demissões = 0\n",
      "\n",
      " Mês 3:\n",
      "Operários = 20, Horas Extras = 0.00, Estoque = 3000\n",
      "Recrutamento = 0, Demissões = 0\n",
      "\n",
      " Mês 4:\n",
      "Operários = 20, Horas Extras = 0.00, Estoque = 0\n",
      "Recrutamento = 0, Demissões = 0\n",
      "\n",
      " Mês 5:\n",
      "Operários = 20, Horas Extras = 500.00, Estoque = 0\n",
      "Recrutamento = 0, Demissões = 0\n",
      "\n",
      " Mês 6:\n",
      "Operários = 20, Horas Extras = 0.00, Estoque = 1000\n",
      "Recrutamento = 0, Demissões = 0\n"
     ]
    }
   ],
   "source": [
    "print(f\"Custo total mínimo: R$ {model.objetivo():.2f}\")\n",
    "for t in model.meses:\n",
    "    print(f'\\n Mês {t}:')\n",
    "    print(f\"Operários = {model.O[t]():.0f}, Horas Extras = {model.HE[t]():.2f}, Estoque = {model.E[t]():.0f}\")\n",
    "    print(f\"Recrutamento = {model.R[t]():.0f}, Demissões = {model.D[t]():.0f}\")"
   ]
  },
  {
   "cell_type": "markdown",
   "id": "df120e2f",
   "metadata": {},
   "source": [
    "## Ex11- a)"
   ]
  },
  {
   "cell_type": "code",
   "execution_count": 228,
   "id": "9090e526",
   "metadata": {},
   "outputs": [],
   "source": [
    "# Criação do modelo\n",
    "model = pyo.ConcreteModel()"
   ]
  },
  {
   "cell_type": "code",
   "execution_count": 229,
   "id": "ea194101",
   "metadata": {},
   "outputs": [],
   "source": [
    "\n",
    "# Conjuntos\n",
    "model.S = pyo.Set(initialize=[1, 2, 3, 4])\n",
    " "
   ]
  },
  {
   "cell_type": "code",
   "execution_count": 230,
   "id": "4bed3f02",
   "metadata": {},
   "outputs": [],
   "source": [
    "# ------------------------------\n",
    "# Parâmetros\n",
    "# ------------------------------\n",
    "# Custos de produção por unidade\n",
    "custo_producao = {1: 2, 2: 2, 3: 2.5, 4: 2.5}\n",
    "model.c_prod = pyo.Param(model.S, initialize=custo_producao)\n",
    "\n",
    "# Custos de produção em horas extras (apenas semanas 1 e 2)\n",
    "custo_extra = {1: 2.8, 2: 2.8}\n",
    "model.c_extra = pyo.Param(model.S, initialize=custo_extra, default=0)\n",
    "\n",
    "# Custo de armazenamento por unidade por semana\n",
    "custo_estoque = 0.2\n",
    "\n",
    "# Demanda semanal de camisetas\n",
    "demanda = {1: 5000, 2: 10000, 3: 30000, 4: 60000}\n",
    "model.d = pyo.Param(model.S, initialize=demanda)\n",
    "\n",
    "# Capacidade máxima de produção regular\n",
    "capacidade_producao = 25000\n",
    "\n",
    "# Capacidade extra de produção nas semanas 1 e 2\n",
    "capacidade_extra = 10000\n",
    "\n"
   ]
  },
  {
   "cell_type": "code",
   "execution_count": 231,
   "id": "f7ff1f4c",
   "metadata": {},
   "outputs": [],
   "source": [
    "# ------------------------------\n",
    "# Variáveis de Decisão\n",
    "# ------------------------------\n",
    "# Quantidade produzida regularmente por semana\n",
    "model.x = pyo.Var(model.S, domain=pyo.NonNegativeIntegers)\n",
    "\n",
    "# Quantidade produzida com horas extras (apenas semanas 1 e 2)\n",
    "model.y = pyo.Var(model.S, domain=pyo.NonNegativeIntegers)\n",
    "\n",
    "# Quantidade estocada ao final de cada semana\n",
    "model.s = pyo.Var(model.S, domain=pyo.NonNegativeIntegers)"
   ]
  },
  {
   "cell_type": "code",
   "execution_count": 232,
   "id": "fcd11aa1",
   "metadata": {},
   "outputs": [],
   "source": [
    "\n",
    "# ------------------------------\n",
    "# Função Objetivo\n",
    "# ------------------------------\n",
    "def fo(model):\n",
    "    custo_total_producao = sum(model.x[s] * model.c_prod[s] + model.y[s] * model.c_extra[s] for s in model.S)\n",
    "    custo_total_estoque = sum(model.s[s] * custo_estoque for s in model.S if s < 4)\n",
    "    return custo_total_producao + custo_total_estoque\n",
    "model.objetivo = pyo.Objective(rule=fo, sense=pyo.minimize)\n"
   ]
  },
  {
   "cell_type": "code",
   "execution_count": 233,
   "id": "877aa6ff",
   "metadata": {},
   "outputs": [],
   "source": [
    "# ------------------------------\n",
    "# Restrições\n",
    "# ------------------------------\n",
    "\n",
    "# 1. Limite de Produção Regular\n",
    "def limite_producao(model, s):\n",
    "    return model.x[s] <= capacidade_producao\n",
    "\n",
    "model.CapProd = pyo.Constraint(model.S, rule=limite_producao)\n",
    "\n",
    "# 2. Limite de Produção Extra nas semanas 1 e 2\n",
    "def limite_extra(model, s):\n",
    "    if s in [1, 2]:\n",
    "        return model.y[s] <= capacidade_extra\n",
    "    return model.y[s] == 0  # Sem produção extra nas semanas 3 e 4\n",
    "\n",
    "model.CapExtra = pyo.Constraint(model.S, rule=limite_extra)\n",
    "\n",
    "# 3. Balanço de Estoque\n",
    "def estoque(model, s):\n",
    "    if s == 1:\n",
    "        return model.x[1] + model.y[1] == model.d[1] + model.s[1]\n",
    "    elif s == 2:\n",
    "        return model.x[2] + model.y[2] + model.s[1] == model.d[2] + model.s[2]\n",
    "    elif s == 3:\n",
    "        return model.x[3] + model.s[2] == model.d[3] + model.s[3]\n",
    "    elif s == 4:\n",
    "        return model.x[4] + model.s[3] == model.d[4]\n",
    "\n",
    "model.BalancoEstoque = pyo.Constraint(model.S, rule=estoque)\n",
    "\n"
   ]
  },
  {
   "cell_type": "code",
   "execution_count": 234,
   "id": "f146337f",
   "metadata": {},
   "outputs": [
    {
     "data": {
      "text/plain": [
       "('ex11a.lp', 2676203693920)"
      ]
     },
     "execution_count": 234,
     "metadata": {},
     "output_type": "execute_result"
    }
   ],
   "source": [
    "# ------------------------------\n",
    "# Escrita do Modelo em Arquivo\n",
    "# ------------------------------\n",
    "model.write(\"ex11a.lp\", io_options={\"symbolic_solver_labels\": True})"
   ]
  },
  {
   "cell_type": "code",
   "execution_count": 235,
   "id": "7291f80e",
   "metadata": {},
   "outputs": [
    {
     "name": "stdout",
     "output_type": "stream",
     "text": [
      "MIP  has 12 rows; 11 cols; 20 nonzeros; 11 integer variables (0 binary)\n",
      "Coefficient ranges:\n",
      "  Matrix [1e+00, 1e+00]\n",
      "  Cost   [2e-01, 3e+00]\n",
      "  Bound  [0e+00, 0e+00]\n",
      "  RHS    [5e+03, 6e+04]\n",
      "Presolving model\n",
      "3 rows, 8 cols, 10 nonzeros  0s\n",
      "2 rows, 7 cols, 8 nonzeros  0s\n",
      "1 rows, 6 cols, 6 nonzeros  0s\n",
      "1 rows, 4 cols, 4 nonzeros  0s\n",
      "1 rows, 3 cols, 3 nonzeros  0s\n",
      "1 rows, 3 cols, 3 nonzeros  0s\n",
      "Objective function is integral with scale 10\n",
      "\n",
      "Solving MIP model with:\n",
      "   1 rows\n",
      "   3 cols (0 binary, 3 integer, 0 implied int., 0 continuous)\n",
      "   3 nonzeros\n",
      "\n",
      "Src: B => Branching; C => Central rounding; F => Feasibility pump; H => Heuristic; L => Sub-MIP;\n",
      "     P => Empty MIP; R => Randomized rounding; S => Solve LP; T => Evaluate node; U => Unbounded;\n",
      "     z => Trivial zero; l => Trivial lower; u => Trivial upper; p => Trivial point; X => User solution\n",
      "\n",
      "        Nodes      |    B&B Tree     |            Objective Bounds              |  Dynamic Constraints |       Work      \n",
      "Src  Proc. InQueue |  Leaves   Expl. | BestBound       BestSol              Gap |   Cuts   InLp Confl. | LpIters     Time\n",
      "\n",
      "         0       0         0   0.00%   209500          inf                  inf        0      0      0         0     0.0s\n",
      " T       0       0         0   0.00%   209500          258000            18.80%        0      0      0         1     0.0s\n",
      "         1       0         1 100.00%   258000          258000             0.00%        0      0      0         1     0.0s\n",
      "\n",
      "Solving report\n",
      "  Status            Optimal\n",
      "  Primal bound      258000\n",
      "  Dual bound        258000\n",
      "  Gap               0% (tolerance: 0.01%)\n",
      "  P-D integral      4.21837795266e-05\n",
      "  Solution status   feasible\n",
      "                    258000 (objective)\n",
      "                    0 (bound viol.)\n",
      "                    0 (int. viol.)\n",
      "                    0 (row viol.)\n",
      "  Timing            0.00 (total)\n",
      "                    0.00 (presolve)\n",
      "                    0.00 (solve)\n",
      "                    0.00 (postsolve)\n",
      "  Max sub-MIP depth 0\n",
      "  Nodes             1\n",
      "  Repair LPs        0 (0 feasible; 0 iterations)\n",
      "  LP iterations     1 (total)\n",
      "                    0 (strong br.)\n",
      "                    0 (separation)\n",
      "                    0 (heuristics)\n",
      "\n",
      "Status do solver: ok\n",
      "Condição de terminação: optimal\n",
      "Valor da Função Objetivo: R$ 258.000,00\n"
     ]
    }
   ],
   "source": [
    "# ------------------------------\n",
    "# Resolução\n",
    "# ------------------------------\n",
    "solver = pyo.SolverFactory(\"appsi_highs\")\n",
    "results = solver.solve(model, tee=True)\n",
    "\n",
    "# Exibindo resultados\n",
    "print(\"\\nStatus do solver:\", results.solver.status)\n",
    "print(\"Condição de terminação:\", results.solver.termination_condition)\n",
    "valor_obj = pyo.value(model.objetivo)\n",
    "formatted = f\"{valor_obj:,.2f}\"\n",
    "formatted = formatted.replace(\",\", \"X\").replace(\".\", \",\").replace(\"X\", \".\")\n",
    "print(\"Valor da Função Objetivo: R$\", formatted)"
   ]
  },
  {
   "cell_type": "code",
   "execution_count": 236,
   "id": "8a3108b4",
   "metadata": {},
   "outputs": [
    {
     "name": "stdout",
     "output_type": "stream",
     "text": [
      "Custo total mínimo: R$ 258000.00\n",
      "\n",
      "Semana 1:\n",
      "Produção regular na semana 1: 25000.0 unidades\n",
      "Produção extra na semana 1: 0.0 unidades\n",
      "Estoque ao final da semana 1: 20000.0 unidades\n",
      "\n",
      "Semana 2:\n",
      "Produção regular na semana 2: 25000.0 unidades\n",
      "Produção extra na semana 2: 5000.0 unidades\n",
      "Estoque ao final da semana 2: 40000.0 unidades\n",
      "\n",
      "Semana 3:\n",
      "Produção regular na semana 3: 25000.0 unidades\n",
      "Produção extra na semana 3: 0.0 unidades\n",
      "Estoque ao final da semana 3: 35000.0 unidades\n",
      "\n",
      "Semana 4:\n",
      "Produção regular na semana 4: 25000.0 unidades\n",
      "Produção extra na semana 4: 0.0 unidades\n",
      "Estoque ao final da semana 4: None unidades\n"
     ]
    }
   ],
   "source": [
    "print(f\"Custo total mínimo: R$ {model.objetivo():.2f}\")\n",
    "for t in model.S:\n",
    "    print(f\"\\nSemana {t}:\")\n",
    "    print(f\"Produção regular na semana {t}: {model.x[t].value} unidades\")\n",
    "    print(f\"Produção extra na semana {t}: {model.y[t].value} unidades\")\n",
    "    print(f\"Estoque ao final da semana {t}: {model.s[t].value} unidades\")\n",
    "    \n"
   ]
  },
  {
   "cell_type": "markdown",
   "id": "cd2e48e9",
   "metadata": {},
   "source": [
    "## Ex_ 11b"
   ]
  },
  {
   "cell_type": "code",
   "execution_count": 237,
   "id": "fc0b1ce0",
   "metadata": {},
   "outputs": [],
   "source": [
    "# Criação do modelo\n",
    "model = pyo.ConcreteModel()"
   ]
  },
  {
   "cell_type": "code",
   "execution_count": 238,
   "id": "777d3414",
   "metadata": {},
   "outputs": [],
   "source": [
    "\n",
    "# Conjuntos\n",
    "model.S = pyo.Set(initialize=[1, 2, 3, 4])  # Semanas\n",
    "model.T = pyo.Set(initialize=[\"A\", \"B\", \"C\", \"D\"])  # Times\n"
   ]
  },
  {
   "cell_type": "code",
   "execution_count": 239,
   "id": "a1643a90",
   "metadata": {},
   "outputs": [],
   "source": [
    "# ------------------------------\n",
    "# Parâmetros\n",
    "# ------------------------------\n",
    "# Preço de venda das camisetas por semana\n",
    "preco_venda = {\n",
    "    (1, \"A\"): 5, (2, \"A\"): 6, (3, \"A\"): 3, (4, \"A\"): 0,\n",
    "    (1, \"B\"): 5, (2, \"B\"): 6, (3, \"B\"): 3, (4, \"B\"): 0,\n",
    "    (1, \"C\"): 5, (2, \"C\"): 6, (3, \"C\"): 8, (4, \"C\"): 9,\n",
    "    (1, \"D\"): 5, (2, \"D\"): 6, (3, \"D\"): 8, (4, \"D\"): 9\n",
    "}\n",
    "model.v = pyo.Param(model.S, model.T, initialize=preco_venda)\n",
    "\n",
    "# Demanda por semana e time\n",
    "demanda = {\n",
    "    (1, \"A\"): 1250, (2, \"A\"): 2500, (3, \"A\"): 5000, (4, \"A\"): 0,\n",
    "    (1, \"B\"): 1250, (2, \"B\"): 2500, (3, \"B\"): 5000, (4, \"B\"): 0,\n",
    "    (1, \"C\"): 1250, (2, \"C\"): 2500, (3, \"C\"): 14500, (4, \"C\"): 30000,\n",
    "    (1, \"D\"): 1250, (2, \"D\"): 2500, (3, \"D\"): 14500, (4, \"D\"): 30000\n",
    "}\n",
    "model.d = pyo.Param(model.S, model.T, initialize=demanda)\n",
    "\n",
    "# Custos de produção\n",
    "custo_producao = {1: 2, 2: 2, 3: 2.5, 4: 2.5}\n",
    "model.c_prod = pyo.Param(model.S, initialize=custo_producao)\n",
    "\n",
    "# Custos de produção em horas extras (apenas semanas 1 e 2)\n",
    "custo_extra = {1: 2.8, 2: 2.8}\n",
    "model.c_extra = pyo.Param(model.S, initialize=custo_extra, default=0)\n",
    "\n",
    "# Custo de armazenamento por unidade por semana\n",
    "custo_estoque = 0.2\n",
    "\n",
    "# Capacidade máxima de produção regular\n",
    "capacidade_producao = 25000\n",
    "\n",
    "# Produção extra disponível nas semanas 1 e 2\n",
    "capacidade_extra = 10000\n",
    "\n"
   ]
  },
  {
   "cell_type": "code",
   "execution_count": 240,
   "id": "a76d7d48",
   "metadata": {},
   "outputs": [],
   "source": [
    "\n",
    "# ------------------------------\n",
    "# Variáveis de Decisão\n",
    "# ------------------------------\n",
    "# Quantidade produzida por semana e time\n",
    "model.x = pyo.Var(model.S, model.T, domain=pyo.NonNegativeIntegers)\n",
    "\n",
    "# Quantidade estocada ao final de cada semana por time\n",
    "model.s = pyo.Var(model.S, model.T, domain=pyo.NonNegativeIntegers)\n",
    "\n",
    "# Quantidade produzida com horas extras (apenas semanas 1 e 2)\n",
    "model.y = pyo.Var(model.S, domain=pyo.NonNegativeIntegers)"
   ]
  },
  {
   "cell_type": "code",
   "execution_count": 241,
   "id": "40fea9ce",
   "metadata": {},
   "outputs": [],
   "source": [
    "\n",
    "# ------------------------------\n",
    "# Função Objetivo\n",
    "# ------------------------------\n",
    "def fo(model):\n",
    "    \n",
    "    receita_total = sum(model.v[s, t] * model.x[s, t] for s in model.S for t in model.T)\n",
    "\n",
    "    \n",
    "    custo_total_producao = sum(model.x[s, t] * model.c_prod[s] for s in model.S for t in model.T)\n",
    "    custo_total_extra = sum(model.y[s] * model.c_extra[s] for s in model.S if s in [1, 2])\n",
    "    custo_total_estoque = sum(model.s[s, t] * custo_estoque for s in model.S for t in model.T if s < 4)\n",
    "\n",
    "    return receita_total - (custo_total_producao + custo_total_extra + custo_total_estoque)\n",
    "model.objetivo = pyo.Objective(rule=fo, sense=pyo.maximize)\n"
   ]
  },
  {
   "cell_type": "code",
   "execution_count": 242,
   "id": "c6432688",
   "metadata": {},
   "outputs": [],
   "source": [
    "# ------------------------------\n",
    "# Restrições\n",
    "# ------------------------------\n",
    "# 1. Limite de produção por semana\n",
    "def limite_producao(model, s):\n",
    "    return sum(model.x[s, t] for t in model.T) + (model.y[s] if s in [1, 2] else 0) <= (capacidade_producao + (capacidade_extra if s in [1, 2] else 0))\n",
    "\n",
    "model.CapProd = pyo.Constraint(model.S, rule=limite_producao)\n",
    "\n",
    "# 2. Balanço de estoque por time\n",
    "def estoque(model, s, t):\n",
    "    if s == 1:\n",
    "        return model.x[1, t] == model.d[1, t] + model.s[1, t]\n",
    "    elif s == 2:\n",
    "        return model.x[2, t] + model.s[1, t] == model.d[2, t] + model.s[2, t]\n",
    "    elif s == 3:\n",
    "        return model.x[3, t] + model.s[2, t] == model.d[3, t] + model.s[3, t]\n",
    "    elif s == 4:\n",
    "        return model.x[4, t] + model.s[3, t] == model.d[4, t]\n",
    "\n",
    "model.BalancoEstoque = pyo.Constraint(model.S, model.T, rule=estoque)"
   ]
  },
  {
   "cell_type": "code",
   "execution_count": 243,
   "id": "f62461fd",
   "metadata": {},
   "outputs": [
    {
     "data": {
      "text/plain": [
       "('ex11b.lp', 2676203505504)"
      ]
     },
     "execution_count": 243,
     "metadata": {},
     "output_type": "execute_result"
    }
   ],
   "source": [
    "# ------------------------------\n",
    "# Escrita do Modelo em Arquivo\n",
    "# ------------------------------\n",
    "model.write(\"ex11b.lp\", io_options={\"symbolic_solver_labels\": True})\n"
   ]
  },
  {
   "cell_type": "code",
   "execution_count": 244,
   "id": "0d47d1d7",
   "metadata": {},
   "outputs": [
    {
     "name": "stdout",
     "output_type": "stream",
     "text": [
      "MIP  has 20 rows; 30 cols; 58 nonzeros; 30 integer variables (0 binary)\n",
      "Coefficient ranges:\n",
      "  Matrix [1e+00, 1e+00]\n",
      "  Cost   [2e-01, 6e+00]\n",
      "  Bound  [0e+00, 0e+00]\n",
      "  RHS    [1e+03, 4e+04]\n",
      "Presolving model\n",
      "12 rows, 18 cols, 36 nonzeros  0s\n",
      "10 rows, 16 cols, 32 nonzeros  0s\n",
      "Objective function is integral with scale 10\n",
      "\n",
      "Solving MIP model with:\n",
      "   10 rows\n",
      "   16 cols (0 binary, 16 integer, 0 implied int., 0 continuous)\n",
      "   32 nonzeros\n",
      "\n",
      "Src: B => Branching; C => Central rounding; F => Feasibility pump; H => Heuristic; L => Sub-MIP;\n",
      "     P => Empty MIP; R => Randomized rounding; S => Solve LP; T => Evaluate node; U => Unbounded;\n",
      "     z => Trivial zero; l => Trivial lower; u => Trivial upper; p => Trivial point; X => User solution\n",
      "\n",
      "        Nodes      |    B&B Tree     |            Objective Bounds              |  Dynamic Constraints |       Work      \n",
      "Src  Proc. InQueue |  Leaves   Expl. | BestBound       BestSol              Gap |   Cuts   InLp Confl. | LpIters     Time\n",
      "\n",
      "         0       0         0   0.00%   1168000         -inf                 inf        0      0      0         0     0.0s\n",
      " T       0       0         0   0.00%   1168000         505400           131.10%        0      0      0        11     0.0s\n",
      "         1       0         1 100.00%   505400          505400             0.00%        0      0      0        11     0.0s\n",
      "\n",
      "Solving report\n",
      "  Status            Optimal\n",
      "  Primal bound      505400\n",
      "  Dual bound        505400\n",
      "  Gap               0% (tolerance: 0.01%)\n",
      "  P-D integral      0.000193247353222\n",
      "  Solution status   feasible\n",
      "                    505400 (objective)\n",
      "                    0 (bound viol.)\n",
      "                    0 (int. viol.)\n",
      "                    0 (row viol.)\n",
      "  Timing            0.00 (total)\n",
      "                    0.00 (presolve)\n",
      "                    0.00 (solve)\n",
      "                    0.00 (postsolve)\n",
      "  Max sub-MIP depth 0\n",
      "  Nodes             1\n",
      "  Repair LPs        0 (0 feasible; 0 iterations)\n",
      "  LP iterations     11 (total)\n",
      "                    0 (strong br.)\n",
      "                    0 (separation)\n",
      "                    0 (heuristics)\n",
      "\n",
      "Status do solver: ok\n",
      "Condição de terminação: optimal\n",
      "Valor da Função Objetivo: R$ 505.400,00\n"
     ]
    }
   ],
   "source": [
    "# ------------------------------\n",
    "# Resolução\n",
    "# ------------------------------\n",
    "solver = pyo.SolverFactory(\"appsi_highs\")\n",
    "results = solver.solve(model, tee=True)\n",
    "\n",
    "# Exibindo resultados\n",
    "print(\"\\nStatus do solver:\", results.solver.status)\n",
    "print(\"Condição de terminação:\", results.solver.termination_condition)\n",
    "valor_obj = pyo.value(model.objetivo)\n",
    "formatted = f\"{valor_obj:,.2f}\"\n",
    "formatted = formatted.replace(\",\", \"X\").replace(\".\", \",\").replace(\"X\", \".\")\n",
    "print(\"Valor da Função Objetivo: R$\", formatted)"
   ]
  },
  {
   "cell_type": "code",
   "execution_count": 245,
   "id": "70e2ef77",
   "metadata": {},
   "outputs": [
    {
     "name": "stdout",
     "output_type": "stream",
     "text": [
      "\n",
      "Resultados por semana:\n",
      "\n",
      " Semana 1\n",
      "Produção por time:\n",
      "  - Time A: 1250.0 camisetas\n",
      "  - Time B: 8750.0 camisetas\n",
      "  - Time C: 1250.0 camisetas\n",
      "  - Time D: 17750.0 camisetas\n",
      "Estoque final por time:\n",
      "  - Time A: 0.0 camisetas\n",
      "  - Time B: 7500.0 camisetas\n",
      "  - Time C: 0.0 camisetas\n",
      "  - Time D: 16500.0 camisetas\n",
      "Produção extra na semana 1: 0.0 camisetas\n",
      "\n",
      " Semana 2\n",
      "Produção por time:\n",
      "  - Time A: 7500.0 camisetas\n",
      "  - Time B: -0.0 camisetas\n",
      "  - Time C: 27500.0 camisetas\n",
      "  - Time D: 0.0 camisetas\n",
      "Estoque final por time:\n",
      "  - Time A: 5000.0 camisetas\n",
      "  - Time B: 5000.0 camisetas\n",
      "  - Time C: 25000.0 camisetas\n",
      "  - Time D: 14000.0 camisetas\n",
      "Produção extra na semana 2: 0.0 camisetas\n",
      "\n",
      " Semana 3\n",
      "Produção por time:\n",
      "  - Time A: 0.0 camisetas\n",
      "  - Time B: 0.0 camisetas\n",
      "  - Time C: 0.0 camisetas\n",
      "  - Time D: 25000.0 camisetas\n",
      "Estoque final por time:\n",
      "  - Time A: 0.0 camisetas\n",
      "  - Time B: 0.0 camisetas\n",
      "  - Time C: 10500.0 camisetas\n",
      "  - Time D: 24500.0 camisetas\n",
      "Produção extra na semana 3: None camisetas\n",
      "\n",
      " Semana 4\n",
      "Produção por time:\n",
      "  - Time A: 0.0 camisetas\n",
      "  - Time B: 0.0 camisetas\n",
      "  - Time C: 19500.0 camisetas\n",
      "  - Time D: 5500.0 camisetas\n",
      "Estoque final por time:\n",
      "  - Time A: None camisetas\n",
      "  - Time B: None camisetas\n",
      "  - Time C: None camisetas\n",
      "  - Time D: None camisetas\n",
      "Produção extra na semana 4: None camisetas\n"
     ]
    }
   ],
   "source": [
    "print(\"\\nResultados por semana:\")\n",
    "for s in model.S:\n",
    "    print(f\"\\n Semana {s}\")\n",
    "    \n",
    "    print(\"Produção por time:\")\n",
    "    for t in model.T:\n",
    "        print(f\"  - Time {t}: {model.x[s, t].value} camisetas\")\n",
    "    print(\"Estoque final por time:\")\n",
    "    for t in model.T:\n",
    "        print(f\"  - Time {t}: {model.s[s, t].value} camisetas\")\n",
    "    print(f\"Produção extra na semana {s}: {model.y[s].value} camisetas\")\n"
   ]
  },
  {
   "cell_type": "markdown",
   "id": "6b46a243",
   "metadata": {},
   "source": [
    "## Ex12"
   ]
  },
  {
   "cell_type": "code",
   "execution_count": 246,
   "id": "a67d5cef",
   "metadata": {},
   "outputs": [],
   "source": [
    "# Criação do modelo\n",
    "model = pyo.ConcreteModel()"
   ]
  },
  {
   "cell_type": "code",
   "execution_count": 247,
   "id": "870cf77e",
   "metadata": {},
   "outputs": [],
   "source": [
    "\n",
    "# Conjuntos\n",
    "model.F = pyo.Set(initialize=[\"SP\", \"JP\", \"MA\"])  \n",
    "model.R = pyo.Set(initialize=[\"RJ\", \"Salvador\", \"Aracaju\", \"Maceió\", \"Recife\"]) \n"
   ]
  },
  {
   "cell_type": "code",
   "execution_count": 248,
   "id": "ffef7430",
   "metadata": {},
   "outputs": [],
   "source": [
    "# Capacidade de produção nas fábricas\n",
    "capacidade_producao = {\"SP\": 10000, \"JP\": 5000, \"MA\": 6000}\n",
    "model.cap = pyo.Param(model.F, initialize=capacidade_producao)\n",
    "\n",
    "# Demanda dos pontos de revenda\n",
    "demanda_revenda = {\"RJ\": 6000, \"Salvador\": 5000, \"Aracaju\": 2000, \"Maceió\": 1000, \"Recife\": 3000}\n",
    "model.demanda = pyo.Param(model.R, initialize=demanda_revenda)\n",
    "\n",
    "# Custos de transporte (R$/unidade)\n",
    "custo_transporte = {\n",
    "    (\"SP\", \"RJ\"): 1.00, (\"SP\", \"Salvador\"): 2.00, (\"SP\", \"Aracaju\"): 3.00, (\"SP\", \"Maceió\"): 3.50, (\"SP\", \"Recife\"): 4.00,\n",
    "    (\"JP\", \"RJ\"): 4.00, (\"JP\", \"Salvador\"): 2.00, (\"JP\", \"Aracaju\"): 1.50, (\"JP\", \"Maceió\"): 1.20, (\"JP\", \"Recife\"): 1.00,\n",
    "    (\"MA\", \"RJ\"): 6.00, (\"MA\", \"Salvador\"): 4.00, (\"MA\", \"Aracaju\"): 3.50, (\"MA\", \"Maceió\"): 3.00, (\"MA\", \"Recife\"): 2.00\n",
    "}\n",
    "model.custo = pyo.Param(model.F, model.R, initialize=custo_transporte)"
   ]
  },
  {
   "cell_type": "code",
   "execution_count": 249,
   "id": "a43570e0",
   "metadata": {},
   "outputs": [],
   "source": [
    "\n",
    "# ------------------------------\n",
    "# Variáveis de Decisão\n",
    "# ------------------------------\n",
    "\n",
    "model.x = pyo.Var(model.F, model.R, domain=pyo.NonNegativeIntegers)"
   ]
  },
  {
   "cell_type": "code",
   "execution_count": 250,
   "id": "041910b1",
   "metadata": {},
   "outputs": [],
   "source": [
    "\n",
    "# ------------------------------\n",
    "# Função Objetivo\n",
    "# ------------------------------\n",
    "def fo(model):\n",
    "    return sum(model.x[i, j] * model.custo[i, j] for i in model.F for j in model.R)/1000\n",
    "model.objetivo = pyo.Objective(rule=fo, sense=pyo.minimize)\n"
   ]
  },
  {
   "cell_type": "code",
   "execution_count": 251,
   "id": "97bda13d",
   "metadata": {},
   "outputs": [],
   "source": [
    "# ------------------------------\n",
    "# Restrições\n",
    "# ------------------------------\n",
    "\n",
    "# 1. Capacidade de produção nas fábricas\n",
    "def capacidade(model, i):\n",
    "    return sum(model.x[i, j] for j in model.R) <= model.cap[i]\n",
    "\n",
    "model.Capacidade = pyo.Constraint(model.F, rule=capacidade)\n",
    "\n",
    "# 2. Atendimento da demanda dos pontos de revenda\n",
    "def atendimento_demanda(model, j):\n",
    "    return sum(model.x[i, j] for i in model.F) == model.demanda[j]\n",
    "model.AtendimentoDemanda = pyo.Constraint(model.R, rule=atendimento_demanda)\n",
    "\n"
   ]
  },
  {
   "cell_type": "code",
   "execution_count": 252,
   "id": "041452ac",
   "metadata": {},
   "outputs": [
    {
     "data": {
      "text/plain": [
       "('ex12.lp', 2676179834000)"
      ]
     },
     "execution_count": 252,
     "metadata": {},
     "output_type": "execute_result"
    }
   ],
   "source": [
    "# ------------------------------\n",
    "# Escrita do Modelo em Arquivo\n",
    "# ------------------------------\n",
    "model.write(\"ex12.lp\", io_options={\"symbolic_solver_labels\": True})"
   ]
  },
  {
   "cell_type": "code",
   "execution_count": 253,
   "id": "dc5a0520",
   "metadata": {},
   "outputs": [
    {
     "name": "stdout",
     "output_type": "stream",
     "text": [
      "MIP  has 8 rows; 15 cols; 30 nonzeros; 15 integer variables (0 binary)\n",
      "Coefficient ranges:\n",
      "  Matrix [1e+00, 1e+00]\n",
      "  Cost   [1e-03, 6e-03]\n",
      "  Bound  [0e+00, 0e+00]\n",
      "  RHS    [1e+03, 1e+04]\n",
      "Presolving model\n",
      "8 rows, 15 cols, 30 nonzeros  0s\n",
      "8 rows, 15 cols, 30 nonzeros  0s\n",
      "Objective function is integral with scale 50000\n",
      "\n",
      "Solving MIP model with:\n",
      "   8 rows\n",
      "   15 cols (0 binary, 15 integer, 0 implied int., 0 continuous)\n",
      "   30 nonzeros\n",
      "\n",
      "Src: B => Branching; C => Central rounding; F => Feasibility pump; H => Heuristic; L => Sub-MIP;\n",
      "     P => Empty MIP; R => Randomized rounding; S => Solve LP; T => Evaluate node; U => Unbounded;\n",
      "     z => Trivial zero; l => Trivial lower; u => Trivial upper; p => Trivial point; X => User solution\n",
      "\n",
      "        Nodes      |    B&B Tree     |            Objective Bounds              |  Dynamic Constraints |       Work      \n",
      "Src  Proc. InQueue |  Leaves   Expl. | BestBound       BestSol              Gap |   Cuts   InLp Confl. | LpIters     Time\n",
      "\n",
      "         0       0         0   0.00%   0               inf                  inf        0      0      0         0     0.0s\n",
      " T       0       0         0   0.00%   0               25.2             100.00%        0      0      0         7     0.0s\n",
      "         1       0         1 100.00%   25.2            25.2               0.00%        0      0      0         7     0.0s\n",
      "\n",
      "Solving report\n",
      "  Status            Optimal\n",
      "  Primal bound      25.2\n",
      "  Dual bound        25.2\n",
      "  Gap               0% (tolerance: 0.01%)\n",
      "  P-D integral      0.000163000077009\n",
      "  Solution status   feasible\n",
      "                    25.2 (objective)\n",
      "                    0 (bound viol.)\n",
      "                    0 (int. viol.)\n",
      "                    0 (row viol.)\n",
      "  Timing            0.00 (total)\n",
      "                    0.00 (presolve)\n",
      "                    0.00 (solve)\n",
      "                    0.00 (postsolve)\n",
      "  Max sub-MIP depth 0\n",
      "  Nodes             1\n",
      "  Repair LPs        0 (0 feasible; 0 iterations)\n",
      "  LP iterations     7 (total)\n",
      "                    0 (strong br.)\n",
      "                    0 (separation)\n",
      "                    0 (heuristics)\n",
      "\n",
      "Status do solver: ok\n",
      "Condição de terminação: optimal\n"
     ]
    }
   ],
   "source": [
    "# ------------------------------\n",
    "# Resolução\n",
    "# ------------------------------\n",
    "solver = pyo.SolverFactory(\"appsi_highs\")\n",
    "results = solver.solve(model, tee=True)\n",
    "\n",
    "# Exibindo resultados\n",
    "print(\"\\nStatus do solver:\", results.solver.status)\n",
    "print(\"Condição de terminação:\", results.solver.termination_condition)\n"
   ]
  },
  {
   "cell_type": "code",
   "execution_count": 254,
   "id": "be1bb0b9",
   "metadata": {},
   "outputs": [
    {
     "name": "stdout",
     "output_type": "stream",
     "text": [
      "Quantidade transportada da fábrica SP para RJ: 6000.00\n",
      "Quantidade transportada da fábrica SP para Salvador: 4000.00\n",
      "Quantidade transportada da fábrica JP para Salvador: 1000.00\n",
      "Quantidade transportada da fábrica JP para Aracaju: 2000.00\n",
      "Quantidade transportada da fábrica JP para Maceió: 1000.00\n",
      "Quantidade transportada da fábrica JP para Recife: 1000.00\n",
      "Quantidade transportada da fábrica MA para Recife: 2000.00\n",
      "\n",
      "Valor da Função Objetivo: R$ 505.400,00\n"
     ]
    }
   ],
   "source": [
    "for i in model.F:\n",
    "    for j in model.R:\n",
    "        val = pyo.value(model.x[i, j])\n",
    "        if val > 0:  \n",
    "            print(f\"Quantidade transportada da fábrica {i} para {j}: {val:.2f}\")\n",
    "\n",
    "# Exibindo o valor da função objetivo\n",
    "print(\"\\nValor da Função Objetivo: R$\", formatted)"
   ]
  },
  {
   "cell_type": "markdown",
   "id": "ef94a62b",
   "metadata": {},
   "source": [
    "## Ex 13"
   ]
  },
  {
   "cell_type": "code",
   "execution_count": 255,
   "id": "fbb85a4e",
   "metadata": {},
   "outputs": [],
   "source": [
    "# Criação do modelo\n",
    "model = pyo.ConcreteModel()"
   ]
  },
  {
   "cell_type": "code",
   "execution_count": 256,
   "id": "26a8209e",
   "metadata": {},
   "outputs": [],
   "source": [
    "\n",
    "# Conjuntos\n",
    "model.M = pyo.Set(initialize=[\"Mat1\", \"Mat2\", \"Mat3\", \"Mat4\", \"Mat5\", \"Mat6\", \"Mat7\"])\n",
    "\n",
    "model.E = pyo.Set(initialize=[\"Fe\", \"Cu\", \"Mn\", \"Mg\", \"Al\", \"Si\"])"
   ]
  },
  {
   "cell_type": "code",
   "execution_count": 257,
   "id": "27ba8c11",
   "metadata": {},
   "outputs": [],
   "source": [
    "custo_material = {\"Mat1\": 0.03, \"Mat2\": 0.08, \"Mat3\": 0.17, \"Mat4\": 0.12, \n",
    "                  \"Mat5\": 0.15, \"Mat6\": 0.21, \"Mat7\": 0.38}\n",
    "model.c_material = pyo.Param(model.M, initialize=custo_material)\n",
    "\n",
    "# Composição química das matérias-primas\n",
    "qtd_elementos = {\n",
    "    (\"Mat1\", \"Fe\"): 0.15, (\"Mat2\", \"Fe\"): 0.04, (\"Mat3\", \"Fe\"): 0.02, (\"Mat4\", \"Fe\"): 0.04, (\"Mat5\", \"Fe\"): 0.02, (\"Mat6\", \"Fe\"): 0.01, (\"Mat7\", \"Fe\"): 0.03,\n",
    "    (\"Mat1\", \"Cu\"): 0.03, (\"Mat2\", \"Cu\"): 0.05, (\"Mat3\", \"Cu\"): 0.08, (\"Mat4\", \"Cu\"): 0.02, (\"Mat5\", \"Cu\"): 0.06, (\"Mat6\", \"Cu\"): 0.01,\n",
    "    (\"Mat1\", \"Mn\"): 0.02, (\"Mat2\", \"Mn\"): 0.04, (\"Mat3\", \"Mn\"): 0.01, (\"Mat4\", \"Mn\"): 0.02, (\"Mat5\", \"Mn\"): 0.02,\n",
    "    (\"Mat1\", \"Mg\"): 0.02, (\"Mat2\", \"Mg\"): 0.03, (\"Mat3\", \"Mg\"): 0.00, (\"Mat4\", \"Mg\"): 0.00, (\"Mat5\", \"Mg\"): 0.01,\n",
    "    (\"Mat1\", \"Al\"): 0.70, (\"Mat2\", \"Al\"): 0.75, (\"Mat3\", \"Al\"): 0.80, (\"Mat4\", \"Al\"): 0.75, (\"Mat5\", \"Al\"): 0.80, (\"Mat6\", \"Al\"): 0.97,\n",
    "    (\"Mat1\", \"Si\"): 0.02, (\"Mat2\", \"Si\"): 0.06, (\"Mat3\", \"Si\"): 0.08, (\"Mat4\", \"Si\"): 0.12, (\"Mat5\", \"Si\"): 0.02, (\"Mat6\", \"Si\"): 0.01, (\"Mat7\", \"Si\"): 0.97,\n",
    "}\n",
    "model.q_material = pyo.Param(model.M, model.E, initialize=qtd_elementos, default=0)\n",
    "\n",
    "# Limites de disponibilidade das matérias-primas\n",
    "estoque_material = {\"Mat1\": 200, \"Mat2\": 750, \"Mat3\": 800, \"Mat4\": 700, \"Mat5\": 1500, \"Mat6\": float(\"inf\"), \"Mat7\": float(\"inf\")}\n",
    "model.e_material = pyo.Param(model.M, initialize=estoque_material)\n",
    "\n",
    "# Limites de presença de elementos químicos\n",
    "limites_elementos = {\"Fe\": (0, 60), \"Cu\": (0, 100), \"Mn\": (0, 40), \"Mg\": (0, 30), \"Al\": (1500, float(\"inf\")), \"Si\": (250, 300)}\n",
    "model.l_elemento_min = pyo.Param(model.E, initialize={e: limites_elementos[e][0] for e in model.E})\n",
    "model.l_elemento_max = pyo.Param(model.E, initialize={e: limites_elementos[e][1] for e in model.E})\n"
   ]
  },
  {
   "cell_type": "code",
   "execution_count": 258,
   "id": "a9769ee8",
   "metadata": {},
   "outputs": [],
   "source": [
    "\n",
    "# ------------------------------\n",
    "# Variáveis de Decisão\n",
    "# ------------------------------\n",
    "\n",
    "model.x = pyo.Var(model.M, domain=pyo.NonNegativeReals)"
   ]
  },
  {
   "cell_type": "code",
   "execution_count": 259,
   "id": "82f8590d",
   "metadata": {},
   "outputs": [],
   "source": [
    "\n",
    "# ------------------------------\n",
    "# Função Objetivo\n",
    "# ------------------------------\n",
    "def fo(model):\n",
    "    return sum(model.x[m] * model.c_material[m] for m in model.M)\n",
    "\n",
    "model.objetivo = pyo.Objective(rule=fo, sense=pyo.minimize)\n"
   ]
  },
  {
   "cell_type": "code",
   "execution_count": 260,
   "id": "5031a521",
   "metadata": {},
   "outputs": [],
   "source": [
    "# ------------------------------\n",
    "# Restrições\n",
    "# ------------------------------\n",
    "\n",
    "# 1. Limite total da liga\n",
    "def liga_total_rule(model):\n",
    "    return sum(model.x[m] for m in model.M) == 2000\n",
    "\n",
    "model.liga_total = pyo.Constraint(rule=liga_total_rule)\n",
    "\n",
    "\n",
    "# 2. Restrições de composição química\n",
    "def elemento_min_rule(model, e):\n",
    "    return sum(model.x[m] * model.q_material[m, e] for m in model.M) >= model.l_elemento_min[e]\n",
    "\n",
    "def elemento_max_rule(model, e):\n",
    "    return sum(model.x[m] * model.q_material[m, e] for m in model.M) <= model.l_elemento_max[e]\n",
    "\n",
    "model.limite_elemento_min = pyo.Constraint(model.E, rule=elemento_min_rule)\n",
    "model.limite_elemento_max = pyo.Constraint(model.E, rule=elemento_max_rule)\n",
    "\n",
    "# 3. Limites de disponibilidade das matérias-primas\n",
    "def estoque_rule(model, m):\n",
    "    return model.x[m] <= model.e_material[m]\n",
    "\n",
    "model.limite_estoque = pyo.Constraint(model.M, rule=estoque_rule)\n",
    "\n"
   ]
  },
  {
   "cell_type": "code",
   "execution_count": 261,
   "id": "0a4c3dd3",
   "metadata": {},
   "outputs": [
    {
     "data": {
      "text/plain": [
       "('ex13.lp', 2676203952256)"
      ]
     },
     "execution_count": 261,
     "metadata": {},
     "output_type": "execute_result"
    }
   ],
   "source": [
    "# ------------------------------\n",
    "# Escrita do Modelo em Arquivo\n",
    "# ------------------------------\n",
    "model.write(\"ex13.lp\", io_options={\"symbolic_solver_labels\": True})"
   ]
  },
  {
   "cell_type": "code",
   "execution_count": 262,
   "id": "3e02d63b",
   "metadata": {},
   "outputs": [
    {
     "name": "stdout",
     "output_type": "stream",
     "text": [
      "LP   has 20 rows; 7 cols; 82 nonzeros\n",
      "Coefficient ranges:\n",
      "  Matrix [1e-02, 1e+00]\n",
      "  Cost   [3e-02, 4e-01]\n",
      "  Bound  [0e+00, 0e+00]\n",
      "  RHS    [3e+01, 2e+03]\n",
      "Presolving model\n",
      "8 rows, 7 cols, 48 nonzeros  0s\n",
      "Dependent equations search running on 1 equations with time limit of 1000.00s\n",
      "Dependent equations search removed 0 rows and 0 nonzeros in 0.00s (limit = 1000.00s)\n",
      "7 rows, 7 cols, 41 nonzeros  0s\n",
      "Presolve : Reductions: rows 7(-13); columns 7(-0); elements 41(-41)\n",
      "Solving the presolved LP\n",
      "Using EKK dual simplex solver - serial\n",
      "  Iteration        Objective     Infeasibilities num(sum)\n",
      "          0     0.0000000000e+00 Pr: 3(687.5) 0s\n",
      "          7     2.9621660650e+02 Pr: 0(0) 0s\n",
      "Solving the original LP from the solution after postsolve\n",
      "Model status        : Optimal\n",
      "Simplex   iterations: 7\n",
      "Objective value     :  2.9621660650e+02\n",
      "Relative P-D gap    :  0.0000000000e+00\n",
      "HiGHS run time      :          0.00\n",
      "\n",
      "Status do solver: ok\n",
      "Condição de terminação: optimal\n",
      "Valor da Função Objetivo: R$ 296,22\n"
     ]
    }
   ],
   "source": [
    "# ------------------------------\n",
    "# Resolução\n",
    "# ------------------------------\n",
    "solver = pyo.SolverFactory(\"appsi_highs\")\n",
    "results = solver.solve(model, tee=True)\n",
    "\n",
    "# Exibindo resultados\n",
    "print(\"\\nStatus do solver:\", results.solver.status)\n",
    "print(\"Condição de terminação:\", results.solver.termination_condition)\n",
    "valor_obj = pyo.value(model.objetivo)\n",
    "formatted = f\"{valor_obj:,.2f}\"\n",
    "formatted = formatted.replace(\",\", \"X\").replace(\".\", \",\").replace(\"X\", \".\")\n",
    "print(\"Valor da Função Objetivo: R$\", formatted)"
   ]
  },
  {
   "cell_type": "code",
   "execution_count": 263,
   "id": "47428d31",
   "metadata": {},
   "outputs": [
    {
     "name": "stdout",
     "output_type": "stream",
     "text": [
      "Quantidade de Mat1: 0.00 kg\n",
      "Quantidade de Mat2: 665.34 kg\n",
      "Quantidade de Mat3: 490.25 kg\n",
      "Quantidade de Mat4: 424.19 kg\n",
      "Quantidade de Mat5: 0.00 kg\n",
      "Quantidade de Mat6: 299.64 kg\n",
      "Quantidade de Mat7: 120.58 kg\n"
     ]
    }
   ],
   "source": [
    "\n",
    "for m in model.M:\n",
    "    valor = pyo.value(model.x[m])\n",
    "    print(f\"Quantidade de {m}: {valor:.2f} kg\")\n",
    "\n"
   ]
  },
  {
   "cell_type": "markdown",
   "id": "1aeb66e3",
   "metadata": {},
   "source": [
    "#Ex14"
   ]
  },
  {
   "cell_type": "code",
   "execution_count": 264,
   "id": "11357d08",
   "metadata": {},
   "outputs": [],
   "source": [
    "# Criação do modelo\n",
    "model = pyo.ConcreteModel()"
   ]
  },
  {
   "cell_type": "code",
   "execution_count": 265,
   "id": "45a5d4cb",
   "metadata": {},
   "outputs": [],
   "source": [
    "\n",
    "# Conjuntos\n",
    "\n",
    "model.Empresas = pyo.Set(initialize=[\"D\", \"N\"])\n",
    "\n",
    "model.Produtos = pyo.Set(initialize=[\"Cerveja\", \"Refrigerante\"])"
   ]
  },
  {
   "cell_type": "code",
   "execution_count": 266,
   "id": "260dc05b",
   "metadata": {},
   "outputs": [],
   "source": [
    "# Bonificação esperada por empresa\n",
    "bonificacao = {\"D\": 0.12, \"N\": 0.20}\n",
    "model.bonificacao = pyo.Param(model.Empresas, initialize=bonificacao)\n",
    "\n",
    "# Porcentagem de cada produto na empresa D\n",
    "porcentagem_produto = {\n",
    "    (\"D\", \"Cerveja\"): 0.40,\n",
    "    (\"D\", \"Refrigerante\"): 0.60,\n",
    "    (\"N\", \"Cerveja\"): 1.00\n",
    "}\n",
    "model.p_produto = pyo.Param(model.Empresas, model.Produtos, initialize=porcentagem_produto, default=0)\n",
    "\n",
    "# Limite de investimento por empresa\n",
    "limite_empresa = {\"D\": 270000, \"N\": 150000}\n",
    "model.l_empresa = pyo.Param(model.Empresas, initialize=limite_empresa)\n",
    "\n",
    "# Limite de investimento por produto\n",
    "limite_produto = {\"Cerveja\": 180000, \"Refrigerante\": 180000}\n",
    "model.l_produto = pyo.Param(model.Produtos, initialize=limite_produto)\n",
    "\n",
    "# Orçamento total disponível\n",
    "model.orcamento = pyo.Param(initialize=300000)\n"
   ]
  },
  {
   "cell_type": "code",
   "execution_count": 267,
   "id": "3321b573",
   "metadata": {},
   "outputs": [],
   "source": [
    "\n",
    "# ------------------------------\n",
    "# Variáveis de Decisão\n",
    "# ------------------------------\n",
    "\n",
    "model.x = pyo.Var(model.Empresas, domain=pyo.NonNegativeReals)"
   ]
  },
  {
   "cell_type": "code",
   "execution_count": 268,
   "id": "528f9d17",
   "metadata": {},
   "outputs": [],
   "source": [
    "\n",
    "# ------------------------------\n",
    "# Função Objetivo\n",
    "# ------------------------------\n",
    "def fo(model):\n",
    "    return sum(model.x[e] * model.bonificacao[e] for e in model.Empresas)\n",
    "\n",
    "model.objetivo = pyo.Objective(rule=fo, sense=pyo.maximize)\n"
   ]
  },
  {
   "cell_type": "code",
   "execution_count": 269,
   "id": "e4d035e6",
   "metadata": {},
   "outputs": [],
   "source": [
    "# ------------------------------\n",
    "# Restrições\n",
    "# ------------------------------\n",
    "\n",
    "# 1. Restrição de orçamento total\n",
    "def orcamento_rule(model):\n",
    "    return sum(model.x[e] for e in model.Empresas) <= model.orcamento\n",
    "model.orcamento_total = pyo.Constraint(rule=orcamento_rule)\n",
    "\n",
    "# 2. Restrição de limite de investimento por empresa\n",
    "def limite_empresa_rule(model, e):\n",
    "    return model.x[e] <= model.l_empresa[e]\n",
    "\n",
    "\n",
    "model.limite_empresa = pyo.Constraint(model.Empresas, rule=limite_empresa_rule)\n",
    "\n",
    "# 3. Restrição de limite de investimento por produto\n",
    "def limite_produto_rule(model, p):\n",
    "    return sum(model.x[e] * model.p_produto[e, p] for e in model.Empresas) <= model.l_produto[p]\n",
    "\n",
    "model.limite_produto = pyo.Constraint(model.Produtos, rule=limite_produto_rule)\n",
    "\n",
    "\n"
   ]
  },
  {
   "cell_type": "code",
   "execution_count": 270,
   "id": "5b05b239",
   "metadata": {},
   "outputs": [
    {
     "data": {
      "text/plain": [
       "('ex14.lp', 2676204097200)"
      ]
     },
     "execution_count": 270,
     "metadata": {},
     "output_type": "execute_result"
    }
   ],
   "source": [
    "# ------------------------------\n",
    "# Escrita do Modelo em Arquivo\n",
    "# ------------------------------\n",
    "model.write(\"ex14.lp\", io_options={\"symbolic_solver_labels\": True})"
   ]
  },
  {
   "cell_type": "code",
   "execution_count": 271,
   "id": "c628d429",
   "metadata": {},
   "outputs": [
    {
     "name": "stdout",
     "output_type": "stream",
     "text": [
      "LP   has 5 rows; 2 cols; 7 nonzeros\n",
      "Coefficient ranges:\n",
      "  Matrix [4e-01, 1e+00]\n",
      "  Cost   [1e-01, 2e-01]\n",
      "  Bound  [0e+00, 0e+00]\n",
      "  RHS    [2e+05, 3e+05]\n",
      "Presolving model\n",
      "2 rows, 2 cols, 4 nonzeros  0s\n",
      "2 rows, 2 cols, 4 nonzeros  0s\n",
      "Presolve : Reductions: rows 2(-3); columns 2(-0); elements 4(-3)\n",
      "Solving the presolved LP\n",
      "Using EKK dual simplex solver - serial\n",
      "  Iteration        Objective     Infeasibilities num(sum)\n",
      "          0     0.0000000000e+00 Ph1: 0(0) 0s\n",
      "          2    -4.4000000000e+04 Pr: 0(0) 0s\n",
      "Solving the original LP from the solution after postsolve\n",
      "Model status        : Optimal\n",
      "Simplex   iterations: 2\n",
      "Objective value     :  4.4000000000e+04\n",
      "Relative P-D gap    :  0.0000000000e+00\n",
      "HiGHS run time      :          0.00\n",
      "\n",
      "Status do solver: ok\n",
      "Condição de terminação: optimal\n",
      "Valor da Função Objetivo: R$ 44.000,00\n"
     ]
    }
   ],
   "source": [
    "# ------------------------------\n",
    "# Resolução\n",
    "# ------------------------------\n",
    "solver = pyo.SolverFactory(\"appsi_highs\")\n",
    "results = solver.solve(model, tee=True)\n",
    "\n",
    "# Exibindo resultados\n",
    "print(\"\\nStatus do solver:\", results.solver.status)\n",
    "print(\"Condição de terminação:\", results.solver.termination_condition)\n",
    "valor_obj = pyo.value(model.objetivo)\n",
    "formatted = f\"{valor_obj:,.2f}\"\n",
    "formatted = formatted.replace(\",\", \"X\").replace(\".\", \",\").replace(\"X\", \".\")\n",
    "print(\"Valor da Função Objetivo: R$\", formatted)"
   ]
  },
  {
   "cell_type": "code",
   "execution_count": 272,
   "id": "f92c8dc9",
   "metadata": {},
   "outputs": [
    {
     "name": "stdout",
     "output_type": "stream",
     "text": [
      "Investimento na empresa D: R$ 200.000,00\n",
      "Investimento na empresa N: R$ 100.000,00\n"
     ]
    }
   ],
   "source": [
    "for e in model.Empresas:\n",
    "    valor = pyo.value(model.x[e])\n",
    "    print(f\"Investimento na empresa {e}: R$ {valor:,.2f}\".replace(\",\", \"X\").replace(\".\", \",\").replace(\"X\", \".\"))\n",
    "\n"
   ]
  },
  {
   "cell_type": "markdown",
   "id": "5bf4c06a",
   "metadata": {},
   "source": [
    "## EX15"
   ]
  },
  {
   "cell_type": "code",
   "execution_count": 273,
   "id": "464c0680",
   "metadata": {},
   "outputs": [],
   "source": [
    "# Criação do modelo\n",
    "model = pyo.ConcreteModel()"
   ]
  },
  {
   "cell_type": "code",
   "execution_count": 274,
   "id": "dc2b5f4a",
   "metadata": {},
   "outputs": [],
   "source": [
    "\n",
    "# Conjuntos\n",
    "# Tipos de aeronaves\n",
    "model.Aeronaves = pyo.Set(initialize=[\"A1\", \"A2\", \"A3\"])\n",
    "# Rotas aéreas\n",
    "model.Rotas = pyo.Set(initialize=[\"R1\", \"R2\", \"R3\", \"R4\"])"
   ]
  },
  {
   "cell_type": "code",
   "execution_count": 275,
   "id": "8c352179",
   "metadata": {},
   "outputs": [],
   "source": [
    "# Capacidade de passageiros por tipo de aeronave\n",
    "capacidade = {\"A1\": 50, \"A2\": 30, \"A3\": 20}\n",
    "model.capacidade = pyo.Param(model.Aeronaves, initialize=capacidade)\n",
    "\n",
    "# Número de aeronaves disponíveis por tipo\n",
    "aeronaves_disponiveis = {\"A1\": 5, \"A2\": 8, \"A3\": 10}\n",
    "model.aeronaves_disp = pyo.Param(model.Aeronaves, initialize=aeronaves_disponiveis)\n",
    "\n",
    "# Número máximo de viagens por aeronave em cada rota\n",
    "viagens_max = {\n",
    "    (\"A1\", \"R1\"): 3, (\"A1\", \"R2\"): 2, (\"A1\", \"R3\"): 2, (\"A1\", \"R4\"): 1,\n",
    "    (\"A2\", \"R1\"): 4, (\"A2\", \"R2\"): 3, (\"A2\", \"R3\"): 3, (\"A2\", \"R4\"): 2,\n",
    "    (\"A3\", \"R1\"): 5, (\"A3\", \"R2\"): 5, (\"A3\", \"R3\"): 4, (\"A3\", \"R4\"): 2\n",
    "}\n",
    "model.viagens_max = pyo.Param(model.Aeronaves, model.Rotas, initialize=viagens_max)\n",
    "\n",
    "# Demanda de passageiros por rota\n",
    "demanda = {\"R1\": 100, \"R2\": 200, \"R3\": 90, \"R4\": 120}\n",
    "model.demanda = pyo.Param(model.Rotas, initialize=demanda)\n",
    "\n",
    "# Custos operacionais por viagem\n",
    "custo_operacional = {\n",
    "    (\"A1\", \"R1\"): 1000, (\"A1\", \"R2\"): 1100, (\"A1\", \"R3\"): 1200, (\"A1\", \"R4\"): 1500,\n",
    "    (\"A2\", \"R1\"): 800,  (\"A2\", \"R2\"): 900,  (\"A2\", \"R3\"): 1000, (\"A2\", \"R4\"): 1000,\n",
    "    (\"A3\", \"R1\"): 600,  (\"A3\", \"R2\"): 800,  (\"A3\", \"R3\"): 800,  (\"A3\", \"R4\"): 900\n",
    "}\n",
    "model.custo_viagem = pyo.Param(model.Aeronaves, model.Rotas, initialize=custo_operacional)\n"
   ]
  },
  {
   "cell_type": "code",
   "execution_count": 276,
   "id": "1f58a19d",
   "metadata": {},
   "outputs": [],
   "source": [
    "\n",
    "# ------------------------------\n",
    "# Variáveis de Decisão\n",
    "# ------------------------------\n",
    "\n",
    "model.x = pyo.Var(model.Aeronaves, model.Rotas, domain=pyo.NonNegativeIntegers)\n"
   ]
  },
  {
   "cell_type": "code",
   "execution_count": 277,
   "id": "59d8199d",
   "metadata": {},
   "outputs": [],
   "source": [
    "\n",
    "# ------------------------------\n",
    "# Função Objetivo\n",
    "# ------------------------------\n",
    "def fo(model):\n",
    "    return sum(model.x[a, r] * model.custo_viagem[a, r] for a in model.Aeronaves for r in model.Rotas)\n",
    "\n",
    "\n",
    "model.objetivo = pyo.Objective(rule=fo, sense=pyo.maximize)\n"
   ]
  },
  {
   "cell_type": "code",
   "execution_count": 278,
   "id": "bb0d9053",
   "metadata": {},
   "outputs": [],
   "source": [
    "# ------------------------------\n",
    "# Restrições\n",
    "# ------------------------------\n",
    "\n",
    "# 1. Atender à demanda de passageiros em cada rota\n",
    "def demanda_rule(model, r):\n",
    "    return sum(model.x[a, r] * model.capacidade[a] for a in model.Aeronaves) >= model.demanda[r]\n",
    "\n",
    "model.demanda_atendida = pyo.Constraint(model.Rotas, rule=demanda_rule)\n",
    "\n",
    "# 2. Não ultrapassar o número de aviões disponíveis\n",
    "def limite_aeronaves_rule(model, a):\n",
    "    return sum(model.x[a, r] for r in model.Rotas) <= model.aeronaves_disp[a]\n",
    "\n",
    "model.limite_aeronaves = pyo.Constraint(model.Aeronaves, rule=limite_aeronaves_rule)\n",
    "\n",
    "# 3. Respeitar o limite de viagens por aeronave em cada rota\n",
    "def limite_viagens_rule(model, a, r):\n",
    "    return model.x[a, r] <= model.viagens_max[a, r]\n",
    "#\n",
    "model.limite_viagens = pyo.Constraint(model.Aeronaves, model.Rotas, rule=limite_viagens_rule)\n",
    "\n"
   ]
  },
  {
   "cell_type": "code",
   "execution_count": 279,
   "id": "dac15b05",
   "metadata": {},
   "outputs": [
    {
     "data": {
      "text/plain": [
       "('ex15.lp', 2676204125296)"
      ]
     },
     "execution_count": 279,
     "metadata": {},
     "output_type": "execute_result"
    }
   ],
   "source": [
    "# ------------------------------\n",
    "# Escrita do Modelo em Arquivo\n",
    "# ------------------------------\n",
    "model.write(\"ex15.lp\", io_options={\"symbolic_solver_labels\": True})"
   ]
  },
  {
   "cell_type": "code",
   "execution_count": 280,
   "id": "de2ec1f7",
   "metadata": {},
   "outputs": [
    {
     "name": "stdout",
     "output_type": "stream",
     "text": [
      "MIP  has 19 rows; 12 cols; 36 nonzeros; 12 integer variables (0 binary)\n",
      "Coefficient ranges:\n",
      "  Matrix [1e+00, 5e+01]\n",
      "  Cost   [6e+02, 2e+03]\n",
      "  Bound  [0e+00, 0e+00]\n",
      "  RHS    [1e+00, 2e+02]\n",
      "Presolving model\n",
      "7 rows, 12 cols, 24 nonzeros  0s\n",
      "7 rows, 11 cols, 22 nonzeros  0s\n",
      "Objective function is integral with scale 0.01\n",
      "\n",
      "Solving MIP model with:\n",
      "   7 rows\n",
      "   11 cols (3 binary, 8 integer, 0 implied int., 0 continuous)\n",
      "   22 nonzeros\n",
      "\n",
      "Src: B => Branching; C => Central rounding; F => Feasibility pump; H => Heuristic; L => Sub-MIP;\n",
      "     P => Empty MIP; R => Randomized rounding; S => Solve LP; T => Evaluate node; U => Unbounded;\n",
      "     z => Trivial zero; l => Trivial lower; u => Trivial upper; p => Trivial point; X => User solution\n",
      "\n",
      "        Nodes      |    B&B Tree     |            Objective Bounds              |  Dynamic Constraints |       Work      \n",
      "Src  Proc. InQueue |  Leaves   Expl. | BestBound       BestSol              Gap |   Cuts   InLp Confl. | LpIters     Time\n",
      "\n",
      "         0       0         0   0.00%   32000           -inf                 inf        0      0      0         0     0.0s\n",
      " R       0       0         0   0.00%   21726.666667    21600              0.59%        0      0      0         5     0.0s\n",
      " T       0       0         0   0.00%   21726.666667    21700              0.12%        0      0      0         7     0.0s\n",
      "         1       0         1 100.00%   21700           21700              0.00%        0      0      0         7     0.0s\n",
      "\n",
      "Solving report\n",
      "  Status            Optimal\n",
      "  Primal bound      21700\n",
      "  Dual bound        21700\n",
      "  Gap               0% (tolerance: 0.01%)\n",
      "  P-D integral      3.17542572013e-06\n",
      "  Solution status   feasible\n",
      "                    21700 (objective)\n",
      "                    0 (bound viol.)\n",
      "                    2.22044604925e-16 (int. viol.)\n",
      "                    0 (row viol.)\n",
      "  Timing            0.00 (total)\n",
      "                    0.00 (presolve)\n",
      "                    0.00 (solve)\n",
      "                    0.00 (postsolve)\n",
      "  Max sub-MIP depth 0\n",
      "  Nodes             1\n",
      "  Repair LPs        0 (0 feasible; 0 iterations)\n",
      "  LP iterations     7 (total)\n",
      "                    0 (strong br.)\n",
      "                    0 (separation)\n",
      "                    0 (heuristics)\n",
      "\n",
      "Status do solver: ok\n",
      "Condição de terminação: optimal\n",
      "Valor da Função Objetivo: R$ 21.700,00\n"
     ]
    }
   ],
   "source": [
    "# ------------------------------\n",
    "# Resolução\n",
    "# ------------------------------\n",
    "solver = pyo.SolverFactory(\"appsi_highs\")\n",
    "results = solver.solve(model, tee=True)\n",
    "\n",
    "# Exibindo resultados\n",
    "print(\"\\nStatus do solver:\", results.solver.status)\n",
    "print(\"Condição de terminação:\", results.solver.termination_condition)\n",
    "valor_obj = pyo.value(model.objetivo)\n",
    "formatted = f\"{valor_obj:,.2f}\"\n",
    "formatted = formatted.replace(\",\", \"X\").replace(\".\", \",\").replace(\"X\", \".\")\n",
    "print(\"Valor da Função Objetivo: R$\", formatted)"
   ]
  },
  {
   "cell_type": "code",
   "execution_count": 281,
   "id": "10f0b353",
   "metadata": {},
   "outputs": [
    {
     "name": "stdout",
     "output_type": "stream",
     "text": [
      "Número de viagens do avião A1 na rota R1: 2.0\n",
      "Número de viagens do avião A1 na rota R2: 1.0\n",
      "Número de viagens do avião A1 na rota R3: 0.9999999999999998\n",
      "Número de viagens do avião A1 na rota R4: 1.0\n",
      "Número de viagens do avião A2 na rota R2: 3.0\n",
      "Número de viagens do avião A2 na rota R3: 3.0\n",
      "Número de viagens do avião A2 na rota R4: 2.0\n",
      "Número de viagens do avião A3 na rota R2: 4.0\n",
      "Número de viagens do avião A3 na rota R3: 4.0\n",
      "Número de viagens do avião A3 na rota R4: 2.0\n"
     ]
    }
   ],
   "source": [
    "\n",
    "for a in model.Aeronaves:\n",
    "    for r in model.Rotas:\n",
    "        valor = pyo.value(model.x[a, r])\n",
    "        if valor > 0:  # Exibir apenas valores positivos\n",
    "            print(f\"Número de viagens do avião {a} na rota {r}: {valor}\")"
   ]
  },
  {
   "cell_type": "markdown",
   "id": "1860222e",
   "metadata": {},
   "source": [
    "## Ex16"
   ]
  },
  {
   "cell_type": "code",
   "execution_count": 282,
   "id": "e07c3c3e",
   "metadata": {},
   "outputs": [],
   "source": [
    "# Criação do modelo\n",
    "model = pyo.ConcreteModel()"
   ]
  },
  {
   "cell_type": "code",
   "execution_count": 283,
   "id": "cc3cc56e",
   "metadata": {},
   "outputs": [],
   "source": [
    "\n",
    "# Conjuntos\n",
    "model.Cargas = pyo.Set(initialize=[\"A\", \"B\", \"C\"])\n",
    "\n",
    "# Compartimentos do navio\n",
    "model.Compartimentos = pyo.Set(initialize=[\"Proa\", \"Centro\", \"Popa\"])"
   ]
  },
  {
   "cell_type": "code",
   "execution_count": 284,
   "id": "a8827aa4",
   "metadata": {},
   "outputs": [],
   "source": [
    "# Lucro por tonelada de carga\n",
    "lucro = {\"A\": 6000, \"B\": 8000, \"C\": 5000}\n",
    "model.p_lucro = pyo.Param(model.Cargas, initialize=lucro)\n",
    "\n",
    "# Capacidade máxima de peso em cada compartimento\n",
    "capacidade_peso = {\"Proa\": 2000, \"Centro\": 3000, \"Popa\": 1500}\n",
    "model.cap_peso = pyo.Param(model.Compartimentos, initialize=capacidade_peso)\n",
    "\n",
    "# Capacidade máxima de volume em cada compartimento\n",
    "capacidade_volume = {\"Proa\": 30000, \"Centro\": 40000, \"Popa\": 20000}\n",
    "model.cap_volume = pyo.Param(model.Compartimentos, initialize=capacidade_volume)\n",
    "\n",
    "# Volume específico por tonelada de carga\n",
    "volume_especifico = {\"A\": 60, \"B\": 50, \"C\": 25}\n",
    "model.v_especifico = pyo.Param(model.Cargas, initialize=volume_especifico)\n",
    "\n",
    "# Disponibilidade máxima de carga\n",
    "disponibilidade = {\"A\": 6000, \"B\": 4000, \"C\": 2000}\n",
    "model.disp_carga = pyo.Param(model.Cargas, initialize=disponibilidade)"
   ]
  },
  {
   "cell_type": "code",
   "execution_count": 285,
   "id": "bd1ce38c",
   "metadata": {},
   "outputs": [],
   "source": [
    "\n",
    "# ------------------------------\n",
    "# Variáveis de Decisão\n",
    "# ------------------------------\n",
    "\n",
    "model.x = pyo.Var(model.Cargas, model.Compartimentos, domain=pyo.NonNegativeReals)\n"
   ]
  },
  {
   "cell_type": "code",
   "execution_count": 286,
   "id": "373660b5",
   "metadata": {},
   "outputs": [],
   "source": [
    "\n",
    "# ------------------------------\n",
    "# Função Objetivo\n",
    "# ------------------------------\n",
    "def fo(model):\n",
    "    return sum(model.x[i, j] * model.p_lucro[i] for i in model.Cargas for j in model.Compartimentos)\n",
    "\n",
    "model.objetivo = pyo.Objective(rule=fo, sense=pyo.maximize)\n"
   ]
  },
  {
   "cell_type": "code",
   "execution_count": 287,
   "id": "909f46a4",
   "metadata": {},
   "outputs": [],
   "source": [
    "# ------------------------------\n",
    "# Restrições\n",
    "# ------------------------------\n",
    "\n",
    "# 1. Restrição de capacidade de peso por compartimento\n",
    "def capacidade_peso_rule(model, j):\n",
    "    return sum(model.x[i, j] for i in model.Cargas) <= model.cap_peso[j]\n",
    "\n",
    "model.capacidade_peso = pyo.Constraint(model.Compartimentos, rule=capacidade_peso_rule)\n",
    "\n",
    "# 2. Restrição de capacidade de volume por compartimento\n",
    "def capacidade_volume_rule(model, j):\n",
    "    return sum(model.x[i, j] * model.v_especifico[i] for i in model.Cargas) <= model.cap_volume[j]\n",
    "\n",
    "model.capacidade_volume = pyo.Constraint(model.Compartimentos, rule=capacidade_volume_rule)\n",
    "\n",
    "# 3. Restrição de disponibilidade de carga\n",
    "def disponibilidade_rule(model, i):\n",
    "    return sum(model.x[i, j] for j in model.Compartimentos) <= model.disp_carga[i]\n",
    "\n",
    "model.disponibilidade = pyo.Constraint(model.Cargas, rule=disponibilidade_rule)\n",
    "\n",
    "# 4. Restrição de equilíbrio de peso entre os compartimentos\n",
    "def equilibrio_peso_rule_1(model):\n",
    "    peso_proporcao = sum(model.x[i, \"Proa\"] for i in model.Cargas) / model.cap_peso[\"Proa\"]\n",
    "    peso_centro = sum(model.x[i, \"Centro\"] for i in model.Cargas) / model.cap_peso[\"Centro\"]\n",
    "    return peso_proporcao == peso_centro #== peso_popa\n",
    "def equilibrio_peso_rule_2(model):\n",
    "    peso_centro = sum(model.x[i, \"Centro\"] for i in model.Cargas) / model.cap_peso[\"Centro\"]\n",
    "    peso_popa = sum(model.x[i, \"Popa\"] for i in model.Cargas) / model.cap_peso[\"Popa\"]\n",
    "    return peso_centro == peso_popa\n",
    "def equilibrio_peso_rule_3(model):\n",
    "    peso_proporcao = sum(model.x[i, \"Proa\"] for i in model.Cargas) / model.cap_peso[\"Proa\"]\n",
    "    peso_popa = sum(model.x[i, \"Popa\"] for i in model.Cargas) / model.cap_peso[\"Popa\"]\n",
    "    return  peso_popa == peso_proporcao\n",
    "model.equilibrio_peso = pyo.Constraint(rule=equilibrio_peso_rule_1)\n",
    "model.equilibrio_peso_2 = pyo.Constraint(rule=equilibrio_peso_rule_2)\n",
    "model.equilibrio_peso_3 = pyo.Constraint(rule=equilibrio_peso_rule_3)\n",
    "\n"
   ]
  },
  {
   "cell_type": "code",
   "execution_count": 288,
   "id": "86215fff",
   "metadata": {},
   "outputs": [
    {
     "data": {
      "text/plain": [
       "('ex16.lp', 2676203526656)"
      ]
     },
     "execution_count": 288,
     "metadata": {},
     "output_type": "execute_result"
    }
   ],
   "source": [
    "# ------------------------------\n",
    "# Escrita do Modelo em Arquivo\n",
    "# ------------------------------\n",
    "model.write(\"ex16.lp\", io_options={\"symbolic_solver_labels\": True})"
   ]
  },
  {
   "cell_type": "code",
   "execution_count": 289,
   "id": "64dad277",
   "metadata": {},
   "outputs": [
    {
     "name": "stdout",
     "output_type": "stream",
     "text": [
      "LP   has 12 rows; 9 cols; 45 nonzeros\n",
      "Coefficient ranges:\n",
      "  Matrix [3e-04, 6e+01]\n",
      "  Cost   [5e+03, 8e+03]\n",
      "  Bound  [0e+00, 0e+00]\n",
      "  RHS    [2e+03, 4e+04]\n",
      "Presolving model\n",
      "10 rows, 9 cols, 39 nonzeros  0s\n",
      "Dependent equations search running on 3 equations with time limit of 1000.00s\n",
      "Dependent equations search removed 1 rows and 6 nonzeros in 0.00s (limit = 1000.00s)\n",
      "9 rows, 9 cols, 33 nonzeros  0s\n",
      "Presolve : Reductions: rows 9(-3); columns 9(-0); elements 33(-12)\n",
      "Solving the presolved LP\n",
      "Using EKK dual simplex solver - serial\n",
      "  Iteration        Objective     Infeasibilities num(sum)\n",
      "          0    -4.1599492483e+05 Ph1: 8(22.9519); Du: 9(415995) 0s\n",
      "          8    -1.6400000000e+07 Pr: 0(0) 0s\n",
      "Solving the original LP from the solution after postsolve\n",
      "Model status        : Optimal\n",
      "Simplex   iterations: 8\n",
      "Objective value     :  1.6400000000e+07\n",
      "Relative P-D gap    :  0.0000000000e+00\n",
      "HiGHS run time      :          0.00\n",
      "\n",
      "Status do solver: ok\n",
      "Condição de terminação: optimal\n",
      "Valor da Função Objetivo: R$ 16.400.000,00\n"
     ]
    }
   ],
   "source": [
    "# ------------------------------\n",
    "# Resolução\n",
    "# ------------------------------\n",
    "solver = pyo.SolverFactory(\"appsi_highs\")\n",
    "results = solver.solve(model, tee=True)\n",
    "\n",
    "# Exibindo resultados\n",
    "print(\"\\nStatus do solver:\", results.solver.status)\n",
    "print(\"Condição de terminação:\", results.solver.termination_condition)\n",
    "valor_obj = pyo.value(model.objetivo)\n",
    "formatted = f\"{valor_obj:,.2f}\"\n",
    "formatted = formatted.replace(\",\", \"X\").replace(\".\", \",\").replace(\"X\", \".\")\n",
    "print(\"Valor da Função Objetivo: R$\", formatted)"
   ]
  },
  {
   "cell_type": "code",
   "execution_count": 290,
   "id": "6b035a8b",
   "metadata": {},
   "outputs": [
    {
     "name": "stdout",
     "output_type": "stream",
     "text": [
      "Carga A no compartimento Proa: 0.00 toneladas\n",
      "Carga A no compartimento Centro: 0.00 toneladas\n",
      "Carga A no compartimento Popa: 0.00 toneladas\n",
      "Carga B no compartimento Proa: 338.46 toneladas\n",
      "Carga B no compartimento Centro: 307.69 toneladas\n",
      "Carga B no compartimento Popa: 153.85 toneladas\n",
      "Carga C no compartimento Proa: 523.08 toneladas\n",
      "Carga C no compartimento Centro: 984.62 toneladas\n",
      "Carga C no compartimento Popa: 492.31 toneladas\n"
     ]
    }
   ],
   "source": [
    "\n",
    "for i in model.Cargas:\n",
    "    for j in model.Compartimentos:\n",
    "        valor = pyo.value(model.x[i, j])\n",
    "        print(f\"Carga {i} no compartimento {j}: {valor:.2f} toneladas\")\n",
    "\n"
   ]
  },
  {
   "cell_type": "markdown",
   "id": "23d81b5c",
   "metadata": {},
   "source": [
    "## EX17"
   ]
  },
  {
   "cell_type": "code",
   "execution_count": 291,
   "id": "51cf6b82",
   "metadata": {},
   "outputs": [],
   "source": [
    "# Criação do modelo\n",
    "model = pyo.ConcreteModel()"
   ]
  },
  {
   "cell_type": "code",
   "execution_count": 293,
   "id": "a96ac5de",
   "metadata": {},
   "outputs": [],
   "source": [
    "# Conjuntos\n",
    "model.Matrizes = pyo.Set(initialize=[\"1\", \"2\", \"3\", \"4\"])"
   ]
  },
  {
   "cell_type": "code",
   "execution_count": 294,
   "id": "174e2491",
   "metadata": {},
   "outputs": [],
   "source": [
    "# Custo por chapa cortada utilizando cada matriz\n",
    "custo = {\"1\": 1, \"2\": 2, \"3\": 3, \"4\": 2}\n",
    "model.custo_chapa = pyo.Param(model.Matrizes, initialize=custo)\n",
    "\n",
    "# Produção de panelas médias por matriz\n",
    "prod_medias = {\"1\": 8, \"2\": 4, \"3\": 2, \"4\": 0}\n",
    "model.prod_medias = pyo.Param(model.Matrizes, initialize=prod_medias)\n",
    "\n",
    "# Produção de panelas grandes por matriz\n",
    "prod_grandes = {\"1\": 0, \"2\": 1, \"3\": 2, \"4\": 3}\n",
    "model.prod_grandes = pyo.Param(model.Matrizes, initialize=prod_grandes)\n",
    "\n",
    "# Demanda mínima de produção diária\n",
    "model.demanda_medias = pyo.Param(initialize=500)\n",
    "model.demanda_grandes = pyo.Param(initialize=350)"
   ]
  },
  {
   "cell_type": "code",
   "execution_count": 295,
   "id": "af080561",
   "metadata": {},
   "outputs": [],
   "source": [
    "\n",
    "# ------------------------------\n",
    "# Variáveis de Decisão\n",
    "# ------------------------------\n",
    "\n",
    "model.x = pyo.Var(model.Matrizes, domain=pyo.NonNegativeIntegers)"
   ]
  },
  {
   "cell_type": "code",
   "execution_count": 296,
   "id": "b1052739",
   "metadata": {},
   "outputs": [],
   "source": [
    "\n",
    "# ------------------------------\n",
    "# Função Objetivo\n",
    "# ------------------------------\n",
    "def fo(model):\n",
    "    return sum(model.x[j] * model.custo_chapa[j] for j in model.Matrizes)\n",
    "\n",
    "model.objetivo = pyo.Objective(rule=fo, sense=pyo.minimize)\n"
   ]
  },
  {
   "cell_type": "code",
   "execution_count": 297,
   "id": "474678fc",
   "metadata": {},
   "outputs": [],
   "source": [
    "# ------------------------------\n",
    "# Restrições\n",
    "# ------------------------------\n",
    "\n",
    "# 1. Produção mínima de panelas médias\n",
    "def producao_medias_rule(model):\n",
    "    return sum(model.x[j] * model.prod_medias[j] for j in model.Matrizes) >= model.demanda_medias\n",
    "\n",
    "model.producao_medias = pyo.Constraint(rule=producao_medias_rule)\n",
    "\n",
    "# 2. Produção mínima de panelas grandes\n",
    "def producao_grandes_rule(model):\n",
    "    return sum(model.x[j] * model.prod_grandes[j] for j in model.Matrizes) >= model.demanda_grandes\n",
    "\n",
    "model.producao_grandes = pyo.Constraint(rule=producao_grandes_rule)\n",
    "\n"
   ]
  },
  {
   "cell_type": "code",
   "execution_count": 298,
   "id": "b916d5cd",
   "metadata": {},
   "outputs": [
    {
     "data": {
      "text/plain": [
       "('ex17.lp', 2676203525120)"
      ]
     },
     "execution_count": 298,
     "metadata": {},
     "output_type": "execute_result"
    }
   ],
   "source": [
    "# ------------------------------\n",
    "# Escrita do Modelo em Arquivo\n",
    "# ------------------------------\n",
    "model.write(\"ex17.lp\", io_options={\"symbolic_solver_labels\": True})"
   ]
  },
  {
   "cell_type": "code",
   "execution_count": 299,
   "id": "e47b7cc5",
   "metadata": {},
   "outputs": [
    {
     "name": "stdout",
     "output_type": "stream",
     "text": [
      "MIP  has 2 rows; 4 cols; 6 nonzeros; 4 integer variables (0 binary)\n",
      "Coefficient ranges:\n",
      "  Matrix [1e+00, 8e+00]\n",
      "  Cost   [1e+00, 3e+00]\n",
      "  Bound  [0e+00, 0e+00]\n",
      "  RHS    [4e+02, 5e+02]\n",
      "Presolving model\n",
      "2 rows, 4 cols, 6 nonzeros  0s\n",
      "2 rows, 4 cols, 6 nonzeros  0s\n",
      "Objective function is integral with scale 1\n",
      "\n",
      "Solving MIP model with:\n",
      "   2 rows\n",
      "   4 cols (0 binary, 4 integer, 0 implied int., 0 continuous)\n",
      "   6 nonzeros\n",
      "\n",
      "Src: B => Branching; C => Central rounding; F => Feasibility pump; H => Heuristic; L => Sub-MIP;\n",
      "     P => Empty MIP; R => Randomized rounding; S => Solve LP; T => Evaluate node; U => Unbounded;\n",
      "     z => Trivial zero; l => Trivial lower; u => Trivial upper; p => Trivial point; X => User solution\n",
      "\n",
      "        Nodes      |    B&B Tree     |            Objective Bounds              |  Dynamic Constraints |       Work      \n",
      "Src  Proc. InQueue |  Leaves   Expl. | BestBound       BestSol              Gap |   Cuts   InLp Confl. | LpIters     Time\n",
      "\n",
      "         0       0         0   0.00%   0               inf                  inf        0      0      0         0     0.0s\n",
      " S       0       0         0   0.00%   0               297              100.00%        0      0      0         0     0.0s\n",
      "         1       0         1 100.00%   297             297                0.00%        0      0      0         0     0.0s\n",
      "\n",
      "Solving report\n",
      "  Status            Optimal\n",
      "  Primal bound      297\n",
      "  Dual bound        297\n",
      "  Gap               0% (tolerance: 0.01%)\n",
      "  P-D integral      0.000119123704821\n",
      "  Solution status   feasible\n",
      "                    297 (objective)\n",
      "                    0 (bound viol.)\n",
      "                    0 (int. viol.)\n",
      "                    0 (row viol.)\n",
      "  Timing            0.00 (total)\n",
      "                    0.00 (presolve)\n",
      "                    0.00 (solve)\n",
      "                    0.00 (postsolve)\n",
      "  Max sub-MIP depth 0\n",
      "  Nodes             1\n",
      "  Repair LPs        0 (0 feasible; 0 iterations)\n",
      "  LP iterations     0 (total)\n",
      "                    0 (strong br.)\n",
      "                    0 (separation)\n",
      "                    0 (heuristics)\n",
      "\n",
      "Status do solver: ok\n",
      "Condição de terminação: optimal\n",
      "Valor da Função Objetivo: R$ 297,00\n"
     ]
    }
   ],
   "source": [
    "# ------------------------------\n",
    "# Resolução\n",
    "# ------------------------------\n",
    "solver = pyo.SolverFactory(\"appsi_highs\")\n",
    "results = solver.solve(model, tee=True)\n",
    "\n",
    "# Exibindo resultados\n",
    "print(\"\\nStatus do solver:\", results.solver.status)\n",
    "print(\"Condição de terminação:\", results.solver.termination_condition)\n",
    "valor_obj = pyo.value(model.objetivo)\n",
    "formatted = f\"{valor_obj:,.2f}\"\n",
    "formatted = formatted.replace(\",\", \"X\").replace(\".\", \",\").replace(\"X\", \".\")\n",
    "print(\"Valor da Função Objetivo: R$\", formatted)"
   ]
  },
  {
   "cell_type": "code",
   "execution_count": 300,
   "id": "ce2730a7",
   "metadata": {},
   "outputs": [
    {
     "name": "stdout",
     "output_type": "stream",
     "text": [
      "Matriz 1: 63.00 chapas\n",
      "Matriz 2: 0.00 chapas\n",
      "Matriz 3: 0.00 chapas\n",
      "Matriz 4: 117.00 chapas\n"
     ]
    }
   ],
   "source": [
    "\n",
    "for j in model.Matrizes:\n",
    "    valor = pyo.value(model.x[j])\n",
    "    print(f\"Matriz {j}: {valor:.2f} chapas\")"
   ]
  },
  {
   "cell_type": "markdown",
   "id": "c47199bc",
   "metadata": {},
   "source": [
    "## Ex18"
   ]
  },
  {
   "cell_type": "code",
   "execution_count": 301,
   "id": "30404b1f",
   "metadata": {},
   "outputs": [],
   "source": [
    "# Criação do modelo\n",
    "model = pyo.ConcreteModel()"
   ]
  },
  {
   "cell_type": "code",
   "execution_count": 302,
   "id": "43987ac1",
   "metadata": {},
   "outputs": [],
   "source": [
    "\n",
    "# Conjuntos\n",
    "model.Matrizes = pyo.Set(initialize=[1, 2, 3, 4])\n"
   ]
  },
  {
   "cell_type": "code",
   "execution_count": 303,
   "id": "510d8e2a",
   "metadata": {},
   "outputs": [],
   "source": [
    "# Coeficientes de produção de extremidades por matriz\n",
    "coef_extremidades = {1: 3, 2: 7, 3: 5, 4: 9}\n",
    "model.coef_ext = pyo.Param(model.Matrizes, initialize=coef_extremidades)\n",
    "\n",
    "# Coeficientes de produção de corpos por matriz\n",
    "coef_corpos = {1: 3, 2: 1, 3: 4, 4: 3}\n",
    "model.coef_corpo = pyo.Param(model.Matrizes, initialize=coef_corpos)\n",
    "\n",
    "# Demanda mínima\n",
    "demanda_extremidades = 10000\n",
    "demanda_corpos = 5000"
   ]
  },
  {
   "cell_type": "code",
   "execution_count": 304,
   "id": "a4f1cd44",
   "metadata": {},
   "outputs": [],
   "source": [
    "\n",
    "# ------------------------------\n",
    "# Variáveis de Decisão\n",
    "# ------------------------------\n",
    "\n",
    "model.x = pyo.Var(model.Matrizes, domain=pyo.NonNegativeIntegers)"
   ]
  },
  {
   "cell_type": "code",
   "execution_count": 305,
   "id": "d203475f",
   "metadata": {},
   "outputs": [],
   "source": [
    "\n",
    "# ------------------------------\n",
    "# Função Objetivo\n",
    "# ------------------------------\n",
    "def fo(model):\n",
    "    return sum(model.x[j] for j in model.Matrizes)\n",
    "\n",
    "model.objetivo = pyo.Objective(rule=fo, sense=pyo.minimize)\n"
   ]
  },
  {
   "cell_type": "code",
   "execution_count": 306,
   "id": "1fc225b7",
   "metadata": {},
   "outputs": [],
   "source": [
    "# ------------------------------\n",
    "# Restrições\n",
    "# ------------------------------\n",
    "\n",
    "# 1. Produção mínima de extremidades\n",
    "def restricao_extremidades(model):\n",
    "    return sum(model.coef_ext[j] * model.x[j] for j in model.Matrizes) >= demanda_extremidades\n",
    "\n",
    "model.restricao_extremidades = pyo.Constraint(rule=restricao_extremidades)\n",
    "\n",
    "# 2. Produção mínima de corpos\n",
    "def restricao_corpos(model):\n",
    "    return sum(model.coef_corpo[j] * model.x[j] for j in model.Matrizes) >= demanda_corpos\n",
    "\n",
    "model.restricao_corpos = pyo.Constraint(rule=restricao_corpos)"
   ]
  },
  {
   "cell_type": "code",
   "execution_count": 307,
   "id": "5475a59a",
   "metadata": {},
   "outputs": [
    {
     "data": {
      "text/plain": [
       "('ex18.lp', 2676203526176)"
      ]
     },
     "execution_count": 307,
     "metadata": {},
     "output_type": "execute_result"
    }
   ],
   "source": [
    "# ------------------------------\n",
    "# Escrita do Modelo em Arquivo\n",
    "# ------------------------------\n",
    "model.write(\"ex18.lp\", io_options={\"symbolic_solver_labels\": True})"
   ]
  },
  {
   "cell_type": "code",
   "execution_count": 308,
   "id": "e3163087",
   "metadata": {},
   "outputs": [
    {
     "name": "stdout",
     "output_type": "stream",
     "text": [
      "MIP  has 2 rows; 4 cols; 8 nonzeros; 4 integer variables (0 binary)\n",
      "Coefficient ranges:\n",
      "  Matrix [1e+00, 9e+00]\n",
      "  Cost   [1e+00, 1e+00]\n",
      "  Bound  [0e+00, 0e+00]\n",
      "  RHS    [5e+03, 1e+04]\n",
      "Presolving model\n",
      "2 rows, 4 cols, 8 nonzeros  0s\n",
      "2 rows, 4 cols, 8 nonzeros  0s\n",
      "Objective function is integral with scale 1\n",
      "\n",
      "Solving MIP model with:\n",
      "   2 rows\n",
      "   4 cols (0 binary, 4 integer, 0 implied int., 0 continuous)\n",
      "   8 nonzeros\n",
      "\n",
      "Src: B => Branching; C => Central rounding; F => Feasibility pump; H => Heuristic; L => Sub-MIP;\n",
      "     P => Empty MIP; R => Randomized rounding; S => Solve LP; T => Evaluate node; U => Unbounded;\n",
      "     z => Trivial zero; l => Trivial lower; u => Trivial upper; p => Trivial point; X => User solution\n",
      "\n",
      "        Nodes      |    B&B Tree     |            Objective Bounds              |  Dynamic Constraints |       Work      \n",
      "Src  Proc. InQueue |  Leaves   Expl. | BestBound       BestSol              Gap |   Cuts   InLp Confl. | LpIters     Time\n",
      "\n",
      "         0       0         0   0.00%   0               inf                  inf        0      0      0         0     0.0s\n",
      " S       0       0         0   0.00%   0               1430             100.00%        0      0      0         0     0.0s\n",
      " R       0       0         0 100.00%   1428.571429     1429               0.03%        0      0      0         2     0.0s\n",
      "         1       0         1 100.00%   1429            1429               0.00%        0      0      0         2     0.0s\n",
      "\n",
      "Solving report\n",
      "  Status            Optimal\n",
      "  Primal bound      1429\n",
      "  Dual bound        1429\n",
      "  Gap               0% (tolerance: 0.01%)\n",
      "  P-D integral      0.000125761049741\n",
      "  Solution status   feasible\n",
      "                    1429 (objective)\n",
      "                    0 (bound viol.)\n",
      "                    0 (int. viol.)\n",
      "                    0 (row viol.)\n",
      "  Timing            0.01 (total)\n",
      "                    0.00 (presolve)\n",
      "                    0.00 (solve)\n",
      "                    0.00 (postsolve)\n",
      "  Max sub-MIP depth 0\n",
      "  Nodes             1\n",
      "  Repair LPs        0 (0 feasible; 0 iterations)\n",
      "  LP iterations     2 (total)\n",
      "                    0 (strong br.)\n",
      "                    0 (separation)\n",
      "                    0 (heuristics)\n",
      "\n",
      "Status do solver: ok\n",
      "Condição de terminação: optimal\n",
      "Valor da Função Objetivo:  1.429,00\n"
     ]
    }
   ],
   "source": [
    "# ------------------------------\n",
    "# Resolução\n",
    "# ------------------------------\n",
    "solver = pyo.SolverFactory(\"appsi_highs\")\n",
    "results = solver.solve(model, tee=True)\n",
    "\n",
    "# Exibindo resultados\n",
    "print(\"\\nStatus do solver:\", results.solver.status)\n",
    "print(\"Condição de terminação:\", results.solver.termination_condition)\n",
    "valor_obj = pyo.value(model.objetivo)\n",
    "formatted = f\"{valor_obj:,.2f}\"\n",
    "formatted = formatted.replace(\",\", \"X\").replace(\".\", \",\").replace(\"X\", \".\")\n",
    "print(\"Valor da Função Objetivo: \", formatted)"
   ]
  },
  {
   "cell_type": "code",
   "execution_count": 309,
   "id": "2fc9355d",
   "metadata": {},
   "outputs": [
    {
     "name": "stdout",
     "output_type": "stream",
     "text": [
      "Matriz 1: 0.00 chapas\n",
      "Matriz 2: 0.00 chapas\n",
      "Matriz 3: 714.00 chapas\n",
      "Matriz 4: 715.00 chapas\n"
     ]
    }
   ],
   "source": [
    "\n",
    "for j in model.Matrizes:\n",
    "    valor = pyo.value(model.x[j])\n",
    "    print(f\"Matriz {j}: {valor:.2f} chapas\")"
   ]
  },
  {
   "cell_type": "markdown",
   "id": "7ca7e6c0",
   "metadata": {},
   "source": [
    "## Ex19"
   ]
  },
  {
   "cell_type": "code",
   "execution_count": 310,
   "id": "dd5435be",
   "metadata": {},
   "outputs": [],
   "source": [
    "# Criação do modelo\n",
    "model = pyo.ConcreteModel()"
   ]
  },
  {
   "cell_type": "code",
   "execution_count": 311,
   "id": "97c1f962",
   "metadata": {},
   "outputs": [],
   "source": [
    "\n",
    "# Conjuntos\n",
    "model.T = pyo.RangeSet(1, 10) \n",
    "model.I = pyo.RangeSet(1, 4)   \n"
   ]
  },
  {
   "cell_type": "code",
   "execution_count": 312,
   "id": "d26f8b7b",
   "metadata": {},
   "outputs": [],
   "source": [
    "# Custo de alistamento por tempo de serviço\n",
    "custo_alistamento = {1: 10, 2: 18, 3: 25, 4: 31}\n",
    "model.custo = pyo.Param(model.I, initialize=custo_alistamento)\n",
    "\n",
    "# Demanda de reservistas por ano\n",
    "demanda_reservistas = {1: 10200, 2: 11800, 3: 10500, 4: 12300, 5: 15000,\n",
    "                       6: 14500, 7: 14000, 8: 16100, 9: 16400, 10: 16500}\n",
    "model.demanda = pyo.Param(model.T, initialize=demanda_reservistas)\n",
    "\n",
    "# Capacidade máxima de recrutamento por ano\n",
    "capacidade_recrutamento = 13000"
   ]
  },
  {
   "cell_type": "code",
   "execution_count": 313,
   "id": "193dd0c2",
   "metadata": {},
   "outputs": [],
   "source": [
    "\n",
    "# ------------------------------\n",
    "# Variáveis de Decisão\n",
    "# ------------------------------\n",
    "\n",
    "model.x = pyo.Var(model.T, model.I, domain=pyo.NonNegativeIntegers)"
   ]
  },
  {
   "cell_type": "code",
   "execution_count": 314,
   "metadata": {},
   "outputs": [],
   "source": [
    "\n",
    "# ------------------------------\n",
    "# Função Objetivo\n",
    "# ------------------------------\n",
    "def fo(model):\n",
    "    return sum(model.x[t, i] * model.custo[i] for t in model.T for i in model.I)\n",
    "\n",
    "model.objetivo = pyo.Objective(rule=fo, sense=pyo.minimize)\n"
   ]
  },
  {
   "cell_type": "code",
   "execution_count": 315,
   "metadata": {},
   "outputs": [],
   "source": [
    "# ------------------------------\n",
    "# Restrições\n",
    "# ------------------------------\n",
    "\n",
    "# 1. Exigência mínima de reservistas em cada ano\n",
    "def restricao_demanda(model, t):\n",
    "    a = 0\n",
    "    if t >= 1:\n",
    "        a += model.x[t, 1]\n",
    "    if t-1 >= 1:\n",
    "        a += model.x[t-1, 2]\n",
    "    if t-2 >= 1:\n",
    "        a += model.x[t-2, 3]\n",
    "    if t-3 >= 1:\n",
    "        a += model.x[t-3, 4]\n",
    "    return a >= model.demanda[t]\n",
    "\n",
    "model.restricao_demanda = pyo.Constraint(model.T, rule=restricao_demanda)\n",
    "\n",
    "# 2. Limite máximo de recrutamento por ano\n",
    "def restricao_max_recrutamento(model, t):\n",
    "    return sum(model.x[t, i] for i in model.I) <= capacidade_recrutamento\n",
    "\n",
    "model.restricao_max_recrutamento = pyo.Constraint(model.T, rule=restricao_max_recrutamento)\n"
   ]
  },
  {
   "cell_type": "code",
   "execution_count": 316,
   "id": "671ff667",
   "metadata": {},
   "outputs": [
    {
     "data": {
      "text/plain": [
       "('ex19.lp', 2676203576624)"
      ]
     },
     "execution_count": 316,
     "metadata": {},
     "output_type": "execute_result"
    }
   ],
   "source": [
    "# ------------------------------\n",
    "# Escrita do Modelo em Arquivo\n",
    "# ------------------------------\n",
    "model.write(\"ex19.lp\", io_options={\"symbolic_solver_labels\": True})"
   ]
  },
  {
   "cell_type": "code",
   "execution_count": 317,
   "id": "8e98d702",
   "metadata": {},
   "outputs": [
    {
     "name": "stdout",
     "output_type": "stream",
     "text": [
      "MIP  has 20 rows; 40 cols; 74 nonzeros; 40 integer variables (0 binary)\n",
      "Coefficient ranges:\n",
      "  Matrix [1e+00, 1e+00]\n",
      "  Cost   [1e+01, 3e+01]\n",
      "  Bound  [0e+00, 0e+00]\n",
      "  RHS    [1e+04, 2e+04]\n",
      "Presolving model\n",
      "19 rows, 33 cols, 66 nonzeros  0s\n",
      "16 rows, 31 cols, 61 nonzeros  0s\n",
      "Objective function is integral with scale 1\n",
      "\n",
      "Solving MIP model with:\n",
      "   16 rows\n",
      "   31 cols (0 binary, 31 integer, 0 implied int., 0 continuous)\n",
      "   61 nonzeros\n",
      "\n",
      "Src: B => Branching; C => Central rounding; F => Feasibility pump; H => Heuristic; L => Sub-MIP;\n",
      "     P => Empty MIP; R => Randomized rounding; S => Solve LP; T => Evaluate node; U => Unbounded;\n",
      "     z => Trivial zero; l => Trivial lower; u => Trivial upper; p => Trivial point; X => User solution\n",
      "\n",
      "        Nodes      |    B&B Tree     |            Objective Bounds              |  Dynamic Constraints |       Work      \n",
      "Src  Proc. InQueue |  Leaves   Expl. | BestBound       BestSol              Gap |   Cuts   InLp Confl. | LpIters     Time\n",
      "\n",
      "         0       0         0   0.00%   325000          inf                  inf        0      0      0         0     0.0s\n",
      "         1       0         1 100.00%   inf             inf                  inf        0      0      0        23     0.0s\n",
      "\n",
      "Solving report\n",
      "  Status            Infeasible\n",
      "  Primal bound      inf\n",
      "  Dual bound        inf\n",
      "  Gap               inf\n",
      "  P-D integral      0\n",
      "  Solution status   -\n",
      "  Timing            0.00 (total)\n",
      "                    0.00 (presolve)\n",
      "                    0.00 (solve)\n",
      "                    0.00 (postsolve)\n",
      "  Max sub-MIP depth 0\n",
      "  Nodes             1\n",
      "  Repair LPs        0 (0 feasible; 0 iterations)\n",
      "  LP iterations     23 (total)\n",
      "                    0 (strong br.)\n",
      "                    0 (separation)\n",
      "                    0 (heuristics)\n"
     ]
    },
    {
     "ename": "RuntimeError",
     "evalue": "A feasible solution was not found, so no solution can be loaded.Please set opt.config.load_solution=False and check results.termination_condition and results.best_feasible_objective before loading a solution.",
     "output_type": "error",
     "traceback": [
      "\u001b[1;31m---------------------------------------------------------------------------\u001b[0m",
      "\u001b[1;31mRuntimeError\u001b[0m                              Traceback (most recent call last)",
      "Cell \u001b[1;32mIn[317], line 5\u001b[0m\n\u001b[0;32m      1\u001b[0m \u001b[38;5;66;03m# ------------------------------\u001b[39;00m\n\u001b[0;32m      2\u001b[0m \u001b[38;5;66;03m# Resolução\u001b[39;00m\n\u001b[0;32m      3\u001b[0m \u001b[38;5;66;03m# ------------------------------\u001b[39;00m\n\u001b[0;32m      4\u001b[0m solver \u001b[38;5;241m=\u001b[39m pyo\u001b[38;5;241m.\u001b[39mSolverFactory(\u001b[38;5;124m\"\u001b[39m\u001b[38;5;124mappsi_highs\u001b[39m\u001b[38;5;124m\"\u001b[39m)\n\u001b[1;32m----> 5\u001b[0m results \u001b[38;5;241m=\u001b[39m \u001b[43msolver\u001b[49m\u001b[38;5;241;43m.\u001b[39;49m\u001b[43msolve\u001b[49m\u001b[43m(\u001b[49m\u001b[43mmodel\u001b[49m\u001b[43m,\u001b[49m\u001b[43m \u001b[49m\u001b[43mtee\u001b[49m\u001b[38;5;241;43m=\u001b[39;49m\u001b[38;5;28;43;01mTrue\u001b[39;49;00m\u001b[43m)\u001b[49m\n\u001b[0;32m      7\u001b[0m \u001b[38;5;66;03m# Exibindo resultados\u001b[39;00m\n\u001b[0;32m      8\u001b[0m \u001b[38;5;28mprint\u001b[39m(\u001b[38;5;124m\"\u001b[39m\u001b[38;5;130;01m\\n\u001b[39;00m\u001b[38;5;124mStatus do solver:\u001b[39m\u001b[38;5;124m\"\u001b[39m, results\u001b[38;5;241m.\u001b[39msolver\u001b[38;5;241m.\u001b[39mstatus)\n",
      "File \u001b[1;32mc:\\Users\\talia\\miniconda3\\lib\\site-packages\\pyomo\\contrib\\appsi\\base.py:1557\u001b[0m, in \u001b[0;36mLegacySolverInterface.solve\u001b[1;34m(self, model, tee, load_solutions, logfile, solnfile, timelimit, report_timing, solver_io, suffixes, options, keepfiles, symbolic_solver_labels)\u001b[0m\n\u001b[0;32m   1554\u001b[0m \u001b[38;5;28;01mif\u001b[39;00m options \u001b[38;5;129;01mis\u001b[39;00m \u001b[38;5;129;01mnot\u001b[39;00m \u001b[38;5;28;01mNone\u001b[39;00m:\n\u001b[0;32m   1555\u001b[0m     \u001b[38;5;28mself\u001b[39m\u001b[38;5;241m.\u001b[39moptions \u001b[38;5;241m=\u001b[39m options\n\u001b[1;32m-> 1557\u001b[0m results: Results \u001b[38;5;241m=\u001b[39m \u001b[38;5;28;43msuper\u001b[39;49m\u001b[43m(\u001b[49m\u001b[43mLegacySolverInterface\u001b[49m\u001b[43m,\u001b[49m\u001b[43m \u001b[49m\u001b[38;5;28;43mself\u001b[39;49m\u001b[43m)\u001b[49m\u001b[38;5;241;43m.\u001b[39;49m\u001b[43msolve\u001b[49m\u001b[43m(\u001b[49m\u001b[43mmodel\u001b[49m\u001b[43m)\u001b[49m\n\u001b[0;32m   1559\u001b[0m legacy_results \u001b[38;5;241m=\u001b[39m LegacySolverResults()\n\u001b[0;32m   1560\u001b[0m legacy_soln \u001b[38;5;241m=\u001b[39m LegacySolution()\n",
      "File \u001b[1;32mc:\\Users\\talia\\miniconda3\\lib\\site-packages\\pyomo\\contrib\\appsi\\solvers\\highs.py:250\u001b[0m, in \u001b[0;36mHighs.solve\u001b[1;34m(self, model, timer)\u001b[0m\n\u001b[0;32m    248\u001b[0m     \u001b[38;5;28mself\u001b[39m\u001b[38;5;241m.\u001b[39mupdate(timer\u001b[38;5;241m=\u001b[39mtimer)\n\u001b[0;32m    249\u001b[0m     timer\u001b[38;5;241m.\u001b[39mstop(\u001b[38;5;124m'\u001b[39m\u001b[38;5;124mupdate\u001b[39m\u001b[38;5;124m'\u001b[39m)\n\u001b[1;32m--> 250\u001b[0m res \u001b[38;5;241m=\u001b[39m \u001b[38;5;28;43mself\u001b[39;49m\u001b[38;5;241;43m.\u001b[39;49m\u001b[43m_solve\u001b[49m\u001b[43m(\u001b[49m\u001b[43mtimer\u001b[49m\u001b[43m)\u001b[49m\n\u001b[0;32m    251\u001b[0m \u001b[38;5;28mself\u001b[39m\u001b[38;5;241m.\u001b[39m_last_results_object \u001b[38;5;241m=\u001b[39m res\n\u001b[0;32m    252\u001b[0m \u001b[38;5;28;01mif\u001b[39;00m \u001b[38;5;28mself\u001b[39m\u001b[38;5;241m.\u001b[39mconfig\u001b[38;5;241m.\u001b[39mreport_timing:\n",
      "File \u001b[1;32mc:\\Users\\talia\\miniconda3\\lib\\site-packages\\pyomo\\contrib\\appsi\\solvers\\highs.py:234\u001b[0m, in \u001b[0;36mHighs._solve\u001b[1;34m(self, timer)\u001b[0m\n\u001b[0;32m    231\u001b[0m         \u001b[38;5;28mself\u001b[39m\u001b[38;5;241m.\u001b[39m_solver_model\u001b[38;5;241m.\u001b[39mrun()\n\u001b[0;32m    232\u001b[0m         timer\u001b[38;5;241m.\u001b[39mstop(\u001b[38;5;124m'\u001b[39m\u001b[38;5;124moptimize\u001b[39m\u001b[38;5;124m'\u001b[39m)\n\u001b[1;32m--> 234\u001b[0m \u001b[38;5;28;01mreturn\u001b[39;00m \u001b[38;5;28;43mself\u001b[39;49m\u001b[38;5;241;43m.\u001b[39;49m\u001b[43m_postsolve\u001b[49m\u001b[43m(\u001b[49m\u001b[43mtimer\u001b[49m\u001b[43m)\u001b[49m\n",
      "File \u001b[1;32mc:\\Users\\talia\\miniconda3\\lib\\site-packages\\pyomo\\contrib\\appsi\\solvers\\highs.py:657\u001b[0m, in \u001b[0;36mHighs._postsolve\u001b[1;34m(self, timer)\u001b[0m\n\u001b[0;32m    655\u001b[0m         \u001b[38;5;28mself\u001b[39m\u001b[38;5;241m.\u001b[39mload_vars()\n\u001b[0;32m    656\u001b[0m     \u001b[38;5;28;01melse\u001b[39;00m:\n\u001b[1;32m--> 657\u001b[0m         \u001b[38;5;28;01mraise\u001b[39;00m \u001b[38;5;167;01mRuntimeError\u001b[39;00m(\n\u001b[0;32m    658\u001b[0m             \u001b[38;5;124m'\u001b[39m\u001b[38;5;124mA feasible solution was not found, so no solution can be loaded.\u001b[39m\u001b[38;5;124m'\u001b[39m\n\u001b[0;32m    659\u001b[0m             \u001b[38;5;124m'\u001b[39m\u001b[38;5;124mPlease set opt.config.load_solution=False and check \u001b[39m\u001b[38;5;124m'\u001b[39m\n\u001b[0;32m    660\u001b[0m             \u001b[38;5;124m'\u001b[39m\u001b[38;5;124mresults.termination_condition and \u001b[39m\u001b[38;5;124m'\u001b[39m\n\u001b[0;32m    661\u001b[0m             \u001b[38;5;124m'\u001b[39m\u001b[38;5;124mresults.best_feasible_objective before loading a solution.\u001b[39m\u001b[38;5;124m'\u001b[39m\n\u001b[0;32m    662\u001b[0m         )\n\u001b[0;32m    663\u001b[0m timer\u001b[38;5;241m.\u001b[39mstop(\u001b[38;5;124m'\u001b[39m\u001b[38;5;124mload solution\u001b[39m\u001b[38;5;124m'\u001b[39m)\n\u001b[0;32m    665\u001b[0m info \u001b[38;5;241m=\u001b[39m highs\u001b[38;5;241m.\u001b[39mgetInfo()\n",
      "\u001b[1;31mRuntimeError\u001b[0m: A feasible solution was not found, so no solution can be loaded.Please set opt.config.load_solution=False and check results.termination_condition and results.best_feasible_objective before loading a solution."
     ]
    }
   ],
   "source": [
    "# ------------------------------\n",
    "# Resolução\n",
    "# ------------------------------\n",
    "solver = pyo.SolverFactory(\"appsi_highs\")\n",
    "results = solver.solve(model, tee=True)\n",
    "\n",
    "# Exibindo resultados\n",
    "print(\"\\nStatus do solver:\", results.solver.status)\n",
    "print(\"Condição de terminação:\", results.solver.termination_condition)\n",
    "valor_obj = pyo.value(model.objetivo)\n",
    "formatted = f\"{valor_obj:,.2f}\"\n",
    "formatted = formatted.replace(\",\", \"X\").replace(\".\", \",\").replace(\"X\", \".\")\n",
    "print(\"Valor da Função Objetivo: R$\", formatted)"
   ]
  },
  {
   "cell_type": "markdown",
   "id": "6fbf38fc",
   "metadata": {},
   "source": [
    "MODELO INFACTIVEL"
   ]
  },
  {
   "cell_type": "markdown",
   "id": "0f8038c3",
   "metadata": {},
   "source": [
    "## Ex20"
   ]
  },
  {
   "cell_type": "code",
   "execution_count": 318,
   "id": "179f953b",
   "metadata": {},
   "outputs": [],
   "source": [
    "# Criação do modelo\n",
    "model = pyo.ConcreteModel()"
   ]
  },
  {
   "cell_type": "code",
   "execution_count": 319,
   "id": "192c461f",
   "metadata": {},
   "outputs": [],
   "source": [
    "\n",
    "# Conjuntos\n",
    "model.I = pyo.Set(initialize=[\"I\", \"II\", \"III\", \"IV\", \"V\"])\n",
    "model.T = pyo.RangeSet(0, 3) \n"
   ]
  },
  {
   "cell_type": "code",
   "execution_count": 320,
   "id": "f4917733",
   "metadata": {},
   "outputs": [],
   "source": [
    "# Capital inicial disponível (R$ mil)\n",
    "capital_inicial = 220\n",
    "\n",
    "# Taxa de juros da poupança (10% ao ano)\n",
    "taxa_juros = 1.1\n",
    "\n",
    "# Fluxo de caixa dos projetos (R$ mil)\n",
    "custo_inv = { \"I\":100, \"II\":150, \"III\":100, \"IV\":50, \"V\":70 }\n",
    "retorno_in = { \"I\":170, \"II\":220, \"III\":150, \"IV\":80, \"V\":130 }\n",
    "model.custo_inv = pyo.Param(model.I, initialize=custo_inv, default=0)\n",
    "model.retorno_in = pyo.Param(model.I, initialize=retorno_in, default=0)\n"
   ]
  },
  {
   "cell_type": "code",
   "execution_count": 321,
   "id": "ed52e665",
   "metadata": {},
   "outputs": [],
   "source": [
    "\n",
    "# ------------------------------\n",
    "# Variáveis de Decisão\n",
    "# ------------------------------\n",
    "\n",
    "model.x = pyo.Var(model.I, domain=pyo.Binary)\n",
    "model.S = pyo.Var(model.T, domain=pyo.NonNegativeReals)"
   ]
  },
  {
   "cell_type": "code",
   "execution_count": 322,
   "id": "9fdd61ac",
   "metadata": {},
   "outputs": [],
   "source": [
    "\n",
    "# ------------------------------\n",
    "# Função Objetivo\n",
    "# ------------------------------\n",
    "def fo(model):\n",
    "    return model.S[3]*taxa_juros\n",
    "\n",
    "model.objetivo = pyo.Objective(rule=fo, sense=pyo.maximize)\n"
   ]
  },
  {
   "cell_type": "code",
   "execution_count": 323,
   "id": "f7ecf011",
   "metadata": {},
   "outputs": [],
   "source": [
    "# ------------------------------\n",
    "# Restrições\n",
    "# ------------------------------\n",
    "# 1. Restrição de orçamento inicial (ano 0)\n",
    "def restricao_orcamento(model):\n",
    "\n",
    "    return model.custo_inv['I']*model.x['I'] +\\\n",
    "          model.custo_inv['II']*model.x['II']+\\\n",
    "          model.custo_inv['IV']*model.x['IV'] \\\n",
    "            + model.S[0] == capital_inicial\n",
    "\n",
    "model.restricao_orcamento = pyo.Constraint(rule=restricao_orcamento)\n",
    "\n",
    "# 2. Evolução do saldo na poupança \n",
    "\n",
    "def evolucao_saldo_ano_1(model):\n",
    "    return model.S[1] + model.x['III'] * model.custo_inv['III'] + model.x['V']*model.custo_inv['V'] == \\\n",
    "    model.S[0]*taxa_juros+model.x['IV']*model.retorno_in['IV'] \n",
    "\n",
    "\n",
    "model.evolucao_saldo_ano_1 = pyo.Constraint(rule=evolucao_saldo_ano_1)\n",
    "\n",
    "def evolucao_saldo_ano_2(model):\n",
    "    return model.S[2] == \\\n",
    "    model.S[1]*taxa_juros+model.x['I']*model.retorno_in['I'] \n",
    "\n",
    "model.evolucao_saldo_ano_2 = pyo.Constraint(rule=evolucao_saldo_ano_2)\n",
    "\n",
    "def evolucao_saldo_ano_3(model):\n",
    "    return model.S[3] == \\\n",
    "    model.S[2]*taxa_juros+model.x['II']*model.retorno_in['II'] +model.x['III']*model.retorno_in['III'] + model.x['V']*model.retorno_in['V']\n",
    "\n",
    "model.evolucao_saldo_ano_3 = pyo.Constraint(rule=evolucao_saldo_ano_3)\n",
    "# 3. Mutual exclusividade entre os projetos I e V\n",
    "def exclusividade(model):\n",
    "    return model.x[\"I\"] + model.x[\"V\"] <= 1\n",
    "\n",
    "model.exclusividade = pyo.Constraint(rule=exclusividade)\n"
   ]
  },
  {
   "cell_type": "code",
   "execution_count": 324,
   "id": "c0fcc78b",
   "metadata": {},
   "outputs": [
    {
     "data": {
      "text/plain": [
       "('ex20.lp', 2676230358208)"
      ]
     },
     "execution_count": 324,
     "metadata": {},
     "output_type": "execute_result"
    }
   ],
   "source": [
    "# ------------------------------\n",
    "# Escrita do Modelo em Arquivo\n",
    "# ------------------------------\n",
    "model.write(\"ex20.lp\", io_options={\"symbolic_solver_labels\": True})"
   ]
  },
  {
   "cell_type": "code",
   "execution_count": 325,
   "id": "e4b4e513",
   "metadata": {},
   "outputs": [
    {
     "name": "stdout",
     "output_type": "stream",
     "text": [
      "MIP  has 5 rows; 9 cols; 19 nonzeros; 5 integer variables (5 binary)\n",
      "Coefficient ranges:\n",
      "  Matrix [1e+00, 2e+02]\n",
      "  Cost   [1e+00, 1e+00]\n",
      "  Bound  [1e+00, 1e+00]\n",
      "  RHS    [1e+00, 2e+02]\n",
      "Presolving model\n",
      "4 rows, 8 cols, 14 nonzeros  0s\n",
      "3 rows, 7 cols, 11 nonzeros  0s\n",
      "Objective function is integral with scale 90.9091\n",
      "\n",
      "Solving MIP model with:\n",
      "   3 rows\n",
      "   7 cols (5 binary, 0 integer, 2 implied int., 0 continuous)\n",
      "   11 nonzeros\n",
      "\n",
      "Src: B => Branching; C => Central rounding; F => Feasibility pump; H => Heuristic; L => Sub-MIP;\n",
      "     P => Empty MIP; R => Randomized rounding; S => Solve LP; T => Evaluate node; U => Unbounded;\n",
      "     z => Trivial zero; l => Trivial lower; u => Trivial upper; p => Trivial point; X => User solution\n",
      "\n",
      "        Nodes      |    B&B Tree     |            Objective Bounds              |  Dynamic Constraints |       Work      \n",
      "Src  Proc. InQueue |  Leaves   Expl. | BestBound       BestSol              Gap |   Cuts   InLp Confl. | LpIters     Time\n",
      "\n",
      "         0       0         0   0.00%   968.077         -inf                 inf        0      0      0         0     0.0s\n",
      " R       0       0         0   0.00%   454.1847619     446.567            1.71%        0      0      0         5     0.0s\n",
      "\n",
      "40.0% inactive integer columns, restarting\n",
      "         0       0         0   0.00%   446.567         446.567            0.00%        0      3      0         5     0.0s\n",
      "\n",
      "Solving report\n",
      "  Status            Optimal\n",
      "  Primal bound      446.567\n",
      "  Dual bound        446.567\n",
      "  Gap               0% (tolerance: 0.01%)\n",
      "  P-D integral      1.05131504362e-05\n",
      "  Solution status   feasible\n",
      "                    446.567 (objective)\n",
      "                    0 (bound viol.)\n",
      "                    0 (int. viol.)\n",
      "                    0 (row viol.)\n",
      "  Timing            0.00 (total)\n",
      "                    0.00 (presolve)\n",
      "                    0.00 (solve)\n",
      "                    0.00 (postsolve)\n",
      "  Max sub-MIP depth 0\n",
      "  Nodes             0\n",
      "  Repair LPs        0 (0 feasible; 0 iterations)\n",
      "  LP iterations     5 (total)\n",
      "                    0 (strong br.)\n",
      "                    0 (separation)\n",
      "                    0 (heuristics)\n",
      "\n",
      "Status do solver: ok\n",
      "Condição de terminação: optimal\n"
     ]
    }
   ],
   "source": [
    "# ------------------------------\n",
    "# Resolução\n",
    "# ------------------------------\n",
    "solver = pyo.SolverFactory(\"appsi_highs\")\n",
    "results = solver.solve(model, tee=True)\n",
    "\n",
    "# Exibindo resultados\n",
    "print(\"\\nStatus do solver:\", results.solver.status)\n",
    "print(\"Condição de terminação:\", results.solver.termination_condition)"
   ]
  },
  {
   "cell_type": "code",
   "execution_count": 326,
   "id": "d76a16c5",
   "metadata": {},
   "outputs": [
    {
     "name": "stdout",
     "output_type": "stream",
     "text": [
      "Projetos escolhidos :\n",
      "Projeto I\n",
      "Projeto III\n",
      "Projeto IV\n",
      "\n",
      "Saldo na poupança ao final de cada ano:\n",
      " ano 0: R$ 70000.00\n",
      " ano 1: R$ 57000.00\n",
      " ano 2: R$ 232700.00\n",
      " ano 3: R$ 405970.00\n",
      "\n",
      "Saldo final na poupança ao fim do ano 3:\n",
      " R$ 405970.00\n"
     ]
    }
   ],
   "source": [
    "print(\"Projetos escolhidos :\")\n",
    "for i in model.I:\n",
    "    if model.x[i].value > 0.5:\n",
    "        print(f\"Projeto {i}\")\n",
    "\n",
    "print(\"\\nSaldo na poupança ao final de cada ano:\")\n",
    "for t in model.T:\n",
    "    print(f\" ano {t}: R$ {model.S[t].value * 1000:.2f}\")\n",
    "\n",
    "print(\"\\nSaldo final na poupança ao fim do ano 3:\")\n",
    "print(f\" R$ {model.S[3].value * 1000:.2f}\")"
   ]
  },
  {
   "cell_type": "markdown",
   "id": "7bfd4a4d",
   "metadata": {},
   "source": [
    "## Ex21"
   ]
  },
  {
   "cell_type": "code",
   "execution_count": 327,
   "id": "731f187a",
   "metadata": {},
   "outputs": [],
   "source": [
    "# Criação do modelo\n",
    "model = pyo.ConcreteModel()"
   ]
  },
  {
   "cell_type": "code",
   "execution_count": 328,
   "id": "f7bbd586",
   "metadata": {},
   "outputs": [],
   "source": [
    "\n",
    "# Conjuntos\n",
    "model.I = pyo.Set(initialize=[\"I\", \"II\", \"III\", \"IV\", \"V\",\"VI\"])\n",
    "\n"
   ]
  },
  {
   "cell_type": "code",
   "execution_count": 329,
   "id": "08198037",
   "metadata": {},
   "outputs": [],
   "source": [
    "# Valor presente líquido (VPL) de cada projeto (R$ milhões)\n",
    "vpl = {\"I\": 8, \"II\": 7, \"III\": 5, \"IV\": 6, \"V\": 4, \"VI\": 9}\n",
    "model.vpl = pyo.Param(model.I, initialize=vpl)\n",
    "\n",
    "# Capital requerido para cada projeto (R$ milhões)\n",
    "custo = {\"I\": 6, \"II\": 5, \"III\": 3, \"IV\": 4, \"V\": 3, \"VI\": 7}\n",
    "model.custo = pyo.Param(model.I, initialize=custo)\n",
    "\n",
    "# Orçamento disponível (R$ milhões)\n",
    "budget = 20"
   ]
  },
  {
   "cell_type": "code",
   "execution_count": 330,
   "id": "33617d0f",
   "metadata": {},
   "outputs": [],
   "source": [
    "\n",
    "# ------------------------------\n",
    "# Variáveis de Decisão\n",
    "# ------------------------------\n",
    "\n",
    "model.x =  pyo.Var(model.I, domain=pyo.Binary)"
   ]
  },
  {
   "cell_type": "code",
   "execution_count": 331,
   "id": "4210a76d",
   "metadata": {},
   "outputs": [],
   "source": [
    "\n",
    "# ------------------------------\n",
    "# Função Objetivo\n",
    "# ------------------------------\n",
    "def fo(model):\n",
    "    return sum(model.vpl[i] * model.x[i] for i in model.I)\n",
    "\n",
    "model.objetivo = pyo.Objective(rule=fo, sense=pyo.maximize)\n"
   ]
  },
  {
   "cell_type": "code",
   "execution_count": 332,
   "id": "ed68c922",
   "metadata": {},
   "outputs": [],
   "source": [
    "# ------------------------------\n",
    "# Restrições\n",
    "# ------------------------------\n",
    "# 1. Restrição de orçamento\n",
    "def restricao_orcamento(model):\n",
    "    return sum(model.custo[i] * model.x[i] for i in model.I) == budget\n",
    "\n",
    "model.restricao_orcamento = pyo.Constraint(rule=restricao_orcamento)\n",
    "\n",
    "# 2. Mutual exclusividade entre os projetos I e II\n",
    "def exclusividade_I_II(model):\n",
    "    return model.x[\"I\"] + model.x[\"II\"] <= 1\n",
    "\n",
    "model.exclusividade_I_II = pyo.Constraint(rule=exclusividade_I_II)\n",
    "\n",
    "# 3. Mutual exclusividade entre os projetos IV e V\n",
    "def exclusividade_IV_V(model):\n",
    "    return model.x[\"IV\"] + model.x[\"V\"] <= 1\n",
    "\n",
    "model.exclusividade_IV_V = pyo.Constraint(rule=exclusividade_IV_V)\n",
    "\n",
    "# 4. Dependência do projeto III em relação ao projeto I\n",
    "def dependencia_III_I(model):\n",
    "    return model.x[\"III\"] <= model.x[\"I\"]\n",
    "\n",
    "model.dependencia_III_I = pyo.Constraint(rule=dependencia_III_I)\n",
    "\n"
   ]
  },
  {
   "cell_type": "code",
   "execution_count": 333,
   "id": "f0247327",
   "metadata": {},
   "outputs": [
    {
     "data": {
      "text/plain": [
       "('ex21.lp', 2676203576000)"
      ]
     },
     "execution_count": 333,
     "metadata": {},
     "output_type": "execute_result"
    }
   ],
   "source": [
    "# ------------------------------\n",
    "# Escrita do Modelo em Arquivo\n",
    "# ------------------------------\n",
    "model.write(\"ex21.lp\", io_options={\"symbolic_solver_labels\": True})"
   ]
  },
  {
   "cell_type": "code",
   "execution_count": 334,
   "id": "f7aad682",
   "metadata": {},
   "outputs": [
    {
     "name": "stdout",
     "output_type": "stream",
     "text": [
      "MIP  has 4 rows; 6 cols; 12 nonzeros; 6 integer variables (6 binary)\n",
      "Coefficient ranges:\n",
      "  Matrix [1e+00, 7e+00]\n",
      "  Cost   [4e+00, 9e+00]\n",
      "  Bound  [1e+00, 1e+00]\n",
      "  RHS    [1e+00, 2e+01]\n",
      "Presolving model\n",
      "4 rows, 6 cols, 12 nonzeros  0s\n",
      "4 rows, 6 cols, 12 nonzeros  0s\n",
      "Objective function is integral with scale 1\n",
      "\n",
      "Solving MIP model with:\n",
      "   4 rows\n",
      "   6 cols (6 binary, 0 integer, 0 implied int., 0 continuous)\n",
      "   12 nonzeros\n",
      "\n",
      "Src: B => Branching; C => Central rounding; F => Feasibility pump; H => Heuristic; L => Sub-MIP;\n",
      "     P => Empty MIP; R => Randomized rounding; S => Solve LP; T => Evaluate node; U => Unbounded;\n",
      "     z => Trivial zero; l => Trivial lower; u => Trivial upper; p => Trivial point; X => User solution\n",
      "\n",
      "        Nodes      |    B&B Tree     |            Objective Bounds              |  Dynamic Constraints |       Work      \n",
      "Src  Proc. InQueue |  Leaves   Expl. | BestBound       BestSol              Gap |   Cuts   InLp Confl. | LpIters     Time\n",
      "\n",
      "         0       0         0   0.00%   39              -inf                 inf        0      0      0         0     0.0s\n",
      " T       0       0         0   0.00%   39              28                39.29%        0      0      0         0     0.0s\n",
      "         1       0         1 100.00%   28              28                 0.00%        0      0      0         0     0.0s\n",
      "\n",
      "Solving report\n",
      "  Status            Optimal\n",
      "  Primal bound      28\n",
      "  Dual bound        28\n",
      "  Gap               0% (tolerance: 0.01%)\n",
      "  P-D integral      6.63142418489e-05\n",
      "  Solution status   feasible\n",
      "                    28 (objective)\n",
      "                    0 (bound viol.)\n",
      "                    0 (int. viol.)\n",
      "                    0 (row viol.)\n",
      "  Timing            0.00 (total)\n",
      "                    0.00 (presolve)\n",
      "                    0.00 (solve)\n",
      "                    0.00 (postsolve)\n",
      "  Max sub-MIP depth 0\n",
      "  Nodes             1\n",
      "  Repair LPs        0 (0 feasible; 0 iterations)\n",
      "  LP iterations     0 (total)\n",
      "                    0 (strong br.)\n",
      "                    0 (separation)\n",
      "                    0 (heuristics)\n",
      "\n",
      "Status do solver: ok\n",
      "Condição de terminação: optimal\n"
     ]
    }
   ],
   "source": [
    "# ------------------------------\n",
    "# Resolução\n",
    "# ------------------------------\n",
    "solver = pyo.SolverFactory(\"appsi_highs\")\n",
    "results = solver.solve(model, tee=True)\n",
    "\n",
    "# Exibindo resultados\n",
    "print(\"\\nStatus do solver:\", results.solver.status)\n",
    "print(\"Condição de terminação:\", results.solver.termination_condition)\n"
   ]
  },
  {
   "cell_type": "code",
   "execution_count": 335,
   "id": "2c13e3f7",
   "metadata": {},
   "outputs": [
    {
     "name": "stdout",
     "output_type": "stream",
     "text": [
      "\n",
      "Projetos escolhidos para investimento:\n",
      "Projeto I\n",
      "Projeto III\n",
      "Projeto IV\n",
      "Projeto VI\n",
      "\n",
      "VPL total maximizado:\n",
      "R$ 28.0 milhões\n"
     ]
    }
   ],
   "source": [
    "print(\"\\nProjetos escolhidos para investimento:\")\n",
    "for i in model.I:\n",
    "    if model.x[i].value > 0.5:\n",
    "        print(f\"Projeto {i}\")\n",
    "\n",
    "print(\"\\nVPL total maximizado:\")\n",
    "print(f\"R$ {model.objetivo()} milhões\")"
   ]
  },
  {
   "cell_type": "markdown",
   "id": "9965128c",
   "metadata": {},
   "source": [
    "## Ex22"
   ]
  },
  {
   "cell_type": "code",
   "execution_count": 336,
   "id": "642277c5",
   "metadata": {},
   "outputs": [],
   "source": [
    "# Criação do modelo\n",
    "model = pyo.ConcreteModel()"
   ]
  },
  {
   "cell_type": "code",
   "execution_count": 337,
   "id": "73b53f44",
   "metadata": {},
   "outputs": [],
   "source": [
    "\n",
    "# Conjuntos\n",
    "model.M = pyo.Set(initialize=[0,1,2,3,4,5])\n",
    "\n"
   ]
  },
  {
   "cell_type": "code",
   "execution_count": 338,
   "id": "7de46a75",
   "metadata": {},
   "outputs": [],
   "source": [
    "H_m = {0:8000, 1:9000, 2:7000, 3:10000, 4:9000, 5:11000}  # Demanda de horas de voo por mês\n",
    "model.H_m = pyo.Param(model.M, initialize=H_m)\n",
    "Cx = 1500  # Salário de uma aeromoça regular por mês\n",
    "model.Cx = pyo.Param(initialize=Cx)\n",
    "Cy = 900  # Salário de uma aeromoça em treinamento por mês\n",
    "model.Cy = pyo.Param(initialize=Cy)\n",
    "HM = 150  # Horas de trabalho máximas por aeromoça regular por mês\n",
    "model.HM = pyo.Param(initialize=HM)\n",
    "HT = 100  # Horas de supervisão de uma aeromoça em treinamento\n",
    "model.HT = pyo.Param(initialize=HT)\n",
    "n_meses = len(H_m)  # Número de meses\n",
    "model.n_meses = pyo.Param(initialize=n_meses)\n",
    "x_ini = 60  # Aeromoças regulares no mês de janeiro\n",
    "model.x_ini = pyo.Param(initialize=x_ini)"
   ]
  },
  {
   "cell_type": "code",
   "execution_count": 339,
   "id": "4fab5e33",
   "metadata": {},
   "outputs": [],
   "source": [
    "\n",
    "# ------------------------------\n",
    "# Variáveis de Decisão\n",
    "# ------------------------------\n",
    "\n",
    "# Número de aeromoças experientes em cada mês\n",
    "model.x = pyo.Var(model.M, domain=pyo.NonNegativeIntegers)\n",
    "\n",
    "# Número de aeromoças em treinamento em cada mês\n",
    "model.y = pyo.Var(model.M, domain=pyo.NonNegativeIntegers)"
   ]
  },
  {
   "cell_type": "code",
   "execution_count": 340,
   "id": "f9d3765c",
   "metadata": {},
   "outputs": [],
   "source": [
    "\n",
    "# ------------------------------\n",
    "# Função Objetivo\n",
    "# ------------------------------\n",
    "def fo(model):\n",
    "    return sum(model.Cx * model.x[m] + model.Cy * model.y[m] for m in model.M)\n",
    "\n",
    "model.objetivo = pyo.Objective(rule=fo, sense=pyo.minimize)\n"
   ]
  },
  {
   "cell_type": "code",
   "execution_count": 341,
   "id": "23f0fe35",
   "metadata": {},
   "outputs": [],
   "source": [
    "# ------------------------------\n",
    "# Restrições\n",
    "# ------------------------------\n",
    "# 1. Horas de Voo\n",
    "def restricao_horas_voo(model, m):\n",
    "    return model.HM * model.x[m] - model.HT * model.y[m] >= model.H_m[m]  \n",
    "\n",
    "model.restricao_horas_voo = pyo.Constraint(model.M, rule=restricao_horas_voo)\n",
    "\n",
    "# 2. Redução de aeromoças experientes ao longo dos meses\n",
    "def reducao_inf(model, m):\n",
    "    if m < n_meses-1:  \n",
    "        return model.x[m + 1] >= 0.895 * model.x[m] + model.y[m]\n",
    "    return pyo.Constraint.Skip\n",
    "\n",
    "model.reducao_inf = pyo.Constraint(model.M, rule=reducao_inf)\n",
    "\n",
    "def reducao_sup(model, m):\n",
    "    if m < model.n_meses-1:  \n",
    "        return model.x[m + 1] <= 0.91 * model.x[m] + model.y[m]\n",
    "    return pyo.Constraint.Skip\n",
    "\n",
    "model.reducao_sup = pyo.Constraint(model.M, rule=reducao_sup)\n",
    "\n",
    "# 3. Número de aeromoças experientes no mês de janeiro\n",
    "model.restricao_inicio = pyo.Constraint(expr=model.x[0] == model.x_ini)\n",
    "\n",
    "\n"
   ]
  },
  {
   "cell_type": "code",
   "execution_count": 342,
   "id": "a1b55462",
   "metadata": {},
   "outputs": [
    {
     "data": {
      "text/plain": [
       "('ex22.lp', 2676204071568)"
      ]
     },
     "execution_count": 342,
     "metadata": {},
     "output_type": "execute_result"
    }
   ],
   "source": [
    "# ------------------------------\n",
    "# Escrita do Modelo em Arquivo\n",
    "# ------------------------------\n",
    "model.write(\"ex22.lp\", io_options={\"symbolic_solver_labels\": True})"
   ]
  },
  {
   "cell_type": "code",
   "execution_count": 343,
   "id": "0426f3ff",
   "metadata": {},
   "outputs": [
    {
     "name": "stdout",
     "output_type": "stream",
     "text": [
      "MIP  has 17 rows; 12 cols; 43 nonzeros; 12 integer variables (0 binary)\n",
      "Coefficient ranges:\n",
      "  Matrix [9e-01, 2e+02]\n",
      "  Cost   [9e+02, 2e+03]\n",
      "  Bound  [0e+00, 0e+00]\n",
      "  RHS    [6e+01, 1e+04]\n",
      "Presolving model\n",
      "16 rows, 10 cols, 38 nonzeros  0s\n",
      "12 rows, 9 cols, 32 nonzeros  0s\n",
      "12 rows, 9 cols, 32 nonzeros  0s\n",
      "Objective function is integral with scale 0.00333333\n",
      "\n",
      "Solving MIP model with:\n",
      "   12 rows\n",
      "   9 cols (0 binary, 9 integer, 0 implied int., 0 continuous)\n",
      "   32 nonzeros\n",
      "\n",
      "Src: B => Branching; C => Central rounding; F => Feasibility pump; H => Heuristic; L => Sub-MIP;\n",
      "     P => Empty MIP; R => Randomized rounding; S => Solve LP; T => Evaluate node; U => Unbounded;\n",
      "     z => Trivial zero; l => Trivial lower; u => Trivial upper; p => Trivial point; X => User solution\n",
      "\n",
      "        Nodes      |    B&B Tree     |            Objective Bounds              |  Dynamic Constraints |       Work      \n",
      "Src  Proc. InQueue |  Leaves   Expl. | BestBound       BestSol              Gap |   Cuts   InLp Confl. | LpIters     Time\n",
      "\n",
      "         0       0         0   0.00%   576000          inf                  inf        0      0      0         0     0.0s\n",
      "         0       0         0   0.00%   625594.319708   inf                  inf        0      0      1         8     0.0s\n",
      " R       0       0         0 100.00%   633900          633900             0.00%       25      4      2        16     0.0s\n",
      "         1       0         1 100.00%   633900          633900             0.00%       10      4      2        16     0.0s\n",
      "\n",
      "Solving report\n",
      "  Status            Optimal\n",
      "  Primal bound      633900\n",
      "  Dual bound        633900\n",
      "  Gap               0% (tolerance: 0.01%)\n",
      "  P-D integral      0\n",
      "  Solution status   feasible\n",
      "                    633900 (objective)\n",
      "                    0 (bound viol.)\n",
      "                    0 (int. viol.)\n",
      "                    0 (row viol.)\n",
      "  Timing            0.01 (total)\n",
      "                    0.00 (presolve)\n",
      "                    0.00 (solve)\n",
      "                    0.00 (postsolve)\n",
      "  Max sub-MIP depth 0\n",
      "  Nodes             1\n",
      "  Repair LPs        0 (0 feasible; 0 iterations)\n",
      "  LP iterations     16 (total)\n",
      "                    0 (strong br.)\n",
      "                    7 (separation)\n",
      "                    0 (heuristics)\n",
      "\n",
      "Status do solver: ok\n",
      "Condição de terminação: optimal\n"
     ]
    }
   ],
   "source": [
    "# ------------------------------\n",
    "# Resolução\n",
    "# ------------------------------\n",
    "solver = pyo.SolverFactory(\"appsi_highs\")\n",
    "results = solver.solve(model, tee=True)\n",
    "\n",
    "# Exibindo resultados\n",
    "print(\"\\nStatus do solver:\", results.solver.status)\n",
    "print(\"Condição de terminação:\", results.solver.termination_condition)\n"
   ]
  },
  {
   "cell_type": "code",
   "execution_count": 344,
   "id": "3e72df33",
   "metadata": {},
   "outputs": [
    {
     "name": "stdout",
     "output_type": "stream",
     "text": [
      "\n",
      "Número de aeromoças experientes em cada mês:\n",
      "Mês 1: 60\n",
      "Mês 2: 62\n",
      "Mês 3: 59\n",
      "Mês 4: 71\n",
      "Mês 5: 69\n",
      "Mês 6: 74\n",
      "\n",
      "Número de aeromoças em treinamento em cada mês:\n",
      "Mês 1: 8\n",
      "Mês 2: 3\n",
      "Mês 3: 18\n",
      "Mês 4: 5\n",
      "Mês 5: 12\n",
      "Mês 6: 0\n"
     ]
    }
   ],
   "source": [
    "\n",
    "print(\"\\nNúmero de aeromoças experientes em cada mês:\")\n",
    "for m in model.M:\n",
    "    print(f\"Mês {m + 1}: {model.x[m].value:.0f}\")\n",
    "\n",
    "print(\"\\nNúmero de aeromoças em treinamento em cada mês:\")\n",
    "for m in model.M:\n",
    "    print(f\"Mês {m + 1}: {model.y[m].value:.0f}\")"
   ]
  }
 ],
 "metadata": {
  "kernelspec": {
   "display_name": "base",
   "language": "python",
   "name": "python3"
  },
  "language_info": {
   "codemirror_mode": {
    "name": "ipython",
    "version": 3
   },
   "file_extension": ".py",
   "mimetype": "text/x-python",
   "name": "python",
   "nbconvert_exporter": "python",
   "pygments_lexer": "ipython3",
   "version": "3.9.12"
  }
 },
 "nbformat": 4,
 "nbformat_minor": 5
}
