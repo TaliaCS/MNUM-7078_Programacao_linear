{
 "cells": [
  {
   "cell_type": "code",
   "execution_count": 1,
   "id": "9185369d",
   "metadata": {},
   "outputs": [],
   "source": [
    "import gurobipy as gp\n",
    "from gurobipy import GRB\n",
    "import pandas as pd"
   ]
  },
  {
   "cell_type": "markdown",
   "id": "ceea6c16",
   "metadata": {},
   "source": [
    "# Exercicio 1\n",
    "Produtos A,B,C,D"
   ]
  },
  {
   "cell_type": "code",
   "execution_count": 3,
   "id": "cf99ba6b",
   "metadata": {},
   "outputs": [],
   "source": [
    "MO = [8,3,5,6]\n",
    "MP = [5,7,4,5]\n",
    "PM = [12,9,8,7]\n",
    "L = [3,6,5,4]\n",
    "\n",
    "n_prod = len(MO)\n"
   ]
  },
  {
   "cell_type": "code",
   "execution_count": 9,
   "id": "5da5b488",
   "metadata": {},
   "outputs": [
    {
     "name": "stdout",
     "output_type": "stream",
     "text": [
      "Gurobi Optimizer version 11.0.3 build v11.0.3rc0 (win64 - Windows 11.0 (22621.2))\n",
      "\n",
      "CPU model: Intel(R) Core(TM) i5-10210U CPU @ 1.60GHz, instruction set [SSE2|AVX|AVX2]\n",
      "Thread count: 4 physical cores, 8 logical processors, using up to 8 threads\n",
      "\n",
      "Optimize a model with 3 rows, 4 columns and 12 nonzeros\n",
      "Model fingerprint: 0xf6793089\n",
      "Coefficient statistics:\n",
      "  Matrix range     [3e+00, 1e+01]\n",
      "  Objective range  [3e+00, 6e+00]\n",
      "  Bounds range     [0e+00, 0e+00]\n",
      "  RHS range        [2e+04, 4e+04]\n",
      "Presolve time: 0.01s\n",
      "Presolved: 3 rows, 4 columns, 12 nonzeros\n",
      "\n",
      "Iteration    Objective       Primal Inf.    Dual Inf.      Time\n",
      "       0    1.8000000e+31   9.875000e+30   1.800000e+01      0s\n",
      "       3    2.0217391e+04   0.000000e+00   0.000000e+00      0s\n",
      "\n",
      "Solved in 3 iterations and 0.01 seconds (0.00 work units)\n",
      "Optimal objective  2.021739130e+04\n"
     ]
    }
   ],
   "source": [
    "\n",
    "# Criação do modelo\n",
    "model = gp.Model('E1')\n",
    "\n",
    "prod = model.addVars(n_prod, vtype=GRB.CONTINUOUS, name='prod')\n",
    "\n",
    "#funcao objetivo\n",
    "\n",
    "model.setObjective(gp.quicksum(L[i]*prod[i] for i in range(n_prod)), GRB.MAXIMIZE)\n",
    "\n",
    "model.addConstr(gp.quicksum(MO[i]*prod[i] for i in range(n_prod))<=15000, 'MO')\n",
    "model.addConstr(gp.quicksum(MP[i]*prod[i] for i in range(n_prod))<=20000,'MP')\n",
    "model.addConstr(gp.quicksum(PM[i]*prod[i] for i in range(n_prod))<=40000,'PM')\n",
    "\n",
    "model.optimize()\n",
    "\n"
   ]
  },
  {
   "cell_type": "code",
   "execution_count": 10,
   "id": "2a25d1d4",
   "metadata": {},
   "outputs": [
    {
     "name": "stdout",
     "output_type": "stream",
     "text": [
      "Solução ótima encontrada:\n",
      "Quantidade produto 1 : 0.0\n",
      "Quantidade produto 2 : 1739.1304347826087\n",
      "Quantidade produto 3 : 1956.5217391304348\n",
      "Quantidade produto 4 : 0.0\n"
     ]
    }
   ],
   "source": [
    "# Exibir a solução\n",
    "if model.status == GRB.OPTIMAL:\n",
    "    print(\"Solução ótima encontrada:\")\n",
    "    for i in range(n_prod):        \n",
    "        print(f'Quantidade produto {i+1} : {prod[i].x}')"
   ]
  },
  {
   "cell_type": "markdown",
   "id": "3b41b7fa",
   "metadata": {},
   "source": [
    "# Exercício 2"
   ]
  },
  {
   "cell_type": "code",
   "execution_count": 13,
   "id": "5e845f16",
   "metadata": {},
   "outputs": [],
   "source": [
    "L_inv = [0.04,0.4,0.25]\n",
    "L_rf = 0.03"
   ]
  },
  {
   "cell_type": "code",
   "execution_count": 14,
   "id": "f6f2accc",
   "metadata": {},
   "outputs": [
    {
     "name": "stdout",
     "output_type": "stream",
     "text": [
      "Gurobi Optimizer version 11.0.3 build v11.0.3rc0 (win64 - Windows 11.0 (22621.2))\n",
      "\n",
      "CPU model: Intel(R) Core(TM) i5-10210U CPU @ 1.60GHz, instruction set [SSE2|AVX|AVX2]\n",
      "Thread count: 4 physical cores, 8 logical processors, using up to 8 threads\n",
      "\n",
      "Optimize a model with 4 rows, 7 columns and 13 nonzeros\n",
      "Model fingerprint: 0x48a2461e\n",
      "Coefficient statistics:\n",
      "  Matrix range     [4e-02, 1e+00]\n",
      "  Objective range  [2e-01, 2e+00]\n",
      "  Bounds range     [5e+03, 5e+03]\n",
      "  RHS range        [1e+04, 1e+04]\n",
      "Presolve removed 1 rows and 1 columns\n",
      "Presolve time: 0.00s\n",
      "Presolved: 3 rows, 6 columns, 10 nonzeros\n",
      "\n",
      "Iteration    Objective       Primal Inf.    Dual Inf.      Time\n",
      "       0    3.4114856e+04   1.840319e+03   0.000000e+00      0s\n",
      "       2    2.6047634e+04   0.000000e+00   0.000000e+00      0s\n",
      "\n",
      "Solved in 2 iterations and 0.01 seconds (0.00 work units)\n",
      "Optimal objective  2.604763408e+04\n"
     ]
    }
   ],
   "source": [
    "\n",
    "# Criação do modelo\n",
    "model = gp.Model('E2')\n",
    "\n",
    "inv = model.addVars(3,ub=5000, vtype=GRB.CONTINUOUS, name='inv')\n",
    "rf = model.addVars(4, ub=5000,vtype=GRB.CONTINUOUS, name='inv')\n",
    "\n",
    "#funcao objetivo\n",
    "\n",
    "model.setObjective(gp.quicksum(L_inv[i]*inv[i] + rf[j]*0.3 for j in range(4) for i in range(3)), GRB.MAXIMIZE)\n",
    "\n",
    "model.addConstr(inv[0] + inv[1] + rf[0] == 10000)\n",
    "model.addConstr(rf[1] + inv[2] == inv[0]*0.04 + rf[0]*1.03)\n",
    "model.addConstr(rf[2]  == inv[0]*0.04 + rf[1]*1.03)\n",
    "model.addConstr(rf[3]  == inv[0]*0.04 + rf[2]*1.03)\n",
    "\n",
    "model.optimize()\n",
    "\n"
   ]
  },
  {
   "cell_type": "code",
   "execution_count": 15,
   "id": "e7cbf168",
   "metadata": {},
   "outputs": [
    {
     "name": "stdout",
     "output_type": "stream",
     "text": [
      "Solução ótima encontrada:\n",
      "Quantidade investimento 1 : 0.0\n",
      "Quantidade investimento 2 : 5000.0\n",
      "Quantidade investimento 3 : 437.0204543312284\n",
      "Quantidade rf timestre 1 : 5000.0\n",
      "Quantidade rf timestre 2 : 4712.979545668772\n",
      "Quantidade rf timestre 3 : 4854.368932038835\n",
      "Quantidade rf timestre 4 : 5000.0\n"
     ]
    }
   ],
   "source": [
    "# Exibir a solução\n",
    "if model.status == GRB.OPTIMAL:\n",
    "    print(\"Solução ótima encontrada:\")\n",
    "    for i in range(3):        \n",
    "        print(f'Quantidade investimento {i+1} : {inv[i].x}')\n",
    "    for i in range(4): \n",
    "        print(f'Quantidade rf timestre {i+1} : {rf[i].x}')"
   ]
  },
  {
   "cell_type": "markdown",
   "id": "78d50747",
   "metadata": {},
   "source": [
    "# Exercício 3"
   ]
  },
  {
   "cell_type": "code",
   "execution_count": 18,
   "id": "af421a8a",
   "metadata": {},
   "outputs": [
    {
     "name": "stdout",
     "output_type": "stream",
     "text": [
      "Gurobi Optimizer version 11.0.3 build v11.0.3rc0 (win64 - Windows 11.0 (22621.2))\n",
      "\n",
      "CPU model: Intel(R) Core(TM) i5-10210U CPU @ 1.60GHz, instruction set [SSE2|AVX|AVX2]\n",
      "Thread count: 4 physical cores, 8 logical processors, using up to 8 threads\n",
      "\n",
      "Optimize a model with 3 rows, 2 columns and 6 nonzeros\n",
      "Model fingerprint: 0xa712c8e8\n",
      "Coefficient statistics:\n",
      "  Matrix range     [1e-02, 1e+00]\n",
      "  Objective range  [3e-01, 9e-01]\n",
      "  Bounds range     [0e+00, 0e+00]\n",
      "  RHS range        [9e+01, 9e+01]\n",
      "Presolve removed 3 rows and 2 columns\n",
      "Presolve time: 0.01s\n",
      "Presolve: All rows and columns removed\n",
      "Iteration    Objective       Primal Inf.    Dual Inf.      Time\n",
      "       0    5.4000000e+01   0.000000e+00   0.000000e+00      0s\n",
      "\n",
      "Solved in 0 iterations and 0.01 seconds (0.00 work units)\n",
      "Optimal objective  5.400000000e+01\n"
     ]
    }
   ],
   "source": [
    "\n",
    "# Criação do modelo\n",
    "model = gp.Model('E3')\n",
    "\n",
    "Milho = model.addVar(vtype=GRB.CONTINUOUS, name='Milho')\n",
    "Arroz = model.addVar(vtype=GRB.CONTINUOUS, name='Arroz')\n",
    "\n",
    "#funcao objetivo\n",
    "\n",
    "model.setObjective(Milho*0.9 + Arroz*0.3, GRB.MINIMIZE)\n",
    "\n",
    "model.addConstr(Milho + Arroz == 90)\n",
    "model.addConstr(Milho*0.09 + Arroz*0.05 >= 0.07*(Milho + Arroz))\n",
    "model.addConstr(Milho*0.02 + Arroz*0.06 >= 0.03*(Milho + Arroz))\n",
    "\n",
    "model.optimize()\n",
    "\n"
   ]
  },
  {
   "cell_type": "code",
   "execution_count": 21,
   "id": "f64db9aa",
   "metadata": {},
   "outputs": [
    {
     "name": "stdout",
     "output_type": "stream",
     "text": [
      "Quantidade milho =  45.000000000000014\n",
      "Quantidade arroz =  44.999999999999986\n"
     ]
    }
   ],
   "source": [
    "print('Quantidade milho = ',Milho.x)\n",
    "print('Quantidade arroz = ',Arroz.x)"
   ]
  }
 ],
 "metadata": {
  "kernelspec": {
   "display_name": "base",
   "language": "python",
   "name": "python3"
  },
  "language_info": {
   "codemirror_mode": {
    "name": "ipython",
    "version": 3
   },
   "file_extension": ".py",
   "mimetype": "text/x-python",
   "name": "python",
   "nbconvert_exporter": "python",
   "pygments_lexer": "ipython3",
   "version": "3.9.12"
  }
 },
 "nbformat": 4,
 "nbformat_minor": 5
}
